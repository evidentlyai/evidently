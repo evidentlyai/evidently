{
 "cells": [
  {
   "cell_type": "markdown",
   "metadata": {},
   "source": [
    "# Regression Performance Dashboard for Bike Sharing Dataset"
   ]
  },
  {
   "cell_type": "code",
   "execution_count": 1,
   "metadata": {},
   "outputs": [],
   "source": [
    "import pandas as pd\n",
    "import requests\n",
    "import zipfile\n",
    "import io\n",
    "\n",
    "from sklearn.ensemble import RandomForestRegressor\n",
    "\n",
    "from evidently import ColumnMapping\n",
    "from evidently.dashboard import Dashboard\n",
    "from evidently.tabs import RegressionPerformanceTab, DataDriftTab\n",
    "\n",
    "from evidently.model_profile import Profile\n",
    "from evidently.profile_sections import RegressionPerformanceProfileSection"
   ]
  },
  {
   "cell_type": "code",
   "execution_count": 2,
   "metadata": {},
   "outputs": [],
   "source": [
    "import warnings\n",
    "warnings.filterwarnings('ignore')\n",
    "warnings.simplefilter('ignore')"
   ]
  },
  {
   "cell_type": "markdown",
   "metadata": {},
   "source": [
    "## Bike Sharing Demand Data"
   ]
  },
  {
   "cell_type": "markdown",
   "metadata": {},
   "source": [
    "More information about the dataset can be found in UCI machine learning repository: https://archive.ics.uci.edu/ml/datasets/bike+sharing+dataset\n",
    "\n",
    "Acknowledgement: Fanaee-T, Hadi, and Gama, Joao, 'Event labeling combining ensemble detectors and background knowledge', Progress in Artificial Intelligence (2013): pp. 1-15, Springer Berlin Heidelberg"
   ]
  },
  {
   "cell_type": "code",
   "execution_count": null,
   "metadata": {},
   "outputs": [],
   "source": [
    "content = requests.get(\"https://archive.ics.uci.edu/ml/machine-learning-databases/00275/Bike-Sharing-Dataset.zip\").content\n",
    "with zipfile.ZipFile(io.BytesIO(content)) as arc:\n",
    "    raw_data = pd.read_csv(arc.open(\"day.csv\"), header=0, sep=',', parse_dates=['dteday'], index_col='dteday')"
   ]
  },
  {
   "cell_type": "code",
   "execution_count": null,
   "metadata": {},
   "outputs": [],
   "source": [
    "ref_data = raw_data.loc['2011-01-01 00:00:00':'2011-04-30 23:00:00']\n",
    "prod_data = raw_data.loc['2011-05-01 00:00:00':'2011-05-30 23:00:00']"
   ]
  },
  {
   "cell_type": "code",
   "execution_count": null,
   "metadata": {},
   "outputs": [],
   "source": [
    "ref_data"
   ]
  },
  {
   "cell_type": "markdown",
   "metadata": {},
   "source": [
    "## Regression Model"
   ]
  },
  {
   "cell_type": "markdown",
   "metadata": {},
   "source": [
    "### Model training"
   ]
  },
  {
   "cell_type": "code",
   "execution_count": null,
   "metadata": {},
   "outputs": [],
   "source": [
    "target = 'cnt'\n",
    "prediction = 'prediction'\n",
    "datetime = 'dteday'\n",
    "\n",
    "numerical_features = ['temp', 'atemp', 'hum', 'windspeed']\n",
    "categorical_features = ['season', 'holiday', 'workingday', 'weathersit']\n",
    "\n",
    "features = numerical_features + categorical_features"
   ]
  },
  {
   "cell_type": "code",
   "execution_count": null,
   "metadata": {},
   "outputs": [],
   "source": [
    "model = RandomForestRegressor(random_state = 0)"
   ]
  },
  {
   "cell_type": "code",
   "execution_count": null,
   "metadata": {},
   "outputs": [],
   "source": [
    "model.fit(ref_data[features], ref_data[target])"
   ]
  },
  {
   "cell_type": "code",
   "execution_count": null,
   "metadata": {},
   "outputs": [],
   "source": [
    "ref_data['prediction']  = model.predict(ref_data[features])\n",
    "prod_data['prediction'] = model.predict(prod_data[features])"
   ]
  },
  {
   "cell_type": "markdown",
   "metadata": {},
   "source": [
    "## Regression Perfomance Report "
   ]
  },
  {
   "cell_type": "markdown",
   "metadata": {},
   "source": [
    "## verbose_level\n",
    "Usage:\n",
    "- verbose_level=0 for the short reports\n",
    "- verbose_level=1 for the full reports"
   ]
  },
  {
   "cell_type": "code",
   "execution_count": null,
   "metadata": {},
   "outputs": [],
   "source": [
    "column_mapping = ColumnMapping(target,\n",
    "                               'prediction',\n",
    "                               numerical_features=numerical_features,\n",
    "                               categorical_features=categorical_features)"
   ]
  },
  {
   "cell_type": "code",
   "execution_count": null,
   "metadata": {},
   "outputs": [],
   "source": [
    "dashboard = Dashboard(tabs=[RegressionPerformanceTab(verbose_level=0)])"
   ]
  },
  {
   "cell_type": "code",
   "execution_count": null,
   "metadata": {},
   "outputs": [],
   "source": [
    "dashboard.calculate(ref_data, prod_data, column_mapping=column_mapping)"
   ]
  },
  {
   "cell_type": "code",
   "execution_count": null,
   "metadata": {},
   "outputs": [],
   "source": [
    "dashboard.show()"
   ]
  },
  {
   "cell_type": "markdown",
   "metadata": {},
   "source": [
    "## Options"
   ]
  },
  {
   "cell_type": "markdown",
   "metadata": {},
   "source": [
    "**Notes**: \n",
    "You can choose among the following DataDriftOptions\n",
    "* confidence: float = 0.95\n",
    "* drift_share: float = 0.5\n",
    "* nbinsx: Optional[Dict[str, int]] = None\n",
    "* xbins: Optional[Dict[str, int]] = None\n",
    "* stattest_func: Optional[Callable] = None\n",
    "* feature_stattest_func: Optional[Dict[str, Callable]] = None\n",
    "* cat_target_stattest_func: Optional[Callable] = None\n",
    "* num_target_stattest_func: Optional[Callable] = None\n",
    "\n",
    "For parametres that take a function, you need to define a function that takes two pd.Series (reference and current data) and returns a number (p_value)\n",
    "\n",
    "**Usage**:\n",
    "- Dashboard(tabs=[DataDriftTab(), NumTargetDriftTab()], options=[options])\n",
    "\n",
    "More Options are comming soon!"
   ]
  },
  {
   "cell_type": "code",
   "execution_count": null,
   "metadata": {},
   "outputs": [],
   "source": [
    "from evidently.options import DataDriftOptions"
   ]
  },
  {
   "cell_type": "code",
   "execution_count": null,
   "metadata": {},
   "outputs": [],
   "source": [
    "opt = DataDriftOptions(nbinsx={'temp':20, 'atemp': 20, 'hum':20}, confidence=0.99)"
   ]
  },
  {
   "cell_type": "code",
   "execution_count": null,
   "metadata": {
    "scrolled": false
   },
   "outputs": [],
   "source": [
    "dashboard = Dashboard(tabs=[RegressionPerformanceTab(verbose_level=0), DataDriftTab()], options=[opt])\n",
    "dashboard.calculate(ref_data, prod_data, column_mapping=column_mapping)\n",
    "dashboard.show()"
   ]
  },
  {
   "cell_type": "markdown",
   "metadata": {},
   "source": [
    "## include_widgets\n",
    "Notes: \n",
    "- include_widgets overwrites the verbose_level parameter\n",
    "- in order to quickly see a list of avaliable widgets run the list_widgets() method of the tab object\n",
    "\n",
    "Usage:\n",
    "- include_widgets=[\"Regression Model Performance Report.\", \"Reference: Predicted vs Actual\"]"
   ]
  },
  {
   "cell_type": "code",
   "execution_count": null,
   "metadata": {},
   "outputs": [],
   "source": [
    "RegressionPerformanceTab.list_widgets()"
   ]
  },
  {
   "cell_type": "code",
   "execution_count": null,
   "metadata": {},
   "outputs": [],
   "source": [
    "dashboard = Dashboard(tabs=[RegressionPerformanceTab(include_widgets=[\n",
    "    \"Regression Model Performance Report.\",\n",
    "    \"Reference: Error Distribution\",\n",
    "    \"Current: Error Distribution\",\n",
    "])])"
   ]
  },
  {
   "cell_type": "code",
   "execution_count": null,
   "metadata": {},
   "outputs": [],
   "source": [
    "dashboard.calculate(ref_data, prod_data, column_mapping=column_mapping)"
   ]
  },
  {
   "cell_type": "code",
   "execution_count": null,
   "metadata": {
    "scrolled": false
   },
   "outputs": [],
   "source": [
    "dashboard.show()"
   ]
  },
  {
   "cell_type": "markdown",
   "metadata": {},
   "source": [
    "## Custom Widget"
   ]
  },
  {
   "cell_type": "markdown",
   "metadata": {},
   "source": [
    "### Draft a Custom Widget with Plotly"
   ]
  },
  {
   "cell_type": "code",
   "execution_count": null,
   "metadata": {},
   "outputs": [],
   "source": [
    "import plotly.express as px"
   ]
  },
  {
   "cell_type": "code",
   "execution_count": null,
   "metadata": {},
   "outputs": [],
   "source": [
    "figure = px.line(ref_data, x=ref_data.index, y='cnt', title='Time Series with Rangeslider')\n",
    "figure.update_xaxes(rangeslider_visible=True)\n",
    "figure.show()"
   ]
  },
  {
   "cell_type": "markdown",
   "metadata": {},
   "source": [
    "### Create a Class for the Custom Widget"
   ]
  },
  {
   "cell_type": "code",
   "execution_count": null,
   "metadata": {},
   "outputs": [],
   "source": [
    "import json\n",
    "from typing import Optional\n",
    "\n",
    "#from evidently.analyzers.regression_performance_analyzer import RegressionPerformanceAnalyzer\n",
    "from evidently.model.widget import BaseWidgetInfo #, AlertStats\n",
    "from evidently.widgets.widget import Widget, RED, GREY"
   ]
  },
  {
   "cell_type": "code",
   "execution_count": null,
   "metadata": {},
   "outputs": [],
   "source": [
    "class TSRangesliderWidget(Widget):\n",
    "    \n",
    "    def __init__(self, title: str, column: str, use_current=False, fig_size=1):\n",
    "        self.title = title\n",
    "        self.column = column\n",
    "        self.use_current = use_current\n",
    "        self.fig_size = fig_size\n",
    "\n",
    "    def calculate(self,\n",
    "                  reference_data: pd.DataFrame,\n",
    "                  current_data: pd.DataFrame,\n",
    "                  column_mapping,\n",
    "                  analyzers_results) -> Optional[BaseWidgetInfo]:\n",
    "        \n",
    "        if self.use_current == True:\n",
    "            frame = current_data\n",
    "        else: frame = reference_data\n",
    "\n",
    "        figure = px.line(frame, x=frame.index, y=self.column, color_discrete_sequence=[RED, GREY])\n",
    "        figure.update_xaxes(rangeslider_visible=True)\n",
    "\n",
    "        figure_json = json.loads(figure.to_json())\n",
    "\n",
    "        return BaseWidgetInfo(\n",
    "            title=self.title,\n",
    "            type=\"big_graph\",\n",
    "            size=self.fig_size,\n",
    "            params={\n",
    "                \"data\": figure_json['data'],\n",
    "                \"layout\": figure_json['layout']\n",
    "            },\n",
    "        )"
   ]
  },
  {
   "cell_type": "code",
   "execution_count": null,
   "metadata": {},
   "outputs": [],
   "source": [
    "dashboard = Dashboard(tabs=[RegressionPerformanceTab(include_widgets=[\n",
    "    \"Regression Model Performance Report.\",\n",
    "    TSRangesliderWidget('Reference: Target with Rangeslider', 'cnt', fig_size=2),\n",
    "    \"Reference: Error Distribution\",\n",
    "    \"Current: Error Distribution\",\n",
    "])])"
   ]
  },
  {
   "cell_type": "code",
   "execution_count": null,
   "metadata": {},
   "outputs": [],
   "source": [
    "dashboard.calculate(ref_data, prod_data, column_mapping=column_mapping)"
   ]
  },
  {
   "cell_type": "code",
   "execution_count": null,
   "metadata": {},
   "outputs": [],
   "source": [
    "dashboard.show()"
   ]
  },
  {
   "cell_type": "markdown",
   "metadata": {},
   "source": [
    "## Custom Tab"
   ]
  },
  {
   "cell_type": "code",
   "execution_count": null,
   "metadata": {},
   "outputs": [],
   "source": [
    "from evidently.tabs.base_tab import Tab, Verbose\n",
    "\n",
    "class TimeSeriesTab(Tab):\n",
    "    widgets = [\n",
    "        (TSRangesliderWidget('Reference: Target with Rangeslider', 'cnt', fig_size=2), Verbose.ALWAYS),\n",
    "        (TSRangesliderWidget('Current: Target with Rangeslider', 'cnt', use_current=True, fig_size=2), Verbose.ALWAYS),\n",
    "        (TSRangesliderWidget('Reference: Temp with Rangeslider', 'temp', fig_size=1), Verbose.FULL),\n",
    "        (TSRangesliderWidget('Reference: Temp with Rangeslider', 'temp', use_current=True, fig_size=1), Verbose.FULL),\n",
    "    ]"
   ]
  },
  {
   "cell_type": "code",
   "execution_count": null,
   "metadata": {},
   "outputs": [],
   "source": [
    "dashboard = Dashboard(tabs=[TimeSeriesTab()])"
   ]
  },
  {
   "cell_type": "code",
   "execution_count": null,
   "metadata": {},
   "outputs": [],
   "source": [
    "dashboard.calculate(ref_data, prod_data, column_mapping=column_mapping)\n",
    "dashboard.show()"
   ]
  },
  {
   "cell_type": "code",
   "execution_count": null,
   "metadata": {},
   "outputs": [],
   "source": [
    "#dashboard.save('bike_sharing_demand_model_perfomance.html')"
   ]
  }
 ],
 "metadata": {
  "kernelspec": {
   "display_name": "Python 3",
   "language": "python",
   "name": "python3"
  },
  "language_info": {
   "codemirror_mode": {
    "name": "ipython",
    "version": 3
   },
   "file_extension": ".py",
   "mimetype": "text/x-python",
   "name": "python",
   "nbconvert_exporter": "python",
   "pygments_lexer": "ipython3",
   "version": "3.6.8"
  }
 },
 "nbformat": 4,
 "nbformat_minor": 2
}
