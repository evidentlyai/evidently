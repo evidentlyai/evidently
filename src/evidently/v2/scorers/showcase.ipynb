{
 "cells": [
  {
   "cell_type": "code",
   "execution_count": 3,
   "metadata": {
    "collapsed": true,
    "ExecuteTime": {
     "end_time": "2024-12-17T02:29:44.774515Z",
     "start_time": "2024-12-17T02:29:44.769888Z"
    }
   },
   "outputs": [],
   "source": [
    "from evidently.v2.datasets import Dataset\n",
    "from evidently.v2.scorers import begins_with, bert_score, contains, contains_link, does_not_contain, ends_with, exact_match, excludes_words, \\\n",
    "    hugging_face, hugging_face_toxicity, includes_words, is_valid_json, is_valid_python, item_match, item_no_match, json_match, \\\n",
    "    json_schema_match, llm_judge, non_letter_character_percentage, oov_words_percentage, openai, reg_exp, semantic_similarity, \\\n",
    "    sentence_count, sentiment, text_length, trigger_words_present, word_count, word_match, word_no_match, words_presence\n",
    "import pandas as pd"
   ]
  },
  {
   "cell_type": "code",
   "execution_count": 5,
   "outputs": [],
   "source": [
    "df = pd.DataFrame({\"str1\": [\"first value\",\n",
    "                            \"second value\",\n",
    "                            \"third value\",\n",
    "                            \"fourth value\"],\n",
    "                   \"str2\": [\"first value\",\n",
    "                            \"http://localhost.com\",\n",
    "                            \"{\\\"a\\\":\\\"b\\\"}\",\n",
    "                            \"import evidently\"],\n",
    "                   })"
   ],
   "metadata": {
    "collapsed": false,
    "ExecuteTime": {
     "end_time": "2024-12-17T02:40:12.923487Z",
     "start_time": "2024-12-17T02:40:12.920273Z"
    }
   }
  },
  {
   "cell_type": "code",
   "execution_count": 10,
   "outputs": [],
   "source": [
    "dataset = Dataset.from_pandas(\n",
    "    df,\n",
    "    scorers=[\n",
    "        begins_with(\"str1\", \"first\"),\n",
    "        bert_score([\"str1\", \"str2\"]),\n",
    "        contains(\"str1\", [\"first\"]),\n",
    "        contains_link(\"str2\"),\n",
    "        does_not_contain(\"str1\", [\"second\"]),\n",
    "        ends_with(\"str1\", \"value\"),\n",
    "        exact_match([\"str1\", \"str2\"]),\n",
    "        excludes_words(\"str1\", [\"second\"]),\n",
    "        # hugging_face(\"str1\"),\n",
    "        # hugging_face_toxicity(\"str1\"),\n",
    "        includes_words(\"str1\", [\"second\"]),\n",
    "        is_valid_json(\"str2\"),\n",
    "        is_valid_python(\"str2\"),\n",
    "        item_match([\"str1\", \"str2\"]),\n",
    "        item_no_match([\"str1\", \"str2\"]),\n",
    "        # json_match(\"str1\"),\n",
    "        # json_schema_match(\"str1\"),\n",
    "        # llm_judge(\"str1\"),\n",
    "        non_letter_character_percentage(\"str2\"),\n",
    "        oov_words_percentage(\"str1\"),\n",
    "        # openai(\"str1\"),\n",
    "        reg_exp(\"str1\", \".*value\"),\n",
    "        semantic_similarity([\"str1\", \"str2\"]),\n",
    "        sentence_count(\"str1\"),\n",
    "        sentiment(\"str1\"),\n",
    "        text_length(\"str1\"),\n",
    "        trigger_words_present(\"str1\", [\"first\"]),\n",
    "        word_count(\"str1\"),\n",
    "        word_match([\"str1\", \"str2\"], \"includes_any\", True),\n",
    "        word_no_match([\"str1\", \"str2\"], \"includes_any\", True),\n",
    "        # words_presence(\"str1\", [\"first\"], \"includes_any\")\n",
    "    ]\n",
    ")"
   ],
   "metadata": {
    "collapsed": false,
    "ExecuteTime": {
     "end_time": "2024-12-17T02:41:58.213170Z",
     "start_time": "2024-12-17T02:41:47.468436Z"
    }
   }
  },
  {
   "cell_type": "code",
   "execution_count": 12,
   "outputs": [
    {
     "data": {
      "text/plain": "           str1                  str2  Text Begins with [first] for str1  \\\n0   first value           first value                               True   \n1  second value  http://localhost.com                              False   \n2   third value             {\"a\":\"b\"}                              False   \n3  fourth value      import evidently                              False   \n\n   Text Begins with [first] for str1_1  BERTScore for str1 str2.  \\\n0                                 True                  0.859864   \n1                                False                  0.442877   \n2                                False                  0.494391   \n3                                False                  0.658955   \n\n   Text Contains of any [first] for str1  str2 contains link  \\\n0                                   True               False   \n1                                  False                True   \n2                                  False               False   \n3                                  False               False   \n\n   Text Contains of any [second] for str1  Text Ends with [value] for str1  \\\n0                                    True                             True   \n1                                   False                             True   \n2                                    True                             True   \n3                                    True                             True   \n\n   Exact Match for str1 str2.  ...  OOV Words % for str1  \\\n0                        True  ...                   0.0   \n1                       False  ...                   0.0   \n2                       False  ...                   0.0   \n3                       False  ...                   0.0   \n\n   RegExp '.*value' Match for column str1  Semantic Similarity for str1 str2.  \\\n0                                       1                            1.000000   \n1                                       1                            0.490672   \n2                                       1                            0.590310   \n3                                       1                            0.548347   \n\n   Sentence Count for str1  Sentiment for str1  Text Length for str1  \\\n0                        1                0.34                    11   \n1                        1                0.34                    12   \n2                        1                0.34                    11   \n3                        1                0.34                    12   \n\n   TriggerWordsPresent [words: ['first'], lemmatize: True] for str1  \\\n0                                                  1                  \n1                                                  0                  \n2                                                  0                  \n3                                                  0                  \n\n   Word Count for str1  Text contains includes defined words  \\\n0                    2                                 False   \n1                    2                                 False   \n2                    2                                 False   \n3                    2                                 False   \n\n   Text does not contain includes defined words  \n0                                          True  \n1                                          True  \n2                                          True  \n3                                          True  \n\n[4 rows x 27 columns]",
      "text/html": "<div>\n<style scoped>\n    .dataframe tbody tr th:only-of-type {\n        vertical-align: middle;\n    }\n\n    .dataframe tbody tr th {\n        vertical-align: top;\n    }\n\n    .dataframe thead th {\n        text-align: right;\n    }\n</style>\n<table border=\"1\" class=\"dataframe\">\n  <thead>\n    <tr style=\"text-align: right;\">\n      <th></th>\n      <th>str1</th>\n      <th>str2</th>\n      <th>Text Begins with [first] for str1</th>\n      <th>Text Begins with [first] for str1_1</th>\n      <th>BERTScore for str1 str2.</th>\n      <th>Text Contains of any [first] for str1</th>\n      <th>str2 contains link</th>\n      <th>Text Contains of any [second] for str1</th>\n      <th>Text Ends with [value] for str1</th>\n      <th>Exact Match for str1 str2.</th>\n      <th>...</th>\n      <th>OOV Words % for str1</th>\n      <th>RegExp '.*value' Match for column str1</th>\n      <th>Semantic Similarity for str1 str2.</th>\n      <th>Sentence Count for str1</th>\n      <th>Sentiment for str1</th>\n      <th>Text Length for str1</th>\n      <th>TriggerWordsPresent [words: ['first'], lemmatize: True] for str1</th>\n      <th>Word Count for str1</th>\n      <th>Text contains includes defined words</th>\n      <th>Text does not contain includes defined words</th>\n    </tr>\n  </thead>\n  <tbody>\n    <tr>\n      <th>0</th>\n      <td>first value</td>\n      <td>first value</td>\n      <td>True</td>\n      <td>True</td>\n      <td>0.859864</td>\n      <td>True</td>\n      <td>False</td>\n      <td>True</td>\n      <td>True</td>\n      <td>True</td>\n      <td>...</td>\n      <td>0.0</td>\n      <td>1</td>\n      <td>1.000000</td>\n      <td>1</td>\n      <td>0.34</td>\n      <td>11</td>\n      <td>1</td>\n      <td>2</td>\n      <td>False</td>\n      <td>True</td>\n    </tr>\n    <tr>\n      <th>1</th>\n      <td>second value</td>\n      <td>http://localhost.com</td>\n      <td>False</td>\n      <td>False</td>\n      <td>0.442877</td>\n      <td>False</td>\n      <td>True</td>\n      <td>False</td>\n      <td>True</td>\n      <td>False</td>\n      <td>...</td>\n      <td>0.0</td>\n      <td>1</td>\n      <td>0.490672</td>\n      <td>1</td>\n      <td>0.34</td>\n      <td>12</td>\n      <td>0</td>\n      <td>2</td>\n      <td>False</td>\n      <td>True</td>\n    </tr>\n    <tr>\n      <th>2</th>\n      <td>third value</td>\n      <td>{\"a\":\"b\"}</td>\n      <td>False</td>\n      <td>False</td>\n      <td>0.494391</td>\n      <td>False</td>\n      <td>False</td>\n      <td>True</td>\n      <td>True</td>\n      <td>False</td>\n      <td>...</td>\n      <td>0.0</td>\n      <td>1</td>\n      <td>0.590310</td>\n      <td>1</td>\n      <td>0.34</td>\n      <td>11</td>\n      <td>0</td>\n      <td>2</td>\n      <td>False</td>\n      <td>True</td>\n    </tr>\n    <tr>\n      <th>3</th>\n      <td>fourth value</td>\n      <td>import evidently</td>\n      <td>False</td>\n      <td>False</td>\n      <td>0.658955</td>\n      <td>False</td>\n      <td>False</td>\n      <td>True</td>\n      <td>True</td>\n      <td>False</td>\n      <td>...</td>\n      <td>0.0</td>\n      <td>1</td>\n      <td>0.548347</td>\n      <td>1</td>\n      <td>0.34</td>\n      <td>12</td>\n      <td>0</td>\n      <td>2</td>\n      <td>False</td>\n      <td>True</td>\n    </tr>\n  </tbody>\n</table>\n<p>4 rows × 27 columns</p>\n</div>"
     },
     "execution_count": 12,
     "metadata": {},
     "output_type": "execute_result"
    }
   ],
   "source": [
    "dataset.as_dataframe()"
   ],
   "metadata": {
    "collapsed": false,
    "ExecuteTime": {
     "end_time": "2024-12-17T02:42:19.272157Z",
     "start_time": "2024-12-17T02:42:19.250853Z"
    }
   }
  },
  {
   "cell_type": "code",
   "execution_count": null,
   "outputs": [],
   "source": [],
   "metadata": {
    "collapsed": false
   }
  }
 ],
 "metadata": {
  "kernelspec": {
   "display_name": "Python 3",
   "language": "python",
   "name": "python3"
  },
  "language_info": {
   "codemirror_mode": {
    "name": "ipython",
    "version": 2
   },
   "file_extension": ".py",
   "mimetype": "text/x-python",
   "name": "python",
   "nbconvert_exporter": "python",
   "pygments_lexer": "ipython2",
   "version": "2.7.6"
  }
 },
 "nbformat": 4,
 "nbformat_minor": 0
}
