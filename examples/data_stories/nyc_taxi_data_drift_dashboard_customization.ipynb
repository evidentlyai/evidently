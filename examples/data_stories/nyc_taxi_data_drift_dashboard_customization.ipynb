{
 "cells": [
  {
   "cell_type": "markdown",
   "id": "be561ba4",
   "metadata": {},
   "source": [
    "# NY Taxi Green Trip Data"
   ]
  },
  {
   "cell_type": "markdown",
   "id": "cdce21ba",
   "metadata": {
    "scrolled": true
   },
   "source": [
    "The data sets used were gotten from the New York City website https://www1.nyc.gov/site/tlc/about/tlc-trip-record-data.page "
   ]
  },
  {
   "cell_type": "markdown",
   "id": "3daf5c4b",
   "metadata": {},
   "source": [
    "## Libraries"
   ]
  },
  {
   "cell_type": "code",
   "execution_count": null,
   "id": "83ffe406",
   "metadata": {},
   "outputs": [],
   "source": [
    "import pandas as pd\n",
    "\n",
    "from datetime import datetime\n",
    "from typing import Optional"
   ]
  },
  {
   "cell_type": "code",
   "execution_count": null,
   "id": "4d87a6e1",
   "metadata": {},
   "outputs": [],
   "source": [
    "from evidently.dashboard import Dashboard\n",
    "from evidently.pipeline.column_mapping import ColumnMapping\n",
    "from evidently.dashboard.tabs import DataDriftTab, NumTargetDriftTab\n",
    "from evidently.options import DataDriftOptions\n",
    "from evidently.model_profile import Profile\n",
    "from evidently.model_profile.sections import DataDriftProfileSection"
   ]
  },
  {
   "cell_type": "code",
   "execution_count": null,
   "id": "65f67653",
   "metadata": {},
   "outputs": [],
   "source": [
    "import warnings\n",
    "warnings.filterwarnings('ignore')\n",
    "warnings.simplefilter('ignore')"
   ]
  },
  {
   "cell_type": "markdown",
   "id": "b3255450",
   "metadata": {},
   "source": [
    "## Load Data"
   ]
  },
  {
   "cell_type": "code",
   "execution_count": null,
   "id": "339fb493",
   "metadata": {},
   "outputs": [],
   "source": [
    "#! curl https://nyc-tlc.s3.amazonaws.com/trip+data/green_tripdata_2021-01.csv -o data/green_tripdata_2021-01.csv"
   ]
  },
  {
   "cell_type": "code",
   "execution_count": null,
   "id": "64c5e3ca",
   "metadata": {},
   "outputs": [],
   "source": [
    "source_data = pd.read_csv('data/green_tripdata_2021-01.csv', sep=',', low_memory=False, \n",
    "                          parse_dates=['lpep_dropoff_datetime', 'lpep_pickup_datetime'])"
   ]
  },
  {
   "cell_type": "code",
   "execution_count": null,
   "id": "bdb71f4a",
   "metadata": {},
   "outputs": [],
   "source": [
    "source_data.shape"
   ]
  },
  {
   "cell_type": "code",
   "execution_count": null,
   "id": "5ffe3f3e",
   "metadata": {},
   "outputs": [],
   "source": [
    "source_data.isna().sum()"
   ]
  },
  {
   "cell_type": "code",
   "execution_count": null,
   "id": "6a73c257",
   "metadata": {},
   "outputs": [],
   "source": [
    "source_data.describe()"
   ]
  },
  {
   "cell_type": "code",
   "execution_count": null,
   "id": "8edd15a1",
   "metadata": {},
   "outputs": [],
   "source": [
    "#calculate target\n",
    "source_data['duration'] = (source_data['lpep_dropoff_datetime'] - source_data['lpep_pickup_datetime'])\n",
    "source_data['duration'] = source_data.duration.apply(lambda x: x.total_seconds()//60)"
   ]
  },
  {
   "cell_type": "markdown",
   "id": "9e7ecf13",
   "metadata": {},
   "source": [
    "## Drift Analysis"
   ]
  },
  {
   "cell_type": "code",
   "execution_count": null,
   "id": "bcec9e5c",
   "metadata": {},
   "outputs": [],
   "source": [
    "target = 'duration'\n",
    "\n",
    "categorical = ['VendorID', 'store_and_fwd_flag', 'RatecodeID', \n",
    "               'payment_type', 'trip_type']\n",
    "\n",
    "numerical = ['passenger_count', 'trip_distance', 'fare_amount', 'extra', 'tip_amount', 'tolls_amount',\n",
    "             'total_amount']"
   ]
  },
  {
   "cell_type": "code",
   "execution_count": null,
   "id": "f1723bf6",
   "metadata": {},
   "outputs": [],
   "source": [
    "first_week = source_data[(source_data.lpep_pickup_datetime >= datetime(2021,1,3)) & \n",
    "                         (source_data.lpep_pickup_datetime < datetime(2021,1,10))]\n",
    "\n",
    "second_week = source_data[(source_data.lpep_pickup_datetime >= datetime(2021,1,10)) &\n",
    "                          (source_data.lpep_pickup_datetime < datetime(2021,1,17))]"
   ]
  },
  {
   "cell_type": "code",
   "execution_count": null,
   "id": "c5e72b48",
   "metadata": {},
   "outputs": [],
   "source": [
    "mapping = ColumnMapping(target=target, numerical_features=numerical, categorical_features=categorical)"
   ]
  },
  {
   "cell_type": "code",
   "execution_count": null,
   "id": "72f78aee",
   "metadata": {},
   "outputs": [],
   "source": [
    "data_drift_dashboard = Dashboard(tabs=[DataDriftTab()])\n",
    "data_drift_dashboard.calculate(first_week, second_week, mapping)\n",
    "data_drift_dashboard.show()"
   ]
  },
  {
   "cell_type": "markdown",
   "id": "be8db10b",
   "metadata": {},
   "source": [
    "## Colors Specification for Data Drift Dashboard "
   ]
  },
  {
   "cell_type": "code",
   "execution_count": null,
   "id": "5fdc2e23",
   "metadata": {},
   "outputs": [],
   "source": [
    "from evidently.options import ColorOptions\n",
    "\n",
    "color_scheme = ColorOptions()\n",
    "color_scheme.primary_color = \"#5a86ad\"\n",
    "color_scheme.fill_color = \"#fff4f2\"\n",
    "color_scheme.zero_line_color = \"#016795\"\n",
    "color_scheme.current_data_color = \"#c292a1\" \n",
    "color_scheme.reference_data_color = \"#017b92\""
   ]
  },
  {
   "cell_type": "code",
   "execution_count": null,
   "id": "5e594029",
   "metadata": {},
   "outputs": [],
   "source": [
    "data_drift_dashboard = Dashboard(tabs=[DataDriftTab()], options=[color_scheme])\n",
    "data_drift_dashboard.calculate(first_week, second_week, mapping)"
   ]
  },
  {
   "cell_type": "code",
   "execution_count": null,
   "id": "7bb5c376",
   "metadata": {},
   "outputs": [],
   "source": [
    "data_drift_dashboard.show()"
   ]
  },
  {
   "cell_type": "markdown",
   "id": "0d83f813",
   "metadata": {},
   "source": [
    "## Text Anotation and Colors Specification for Data Drift Dashboard "
   ]
  },
  {
   "cell_type": "code",
   "execution_count": null,
   "id": "a69e4f9b",
   "metadata": {},
   "outputs": [],
   "source": [
    "from evidently.dashboard.widgets.widget import Widget\n",
    "from evidently.model.widget import BaseWidgetInfo\n",
    "\n",
    "class TextCommentWidget(Widget):\n",
    "    def __init__(self, title:str, text:str, size:int):\n",
    "        super().__init__(title)\n",
    "        self.text = text\n",
    "        self.size = size\n",
    "        \n",
    "    def calculate(self, reference_data: pd.DataFrame, current_data: Optional[pd.DataFrame],\n",
    "                  column_mapping: ColumnMapping, analyzers_results) -> Optional[BaseWidgetInfo]:\n",
    "        return BaseWidgetInfo(\n",
    "            title=self.title,\n",
    "            type=\"text\",\n",
    "            size=self.size,\n",
    "            params={\n",
    "                \"text\": self.text\n",
    "            }\n",
    "        )\n",
    "\n",
    "    def analyzers(self):\n",
    "        return []"
   ]
  },
  {
   "cell_type": "code",
   "execution_count": null,
   "id": "467f0c6a",
   "metadata": {},
   "outputs": [],
   "source": [
    "text_example = \"\"\"\n",
    "# Header H1\n",
    "Important paragraph!\n",
    "\n",
    "## Header H2\n",
    "- point 1\n",
    "- point 2\n",
    "- point 3\n",
    "\"\"\""
   ]
  },
  {
   "cell_type": "code",
   "execution_count": null,
   "id": "ebcc0575",
   "metadata": {},
   "outputs": [],
   "source": [
    "data_drift_dashboard = Dashboard(tabs=[DataDriftTab(include_widgets=[\n",
    "    TextCommentWidget(\"\", text=text_example, size=2),\n",
    "    'Data Drift',])])\n",
    "\n",
    "data_drift_dashboard.calculate(first_week, second_week, mapping)\n",
    "data_drift_dashboard.show()"
   ]
  },
  {
   "cell_type": "code",
   "execution_count": null,
   "id": "4e02c34a",
   "metadata": {},
   "outputs": [],
   "source": [
    "dataset_description = \"\"\"\n",
    "# NY Taxi Green Trip\n",
    "\n",
    "## Categorical Features Description\n",
    "- **VendorID**  A code indicating the LPEP provider that provided the record. \n",
    "- **store_and_fwd_flag** This flag indicates whether the trip record was held in vehicle\n",
    "memory before sending to the vendor\n",
    "- **RatecodeID** The final rate code in effect at the end of the trip. \n",
    "- **payment_type** A numeric code signifying how the passenger paid for the trip. \n",
    "- **trip_type** A code indicating whether the trip was a street-hail or a dispatch\n",
    "that is automatically assigned based on the metered rate in use but can be altered by the driver. \n",
    "\n",
    "## Numerical Features Description\n",
    "- **passenger_count** The number of passengers in the vehicle. This is a driver-entered value\n",
    "- **trip_distance** The elapsed trip distance in miles reported by the taximeter.\n",
    "- **fare_amount** The time-and-distance fare calculated by the meter\n",
    "- **extra** Miscellaneous extras and surcharges. Currently, this only includes\n",
    "the $0.50 and $1 rush hour and overnight charges.\n",
    "- **tip_amount** Tip amount – This field is automatically populated for credit card\n",
    "tips. Cash tips are not included.\n",
    "- **tolls_amount** Total amount of all tolls paid in trip. \n",
    "- **total_amount** The total amount charged to passengers. Does not include cash tips.\n",
    "\n",
    "\"\"\""
   ]
  },
  {
   "cell_type": "code",
   "execution_count": null,
   "id": "fdf415fb",
   "metadata": {},
   "outputs": [],
   "source": [
    "drifted_features = \"\"\"\n",
    "# Drifted features\n",
    "Note: All categorical!\n",
    "\n",
    "- VendorID\n",
    "- store_and_fwd_flag\n",
    "- RatecodeID\n",
    "- payment_type\n",
    "\"\"\""
   ]
  },
  {
   "cell_type": "code",
   "execution_count": null,
   "id": "f78282d9",
   "metadata": {},
   "outputs": [],
   "source": [
    "drifted_features_categories = \"\"\"\n",
    "# Meaning of Drifted Features Categories \n",
    "\n",
    "**VendorID**\n",
    "\n",
    "1= Creative Mobile Technologies, LLC; 2= VeriFone Inc.\n",
    "\n",
    "**store_and_fwd_flag**\n",
    "\n",
    "Y= store and forward trip; N= not a store and forward trip\n",
    "\n",
    "**RatecodeID**\n",
    "\n",
    "1= Standard rate; 2=JFK; 3=Newark; 4=Nassau or Westchester; 5=Negotiated fare; 6=Group ride\n",
    "\n",
    "**payment_type**\n",
    "\n",
    "1= Credit card; 2= Cash; 3= No charge; 4= Dispute; 5= Unknown; 6= Voided trip\n",
    "\"\"\""
   ]
  },
  {
   "cell_type": "code",
   "execution_count": null,
   "id": "82eb887c",
   "metadata": {},
   "outputs": [],
   "source": [
    "data_drift_dashboard = Dashboard(tabs=[DataDriftTab(include_widgets=[\n",
    "    TextCommentWidget(\"\", text=dataset_description, size=2),\n",
    "    'Data Drift',\n",
    "    TextCommentWidget(\"\", text=drifted_features, size=1),\n",
    "    TextCommentWidget(\"\", text=drifted_features_categories, size=1),])],\n",
    "                                options = [color_scheme])\n",
    "\n",
    "data_drift_dashboard.calculate(first_week, second_week, mapping)\n",
    "data_drift_dashboard.show()"
   ]
  },
  {
   "cell_type": "markdown",
   "id": "a9d3858e",
   "metadata": {},
   "source": [
    "## Stattest Specification for Data Drift Dashboard "
   ]
  },
  {
   "cell_type": "code",
   "execution_count": null,
   "id": "d4ea06f5",
   "metadata": {},
   "outputs": [],
   "source": [
    "from evidently.options import DataDriftOptions"
   ]
  },
  {
   "cell_type": "code",
   "execution_count": null,
   "id": "e2883c29",
   "metadata": {},
   "outputs": [],
   "source": [
    "stat_test_option = DataDriftOptions(feature_stattest_func=\n",
    "                                    {\n",
    "                                        'tip_amount':'wasserstein',\n",
    "                                        'total_amount':'jensenshannon',\n",
    "                                        'fare_amount':'kl_div',\n",
    "                                    }\n",
    "                                   )"
   ]
  },
  {
   "cell_type": "code",
   "execution_count": null,
   "id": "4abf2736",
   "metadata": {},
   "outputs": [],
   "source": [
    "data_drift_dashboard = Dashboard(tabs=[DataDriftTab(include_widgets=[\n",
    "    TextCommentWidget(\"\", text=dataset_description, size=2),\n",
    "    'Data Drift',\n",
    "    TextCommentWidget(\"\", text=drifted_features, size=1),\n",
    "    TextCommentWidget(\"\", text=drifted_features_categories, size=1),])],\n",
    "                                options = [color_scheme, stat_test_option ])\n",
    "\n",
    "data_drift_dashboard.calculate(first_week, second_week, mapping)\n",
    "data_drift_dashboard.show()"
   ]
  }
 ],
 "metadata": {
  "kernelspec": {
   "display_name": "Python 3 (ipykernel)",
   "language": "python",
   "name": "python3"
  },
  "language_info": {
   "codemirror_mode": {
    "name": "ipython",
    "version": 3
   },
   "file_extension": ".py",
   "mimetype": "text/x-python",
   "name": "python",
   "nbconvert_exporter": "python",
   "pygments_lexer": "ipython3",
   "version": "3.9.12"
  }
 },
 "nbformat": 4,
 "nbformat_minor": 5
}
