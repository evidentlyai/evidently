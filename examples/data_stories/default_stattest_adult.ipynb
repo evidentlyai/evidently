{
 "cells": [
  {
   "cell_type": "code",
   "execution_count": null,
   "metadata": {
    "id": "T62TSgZPcT-W"
   },
   "outputs": [],
   "source": [
    "import pandas as pd\n",
    "import numpy as np\n",
    "\n",
    "from sklearn.datasets import fetch_openml\n",
    "\n",
    "from evidently import ColumnMapping\n",
    "from evidently.dashboard import Dashboard\n",
    "from evidently.dashboard.tabs import DataDriftTab"
   ]
  },
  {
   "cell_type": "code",
   "execution_count": null,
   "metadata": {
    "id": "HBcdX-kXcgsW"
   },
   "outputs": [],
   "source": [
    "data = fetch_openml(name='adult', version=2, as_frame='auto')\n",
    "df = data.frame\n",
    "df.head()"
   ]
  },
  {
   "cell_type": "markdown",
   "metadata": {
    "id": "TO8D5GudgODA"
   },
   "source": [
    "Let's add two features to illustrate, that we choose stat test depending not just on its type, but also on a number of unique values.\n",
    "\n",
    "Also, we will keep in mind that these features are absolutely random, so we don't expect any drift here."
   ]
  },
  {
   "cell_type": "code",
   "execution_count": null,
   "metadata": {
    "id": "vPCce_gEc40t"
   },
   "outputs": [],
   "source": [
    "df['num_feature_with_3_values'] = np.random.choice(3, df.shape[0])\n",
    "df['num_feature_with_2_values'] = np.random.choice(2, df.shape[0])"
   ]
  },
  {
   "cell_type": "code",
   "execution_count": null,
   "metadata": {
    "id": "XPsVNk2QdfIk"
   },
   "outputs": [],
   "source": [
    "numerical_features = ['age', 'fnlwgt', 'education-num', 'capital-gain', 'capital-loss', 'hours-per-week', 'num_feature_with_3_values', 'num_feature_with_2_values']\n",
    "categorical_features = ['workclass', 'education', 'marital-status', 'occupation', 'relationship', 'race', 'sex', 'native-country', 'class']\n",
    "column_mapping = ColumnMapping(numerical_features=numerical_features, categorical_features=categorical_features)"
   ]
  },
  {
   "cell_type": "markdown",
   "metadata": {
    "id": "glHip93yd7RN"
   },
   "source": [
    "## small dataset"
   ]
  },
  {
   "cell_type": "markdown",
   "metadata": {
    "id": "ryB6Y0Uoes4I"
   },
   "source": [
    "### no difference"
   ]
  },
  {
   "cell_type": "markdown",
   "metadata": {
    "id": "pJb4iu7JvhVM"
   },
   "source": [
    "We created 2 small random samples, so we do not expect to see any drift here."
   ]
  },
  {
   "cell_type": "code",
   "execution_count": null,
   "metadata": {
    "id": "S-FEA-d-d0t5"
   },
   "outputs": [],
   "source": [
    "data_drift_dashboard = Dashboard(tabs=[DataDriftTab()])\n",
    "data_drift_dashboard.calculate(df.sample(1000, random_state=0), \n",
    "                               df.sample(1000, random_state=10), column_mapping=column_mapping)\n",
    "data_drift_dashboard.show()"
   ]
  },
  {
   "cell_type": "markdown",
   "metadata": {
    "id": "S3YXTnzZvnuH"
   },
   "source": [
    "When you're working with small datasets, it's more likely that you'll get different distributions by chance. But it can also be concluded that statistical tests are quite sensitive."
   ]
  },
  {
   "cell_type": "markdown",
   "metadata": {
    "id": "vWakwd0Ke3cO"
   },
   "source": [
    "### data shifted"
   ]
  },
  {
   "cell_type": "markdown",
   "metadata": {
    "id": "vUAVikn4zt-t"
   },
   "source": [
    "We split data in 2 samples by relationship status, so we do expect to see some drift here."
   ]
  },
  {
   "cell_type": "code",
   "execution_count": null,
   "metadata": {
    "id": "GOryi4xVeJFy"
   },
   "outputs": [],
   "source": [
    "data_drift_dashboard = Dashboard(tabs=[DataDriftTab()])\n",
    "data_drift_dashboard.calculate(df[df.relationship.isin(['Husband', 'Wife'])].sample(1000, random_state=0), \n",
    "                               df[~df.relationship.isin(['Husband', 'Wife'])].sample(1000, random_state=10), column_mapping=column_mapping)\n",
    "data_drift_dashboard.show()"
   ]
  },
  {
   "cell_type": "markdown",
   "metadata": {
    "id": "cYW_LcVWfH4m"
   },
   "source": [
    "## big dataset"
   ]
  },
  {
   "cell_type": "markdown",
   "metadata": {
    "id": "uHd2E4YBfLVI"
   },
   "source": [
    "### no difference"
   ]
  },
  {
   "cell_type": "markdown",
   "metadata": {
    "id": "Vth7ZtZGzniE"
   },
   "source": [
    "We created 2 small random samples, so we do not expect to see any drift here."
   ]
  },
  {
   "cell_type": "code",
   "execution_count": null,
   "metadata": {
    "id": "P9OJNB69eJJU"
   },
   "outputs": [],
   "source": [
    "data_drift_dashboard = Dashboard(tabs=[DataDriftTab()])\n",
    "data_drift_dashboard.calculate(df.sample(30000, random_state=0), \n",
    "                               df.sample(30000, random_state=10), column_mapping=column_mapping)\n",
    "data_drift_dashboard.show()"
   ]
  },
  {
   "cell_type": "markdown",
   "metadata": {
    "id": "nvjSRab5fa2O"
   },
   "source": [
    "### data shifted"
   ]
  },
  {
   "cell_type": "markdown",
   "metadata": {
    "id": "xER2U9MFzy9g"
   },
   "source": [
    "We split data in 2 samples by relationship status, so we do expect to see some drift here."
   ]
  },
  {
   "cell_type": "code",
   "execution_count": null,
   "metadata": {
    "id": "x25KY4k1eJTI"
   },
   "outputs": [],
   "source": [
    "data_drift_dashboard = Dashboard(tabs=[DataDriftTab()])\n",
    "data_drift_dashboard.calculate(df[df.relationship.isin(['Husband', 'Wife'])].sample(30000, random_state=0, replace=True), \n",
    "                               df[~df.relationship.isin(['Husband', 'Wife'])].sample(30000, random_state=10, replace=True), column_mapping=column_mapping)\n",
    "data_drift_dashboard.show()"
   ]
  },
  {
   "cell_type": "code",
   "execution_count": null,
   "metadata": {
    "id": "eh9_aL-yfl57"
   },
   "outputs": [],
   "source": []
  }
 ],
 "metadata": {
  "colab": {
   "collapsed_sections": [
    "ryB6Y0Uoes4I",
    "vWakwd0Ke3cO",
    "uHd2E4YBfLVI",
    "nvjSRab5fa2O"
   ],
   "name": "default_stattest_adult.ipynb",
   "provenance": []
  },
  "kernelspec": {
   "display_name": "Python 3",
   "language": "python",
   "name": "python3"
  },
  "language_info": {
   "codemirror_mode": {
    "name": "ipython",
    "version": 3
   },
   "file_extension": ".py",
   "mimetype": "text/x-python",
   "name": "python",
   "nbconvert_exporter": "python",
   "pygments_lexer": "ipython3",
   "version": "3.6.13"
  }
 },
 "nbformat": 4,
 "nbformat_minor": 1
}
