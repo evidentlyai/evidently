{
 "cells": [
  {
   "cell_type": "markdown",
   "metadata": {
    "id": "QztD6LMKrfn7"
   },
   "source": [
    "## Notebook for comparing tests\n",
    "### Testing distributions\n",
    "\n",
    "This notebook is trying to compare different drift tests and highlight each strength. Every test is usefull! We just have to use it in a fitted scenario!"
   ]
  },
  {
   "cell_type": "markdown",
   "metadata": {},
   "source": [
    "Import libraries"
   ]
  },
  {
   "cell_type": "code",
   "execution_count": 1,
   "metadata": {},
   "outputs": [],
   "source": [
    "try:\n",
    "    import evidently\n",
    "except:\n",
    "    !npm install -g yarn\n",
    "    !pip install git+https://github.com/evidentlyai/evidently.git"
   ]
  },
  {
   "cell_type": "code",
   "execution_count": 2,
   "metadata": {
    "colab": {
     "base_uri": "https://localhost:8080/"
    },
    "id": "yPH0tLabtNpZ",
    "outputId": "d109922a-9eb8-4918-d01c-874e9cc58dc1"
   },
   "outputs": [],
   "source": [
    "import pandas as pd\n",
    "import numpy as np\n",
    "\n",
    "from scipy import stats\n",
    "\n",
    "from sklearn import datasets, ensemble, model_selection\n",
    "\n",
    "from evidently import ColumnMapping\n",
    "from evidently.calculations.stattests import StatTest\n",
    "from evidently.options import DataDriftOptions\n",
    "from evidently.test_suite import TestSuite\n",
    "from evidently.tests import *\n",
    "\n",
    "import matplotlib.pyplot as plt\n",
    "import seaborn as sns"
   ]
  },
  {
   "cell_type": "code",
   "execution_count": 3,
   "metadata": {
    "id": "rlj43ygQtjGg"
   },
   "outputs": [],
   "source": [
    "import warnings\n",
    "warnings.filterwarnings('ignore')\n",
    "warnings.simplefilter('ignore')"
   ]
  },
  {
   "cell_type": "markdown",
   "metadata": {
    "id": "L8YdHdn9rmcg"
   },
   "source": [
    "## Prepare Datasets/Distributions"
   ]
  },
  {
   "cell_type": "markdown",
   "metadata": {},
   "source": [
    "Now we are going to define four distributions with different types of dirfts for the two samples"
   ]
  },
  {
   "cell_type": "code",
   "execution_count": null,
   "metadata": {},
   "outputs": [],
   "source": [
    "#function that will help us define sample and control group\n",
    "\n",
    "def give_me_smp_cntr_df(sample1,sample2):\n",
    "    \"\"\"\n",
    "    It recieves two arrays of the produced sample distributions and\n",
    "    returns two dataframes that have he sample and control groups to test later the drift\n",
    "    \"\"\"\n",
    "    sample_df = pd.DataFrame(np.array([sample1,sample2]).T,columns=['sample_group','control_group'])\n",
    "    #initial dataset\n",
    "    smp_df=sample_df['sample_group'].reset_index().rename(columns={'sample_group': \"test_group\"})\n",
    "    #control dataset\n",
    "    cntr_df=sample_df['control_group'].reset_index().rename(columns={'control_group': \"test_group\"})\n",
    "    return smp_df,cntr_df\n"
   ]
  },
  {
   "cell_type": "code",
   "execution_count": 45,
   "metadata": {},
   "outputs": [],
   "source": [
    "# General gamma distirbution\n",
    "\n",
    "a, c = 3, -1.02\n",
    "#defining sample 1\n",
    "r = stats.gengamma.rvs(a, c, size=1000)\n",
    "\n",
    "a, c = 3, -1.32\n",
    "#defining sample 2\n",
    "r2 = stats.gengamma.rvs(a, c, size=1000)\n"
   ]
  },
  {
   "cell_type": "code",
   "execution_count": 9,
   "metadata": {},
   "outputs": [
    {
     "data": {
      "image/png": "[encoded data removed]",
      "text/plain": [
       "<Figure size 432x288 with 1 Axes>"
      ]
     },
     "metadata": {
      "needs_background": "light"
     },
     "output_type": "display_data"
    }
   ],
   "source": [
    "# Normal distirbution\n",
    "\n",
    "mu, sigma = 0, 0.08 # mean and standard deviation\n",
    "r3 = np.random.normal(mu, sigma, 1000)\n",
    "\n",
    "mu, sigma = 0, 0.05 # mean and standard deviation\n",
    "r4 = np.random.normal(mu, sigma, 1000)\n",
    "\n",
    "sample_df_2 = pd.DataFrame(np.array([r3,r4]).T,columns=['sample_group','control_group'])\n",
    "#initial dataset\n",
    "smp_df2=sample_df_2['sample_group'].reset_index().rename(columns={'sample_group': \"test_group\"})\n",
    "#control dataset\n",
    "cntr_df2=sample_df_2['control_group'].reset_index().rename(columns={'control_group': \"test_group\"})"
   ]
  },
  {
   "cell_type": "code",
   "execution_count": 10,
   "metadata": {},
   "outputs": [
    {
     "data": {
      "image/png": "[encoded data removed]",
      "text/plain": [
       "<Figure size 432x288 with 1 Axes>"
      ]
     },
     "metadata": {
      "needs_background": "light"
     },
     "output_type": "display_data"
    }
   ],
   "source": [
    "# Discrete bionmal\n",
    "\n",
    "n=10\n",
    "p=0.8\n",
    "\n",
    "data_binom = stats.binom.rvs(10,0.8,size=1000)\n",
    "data_binom2 = stats.binom.rvs(10,0.75,size=1000)\n",
    "\n",
    "sample_df_3 = pd.DataFrame(np.array([data_binom,data_binom2]).T,columns=['sample_group','control_group'])\n",
    "#initial dataset\n",
    "smp_df3=sample_df_3['sample_group'].reset_index().rename(columns={'sample_group': \"test_group\"})\n",
    "#control dataset\n",
    "cntr_df3=sample_df_3['control_group'].reset_index().rename(columns={'control_group': \"test_group\"})"
   ]
  },
  {
   "cell_type": "code",
   "execution_count": 11,
   "metadata": {},
   "outputs": [
    {
     "data": {
      "image/png": "[encoded data removed]",
      "text/plain": [
       "<Figure size 432x288 with 1 Axes>"
      ]
     },
     "metadata": {
      "needs_background": "light"
     },
     "output_type": "display_data"
    }
   ],
   "source": [
    "# Discrete poisson\n",
    "\n",
    "mu=1.5\n",
    "data_poisson = stats.poisson.rvs(mu=1.5, size=2000)\n",
    "data_poisson2 = stats.poisson.rvs(mu=2, size=2000)\n",
    "\n",
    "sample_df_4 = pd.DataFrame(np.array([data_poisson,data_poisson2]).T,columns=['sample_group','control_group'])\n",
    "#initial dataset\n",
    "smp_df4=sample_df_4['sample_group'].reset_index().rename(columns={'sample_group': \"test_group\"})\n",
    "#control dataset\n",
    "cntr_df4=sample_df_4['control_group'].reset_index().rename(columns={'control_group': \"test_group\"})"
   ]
  },
  {
   "cell_type": "markdown",
   "metadata": {
    "id": "It_sFjB1scv6"
   },
   "source": [
    "## Define custom tests"
   ]
  },
  {
   "cell_type": "markdown",
   "metadata": {},
   "source": [
    "Here we are defining custom test."
   ]
  },
  {
   "cell_type": "markdown",
   "metadata": {},
   "source": [
    "First define Mann-Whitney U-rank\n",
    "\n",
    "sources:"
   ]
  },
  {
   "cell_type": "code",
   "execution_count": 12,
   "metadata": {},
   "outputs": [],
   "source": [
    "from scipy.stats import mannwhitneyu\n",
    "def mannwhitneyu_rank(\n",
    "    reference_data: pd.Series, current_data: pd.Series, feature_type: str, threshold: float,use_continuity: bool = True):\n",
    "    \"\"\"Calculate the Mann-Whitney U-rank test between two arrays\n",
    "    Args:\n",
    "        reference_data: reference data\n",
    "        current_data: current data\n",
    "        feature_type: feature type\n",
    "        threshold: all values above this threshold means data drift\n",
    "    Returns:\n",
    "        pvalue: the p-value for the test depending on alternative and method\n",
    "        test_result: whether the drift is detected\n",
    "    \"\"\"\n",
    "    wil_p_value = mannwhitneyu(x=reference_data, y=current_data,use_continuity=use_continuity)[1]\n",
    "    return wil_p_value, wil_p_value < threshold\n",
    "\n",
    "\n",
    "mann_whitney_u_stat_test = StatTest(\n",
    "    name=\"mannw\",\n",
    "    display_name=\"Mann-Whitney U-rank test\",\n",
    "    func=mannwhitneyu_rank,\n",
    "    allowed_feature_types=[\"num\"],\n",
    "    default_threshold=0.05\n",
    ")"
   ]
  },
  {
   "cell_type": "code",
   "execution_count": 13,
   "metadata": {},
   "outputs": [],
   "source": [
    "from scipy.stats import epps_singleton_2samp\n",
    "\n",
    "def _epps_singleton(\n",
    "    reference_data: pd.Series,\n",
    "    current_data: pd.Series,\n",
    "    feature_type: str,\n",
    "    threshold: float):\n",
    "    \"\"\"Run the Epps-Singleton (ES) test of two samples.\n",
    "    Args:\n",
    "        reference_data: reference data\n",
    "        current_data: current data\n",
    "        threshold: level of significance (default will be 0.05)\n",
    "    Returns:\n",
    "        p_value: p-value based on the asymptotic chi2-distribution.\n",
    "        test_result: whether the drift is detected\n",
    "    \"\"\"\n",
    "    p_value = epps_singleton_2samp(reference_data, current_data)[1]\n",
    "    return p_value, p_value < threshold\n",
    "\n",
    "\n",
    "epps_singleton_test = StatTest(\n",
    "    name=\"es\",\n",
    "    display_name=\"Epps-Singleton\",\n",
    "    func=_epps_singleton,\n",
    "    allowed_feature_types=[\"num\"],\n",
    "    default_threshold=0.05\n",
    ")"
   ]
  },
  {
   "cell_type": "code",
   "execution_count": 14,
   "metadata": {},
   "outputs": [],
   "source": [
    "feature = 'test_group'\n",
    "\n",
    "stat_test_option1 = DataDriftOptions(num_features_stattest=mann_whitney_u_stat_test)\n",
    "stat_test_option2 = DataDriftOptions(num_features_stattest=epps_singleton_test)\n",
    "stat_test_option3 = DataDriftOptions(num_features_stattest='ks')\n",
    "stat_test_option4 = DataDriftOptions(num_features_stattest='anderson')\n",
    "stat_test_option5 = DataDriftOptions(num_features_stattest='cramer_von_mises')\n",
    "\n",
    "data_drift_dataset_tests = TestSuite(tests=[\n",
    "    TestFeatureValueDrift(column_name=feature, options=stat_test_option1),\n",
    "    TestFeatureValueDrift(column_name=feature, options=stat_test_option2),\n",
    "    TestFeatureValueDrift(column_name=feature, options=stat_test_option3),\n",
    "    TestFeatureValueDrift(column_name=feature, options=stat_test_option4),\n",
    "    TestFeatureValueDrift(column_name=feature, options=stat_test_option5)\n",
    "])"
   ]
  },
  {
   "cell_type": "code",
   "execution_count": 15,
   "metadata": {},
   "outputs": [],
   "source": [
    "#Define function for checking p-values per population\n",
    "\n",
    "def create_test_result_dataset(data_drift_dataset_tests):\n",
    "    d=[]\n",
    "\n",
    "    for tests in data_drift_dataset_tests.as_dict()['tests']:\n",
    "        d2=[]\n",
    "        d2.append(tests['parameters']['features']['test_group']['stattest'])\n",
    "        d2.append(tests['parameters']['features']['test_group']['score'])\n",
    "\n",
    "        #added the test name and drift score(p-value or distance)\n",
    "        d.append(d2)\n",
    "\n",
    "    df = pd.DataFrame(d,columns=['test','p-value'])\n",
    "\n",
    "    return df"
   ]
  },
  {
   "cell_type": "markdown",
   "metadata": {},
   "source": [
    "# Run tests"
   ]
  },
  {
   "cell_type": "code",
   "execution_count": 129,
   "metadata": {},
   "outputs": [
    {
     "data": {
      "image/png": "[encoded data removed]",
      "text/plain": [
       "<Figure size 432x288 with 1 Axes>"
      ]
     },
     "metadata": {
      "needs_background": "light"
     },
     "output_type": "display_data"
    }
   ],
   "source": [
    "#Poisson distrubution\n",
    "plt.hist(data_poisson,bins=40,alpha=0.5)\n",
    "plt.hist(data_poisson2,bins=40,alpha=0.5)\n",
    "plt.show()\n",
    "\n",
    "df_n=pd.DataFrame()\n",
    "\n",
    "for n in range(100,1100,100):\n",
    "    \n",
    "    data_drift_dataset_tests.run(reference_data=smp_df4[0:n], current_data=cntr_df4[0:n])\n",
    "    df = create_test_result_dataset(data_drift_dataset_tests)\n",
    "    df['data_length'] = n\n",
    "    df_n=pd.concat([df_n, df])\n"
   ]
  },
  {
   "cell_type": "code",
   "execution_count": 163,
   "metadata": {},
   "outputs": [
    {
     "data": {
      "text/html": [
       "<div>\n",
       "<style scoped>\n",
       "    .dataframe tbody tr th:only-of-type {\n",
       "        vertical-align: middle;\n",
       "    }\n",
       "\n",
       "    .dataframe tbody tr th {\n",
       "        vertical-align: top;\n",
       "    }\n",
       "\n",
       "    .dataframe thead th {\n",
       "        text-align: right;\n",
       "    }\n",
       "</style>\n",
       "<table border=\"1\" class=\"dataframe\">\n",
       "  <thead>\n",
       "    <tr style=\"text-align: right;\">\n",
       "      <th></th>\n",
       "      <th>test</th>\n",
       "      <th>p-value</th>\n",
       "      <th>data_length</th>\n",
       "    </tr>\n",
       "  </thead>\n",
       "  <tbody>\n",
       "    <tr>\n",
       "      <th>0</th>\n",
       "      <td>Mann-Whitney U-rank test</td>\n",
       "      <td>0.139</td>\n",
       "      <td>100</td>\n",
       "    </tr>\n",
       "    <tr>\n",
       "      <th>1</th>\n",
       "      <td>Epps-Singleton</td>\n",
       "      <td>0.690</td>\n",
       "      <td>100</td>\n",
       "    </tr>\n",
       "    <tr>\n",
       "      <th>2</th>\n",
       "      <td>K-S p_value</td>\n",
       "      <td>0.815</td>\n",
       "      <td>100</td>\n",
       "    </tr>\n",
       "    <tr>\n",
       "      <th>3</th>\n",
       "      <td>Anderson-Darling</td>\n",
       "      <td>0.250</td>\n",
       "      <td>100</td>\n",
       "    </tr>\n",
       "    <tr>\n",
       "      <th>4</th>\n",
       "      <td>cramer_von_mises</td>\n",
       "      <td>0.385</td>\n",
       "      <td>100</td>\n",
       "    </tr>\n",
       "  </tbody>\n",
       "</table>\n",
       "</div>"
      ],
      "text/plain": [
       "                       test  p-value  data_length\n",
       "0  Mann-Whitney U-rank test    0.139          100\n",
       "1            Epps-Singleton    0.690          100\n",
       "2               K-S p_value    0.815          100\n",
       "3          Anderson-Darling    0.250          100\n",
       "4          cramer_von_mises    0.385          100"
      ]
     },
     "execution_count": 163,
     "metadata": {},
     "output_type": "execute_result"
    }
   ],
   "source": [
    "df_n.head()"
   ]
  },
  {
   "cell_type": "code",
   "execution_count": 164,
   "metadata": {},
   "outputs": [
    {
     "data": {
      "text/plain": [
       "<AxesSubplot:xlabel='data_length', ylabel='p-value'>"
      ]
     },
     "execution_count": 164,
     "metadata": {},
     "output_type": "execute_result"
    },
    {
     "data": {
      "image/png": "[encoded data removed]",
      "text/plain": [
       "<Figure size 432x288 with 1 Axes>"
      ]
     },
     "metadata": {
      "needs_background": "light"
     },
     "output_type": "display_data"
    }
   ],
   "source": [
    "sns.lineplot(\n",
    "    data=df_n.reset_index(),\n",
    "    x=\"data_length\", y=\"p-value\", hue=\"test\",\n",
    "    markers=True\n",
    ")"
   ]
  },
  {
   "cell_type": "markdown",
   "metadata": {},
   "source": [
    "\"When comparing the incomes of two different groups (especially groups that span the socioeconomic\n",
    "spectrum), the distributions will likely be highly variable and highly skewed. In such a case,\n",
    "it might be better to use a nonparametric test like Wilcoxon’s signed-rank test.\"\n",
    "\n",
    "\"This is a paired test that compares the medians of two distributions\"\n",
    "\n",
    "Ofcourse for this case the Mann-Whitney U test is similar to the Wilcoxon test, but can be used to compare\n",
    "multiple samples that aren’t necessarily paired.\n",
    "\n",
    "source: https://www.mit.edu/~6.s085/notes/lecture5.pdf 5.1.3 Wilcoxon’s signed-rank test"
   ]
  },
  {
   "cell_type": "markdown",
   "metadata": {},
   "source": [
    "Anderson and cramer von mises perform also good at this case"
   ]
  },
  {
   "cell_type": "markdown",
   "metadata": {},
   "source": [
    "Lets see another case of discreete population dirft:"
   ]
  },
  {
   "cell_type": "code",
   "execution_count": 130,
   "metadata": {},
   "outputs": [
    {
     "data": {
      "image/png": "[encoded data removed]",
      "text/plain": [
       "<Figure size 432x288 with 1 Axes>"
      ]
     },
     "metadata": {
      "needs_background": "light"
     },
     "output_type": "display_data"
    }
   ],
   "source": [
    "#Binomal distrubution\n",
    "plt.hist(data_binom,bins=40,alpha=0.5)\n",
    "plt.hist(data_binom2,bins=40,alpha=0.5)\n",
    "plt.show()"
   ]
  },
  {
   "cell_type": "code",
   "execution_count": 131,
   "metadata": {},
   "outputs": [
    {
     "data": {
      "text/plain": [
       "<AxesSubplot:xlabel='data_length', ylabel='p-value'>"
      ]
     },
     "execution_count": 131,
     "metadata": {},
     "output_type": "execute_result"
    },
    {
     "data": {
      "image/png": "[encoded data removed]",
      "text/plain": [
       "<Figure size 432x288 with 1 Axes>"
      ]
     },
     "metadata": {
      "needs_background": "light"
     },
     "output_type": "display_data"
    }
   ],
   "source": [
    "#Binomal distrubution\n",
    "df_n=pd.DataFrame()\n",
    "\n",
    "for n in range(100,1100,100):\n",
    "    \n",
    "    data_drift_dataset_tests.run(reference_data=smp_df3[0:n], current_data=cntr_df3[0:n])\n",
    "    df = create_test_result_dataset(data_drift_dataset_tests)\n",
    "    df['data_length'] = n\n",
    "    df_n=pd.concat([df_n, df])\n",
    "\n",
    "sns.lineplot(\n",
    "    data=df_n.reset_index(),\n",
    "    x=\"data_length\", y=\"p-value\", hue=\"test\",\n",
    "    markers=True\n",
    ")"
   ]
  },
  {
   "cell_type": "markdown",
   "metadata": {},
   "source": [
    "Again, KS seems to be slower to relize that the two distrubutions are different."
   ]
  },
  {
   "cell_type": "markdown",
   "metadata": {},
   "source": [
    "But wait, when is the Mann-Whitney U actually not good at detecting drifts? and KS (as well other tests) better?\n",
    "\n",
    "Mann-Whitney U mentiones that uses medians to do the tests. So lets try with two normal distrubutions"
   ]
  },
  {
   "cell_type": "code",
   "execution_count": 132,
   "metadata": {},
   "outputs": [
    {
     "data": {
      "image/png": "[encoded data removed]",
      "text/plain": [
       "<Figure size 432x288 with 1 Axes>"
      ]
     },
     "metadata": {
      "needs_background": "light"
     },
     "output_type": "display_data"
    }
   ],
   "source": [
    "#normal distrubution\n",
    "plt.hist(r3,bins=40,alpha=0.5)\n",
    "plt.hist(r4,bins=40,alpha=0.5)\n",
    "plt.show()"
   ]
  },
  {
   "cell_type": "code",
   "execution_count": 133,
   "metadata": {},
   "outputs": [
    {
     "data": {
      "text/plain": [
       "<AxesSubplot:xlabel='data_length', ylabel='p-value'>"
      ]
     },
     "execution_count": 133,
     "metadata": {},
     "output_type": "execute_result"
    },
    {
     "data": {
      "image/png": "[encoded data removed]",
      "text/plain": [
       "<Figure size 432x288 with 1 Axes>"
      ]
     },
     "metadata": {
      "needs_background": "light"
     },
     "output_type": "display_data"
    }
   ],
   "source": [
    "#normal distrubution\n",
    "df_n=pd.DataFrame()\n",
    "\n",
    "for n in range(100,1100,100):\n",
    "    \n",
    "    data_drift_dataset_tests.run(reference_data=smp_df2[0:n], current_data=cntr_df2[0:n])\n",
    "    df = create_test_result_dataset(data_drift_dataset_tests)\n",
    "    df['data_length'] = n\n",
    "    df_n=pd.concat([df_n, df])\n",
    "\n",
    "sns.lineplot(\n",
    "    data=df_n.reset_index(),\n",
    "    x=\"data_length\", y=\"p-value\", hue=\"test\",\n",
    "    markers=True\n",
    ")"
   ]
  },
  {
   "cell_type": "markdown",
   "metadata": {},
   "source": [
    "As you see here the Mann-Whitney U test never converges to a low p-value as others.\n",
    "\n",
    "\n",
    "What we are saying is that every test is good for specific cases.\n",
    "\n",
    "## Choose wisely!!"
   ]
  },
  {
   "cell_type": "markdown",
   "metadata": {},
   "source": [
    "Want to plug and play?\n",
    "1) Define your population\n",
    "2) Run the tests"
   ]
  },
  {
   "cell_type": "code",
   "execution_count": 85,
   "metadata": {},
   "outputs": [
    {
     "data": {
      "image/png": "[encoded data removed]",
      "text/plain": [
       "<Figure size 432x288 with 1 Axes>"
      ]
     },
     "metadata": {
      "needs_background": "light"
     },
     "output_type": "display_data"
    },
    {
     "name": "stdout",
     "output_type": "stream",
     "text": [
      "0.8288241989136874 2.760701733872155 -2.5536787452829968 0.850712857742443\n"
     ]
    }
   ],
   "source": [
    "a, c = 3, -1.02\n",
    "mean, var, skew, kurt = stats.gengamma.stats(a, c, moments='mvsk')\n",
    "r = stats.gengamma.rvs(a, c, size=2000)\n",
    "\n",
    "a, c = 2.2, -1.02\n",
    "mean, var, skew, kurt = stats.gengamma.stats(a, c, moments='mvsk')\n",
    "r2 = stats.gengamma.rvs(a, c, size=2000)\n",
    "\n",
    "plt.hist(r,bins=40,alpha=0.5)\n",
    "plt.hist(r2,bins=40,alpha=0.5)\n",
    "plt.show()\n",
    "print(mean, var, skew, kurt)\n",
    "\n",
    "sample_df = pd.DataFrame(np.array([r,r2]).T,columns=['sample_group','control_group'])\n",
    "#initial dataset\n",
    "smp_df=sample_df['sample_group'].reset_index().rename(columns={'sample_group': \"test_group\"})\n",
    "#control dataset\n",
    "cntr_df=sample_df['control_group'].reset_index().rename(columns={'control_group': \"test_group\"})"
   ]
  },
  {
   "cell_type": "code",
   "execution_count": 86,
   "metadata": {},
   "outputs": [
    {
     "data": {
      "text/plain": [
       "<AxesSubplot:xlabel='data_length', ylabel='p-value'>"
      ]
     },
     "execution_count": 86,
     "metadata": {},
     "output_type": "execute_result"
    },
    {
     "data": {
      "image/png": "[encoded data removed]",
      "text/plain": [
       "<Figure size 432x288 with 1 Axes>"
      ]
     },
     "metadata": {
      "needs_background": "light"
     },
     "output_type": "display_data"
    }
   ],
   "source": [
    "#gen gamma\n",
    "df_n=pd.DataFrame()\n",
    "\n",
    "for n in range(100,2100,100):\n",
    "    \n",
    "    data_drift_dataset_tests.run(reference_data=smp_df[0:n], current_data=cntr_df[0:n])\n",
    "    df = create_test_result_dataset(data_drift_dataset_tests)\n",
    "    df['data_length'] = n\n",
    "    df_n=pd.concat([df_n, df])\n",
    "\n",
    "sns.lineplot(\n",
    "    data=df_n.reset_index(),\n",
    "    x=\"data_length\", y=\"p-value\", hue=\"test\",\n",
    "    markers=True\n",
    ")\n"
   ]
  }
 ],
 "metadata": {
  "colab": {
   "collapsed_sections": [],
   "name": "stat_test_specification_for_data_drift_adult.ipynb",
   "provenance": []
  },
  "kernelspec": {
   "display_name": "Python 3.6.7rc1 ('myvirtualenv': venv)",
   "language": "python",
   "name": "python3"
  },
  "language_info": {
   "codemirror_mode": {
    "name": "ipython",
    "version": 3
   },
   "file_extension": ".py",
   "mimetype": "text/x-python",
   "name": "python",
   "nbconvert_exporter": "python",
   "pygments_lexer": "ipython3",
   "version": "3.6.7rc1"
  },
  "vscode": {
   "interpreter": {
    "hash": "18cc34fa94e0a1282f5044615c7e7a010c96937046ea65cf7b032836bab201fd"
   }
  }
 },
 "nbformat": 4,
 "nbformat_minor": 1
}
