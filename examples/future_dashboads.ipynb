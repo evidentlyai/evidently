{
 "cells": [
  {
   "cell_type": "code",
   "id": "initial_id",
   "metadata": {
    "collapsed": true,
    "ExecuteTime": {
     "end_time": "2025-01-08T13:01:54.904648Z",
     "start_time": "2025-01-08T13:01:51.766554Z"
    }
   },
   "source": [
    "from evidently.ui.dashboards import CounterAgg\n",
    "from evidently.ui.dashboards import PanelValue\n",
    "from evidently.ui.dashboards import ReportFilter\n",
    "import datetime\n",
    "import pandas as pd\n",
    "\n",
    "from evidently.future.metrics import MeanValue\n",
    "from evidently.future.datasets import Dataset\n",
    "from evidently.future.datasets import DataDefinition\n",
    "from evidently.future.datasets import ColumnInfo\n",
    "from evidently.future.datasets import ColumnType\n",
    "\n",
    "from evidently.future.backport import snapshot_v2_to_v1\n",
    "from evidently.future.backport import SingleValueDashboardPanel\n",
    "from evidently.future.report import Report\n",
    "from evidently.future.tests import lte\n",
    "from evidently.ui.dashboards import DashboardPanelCounter\n",
    "from evidently.ui.workspace import Workspace\n",
    "\n",
    "def create_snapshot(i):\n",
    "    df = pd.DataFrame({\"col\": list(range(i + 5))})\n",
    "    dataset = Dataset.from_pandas(\n",
    "        df,\n",
    "        data_definition=DataDefinition(\n",
    "            numerical_features=[\"col\"],\n",
    "        ),\n",
    "    )\n",
    "    report = Report([MeanValue(column=\"col\", tests=[lte(4)])])\n",
    "    snapshot_v2 = report.run(dataset, None)\n",
    "\n",
    "    snapshot_v1 = snapshot_v2_to_v1(snapshot_v2)\n",
    "    import uuid6\n",
    "\n",
    "    snapshot_v1.id = uuid6.UUID(int=i, version=7)\n",
    "    snapshot_v1.timestamp = datetime.datetime.now() - datetime.timedelta(days=1)\n",
    "    return snapshot_v1\n",
    "\n",
    "ws = Workspace.create(\"./workspace\")\n",
    "from evidently.ui.type_aliases import ZERO_UUID\n",
    "\n",
    "project = ws.get_project(ZERO_UUID)\n",
    "if project is None:\n",
    "    from evidently.ui.base import Project\n",
    "\n",
    "    project = ws.add_project(Project(id=ZERO_UUID, name=\"test proj\"))\n",
    "\n",
    "    project.dashboard.add_panel(SingleValueDashboardPanel(metric_id=MeanValue(column=\"col\", tests=[lte(4)]).metric_id))\n",
    "    project.dashboard.add_panel(DashboardPanelCounter(\n",
    "        title=\"Last mean value\",\n",
    "        agg=CounterAgg.LAST,\n",
    "        value=PanelValue(field_path=\"value\", metric_args={\"metric.metric_id\": \"2e5caa9690281e02cf243c736d687782\"}),\n",
    "        filter=ReportFilter(metadata_values={}, tag_values=[], include_test_suites=True),\n",
    "    ))\n",
    "    # project.dashboard.add_panel(SingleValueDashboardPanel(metric_id=\"mean:col\"))\n",
    "    project.save()\n",
    "\n",
    "for i in range(10):\n",
    "    project.add_snapshot(create_snapshot(i))"
   ],
   "outputs": [],
   "execution_count": 1
  },
  {
   "metadata": {
    "ExecuteTime": {
     "end_time": "2025-01-08T13:01:54.911704Z",
     "start_time": "2025-01-08T13:01:54.908667Z"
    }
   },
   "cell_type": "code",
   "source": [
    "# use `evidently ui` to run UI service to see project dashboard."
   ],
   "id": "35a20fd14d577dc8",
   "outputs": [],
   "execution_count": 2
  }
 ],
 "metadata": {
  "kernelspec": {
   "display_name": "Python 3",
   "language": "python",
   "name": "python3"
  },
  "language_info": {
   "codemirror_mode": {
    "name": "ipython",
    "version": 2
   },
   "file_extension": ".py",
   "mimetype": "text/x-python",
   "name": "python",
   "nbconvert_exporter": "python",
   "pygments_lexer": "ipython2",
   "version": "2.7.6"
  }
 },
 "nbformat": 4,
 "nbformat_minor": 5
}
