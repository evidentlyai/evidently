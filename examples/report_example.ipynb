{
 "cells": [
  {
   "cell_type": "code",
   "execution_count": null,
   "metadata": {
    "scrolled": true
   },
   "outputs": [],
   "source": [
    "from evidently import ColumnMapping\n",
    "from evidently.report import Report"
   ]
  },
  {
   "cell_type": "code",
   "execution_count": null,
   "metadata": {
    "pycharm": {
     "name": "#%%\n"
    },
    "scrolled": true
   },
   "outputs": [],
   "source": [
    "import numpy as np\n",
    "import pandas as pd\n",
    "\n",
    "from sklearn.datasets import fetch_openml\n",
    "\n",
    "data = fetch_openml(name='adult', version=2, as_frame='auto')\n",
    "df = data.frame\n",
    "\n",
    "ref = df[:20000]\n",
    "curr = df[20000:]\n",
    "\n",
    "curr['target'] = curr['education-num']\n",
    "curr['preds'] = curr['education-num'].values + np.random.normal(0, 6, curr.shape[0])\n",
    "ref['target'] = ref['education-num']\n",
    "ref['preds'] = ref['education-num'].values + np.random.normal(0, 6, ref.shape[0])\n",
    "\n",
    "curr.iloc[:2000, 3:5] = np.nan\n",
    "curr.iloc[:2000, 12] = np.nan"
   ]
  },
  {
   "cell_type": "code",
   "execution_count": null,
   "metadata": {
    "pycharm": {
     "name": "#%%\n"
    },
    "scrolled": true
   },
   "outputs": [],
   "source": [
    "from evidently.metrics import DataDriftMetrics\n",
    "\n",
    "column_mapping = ColumnMapping(target='target', prediction='preds')\n",
    "report = Report(metrics=[DataDriftMetrics()])\n",
    "\n",
    "report.run(reference_data=ref, current_data=curr, column_mapping=column_mapping)\n",
    "report"
   ]
  },
  {
   "cell_type": "code",
   "execution_count": null,
   "metadata": {
    "pycharm": {
     "name": "#%%\n"
    },
    "scrolled": true
   },
   "outputs": [],
   "source": [
    "test_classification_dataset_curr = pd.DataFrame(\n",
    "    {\n",
    "        \"target\": [\"1\", \"2\", \"2\", \"1\"],\n",
    "        \"2\": [0.5, 0.2, 0.1, 0.9],\n",
    "        \"1\": [0.5, 0.3, 0.7, 0.1],\n",
    "    }\n",
    ")\n",
    "test_classification_dataset_ref = pd.DataFrame(\n",
    "    {\n",
    "        \"target\": [\"1\", \"2\", \"2\", \"1\"],\n",
    "        \"2\": [0.5, 0.2, 0.1, 0.9],\n",
    "        \"1\": [0.5, 0.3, 0.7, 0.1],\n",
    "    }\n",
    ")\n",
    "column_mapping=ColumnMapping(prediction=[\"1\", \"2\"], pos_label=\"2\")"
   ]
  },
  {
   "cell_type": "code",
   "execution_count": null,
   "metadata": {
    "scrolled": true
   },
   "outputs": [],
   "source": [
    "from evidently.metrics import ClassificationPerformanceMetrics\n",
    "from evidently.metrics import ClassificationPerformanceMetricsTopK\n",
    "from evidently.metrics import ClassificationPerformanceMetricsThreshold\n",
    "\n",
    "\n",
    "report = Report(metrics=[\n",
    "    ClassificationPerformanceMetricsTopK(k=2),\n",
    "    ClassificationPerformanceMetricsThreshold(classification_threshold=0.5),\n",
    "])\n",
    "report.run(\n",
    "    current_data=test_classification_dataset_curr,\n",
    "    reference_data=test_classification_dataset_ref,\n",
    "    column_mapping=column_mapping\n",
    ")\n",
    "report"
   ]
  },
  {
   "cell_type": "code",
   "execution_count": null,
   "metadata": {
    "scrolled": true
   },
   "outputs": [],
   "source": [
    "current_data = pd.DataFrame(\n",
    "    {\n",
    "        \"target\": [1, 0, 1, 1, 0, 0, 0, 0, 1, 1],\n",
    "        \"prediction\": [0, 1, 0, 1, 0, 0, 1, 0, 0, 1],\n",
    "    }\n",
    ")\n",
    "reference_data = pd.DataFrame(\n",
    "    {\n",
    "        \"target\": [1, 1, 1, 1, 0, 0, 0, 0, 0, 0],\n",
    "        \"prediction\": [1, 1, 0, 1, 0, 0, 1, 0, 0, 1],\n",
    "    }\n",
    ")"
   ]
  },
  {
   "cell_type": "code",
   "execution_count": null,
   "metadata": {
    "scrolled": true
   },
   "outputs": [],
   "source": [
    "report = Report(metrics=[\n",
    "    ClassificationPerformanceMetrics(),\n",
    "])\n",
    "report.run(\n",
    "    current_data=current_data,\n",
    "    reference_data=reference_data,\n",
    "    column_mapping=ColumnMapping()\n",
    ")\n",
    "report"
   ]
  },
  {
   "cell_type": "code",
   "execution_count": null,
   "metadata": {
    "pycharm": {
     "name": "#%%\n"
    },
    "scrolled": true
   },
   "outputs": [],
   "source": [
    "from evidently.metrics import DataIntegrityMetrics\n",
    "from evidently.metrics import DataIntegrityValueByRegexpMetrics\n",
    "from evidently.metrics import DataIntegrityNullValuesMetrics\n",
    "\n",
    "report = Report(metrics=[\n",
    "    DataIntegrityMetrics(),\n",
    "    DataIntegrityValueByRegexpMetrics(column_name=\"target\", reg_exp=\".*0+.*\"),\n",
    "    DataIntegrityNullValuesMetrics(null_values=[None, \"\", 0], replace=True),\n",
    "])\n",
    "report.run(\n",
    "    current_data=current_data,\n",
    "    reference_data=reference_data,\n",
    "    column_mapping=ColumnMapping()\n",
    ")\n",
    "report"
   ]
  },
  {
   "cell_type": "code",
   "execution_count": null,
   "metadata": {
    "scrolled": true
   },
   "outputs": [],
   "source": [
    "from evidently.metrics import DataQualityMetrics\n",
    "from evidently.metrics import DataQualityStabilityMetrics\n",
    "from evidently.metrics import DataQualityValueListMetrics\n",
    "from evidently.metrics import DataQualityValueRangeMetrics\n",
    "from evidently.metrics import DataQualityValueQuantileMetrics\n",
    "from evidently.metrics import DataQualityCorrelationMetrics\n",
    "\n",
    "\n",
    "report = Report(metrics=[\n",
    "    DataQualityMetrics(),\n",
    "    DataQualityStabilityMetrics(),\n",
    "    DataQualityValueListMetrics(column=\"target\"),\n",
    "    DataQualityValueRangeMetrics(column=\"target\", left=0, right=1),\n",
    "    DataQualityValueQuantileMetrics(column=\"target\", quantile=0.5),\n",
    "    DataQualityCorrelationMetrics(),\n",
    "])\n",
    "report.run(\n",
    "    current_data=current_data,\n",
    "    reference_data=reference_data,\n",
    "    column_mapping=ColumnMapping()\n",
    ")\n",
    "report"
   ]
  },
  {
   "cell_type": "code",
   "execution_count": null,
   "metadata": {
    "scrolled": true
   },
   "outputs": [],
   "source": [
    "from evidently.metrics import RegressionPerformanceMetrics\n",
    "\n",
    "report = Report(metrics=[\n",
    "    RegressionPerformanceMetrics(),\n",
    "])\n",
    "report.run(\n",
    "    current_data=current_data,\n",
    "    reference_data=reference_data,\n",
    "    column_mapping=ColumnMapping()\n",
    ")\n",
    "report"
   ]
  },
  {
   "cell_type": "code",
   "execution_count": null,
   "metadata": {},
   "outputs": [],
   "source": []
  }
 ],
 "metadata": {
  "kernelspec": {
   "display_name": "Python 3",
   "language": "python",
   "name": "python3"
  },
  "language_info": {
   "codemirror_mode": {
    "name": "ipython",
    "version": 3
   },
   "file_extension": ".py",
   "mimetype": "text/x-python",
   "name": "python",
   "nbconvert_exporter": "python",
   "pygments_lexer": "ipython3",
   "version": "3.6.13"
  }
 },
 "nbformat": 4,
 "nbformat_minor": 1
}
