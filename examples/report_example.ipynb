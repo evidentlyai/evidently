{
 "cells": [
  {
   "cell_type": "code",
   "execution_count": 1,
   "metadata": {},
   "outputs": [],
   "source": [
    "from evidently import ColumnMapping\n",
    "from evidently.report import Report"
   ]
  },
  {
   "cell_type": "code",
   "execution_count": 2,
   "metadata": {
    "pycharm": {
     "name": "#%%\n"
    }
   },
   "outputs": [],
   "source": [
    "import numpy as np\n",
    "from sklearn.datasets import fetch_openml\n",
    "\n",
    "data = fetch_openml(name='adult', version=2, as_frame='auto')\n",
    "df = data.frame\n",
    "\n",
    "ref = df[:20000]\n",
    "curr = df[20000:]\n",
    "\n",
    "curr['target'] = curr['education-num']\n",
    "curr['preds'] = curr['education-num'].values + np.random.normal(0, 6, curr.shape[0])\n",
    "ref['target'] = ref['education-num']\n",
    "ref['preds'] = ref['education-num'].values + np.random.normal(0, 6, ref.shape[0])\n",
    "\n",
    "curr.iloc[:2000, 3:5] = np.nan\n",
    "curr.iloc[:2000, 12] = np.nan"
   ]
  },
  {
   "cell_type": "code",
   "execution_count": 3,
   "metadata": {
    "pycharm": {
     "name": "#%%\n"
    }
   },
   "outputs": [],
   "source": [
    "from evidently.metrics import DataDriftMetrics, DataQualityMetrics\n",
    "\n",
    "report = Report(metrics=[DataDriftMetrics()])\n",
    "\n",
    "report.run(reference_data=ref, current_data=curr, column_mapping=ColumnMapping(target='target', prediction='preds'))"
   ]
  },
  {
   "cell_type": "code",
   "execution_count": 4,
   "metadata": {
    "pycharm": {
     "name": "#%%\n"
    }
   },
   "outputs": [
    {
     "data": {
      "text/html": [
       "\n",
       "<link rel=\"stylesheet\" href=\"https://fonts.googleapis.com/icon?family=Material+Icons\"/>\n",
       "<style>\n",
       ".reset-this-parent {\n",
       "  all: initial;\n",
       "}\n",
       ".reset-this-parent h5 {\n",
       "  all: initial;\n",
       "  font: initial;\n",
       "}\n",
       "\n",
       "svg {\n",
       "  height: intrinsic !important;\n",
       "}\n",
       "</style>\n",
       "<script>\n",
       "    var evidently_dashboard_c893c233ab994646936f5c3caf2deb53 = {\"name\": \"Report\", \"widgets\": [{\"type\": \"counter\", \"title\": \"Data Drift\", \"size\": 2, \"id\": \"\", \"details\": \"\", \"alertsPosition\": null, \"alertStats\": null, \"params\": {\"counters\": [{\"value\": \"\", \"label\": \"Share:'0.0'\"}]}, \"insights\": [], \"alerts\": [], \"tabs\": [], \"widgets\": [], \"pageSize\": 5}]};\n",
       "    var additional_graphs_evidently_dashboard_c893c233ab994646936f5c3caf2deb53 = {};\n",
       "</script>\n",
       "<script>\n",
       "function domReady(fn) {\n",
       "  // If we're early to the party\n",
       "  document.addEventListener(\"DOMContentLoaded\", fn);\n",
       "  // If late; I mean on time.\n",
       "  if (document.readyState === \"interactive\" || document.readyState === \"complete\" ) {\n",
       "    fn();\n",
       "  }\n",
       "}\n",
       "\n",
       "domReady(function () {\n",
       "    requirejs([\"evidently\"], function(ev) {\n",
       "        drawDashboard(evidently_dashboard_c893c233ab994646936f5c3caf2deb53,\n",
       "        new Map(Object.entries(additional_graphs_evidently_dashboard_c893c233ab994646936f5c3caf2deb53)),\n",
       "        \"root_evidently_dashboard_c893c233ab994646936f5c3caf2deb53\");\n",
       "    },\n",
       "    function(err) {\n",
       "        $(\"#root_evidently_dashboard_c893c233ab994646936f5c3caf2deb53\").innerHTML = \"Failed to load\";\n",
       "    })\n",
       "});\n",
       "</script>\n",
       "<div class=\"reset-this-parent\" id=\"root_evidently_dashboard_c893c233ab994646936f5c3caf2deb53\">Loading...</div>\n",
       "\n"
      ],
      "text/plain": [
       "<evidently.report.report.Report at 0x1645f8cd0>"
      ]
     },
     "execution_count": 4,
     "metadata": {},
     "output_type": "execute_result"
    }
   ],
   "source": [
    "report"
   ]
  },
  {
   "cell_type": "code",
   "execution_count": null,
   "metadata": {
    "pycharm": {
     "name": "#%%\n"
    }
   },
   "outputs": [],
   "source": []
  }
 ],
 "metadata": {
  "kernelspec": {
   "display_name": "Python 3 (ipykernel)",
   "language": "python",
   "name": "python3"
  },
  "language_info": {
   "codemirror_mode": {
    "name": "ipython",
    "version": 3
   },
   "file_extension": ".py",
   "mimetype": "text/x-python",
   "name": "python",
   "nbconvert_exporter": "python",
   "pygments_lexer": "ipython3",
   "version": "3.8.9"
  }
 },
 "nbformat": 4,
 "nbformat_minor": 1
}