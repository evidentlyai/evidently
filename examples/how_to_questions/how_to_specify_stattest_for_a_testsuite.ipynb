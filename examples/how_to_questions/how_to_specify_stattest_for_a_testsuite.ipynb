{
 "cells": [
  {
   "cell_type": "markdown",
   "metadata": {
    "id": "QztD6LMKrfn7"
   },
   "source": [
    "# Statistical Test Specification for TestSuites"
   ]
  },
  {
   "cell_type": "code",
   "execution_count": null,
   "metadata": {},
   "outputs": [],
   "source": [
    "try:\n",
    "    import evidently\n",
    "except:\n",
    "    !npm install -g yarn\n",
    "    !pip install git+https://github.com/evidentlyai/evidently.git"
   ]
  },
  {
   "cell_type": "code",
   "execution_count": null,
   "metadata": {
    "colab": {
     "base_uri": "https://localhost:8080/"
    },
    "id": "yPH0tLabtNpZ",
    "outputId": "d109922a-9eb8-4918-d01c-874e9cc58dc1"
   },
   "outputs": [],
   "source": [
    "import pandas as pd\n",
    "import numpy as np\n",
    "\n",
    "from scipy.stats import mannwhitneyu\n",
    "from sklearn import datasets, ensemble, model_selection\n",
    "\n",
    "from evidently import ColumnMapping\n",
    "from evidently.calculations.stattests import StatTest\n",
    "from evidently.options import DataDriftOptions\n",
    "from evidently.test_suite import TestSuite\n",
    "from evidently.tests import *"
   ]
  },
  {
   "cell_type": "code",
   "execution_count": null,
   "metadata": {
    "id": "rlj43ygQtjGg"
   },
   "outputs": [],
   "source": [
    "import warnings\n",
    "warnings.filterwarnings('ignore')\n",
    "warnings.simplefilter('ignore')"
   ]
  },
  {
   "cell_type": "markdown",
   "metadata": {
    "id": "L8YdHdn9rmcg"
   },
   "source": [
    "## Prepare Datasets"
   ]
  },
  {
   "cell_type": "code",
   "execution_count": null,
   "metadata": {
    "colab": {
     "base_uri": "https://localhost:8080/",
     "height": 354
    },
    "id": "RfuVz0N5q-CR",
    "outputId": "c10ae41b-1a27-4366-a9b0-daa1d6ad7940"
   },
   "outputs": [],
   "source": [
    "#Dataset for Data Quality and Integrity\n",
    "adult_data = datasets.fetch_openml(name='adult', version=2, as_frame='auto')\n",
    "adult = adult_data.frame\n",
    "\n",
    "adult_ref = adult[~adult.education.isin(['Some-college', 'HS-grad', 'Bachelors'])]\n",
    "adult_cur = adult[adult.education.isin(['Some-college', 'HS-grad', 'Bachelors'])]\n",
    "\n",
    "adult_cur.iloc[:2000, 3:5] = np.nan"
   ]
  },
  {
   "cell_type": "markdown",
   "metadata": {
    "id": "9Xzh76_6t337"
   },
   "source": [
    "## Data Drift Options"
   ]
  },
  {
   "cell_type": "markdown",
   "metadata": {
    "id": "Op_n6pDNrfn9"
   },
   "source": [
    "**Notes**: \n",
    "You can specify stattest for features and/or model output in DataDriftOptions\n",
    "\n",
    "* all_features_stattest: Defines a custom statistical test for drift detection in the Data Drift report for all features\n",
    "* num_features_stattest: Defines a custom statistical test for drift detection in the Data Drift report for numerical features only\n",
    "* cat_features_stattest: Defines a custom statistical test for drift detection in the Data Drift report for categorical features only\n",
    "* per_feature_stattest: Defines a custom statistical test for drift detection in the Data Drift report per feature\n",
    "\n",
    "**Available stattests**:  \n",
    "* 'ks' \n",
    "* 'z' \n",
    "* 'chisquare' \n",
    "* 'jensenshannon' \n",
    "* 'kl_div' \n",
    "* 'psi' \n",
    "* 'wasserstein'\n",
    "* 'anderson'\n",
    "\n",
    "You can implement a custom drift test and use it in DataDriftOptions. Just define a function that takes two pd.Series (reference and current data) and returns a number (e.g. p_value or distance)\n",
    "\n",
    "**Usage**:\n",
    "- TestSuite(tests=[TestFeatureValueDrift(column_name='name', options=[options])])"
   ]
  },
  {
   "cell_type": "markdown",
   "metadata": {
    "id": "ejDzWf1Xrfn-"
   },
   "source": [
    "## Setting the stattest for the whole dataset"
   ]
  },
  {
   "cell_type": "code",
   "execution_count": null,
   "metadata": {
    "id": "hD4eARbhgAZB"
   },
   "outputs": [],
   "source": [
    "stat_test_option = DataDriftOptions(all_features_stattest='psi')"
   ]
  },
  {
   "cell_type": "code",
   "execution_count": null,
   "metadata": {},
   "outputs": [],
   "source": [
    "data_drift_column_tests = TestSuite(tests=[\n",
    "    TestFeatureValueDrift(column_name='education-num'),\n",
    "    TestFeatureValueDrift(column_name='education-num', options=stat_test_option)\n",
    "])\n",
    "\n",
    "data_drift_column_tests.run(reference_data=adult_ref, current_data=adult_cur)\n",
    "data_drift_column_tests"
   ]
  },
  {
   "cell_type": "code",
   "execution_count": null,
   "metadata": {},
   "outputs": [],
   "source": [
    "data_drift_dataset_tests = TestSuite(tests=[\n",
    "    TestShareOfDriftedFeatures(options=stat_test_option),    \n",
    "])\n",
    "\n",
    "data_drift_dataset_tests.run(reference_data=adult_ref, current_data=adult_cur)\n",
    "data_drift_dataset_tests"
   ]
  },
  {
   "cell_type": "markdown",
   "metadata": {
    "id": "It_sFjB1scv6"
   },
   "source": [
    "## Setting the stattest for numerical and categorical features"
   ]
  },
  {
   "cell_type": "code",
   "execution_count": null,
   "metadata": {},
   "outputs": [],
   "source": [
    "stat_test_option = DataDriftOptions(num_features_stattest='psi', cat_features_stattest='jensenshannon')"
   ]
  },
  {
   "cell_type": "code",
   "execution_count": null,
   "metadata": {},
   "outputs": [],
   "source": [
    "data_drift_dataset_tests = TestSuite(tests=[\n",
    "    TestShareOfDriftedFeatures(options=stat_test_option),    \n",
    "])\n",
    "\n",
    "data_drift_dataset_tests.run(reference_data=adult_ref, current_data=adult_cur)\n",
    "data_drift_dataset_tests"
   ]
  },
  {
   "cell_type": "markdown",
   "metadata": {
    "id": "OGfoOUjsrfn_"
   },
   "source": [
    "## Setting the stattest for individual features"
   ]
  },
  {
   "cell_type": "code",
   "execution_count": null,
   "metadata": {
    "id": "Fytttww-xUH4"
   },
   "outputs": [],
   "source": [
    "per_feature_stattest = {x: 'wasserstein' for x in ['age', 'education-num', \n",
    "                                                   'capital-gain', 'capital-loss']}\n",
    "for column in ['sex', 'class']:\n",
    "    per_feature_stattest[column] = 'z'\n",
    "for column in ['workclass', 'education', 'marital-status']:\n",
    "    per_feature_stattest[column] = 'kl_div'\n",
    "for column in ['occupation', 'relationship', 'race',  'native-country']:\n",
    "    per_feature_stattest[column] = 'jensenshannon'\n",
    "for column in ['fnlwgt','hours-per-week']:\n",
    "    per_feature_stattest[column] = 'anderson'"
   ]
  },
  {
   "cell_type": "code",
   "execution_count": null,
   "metadata": {
    "colab": {
     "base_uri": "https://localhost:8080/"
    },
    "id": "mzVFW2FqXpjm",
    "outputId": "cee0c64a-9835-4be6-c70b-7291be54065e"
   },
   "outputs": [],
   "source": [
    "per_feature_stattest"
   ]
  },
  {
   "cell_type": "code",
   "execution_count": null,
   "metadata": {
    "id": "NMMvBwfKrfn_"
   },
   "outputs": [],
   "source": [
    "stat_test_option = DataDriftOptions(per_feature_stattest=per_feature_stattest)"
   ]
  },
  {
   "cell_type": "code",
   "execution_count": null,
   "metadata": {},
   "outputs": [],
   "source": [
    "data_drift_dataset_tests = TestSuite(tests=[\n",
    "    TestShareOfDriftedFeatures(options=stat_test_option),    \n",
    "])\n",
    "\n",
    "data_drift_dataset_tests.run(reference_data=adult_ref, current_data=adult_cur)\n",
    "data_drift_dataset_tests"
   ]
  },
  {
   "cell_type": "markdown",
   "metadata": {},
   "source": [
    "## Custom Drift detection test"
   ]
  },
  {
   "cell_type": "code",
   "execution_count": null,
   "metadata": {},
   "outputs": [],
   "source": [
    "def _mann_whitney_u(reference_data: pd.Series, current_data: pd.Series, _feature_type: str, threshold: float):\n",
    "    p_value = mannwhitneyu(np.array(reference_data), np.array(current_data))[1]\n",
    "    return p_value, p_value < threshold\n",
    "\n",
    "mann_whitney_stat_test = StatTest(\n",
    "    name=\"mann-whitney-u\",\n",
    "    display_name=\"mann-whitney-u test\",\n",
    "    func=_mann_whitney_u,\n",
    "    allowed_feature_types=[\"num\"]\n",
    ")"
   ]
  },
  {
   "cell_type": "code",
   "execution_count": null,
   "metadata": {},
   "outputs": [],
   "source": [
    "stat_test_option = DataDriftOptions(num_features_stattest=mann_whitney_stat_test)"
   ]
  },
  {
   "cell_type": "code",
   "execution_count": null,
   "metadata": {},
   "outputs": [],
   "source": [
    "data_drift_dataset_tests = TestSuite(tests=[\n",
    "    TestShareOfDriftedFeatures(options=stat_test_option),    \n",
    "])\n",
    "\n",
    "data_drift_dataset_tests.run(reference_data=adult_ref, current_data=adult_cur)\n",
    "data_drift_dataset_tests"
   ]
  }
 ],
 "metadata": {
  "colab": {
   "collapsed_sections": [],
   "name": "stat_test_specification_for_data_drift_adult.ipynb",
   "provenance": []
  },
  "kernelspec": {
   "display_name": "Python 3 (ipykernel)",
   "language": "python",
   "name": "python3"
  },
  "language_info": {
   "codemirror_mode": {
    "name": "ipython",
    "version": 3
   },
   "file_extension": ".py",
   "mimetype": "text/x-python",
   "name": "python",
   "nbconvert_exporter": "python",
   "pygments_lexer": "ipython3",
   "version": "3.9.12"
  }
 },
 "nbformat": 4,
 "nbformat_minor": 1
}
