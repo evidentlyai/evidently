{
  "nbformat": 4,
  "nbformat_minor": 2,
  "metadata": {
    "colab": {
      "provenance": []
    },
    "kernelspec": {
      "name": "python3",
      "display_name": "Python 3"
    },
    "language_info": {
      "name": "python"
    }
  },
  "cells": [
    {
      "cell_type": "code",
      "execution_count": null,
      "source": [
        "try:\n",
        "    import evidently\n",
        "except:\n",
        "    !pip install git+https://github.com/evidentlyai/evidently.git"
      ],
      "outputs": [],
      "metadata": {
        "id": "8aJYBZFNMyXc"
      }
    },
    {
      "cell_type": "code",
      "execution_count": null,
      "source": [
        "import pandas as pd\n",
        "import numpy as np\n",
        "\n",
        "import io\n",
        "import os\n",
        "import zipfile\n",
        "\n",
        "import requests"
      ],
      "outputs": [],
      "metadata": {
        "id": "UfuNPLwjO99K"
      }
    },
    {
      "cell_type": "code",
      "execution_count": null,
      "source": [
        "!pip install implicit"
      ],
      "outputs": [],
      "metadata": {
        "id": "8A_dH0K0082d"
      }
    },
    {
      "cell_type": "markdown",
      "source": [
        "# load data"
      ],
      "metadata": {
        "id": "KjF_x-wfcZOI"
      }
    },
    {
      "cell_type": "code",
      "execution_count": null,
      "source": [
        "content = requests.get(\"http://files.grouplens.org/datasets/movielens/ml-100k.zip\").content\n",
        "\n",
        "with zipfile.ZipFile(io.BytesIO(content)) as arc:\n",
        "  train = arc.read(\"ml-100k/ua.base\").decode().split(\"\\n\")\n",
        "  test = arc.read(\"ml-100k/ua.test\").decode().split(\"\\n\")\n",
        "  movies = arc.read(\"ml-100k/u.item\").decode(encoding='latin-1').split(\"\\n\")\n",
        "  users = arc.read(\"ml-100k/u.user\").decode(encoding='latin-1').split(\"\\n\")"
      ],
      "outputs": [],
      "metadata": {
        "id": "f1wLolXpM02U"
      }
    },
    {
      "cell_type": "code",
      "execution_count": null,
      "source": [
        "columns = ['user_id', 'movie_id', 'rating', 'timestamp']\n",
        "\n",
        "data = [[x for x in e.split('\\t')] for e in train]\n",
        "train = pd.DataFrame(data, columns=columns).dropna().astype(int)\n",
        "\n",
        "data = [[x for x in e.split('\\t')] for e in test]\n",
        "test = pd.DataFrame(data, columns=columns).dropna().astype(int)\n",
        "\n",
        "columns = ['user_id', 'age', 'gender', 'occupation', 'zip_code']\n",
        "\n",
        "data = [[x for x in e.split('|')] for e in users]\n",
        "users = pd.DataFrame(data, columns=columns).dropna().astype({'user_id': int, 'age': int})\n",
        "\n",
        "genres = ['unknown', 'action', 'adventure', 'animation', 'children', 'comedy', 'crime', 'documentary', 'drama', 'fantasy', 'noir',\n",
        "          'horror', 'musical', 'mystery', 'romance', 'sci-fi', 'thriller', 'war', 'western']\n",
        "columns = ['movie_id', 'title', 'year', '-', 'url'] + genres\n",
        "data = [[x for x in e.split('|')] for e in movies]\n",
        "movies = pd.DataFrame(data, columns=columns).dropna().astype({'movie_id': int})\n",
        "movies.drop(columns=['-', 'url'], inplace=True)\n",
        "movies[genres] = movies[genres].astype(int)"
      ],
      "outputs": [],
      "metadata": {
        "id": "-V1w4P5LeV4X"
      }
    },
    {
      "cell_type": "markdown",
      "source": [
        "# Utils"
      ],
      "metadata": {
        "id": "luiAKltK9ze3"
      }
    },
    {
      "cell_type": "code",
      "execution_count": null,
      "source": [
        "def transform_predictions(k, user_ids, item_ids):\n",
        "  return pd.DataFrame(\n",
        "      data=np.c_[np.repeat(user_ids, k), item_ids.flatten(), [i + 1 for i in range(k)] * len(user_ids)],\n",
        "      columns=['user_id', 'movie_id', 'rank']\n",
        "  )\n",
        "\n",
        "\n",
        "def get_full_df(k, user_ids, item_ids, true):\n",
        "  preds = transform_predictions(k, user_ids, item_ids)\n",
        "  preds = preds.merge(true, on=['user_id', 'movie_id'], how='outer')\n",
        "  preds['rank'] = preds.groupby('user_id')['rank'].transform(lambda x: x.fillna(x.max() + 1))\n",
        "  return preds"
      ],
      "outputs": [],
      "metadata": {
        "id": "MqP6bLDv92hY"
      }
    },
    {
      "cell_type": "markdown",
      "source": [
        "# Train model"
      ],
      "metadata": {
        "id": "J4Z6jBMZcwnJ"
      }
    },
    {
      "cell_type": "code",
      "execution_count": null,
      "source": [
        "from implicit.cpu.als import AlternatingLeastSquares\n",
        "from scipy.sparse import csr_matrix\n",
        "pivot_table = train.pivot_table(index=['user_id'], columns=['movie_id'], values=\"rating\").fillna(0)\n",
        "\n",
        "als_model = AlternatingLeastSquares(factors=20, iterations=5, random_state=0)\n",
        "als_model.fit(csr_matrix(pivot_table))"
      ],
      "outputs": [],
      "metadata": {
        "id": "-FQDsHEA3OKw"
      }
    },
    {
      "cell_type": "code",
      "execution_count": null,
      "source": [
        "test_users = test.user_id.unique()\n",
        "len(test_users)"
      ],
      "outputs": [],
      "metadata": {
        "id": "LLVvpQOvFIzl"
      }
    },
    {
      "cell_type": "code",
      "execution_count": null,
      "source": [
        "ref_true = test[test.user_id.isin(test_users[:471])]\n",
        "curr_true = test[test.user_id.isin(test_users[471:])]"
      ],
      "outputs": [],
      "metadata": {
        "id": "Sa8bO0CHFAJV"
      }
    },
    {
      "cell_type": "code",
      "execution_count": null,
      "source": [
        "ids, scores = als_model.recommend(ref_true.user_id.unique() - 1, csr_matrix(pivot_table.loc[ref_true.user_id.unique()]), N=30, filter_already_liked_items=True)\n",
        "ref = get_full_df(30, ref_true.user_id.unique(), ids, ref_true)\n",
        "\n",
        "ids, scores = als_model.recommend(curr_true.user_id.unique() - 1, csr_matrix(pivot_table.loc[curr_true.user_id.unique()]), N=30, filter_already_liked_items=True)\n",
        "curr = get_full_df(30, curr_true.user_id.unique(), ids, curr_true)"
      ],
      "outputs": [],
      "metadata": {
        "id": "LipvjnXIH3Y5"
      }
    },
    {
      "cell_type": "code",
      "execution_count": null,
      "source": [
        "from evidently.metrics import PrecisionTopKMetric, RecallTopKMetric, FBetaTopKMetric, MAPKMetric, NDCGKMetric\n",
        "from evidently.pipeline.column_mapping import ColumnMapping\n",
        "from evidently.report import Report"
      ],
      "outputs": [],
      "metadata": {
        "id": "vxU6s88ism0_"
      }
    },
    {
      "cell_type": "code",
      "execution_count": null,
      "source": [
        "report = Report(metrics=[\n",
        "    PrecisionTopKMetric(k=5),\n",
        "    RecallTopKMetric(k=5),\n",
        "    FBetaTopKMetric(k=5),\n",
        "    MAPKMetric(k=5),\n",
        "    NDCGKMetric(k=5),\n",
        "])\n",
        "column_mapping=ColumnMapping(recommendations_type='rank', target='rating', prediction='rank')\n",
        "report.run(reference_data=ref.fillna(0), current_data=curr.fillna(0), column_mapping=column_mapping)\n",
        "report"
      ],
      "outputs": [],
      "metadata": {
        "id": "7KIQreI6tKEA"
      }
    },
    {
      "cell_type": "code",
      "execution_count": null,
      "source": [],
      "outputs": [],
      "metadata": {
        "id": "jSiTOBzhOl1s"
      }
    }
  ]
}