{
  "nbformat": 4,
  "nbformat_minor": 0,
  "metadata": {
    "colab": {
      "provenance": []
    },
    "kernelspec": {
      "name": "python3",
      "display_name": "Python 3"
    },
    "language_info": {
      "name": "python"
    }
  },
  "cells": [
    {
      "cell_type": "code",
      "execution_count": null,
      "metadata": {
        "id": "8aJYBZFNMyXc"
      },
      "outputs": [],
      "source": [
        "try:\n",
        "    import evidently\n",
        "except:\n",
        "    !pip install git+https://github.com/evidentlyai/evidently.git"
      ]
    },
    {
      "cell_type": "code",
      "source": [
        "import pandas as pd\n",
        "import numpy as np\n",
        "\n",
        "import io\n",
        "import os\n",
        "import zipfile\n",
        "\n",
        "import requests"
      ],
      "metadata": {
        "id": "UfuNPLwjO99K"
      },
      "execution_count": null,
      "outputs": []
    },
    {
      "cell_type": "code",
      "source": [
        "!pip install implicit"
      ],
      "metadata": {
        "id": "8A_dH0K0082d"
      },
      "execution_count": null,
      "outputs": []
    },
    {
      "cell_type": "markdown",
      "source": [
        "# load data"
      ],
      "metadata": {
        "id": "KjF_x-wfcZOI"
      }
    },
    {
      "cell_type": "code",
      "source": [
        "content = requests.get(\"http://files.grouplens.org/datasets/movielens/ml-100k.zip\").content\n",
        "\n",
        "with zipfile.ZipFile(io.BytesIO(content)) as arc:\n",
        "  train = arc.read(\"ml-100k/ua.base\").decode().split(\"\\n\")\n",
        "  test = arc.read(\"ml-100k/ua.test\").decode().split(\"\\n\")\n",
        "  movies = arc.read(\"ml-100k/u.item\").decode(encoding='latin-1').split(\"\\n\")\n",
        "  users = arc.read(\"ml-100k/u.user\").decode(encoding='latin-1').split(\"\\n\")"
      ],
      "metadata": {
        "id": "f1wLolXpM02U"
      },
      "execution_count": null,
      "outputs": []
    },
    {
      "cell_type": "code",
      "source": [
        "columns = ['user_id', 'movie_id', 'rating', 'timestamp']\n",
        "\n",
        "data = [[x for x in e.split('\\t')] for e in train]\n",
        "train = pd.DataFrame(data, columns=columns).dropna().astype(int)\n",
        "\n",
        "data = [[x for x in e.split('\\t')] for e in test]\n",
        "test = pd.DataFrame(data, columns=columns).dropna().astype(int)\n",
        "\n",
        "columns = ['user_id', 'age', 'gender', 'occupation', 'zip_code']\n",
        "\n",
        "data = [[x for x in e.split('|')] for e in users]\n",
        "users = pd.DataFrame(data, columns=columns).dropna().astype({'user_id': int, 'age': int})\n",
        "\n",
        "genres = ['unknown', 'action', 'adventure', 'animation', 'children', 'comedy', 'crime', 'documentary', 'drama', 'fantasy', 'noir',\n",
        "          'horror', 'musical', 'mystery', 'romance', 'sci-fi', 'thriller', 'war', 'western']\n",
        "columns = ['movie_id', 'title', 'year', '-', 'url'] + genres\n",
        "data = [[x for x in e.split('|')] for e in movies]\n",
        "movies = pd.DataFrame(data, columns=columns).dropna().astype({'movie_id': int})\n",
        "movies.drop(columns=['-', 'url'], inplace=True)\n",
        "movies[genres] = movies[genres].astype(int)"
      ],
      "metadata": {
        "id": "-V1w4P5LeV4X"
      },
      "execution_count": null,
      "outputs": []
    },
    {
      "cell_type": "markdown",
      "source": [
        "# Utils"
      ],
      "metadata": {
        "id": "luiAKltK9ze3"
      }
    },
    {
      "cell_type": "code",
      "source": [
        "def transform_predictions(k, user_ids, item_ids):\n",
        "  return pd.DataFrame(\n",
        "      data=np.c_[np.repeat(user_ids, k), item_ids.flatten(), [i + 1 for i in range(k)] * len(user_ids)],\n",
        "      columns=['user_id', 'movie_id', 'rank']\n",
        "  )\n",
        "\n",
        "\n",
        "def get_full_df(k, user_ids, item_ids, true):\n",
        "  preds = transform_predictions(k, user_ids, item_ids)\n",
        "  preds = preds.merge(true, on=['user_id', 'movie_id'], how='outer')\n",
        "  preds['rank'] = preds.groupby('user_id')['rank'].transform(lambda x: x.fillna(x.max() + 1))\n",
        "  return preds"
      ],
      "metadata": {
        "id": "MqP6bLDv92hY"
      },
      "execution_count": null,
      "outputs": []
    },
    {
      "cell_type": "markdown",
      "source": [
        "# Train model"
      ],
      "metadata": {
        "id": "J4Z6jBMZcwnJ"
      }
    },
    {
      "cell_type": "code",
      "source": [
        "from implicit.cpu.als import AlternatingLeastSquares\n",
        "from scipy.sparse import csr_matrix\n",
        "pivot_table = train.pivot_table(index=['user_id'], columns=['movie_id'], values=\"rating\").fillna(0)\n",
        "\n",
        "als_model = AlternatingLeastSquares(factors=20, iterations=5, random_state=0)\n",
        "als_model.fit(csr_matrix(pivot_table))"
      ],
      "metadata": {
        "id": "-FQDsHEA3OKw"
      },
      "execution_count": null,
      "outputs": []
    },
    {
      "cell_type": "code",
      "source": [
        "test_users = test.user_id.unique()\n",
        "len(test_users)"
      ],
      "metadata": {
        "id": "LLVvpQOvFIzl"
      },
      "execution_count": null,
      "outputs": []
    },
    {
      "cell_type": "code",
      "source": [
        "ref_true = test[test.user_id.isin(test_users[:471])]\n",
        "curr_true = test[test.user_id.isin(test_users[471:])]"
      ],
      "metadata": {
        "id": "Sa8bO0CHFAJV"
      },
      "execution_count": null,
      "outputs": []
    },
    {
      "cell_type": "code",
      "source": [
        "ids, scores = als_model.recommend(ref_true.user_id.unique() - 1, csr_matrix(pivot_table.loc[ref_true.user_id.unique()]), N=30, filter_already_liked_items=True)\n",
        "ref = get_full_df(30, ref_true.user_id.unique(), ids, ref_true)\n",
        "\n",
        "ids, scores = als_model.recommend(curr_true.user_id.unique() - 1, csr_matrix(pivot_table.loc[curr_true.user_id.unique()]), N=30, filter_already_liked_items=True)\n",
        "curr = get_full_df(30, curr_true.user_id.unique(), ids, curr_true)"
      ],
      "metadata": {
        "id": "LipvjnXIH3Y5"
      },
      "execution_count": null,
      "outputs": []
    },
    {
      "cell_type": "code",
      "source": [
        "from evidently.metrics import PrecisionTopKMetric, RecallTopKMetric, FBetaTopKMetric, MAPKMetric, NDCGKMetric\n",
        "from evidently.pipeline.column_mapping import ColumnMapping\n",
        "from evidently.report import Report"
      ],
      "metadata": {
        "id": "vxU6s88ism0_"
      },
      "execution_count": null,
      "outputs": []
    },
    {
      "cell_type": "code",
      "source": [
        "report = Report(metrics=[\n",
        "    PrecisionTopKMetric(k=5),\n",
        "    RecallTopKMetric(k=5),\n",
        "    FBetaTopKMetric(k=5),\n",
        "    MAPKMetric(k=5),\n",
        "    NDCGKMetric(k=5),\n",
        "])\n",
        "column_mapping=ColumnMapping(recomendations_type='rank', target='rating', prediction='rank')\n",
        "report.run(reference_data=ref.fillna(0), current_data=curr.fillna(0), column_mapping=column_mapping)\n",
        "report"
      ],
      "metadata": {
        "id": "7KIQreI6tKEA"
      },
      "execution_count": null,
      "outputs": []
    },
    {
      "cell_type": "code",
      "source": [],
      "metadata": {
        "id": "jSiTOBzhOl1s"
      },
      "execution_count": null,
      "outputs": []
    }
  ]
}