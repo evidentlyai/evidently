{
 "cells": [
  {
   "cell_type": "markdown",
   "id": "29489ded",
   "metadata": {},
   "source": [
    "# How to apply tabular metrics and tests to text descriptors?"
   ]
  },
  {
   "cell_type": "code",
   "execution_count": null,
   "id": "997d80b6",
   "metadata": {},
   "outputs": [],
   "source": [
    "import pandas as pd\n",
    "import numpy as np\n",
    "\n",
    "from sklearn import datasets, ensemble, model_selection"
   ]
  },
  {
   "cell_type": "code",
   "execution_count": null,
   "id": "dcacbf00",
   "metadata": {},
   "outputs": [],
   "source": [
    "from evidently import ColumnMapping\n",
    "from evidently.report import Report\n",
    "from evidently.test_suite import TestSuite\n",
    "\n",
    "from evidently.metrics import ColumnCorrelationsMetric\n",
    "from evidently.metrics import ColumnDistributionMetric\n",
    "from evidently.metrics import ColumnDriftMetric\n",
    "from evidently.metrics import ColumnValueRangeMetric\n",
    "\n",
    "from evidently.tests import TestColumnDrift\n",
    "from evidently.tests import TestValueRange\n",
    "from evidently.tests import TestNumberOfOutRangeValues\n",
    "from evidently.tests import TestShareOfOutRangeValues\n",
    "\n",
    "from evidently.descriptors import TextLength, TriggerWordsPresence, OOV, NonLetterCharacterPercentage"
   ]
  },
  {
   "cell_type": "code",
   "execution_count": null,
   "id": "a9640360",
   "metadata": {},
   "outputs": [],
   "source": [
    "import nltk\n",
    "nltk.download('words')\n",
    "nltk.download('wordnet')\n",
    "nltk.download('omw-1.4')"
   ]
  },
  {
   "cell_type": "code",
   "execution_count": null,
   "id": "2a490d0c",
   "metadata": {},
   "outputs": [],
   "source": [
    "#Data with Texts\n",
    "reviews_data = datasets.fetch_openml(name='Womens-E-Commerce-Clothing-Reviews', version=2, as_frame='auto')\n",
    "reviews = reviews_data.frame"
   ]
  },
  {
   "cell_type": "code",
   "execution_count": null,
   "id": "46341da3",
   "metadata": {},
   "outputs": [],
   "source": [
    "reviews_ref = reviews[reviews.Rating > 3].sample(n=5000, replace=True, ignore_index=True, random_state=42) \n",
    "reviews_cur = reviews[reviews.Rating < 3].sample(n=5000, replace=True, ignore_index=True, random_state=42)"
   ]
  },
  {
   "cell_type": "code",
   "execution_count": null,
   "id": "67001997",
   "metadata": {},
   "outputs": [],
   "source": [
    "column_mapping = ColumnMapping(\n",
    "    numerical_features=['Age', 'Positive_Feedback_Count'],\n",
    "    categorical_features=['Division_Name', 'Department_Name', 'Class_Name'],\n",
    "    text_features=['Review_Text', 'Title']\n",
    ")"
   ]
  },
  {
   "cell_type": "markdown",
   "id": "37020ef3",
   "metadata": {},
   "source": [
    "## Colum Metrics with Descriptors"
   ]
  },
  {
   "cell_type": "code",
   "execution_count": null,
   "id": "571dfac8",
   "metadata": {
    "scrolled": false
   },
   "outputs": [],
   "source": [
    "table_column_metrics_report = Report(metrics=[\n",
    "    ColumnDriftMetric(column_name = TextLength().for_column(\"Review_Text\")),\n",
    "    ColumnCorrelationsMetric(column_name = TextLength().for_column(\"Review_Text\")),\n",
    "    ColumnDistributionMetric(column_name = TextLength().for_column(\"Review_Text\")),\n",
    "    ColumnValueRangeMetric(column_name = TextLength().for_column(\"Review_Text\"), left=0, right=20)\n",
    "    \n",
    "])\n",
    "\n",
    "table_column_metrics_report.run(reference_data=reviews_ref, current_data=reviews_cur, column_mapping=column_mapping)\n",
    "table_column_metrics_report"
   ]
  },
  {
   "cell_type": "markdown",
   "id": "53cd8b2a",
   "metadata": {},
   "source": [
    "## Column Tests with Descriptors"
   ]
  },
  {
   "cell_type": "code",
   "execution_count": null,
   "id": "6d94c639",
   "metadata": {},
   "outputs": [],
   "source": [
    "table_column_test_suite = TestSuite(tests=[\n",
    "    TestColumnDrift(column_name = TextLength().for_column(\"Review_Text\")),\n",
    "    TestValueRange(column_name = TextLength().for_column(\"Review_Text\")),\n",
    "    TestNumberOfOutRangeValues(column_name = TextLength().for_column(\"Review_Text\")),\n",
    "    TestShareOfOutRangeValues(column_name = TextLength().for_column(\"Review_Text\"))\n",
    "    \n",
    "])\n",
    "\n",
    "table_column_test_suite.run(reference_data=reviews_ref, current_data=reviews_cur, column_mapping=column_mapping)\n",
    "table_column_test_suite"
   ]
  }
 ],
 "metadata": {
  "kernelspec": {
   "display_name": "Python 3 (ipykernel)",
   "language": "python",
   "name": "python3"
  },
  "language_info": {
   "codemirror_mode": {
    "name": "ipython",
    "version": 3
   },
   "file_extension": ".py",
   "mimetype": "text/x-python",
   "name": "python",
   "nbconvert_exporter": "python",
   "pygments_lexer": "ipython3",
   "version": "3.9.16"
  }
 },
 "nbformat": 4,
 "nbformat_minor": 5
}
