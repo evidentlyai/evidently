{
 "cells": [
  {
   "cell_type": "markdown",
   "metadata": {},
   "source": [
    "# Colours Specification for Data Drift "
   ]
  },
  {
   "cell_type": "markdown",
   "metadata": {
    "id": "TWMxPCVktqAi"
   },
   "source": [
    "## Load Iris Data"
   ]
  },
  {
   "cell_type": "code",
   "execution_count": null,
   "metadata": {
    "executionInfo": {
     "elapsed": 10,
     "status": "ok",
     "timestamp": 1649360371154,
     "user": {
      "displayName": "Olga Filippova",
      "userId": "04553267993386373954"
     },
     "user_tz": -180
    },
    "id": "57iMUtCBtpKP"
   },
   "outputs": [],
   "source": [
    "import pandas as pd\n",
    "import warnings\n",
    "\n",
    "warnings.filterwarnings('ignore')\n",
    "warnings.simplefilter('ignore')\n",
    "\n",
    "from sklearn import datasets\n",
    "iris = datasets.load_iris()\n",
    "iris_frame = pd.DataFrame(iris.data, columns = iris.feature_names)\n",
    "iris_frame['target'] = iris.target\n",
    "reference_data = iris_frame[:75]\n",
    "current_data = iris_frame[75:]"
   ]
  },
  {
   "cell_type": "markdown",
   "metadata": {},
   "source": [
    "## Setup a new color scheme"
   ]
  },
  {
   "cell_type": "code",
   "execution_count": null,
   "metadata": {
    "executionInfo": {
     "elapsed": 246,
     "status": "ok",
     "timestamp": 1649361860558,
     "user": {
      "displayName": "Olga Filippova",
      "userId": "04553267993386373954"
     },
     "user_tz": -180
    },
    "id": "hD4eARbhgAZB"
   },
   "outputs": [],
   "source": [
    "from evidently.options import ColorOptions\n",
    "\n",
    "color_scheme = ColorOptions()\n",
    "color_scheme.primary_color = \"#5a86ad\"\n",
    "color_scheme.fill_color = \"#fff4f2\"\n",
    "color_scheme.zero_line_color = \"#016795\"\n",
    "color_scheme.current_data_color = \"#c292a1\" \n",
    "color_scheme.reference_data_color = \"#017b92\""
   ]
  },
  {
   "cell_type": "markdown",
   "metadata": {},
   "source": [
    "## Data Drift Dashboard"
   ]
  },
  {
   "cell_type": "code",
   "execution_count": null,
   "metadata": {
    "executionInfo": {
     "elapsed": 3,
     "status": "ok",
     "timestamp": 1649361861435,
     "user": {
      "displayName": "Olga Filippova",
      "userId": "04553267993386373954"
     },
     "user_tz": -180
    },
    "id": "ftROeJkPt3J2"
   },
   "outputs": [],
   "source": [
    "from evidently.dashboard import Dashboard\n",
    "from evidently.dashboard.tabs import CatTargetDriftTab\n",
    "from evidently.dashboard.tabs import DataDriftTab\n",
    "\n",
    "iris_data_drift_dashboard = Dashboard(tabs=[DataDriftTab()], options=[color_scheme])\n",
    "iris_data_drift_dashboard.calculate(reference_data, current_data, column_mapping=None)\n",
    "iris_data_drift_dashboard.show()"
   ]
  },
  {
   "cell_type": "markdown",
   "metadata": {},
   "source": [
    "## Data Drift Metric Preset"
   ]
  },
  {
   "cell_type": "code",
   "execution_count": null,
   "metadata": {},
   "outputs": [],
   "source": [
    "from evidently.metric_preset import DataDriftPreset\n",
    "from evidently.report import Report\n",
    "\n",
    "report = Report(metrics=[DataDriftPreset()], options=[color_scheme])\n",
    "report.run(current_data=current_data, reference_data=reference_data)\n",
    "report"
   ]
  },
  {
   "cell_type": "markdown",
   "metadata": {},
   "source": [
    "## Data Drift Test Preset"
   ]
  },
  {
   "cell_type": "code",
   "execution_count": null,
   "metadata": {},
   "outputs": [],
   "source": [
    "from evidently.test_preset import DataDriftTestPreset\n",
    "from evidently.test_suite import TestSuite\n",
    "\n",
    "\n",
    "data_quality_suite = TestSuite(\n",
    "    tests=[\n",
    "        DataDriftTestPreset(),\n",
    "    ],\n",
    "    options=[color_scheme],\n",
    ")\n",
    "\n",
    "data_quality_suite.run(current_data=current_data, reference_data=reference_data)\n",
    "data_quality_suite"
   ]
  },
  {
   "cell_type": "code",
   "execution_count": null,
   "metadata": {},
   "outputs": [],
   "source": []
  }
 ],
 "metadata": {
  "colab": {
   "collapsed_sections": [
    "pqaQVkXGJhSa",
    "iTD0SfQeJhSe",
    "9Xzh76_6t337",
    "7M2hue3UvHrz",
    "NPTyk02qw1f0",
    "OS8vKcvEJhSl",
    "ll8eSWIfJhSm",
    "hYuk41w2JhSn"
   ],
   "name": "color_options_data_drift_iris.ipynb\"",
   "provenance": [
    {
     "file_id": "1Dd6ZzIgeBYkD_4bqWZ0RAdUpCU0b6Y6H",
     "timestamp": 1649359588141
    }
   ]
  },
  "kernelspec": {
   "display_name": "Python 3",
   "language": "python",
   "name": "python3"
  },
  "language_info": {
   "codemirror_mode": {
    "name": "ipython",
    "version": 3
   },
   "file_extension": ".py",
   "mimetype": "text/x-python",
   "name": "python",
   "nbconvert_exporter": "python",
   "pygments_lexer": "ipython3",
   "version": "3.6.13"
  }
 },
 "nbformat": 4,
 "nbformat_minor": 1
}
