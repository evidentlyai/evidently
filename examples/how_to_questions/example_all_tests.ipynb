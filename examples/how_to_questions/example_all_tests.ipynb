{
 "cells": [
  {
   "cell_type": "code",
   "execution_count": null,
   "metadata": {
    "id": "jn4VjbRSEm8L"
   },
   "outputs": [],
   "source": [
    "try:\n",
    "    import evidently\n",
    "except:\n",
    "    !npm install -g yarn\n",
    "    !pip install git+https://github.com/evidentlyai/evidently.git"
   ]
  },
  {
   "cell_type": "markdown",
   "metadata": {
    "id": "zGBzUG6ThEU_"
   },
   "source": [
    "# Data Quality"
   ]
  },
  {
   "cell_type": "code",
   "execution_count": null,
   "metadata": {
    "id": "HoDiwl7TLI_U"
   },
   "outputs": [],
   "source": [
    "import pandas as pd\n",
    "import numpy as np\n",
    "\n",
    "from evidently.test_suite import TestSuite\n",
    "\n",
    "from evidently.tests import TestFeatureValueMin, TestFeatureValueMax, TestFeatureValueMean, \\\n",
    "TestFeatureValueMedian, TestFeatureValueStd,\\\n",
    "TestMeanInNSigmas, TestValueRange, TestNumberOfOutRangeValues, TestShareOfOutRangeValues, TestValueList, \\\n",
    "TestNumberOfOutListValues, TestShareOfOutListValues, TestNumberOfUniqueValues, TestMostCommonValueShare, \\\n",
    "TestUniqueValuesShare"
   ]
  },
  {
   "cell_type": "code",
   "execution_count": null,
   "metadata": {
    "id": "lMozc2f4hJiN"
   },
   "outputs": [],
   "source": [
    "from evidently import ColumnMapping\n",
    "from datetime import datetime\n",
    "from sklearn.datasets import fetch_openml\n",
    "\n",
    "data = fetch_openml(name='adult', version=2, as_frame='auto')\n",
    "df = data.frame\n",
    "\n",
    "ref = df[~df.education.isin(['Some-college', 'HS-grad', 'Bachelors'])]\n",
    "curr = df[df.education.isin(['Some-college', 'HS-grad', 'Bachelors'])]\n",
    "\n",
    "curr.iloc[:2000, 3:5] = np.nan\n",
    "curr.iloc[:2000, 12] = np.nan\n",
    "\n",
    "suite_with_ref = TestSuite(tests=[\n",
    "TestFeatureValueMin(column_name='hours-per-week'),\n",
    "TestFeatureValueMax(column_name='hours-per-week'),\n",
    "TestFeatureValueMean(column_name='hours-per-week'),\n",
    "TestFeatureValueMedian(column_name='hours-per-week'),\n",
    "TestFeatureValueStd(column_name='hours-per-week'),\n",
    "TestMeanInNSigmas(column_name='hours-per-week'),\n",
    "TestValueRange(column_name='hours-per-week'),\n",
    "TestNumberOfOutRangeValues(column_name='hours-per-week'),\n",
    "TestShareOfOutRangeValues(column_name='hours-per-week'),\n",
    "TestValueList(column_name='education'),\n",
    "TestNumberOfOutListValues(column_name='hours-per-week'),\n",
    "TestShareOfOutListValues(column_name='education'),\n",
    "TestNumberOfUniqueValues(column_name='hours-per-week'),\n",
    "TestMostCommonValueShare(column_name='education'),\n",
    "TestUniqueValuesShare(column_name='education')\n",
    "    ])\n",
    "suite_with_ref.run(reference_data=ref,\n",
    "          current_data=curr, column_mapping=ColumnMapping())\n",
    "suite_with_ref"
   ]
  },
  {
   "cell_type": "code",
   "execution_count": null,
   "metadata": {
    "id": "6bY8ky-6hShC"
   },
   "outputs": [],
   "source": [
    "suite = TestSuite(tests=[\n",
    "TestFeatureValueMin(column_name='hours-per-week'),\n",
    "TestFeatureValueMax(column_name='hours-per-week'),\n",
    "TestFeatureValueMean(column_name='hours-per-week'),\n",
    "TestFeatureValueMedian(column_name='hours-per-week'),\n",
    "TestFeatureValueStd(column_name='hours-per-week'),\n",
    "# TestMeanInNSigmas(column_name='hours-per-week'),\n",
    "TestValueRange(column_name='hours-per-week', left=7, right=13),\n",
    "TestNumberOfOutRangeValues(column_name='hours-per-week', left=3, right=5),\n",
    "TestShareOfOutRangeValues(column_name='hours-per-week', left=3, right=5),\n",
    "TestValueList(column_name='education', values=['HS-grad', 'Bachelors']),\n",
    "TestNumberOfOutListValues(column_name='hours-per-week', values=['HS-grad', 'Bachelors']),\n",
    "TestShareOfOutListValues(column_name='education', values=['HS-grad', 'Bachelors']),\n",
    "TestNumberOfUniqueValues(column_name='hours-per-week'),\n",
    "TestMostCommonValueShare(column_name='education'),\n",
    "TestUniqueValuesShare(column_name='education')\n",
    "    ])\n",
    "suite.run(reference_data=ref,\n",
    "          current_data=curr, column_mapping=ColumnMapping())\n",
    "suite"
   ]
  },
  {
   "cell_type": "markdown",
   "metadata": {
    "id": "eTqsXV_chVno"
   },
   "source": [
    "# Data Drift"
   ]
  },
  {
   "cell_type": "code",
   "execution_count": null,
   "metadata": {
    "id": "ODvJ8xdwhXgo"
   },
   "outputs": [],
   "source": [
    "import pandas as pd\n",
    "import numpy as np\n",
    "\n",
    "from evidently.test_suite import TestSuite\n",
    "\n",
    "from evidently.tests import TestShareOfDriftedFeatures, TestFeatureValueDrift, TestNumberOfDriftedFeatures"
   ]
  },
  {
   "cell_type": "code",
   "execution_count": null,
   "metadata": {
    "id": "dM-3lZcThaM_",
    "scrolled": false
   },
   "outputs": [],
   "source": [
    "from evidently import ColumnMapping\n",
    "from datetime import datetime\n",
    "from sklearn.datasets import fetch_openml\n",
    "from evidently.test_preset import NoTargetPerformanceTestPreset\n",
    "from evidently.test_preset import DataQualityTestPreset\n",
    "from evidently.test_preset import DataStabilityTestPreset\n",
    "from evidently.test_preset import DataDriftTestPreset\n",
    "\n",
    "data = fetch_openml(name='adult', version=2, as_frame='auto')\n",
    "df = data.frame\n",
    "\n",
    "ref = df[~df.education.isin(['Some-college', 'HS-grad', 'Bachelors'])]\n",
    "curr = df[df.education.isin(['Some-college', 'HS-grad', 'Bachelors'])]\n",
    "\n",
    "curr['target'] = curr['education-num']\n",
    "curr['preds'] = curr['education-num'].values + np.random.normal(0, 6, curr.shape[0])\n",
    "ref['target'] = ref['education-num']\n",
    "ref['preds'] = ref['education-num'].values + np.random.normal(0, 6, ref.shape[0])\n",
    "\n",
    "curr.iloc[:2000, 3:5] = np.nan\n",
    "curr.iloc[:2000, 12] = np.nan\n",
    "\n",
    "suite = TestSuite(tests=[\n",
    "    TestShareOfDriftedFeatures(),\n",
    "    TestNumberOfDriftedFeatures(),\n",
    "    TestFeatureValueDrift(column_name='education-num'),\n",
    "    TestFeatureValueDrift(column_name='education')\n",
    "])\n",
    "\n",
    "suite.run(reference_data=ref,\n",
    "          current_data=curr, column_mapping=ColumnMapping(target='target', prediction='preds'))\n",
    "suite"
   ]
  },
  {
   "cell_type": "markdown",
   "metadata": {},
   "source": [
    "# Test Preset"
   ]
  },
  {
   "cell_type": "code",
   "execution_count": null,
   "metadata": {},
   "outputs": [],
   "source": [
    "suite = TestSuite(tests=[\n",
    "    NoTargetPerformanceTestPreset(columns=[\"education-num\"]),\n",
    "])\n",
    "\n",
    "suite.run(reference_data=ref,\n",
    "          current_data=curr, column_mapping=ColumnMapping(target='target', prediction='preds'))\n",
    "suite"
   ]
  },
  {
   "cell_type": "code",
   "execution_count": null,
   "metadata": {},
   "outputs": [],
   "source": [
    "suite = TestSuite(tests=[\n",
    "    DataDriftTestPreset(),\n",
    "])\n",
    "\n",
    "suite.run(reference_data=ref,\n",
    "          current_data=curr, column_mapping=ColumnMapping(target='target', prediction='preds'))\n",
    "suite"
   ]
  },
  {
   "cell_type": "code",
   "execution_count": null,
   "metadata": {},
   "outputs": [],
   "source": [
    "suite = TestSuite(tests=[\n",
    "    DataStabilityTestPreset(),\n",
    "])\n",
    "\n",
    "suite.run(reference_data=ref,\n",
    "          current_data=curr, column_mapping=ColumnMapping(target='target', prediction='preds'))\n",
    "suite"
   ]
  },
  {
   "cell_type": "code",
   "execution_count": null,
   "metadata": {},
   "outputs": [],
   "source": [
    "suite = TestSuite(tests=[\n",
    "    DataQualityTestPreset(),\n",
    "])\n",
    "\n",
    "suite.run(reference_data=ref,\n",
    "          current_data=curr, column_mapping=ColumnMapping(target='target', prediction='preds'))\n",
    "suite"
   ]
  },
  {
   "cell_type": "markdown",
   "metadata": {
    "id": "YYngaSamherk"
   },
   "source": [
    "# Regression"
   ]
  },
  {
   "cell_type": "code",
   "execution_count": null,
   "metadata": {
    "id": "cYuWgVhPhfDV"
   },
   "outputs": [],
   "source": [
    "import pandas as pd\n",
    "import numpy as np\n",
    "\n",
    "from evidently.test_suite import TestSuite\n",
    "\n",
    "from evidently.tests import TestValueMAE, TestValueRMSE, TestValueMeanError, TestValueMAPE, \\\n",
    "TestValueAbsMaxError, TestValueR2Score"
   ]
  },
  {
   "cell_type": "code",
   "execution_count": null,
   "metadata": {
    "id": "BBTIPLbZhhwH"
   },
   "outputs": [],
   "source": [
    "from evidently import ColumnMapping\n",
    "from datetime import datetime\n",
    "from sklearn.datasets import fetch_openml\n",
    "\n",
    "data = fetch_openml(name='adult', version=2, as_frame='auto')\n",
    "df = data.frame\n",
    "\n",
    "ref = df[:20000]\n",
    "curr = df[20000:]\n",
    "\n",
    "curr['target'] = curr['education-num']\n",
    "curr['preds'] = curr['education-num'].values + np.random.normal(0, 6, curr.shape[0])\n",
    "ref['target'] = ref['education-num']\n",
    "ref['preds'] = ref['education-num'].values + np.random.normal(0, 6, ref.shape[0])\n",
    "\n",
    "curr.iloc[:2000, 3:5] = np.nan\n",
    "curr.iloc[:2000, 12] = np.nan\n",
    "\n",
    "suite = TestSuite(tests=[\n",
    "    TestValueMAE(),\n",
    "    TestValueRMSE(),\n",
    "    TestValueMeanError(),\n",
    "    TestValueMAPE(),\n",
    "    TestValueAbsMaxError(),\n",
    "    TestValueR2Score()\n",
    "])\n",
    "\n",
    "suite.run(reference_data=ref,\n",
    "          current_data=curr, column_mapping=ColumnMapping(target='target', prediction='preds'))\n",
    "suite"
   ]
  },
  {
   "cell_type": "code",
   "execution_count": null,
   "metadata": {
    "id": "g8j0OsxrhkM9"
   },
   "outputs": [],
   "source": [
    "from evidently import ColumnMapping\n",
    "from datetime import datetime\n",
    "from sklearn.datasets import fetch_openml\n",
    "\n",
    "data = fetch_openml(name='adult', version=2, as_frame='auto')\n",
    "df = data.frame\n",
    "\n",
    "ref = df[:20000]\n",
    "curr = df[20000:]\n",
    "\n",
    "curr['target'] = curr['education-num']\n",
    "curr['preds'] = curr['education-num'].values + np.random.normal(0, 6, curr.shape[0])\n",
    "ref['target'] = ref['education-num']\n",
    "ref['preds'] = ref['education-num'].values + np.random.normal(0, 6, ref.shape[0])\n",
    "\n",
    "curr.iloc[:2000, 3:5] = np.nan\n",
    "curr.iloc[:2000, 12] = np.nan\n",
    "\n",
    "suite = TestSuite(tests=[\n",
    "    TestValueMAE(),\n",
    "    TestValueRMSE(),\n",
    "    TestValueMeanError(),\n",
    "    TestValueMAPE(),\n",
    "    TestValueAbsMaxError(),\n",
    "    TestValueR2Score()\n",
    "])\n",
    "\n",
    "suite.run(reference_data=None,\n",
    "          current_data=curr, column_mapping=ColumnMapping(target='target', prediction='preds'))\n",
    "suite"
   ]
  },
  {
   "cell_type": "code",
   "execution_count": null,
   "metadata": {
    "id": "ohoxis5ljp6s"
   },
   "outputs": [],
   "source": []
  }
 ],
 "metadata": {
  "colab": {
   "collapsed_sections": [],
   "name": "example_tests.ipynb",
   "provenance": []
  },
  "kernelspec": {
   "display_name": "Python 3",
   "language": "python",
   "name": "python3"
  },
  "language_info": {
   "codemirror_mode": {
    "name": "ipython",
    "version": 3
   },
   "file_extension": ".py",
   "mimetype": "text/x-python",
   "name": "python",
   "nbconvert_exporter": "python",
   "pygments_lexer": "ipython3",
   "version": "3.6.13"
  }
 },
 "nbformat": 4,
 "nbformat_minor": 1
}
