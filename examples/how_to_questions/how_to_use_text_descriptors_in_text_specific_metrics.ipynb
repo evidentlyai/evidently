{
  "cells": [
    {
      "cell_type": "markdown",
      "source": [
        "# How to use text descriptors in text-specific metrics?"
      ],
      "metadata": {
        "id": "mAGKZvMaBmWe",
        "outputId": "96aacb80-bb4c-4d0e-fce1-2862c223ce15"
      }
    },
    {
      "cell_type": "code",
      "execution_count": null,
      "source": [
        "import pandas as pd\n",
        "import numpy as np\n",
        "\n",
        "from sklearn import datasets, ensemble, model_selection"
      ],
      "outputs": [],
      "metadata": {
        "id": "tmBHvzszAEN-"
      }
    },
    {
      "cell_type": "code",
      "execution_count": null,
      "source": [
        "from evidently import ColumnMapping\n",
        "from evidently.report import Report\n",
        "from evidently.test_suite import TestSuite\n",
        "\n",
        "from evidently.metric_preset import TextOverviewPreset\n",
        "\n",
        "from evidently.metrics import TextDescriptorsDriftMetric\n",
        "from evidently.metrics import TextDescriptorsDistribution\n",
        "from evidently.metrics import TextDescriptorsCorrelationMetric\n",
        "from evidently.metrics import ColumnDriftMetric\n",
        "\n",
        "from evidently.descriptors import TextLength, TriggerWordsPresence, OOV, NonLetterCharacterPercentage, SentenceCount, WordCount, Sentiment, RegExp"
      ],
      "outputs": [],
      "metadata": {
        "id": "-Xko20Q1FvZV"
      }
    },
    {
      "cell_type": "code",
      "execution_count": null,
      "source": [
        "import nltk\n",
        "nltk.download('words')\n",
        "nltk.download('wordnet')\n",
        "nltk.download('omw-1.4')\n",
        "nltk.download('vader_lexicon')"
      ],
      "outputs": [],
      "metadata": {
        "id": "HmpgBJFqH7y-"
      }
    },
    {
      "cell_type": "code",
      "execution_count": null,
      "source": [
        "#Dataset for Data Quality and Integrity\n",
        "reviews_data = datasets.fetch_openml(name='Womens-E-Commerce-Clothing-Reviews', version=2, as_frame='auto')\n",
        "reviews = reviews_data.frame"
      ],
      "outputs": [],
      "metadata": {
        "id": "Y_EV_iCeCiz1"
      }
    },
    {
      "cell_type": "code",
      "execution_count": null,
      "source": [
        "reviews_ref = reviews[reviews.Rating > 3].sample(n=5000, replace=True, ignore_index=True, random_state=42)\n",
        "reviews_cur = reviews[reviews.Rating < 3].sample(n=5000, replace=True, ignore_index=True, random_state=42)"
      ],
      "outputs": [],
      "metadata": {
        "id": "YWyVOGsM2gV7"
      }
    },
    {
      "cell_type": "code",
      "execution_count": null,
      "source": [
        "reviews.head()"
      ],
      "outputs": [],
      "metadata": {
        "id": "1lUgz2JlAheU"
      }
    },
    {
      "cell_type": "code",
      "execution_count": null,
      "source": [
        "column_mapping = ColumnMapping(\n",
        "    numerical_features=['Age', 'Positive_Feedback_Count'],\n",
        "    categorical_features=['Division_Name', 'Department_Name', 'Class_Name'],\n",
        "    text_features=['Review_Text', 'Title']\n",
        ")"
      ],
      "outputs": [],
      "metadata": {
        "id": "60Wxndq7FzGT"
      }
    },
    {
      "cell_type": "markdown",
      "source": [
        "# Text Metrics"
      ],
      "metadata": {
        "id": "D7YDxkF0qCrf"
      }
    },
    {
      "cell_type": "code",
      "execution_count": null,
      "source": [
        "#NO descriptors\n",
        "\n",
        "text_specific_metrics_report = Report(metrics=[\n",
        "    TextDescriptorsDriftMetric(column_name=\"Review_Text\"),\n",
        "    TextDescriptorsDistribution(column_name=\"Review_Text\"),\n",
        "    TextDescriptorsCorrelationMetric(column_name=\"Review_Text\"),\n",
        "])\n",
        "\n",
        "text_specific_metrics_report.run(reference_data=reviews_ref, current_data=reviews_cur, column_mapping=column_mapping)\n",
        "text_specific_metrics_report"
      ],
      "outputs": [],
      "metadata": {
        "scrolled": false,
        "id": "GM93q8XcqCrh"
      }
    },
    {
      "cell_type": "code",
      "execution_count": null,
      "source": [
        "#WITH descriptors\n",
        "\n",
        "report = Report(metrics=[\n",
        "    TextDescriptorsDriftMetric(\"Review_Text\", descriptors={\n",
        "        \"Review Text Length\" : TextLength(),\n",
        "        \"Reviews about Dress\" : TriggerWordsPresence(words_list=['dress', 'gown']),\n",
        "        \"Review about Blouses\" : TriggerWordsPresence(words_list=['blouse', 'shirt']),\n",
        "        \"Review Sentence Count\" : SentenceCount(),\n",
        "        \"Review Word Count\" : WordCount(),\n",
        "        \"Review Sentiment\" : Sentiment(),\n",
        "        \"Review questions\": RegExp(reg_exp=r'.*\\?.*'),\n",
        "    }),\n",
        "    TextDescriptorsCorrelationMetric(column_name=\"Title\", descriptors={\n",
        "        \"Title OOV\" : OOV(),\n",
        "        \"Title Non Letter %\" : NonLetterCharacterPercentage(),\n",
        "        \"Title Length\" : TextLength(),\n",
        "        \"Title Sentence Count\" : SentenceCount(),\n",
        "        \"Title Word Count\" : WordCount(),\n",
        "        \"Title Sentiment\" : Sentiment(),\n",
        "        \"Title questions\": RegExp(reg_exp=r'.*\\?.*'),\n",
        "    })\n",
        "])\n",
        "\n",
        "report.run(reference_data=reviews_ref, current_data=reviews_cur, column_mapping=column_mapping)\n",
        "report\n"
      ],
      "outputs": [],
      "metadata": {
        "id": "l2zzm1irqCri"
      }
    },
    {
      "cell_type": "markdown",
      "source": [
        "# Text Overview Preset"
      ],
      "metadata": {
        "id": "IAe0g1SWlV4L"
      }
    },
    {
      "cell_type": "code",
      "execution_count": null,
      "source": [
        "#NO descriptors\n",
        "\n",
        "text_overview_report = Report(metrics=[\n",
        "    TextOverviewPreset(column_name=\"Review_Text\")\n",
        "])\n",
        "\n",
        "text_overview_report.run(reference_data=reviews_ref, current_data=reviews_cur, column_mapping=column_mapping)\n",
        "text_overview_report"
      ],
      "outputs": [],
      "metadata": {
        "id": "msjgy3j-f-5i",
        "scrolled": true
      }
    },
    {
      "cell_type": "code",
      "execution_count": null,
      "source": [
        "#WITH descriptors\n",
        "text_overview_report = Report(metrics=[\n",
        "    TextOverviewPreset(column_name=\"Review_Text\", descriptors={\n",
        "        \"Review Text OOV\" : OOV(),\n",
        "        \"Review Text Non Letter %\" : NonLetterCharacterPercentage(),\n",
        "        \"Review Text Length\" : TextLength(),\n",
        "        \"Reviews about Dress\" : TriggerWordsPresence(words_list=['dress', 'gown']),\n",
        "        \"Review about Blouses\" : TriggerWordsPresence(words_list=['blouse', 'shirt']),\n",
        "        \"Review Sentence Count\" : SentenceCount(),\n",
        "        \"Review Word Count\" : WordCount(),\n",
        "        \"Review Sentiment\" : Sentiment(),\n",
        "        \"Review questions\": RegExp(reg_exp=r'.*\\?.*'),\n",
        "    })\n",
        "])\n",
        "\n",
        "text_overview_report.run(reference_data=reviews_ref, current_data=reviews_cur, column_mapping=column_mapping)\n",
        "text_overview_report"
      ],
      "outputs": [],
      "metadata": {
        "id": "9H8xHPN-tYY8",
        "scrolled": true
      }
    },
    {
      "cell_type": "markdown",
      "source": [
        "# Column Drift Metric for Text Descriptors"
      ],
      "metadata": {
        "id": "-9b5WTooqCrn"
      }
    },
    {
      "cell_type": "code",
      "execution_count": null,
      "source": [
        "drift_report = Report(metrics=[\n",
        "    ColumnDriftMetric(column_name=TextLength().for_column(\"Review_Text\")),\n",
        "    ColumnDriftMetric(column_name=TriggerWordsPresence(words_list=['blouse', 'shirt']).for_column(\"Review_Text\")),\n",
        "\n",
        "])\n",
        "\n",
        "drift_report.run(reference_data=reviews_ref, current_data=reviews_cur, column_mapping=column_mapping)\n",
        "drift_report"
      ],
      "outputs": [],
      "metadata": {
        "id": "82T9iuN2qCro"
      }
    },
    {
      "cell_type": "code",
      "execution_count": null,
      "source": [],
      "outputs": [],
      "metadata": {
        "id": "g0d1llGdcE6I"
      }
    }
  ],
  "metadata": {
    "colab": {
      "provenance": []
    },
    "kernelspec": {
      "display_name": "Python 3 (ipykernel)",
      "language": "python",
      "name": "python3"
    },
    "language_info": {
      "codemirror_mode": {
        "name": "ipython",
        "version": 3
      },
      "file_extension": ".py",
      "mimetype": "text/x-python",
      "name": "python",
      "nbconvert_exporter": "python",
      "pygments_lexer": "ipython3",
      "version": "3.9.16"
    }
  },
  "nbformat": 4,
  "nbformat_minor": 2
}