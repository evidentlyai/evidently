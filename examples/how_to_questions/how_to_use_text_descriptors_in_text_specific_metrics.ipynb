{
 "cells": [
  {
   "cell_type": "markdown",
   "metadata": {
    "colab": {
     "base_uri": "https://localhost:8080/"
    },
    "id": "mAGKZvMaBmWe",
    "outputId": "96aacb80-bb4c-4d0e-fce1-2862c223ce15"
   },
   "source": [
    "# How to use text descriptors in text-specific metrics?"
   ]
  },
  {
   "cell_type": "code",
   "execution_count": null,
   "metadata": {
    "id": "tmBHvzszAEN-"
   },
   "outputs": [],
   "source": [
    "import pandas as pd\n",
    "import numpy as np\n",
    "\n",
    "from sklearn import datasets, ensemble, model_selection"
   ]
  },
  {
   "cell_type": "code",
   "execution_count": null,
   "metadata": {
    "id": "-Xko20Q1FvZV"
   },
   "outputs": [],
   "source": [
    "from evidently import ColumnMapping\n",
    "from evidently.report import Report\n",
    "from evidently.test_suite import TestSuite\n",
    "\n",
    "from evidently.metric_preset import TextOverviewPreset\n",
    "\n",
    "from evidently.metrics import TextDescriptorsDriftMetric\n",
    "from evidently.metrics import TextDescriptorsDistribution\n",
    "from evidently.metrics import TextDescriptorsCorrelationMetric\n",
    "\n",
    "from evidently.descriptors import TextLength, TriggerWordsPresence, OOV, NonLetterCharacterPercentage"
   ]
  },
  {
   "cell_type": "code",
   "execution_count": null,
   "metadata": {
    "colab": {
     "base_uri": "https://localhost:8080/"
    },
    "id": "HmpgBJFqH7y-",
    "outputId": "58c188d4-d810-4ce9-a806-9d3a033309c8"
   },
   "outputs": [],
   "source": [
    "import nltk\n",
    "nltk.download('words')\n",
    "nltk.download('wordnet')\n",
    "nltk.download('omw-1.4')"
   ]
  },
  {
   "cell_type": "code",
   "execution_count": null,
   "metadata": {
    "id": "Y_EV_iCeCiz1"
   },
   "outputs": [],
   "source": [
    "#Dataset for Data Quality and Integrity\n",
    "reviews_data = datasets.fetch_openml(name='Womens-E-Commerce-Clothing-Reviews', version=2, as_frame='auto')\n",
    "reviews = reviews_data.frame"
   ]
  },
  {
   "cell_type": "code",
   "execution_count": null,
   "metadata": {
    "id": "YWyVOGsM2gV7"
   },
   "outputs": [],
   "source": [
    "reviews_ref = reviews[reviews.Rating > 3].sample(n=5000, replace=True, ignore_index=True, random_state=42) #.dropna()\n",
    "reviews_cur = reviews[reviews.Rating < 3].sample(n=5000, replace=True, ignore_index=True, random_state=42) #.dropna()"
   ]
  },
  {
   "cell_type": "code",
   "execution_count": null,
   "metadata": {
    "colab": {
     "base_uri": "https://localhost:8080/",
     "height": 206
    },
    "id": "1lUgz2JlAheU",
    "outputId": "4202acf4-3c91-4809-81a6-fd5fc72430a2"
   },
   "outputs": [],
   "source": [
    "reviews.head()"
   ]
  },
  {
   "cell_type": "code",
   "execution_count": null,
   "metadata": {
    "id": "60Wxndq7FzGT"
   },
   "outputs": [],
   "source": [
    "column_mapping = ColumnMapping(\n",
    "    numerical_features=['Age', 'Positive_Feedback_Count'],\n",
    "    categorical_features=['Division_Name', 'Department_Name', 'Class_Name'],\n",
    "    text_features=['Review_Text', 'Title']\n",
    ")"
   ]
  },
  {
   "cell_type": "markdown",
   "metadata": {},
   "source": [
    "# Text Metrics"
   ]
  },
  {
   "cell_type": "code",
   "execution_count": null,
   "metadata": {
    "scrolled": true
   },
   "outputs": [],
   "source": [
    "#NO descriptors\n",
    "\n",
    "text_specific_metrics_report = Report(metrics=[\n",
    "    TextDescriptorsDriftMetric(column_name=\"Review_Text\"),\n",
    "    TextDescriptorsDistribution(column_name=\"Review_Text\"),\n",
    "    TextDescriptorsCorrelationMetric(column_name=\"Review_Text\"),\n",
    "])\n",
    "\n",
    "text_specific_metrics_report.run(reference_data=reviews_ref, current_data=reviews_cur, column_mapping=column_mapping)\n",
    "text_specific_metrics_report"
   ]
  },
  {
   "cell_type": "code",
   "execution_count": null,
   "metadata": {},
   "outputs": [],
   "source": [
    "#WITH descriptors\n",
    "\n",
    "report = Report(metrics=[\n",
    "    TextDescriptorsDriftMetric(\"Review_Text\", descriptors={\n",
    "        \"Review Text Length\" : TextLength(),\n",
    "        \"Reviews about Dress\" : TriggerWordsPresence(words_list=['dress', 'gown']),\n",
    "        \"Review about Blouses\" : TriggerWordsPresence(words_list=['blouse', 'shirt'])\n",
    "    }),\n",
    "    TextDescriptorsCorrelationMetric(column_name=\"Title\", descriptors={\n",
    "        \"Title OOV\" : OOV(),\n",
    "        \"Title Non Letter %\" : NonLetterCharacterPercentage(),\n",
    "        \"Title Length\" : TextLength()\n",
    "    })\n",
    "])\n",
    "\n",
    "report.run(reference_data=reviews_ref, current_data=reviews_cur, column_mapping=column_mapping)\n",
    "report\n"
   ]
  },
  {
   "cell_type": "markdown",
   "metadata": {
    "id": "IAe0g1SWlV4L"
   },
   "source": [
    "# Text Overview Preset"
   ]
  },
  {
   "cell_type": "code",
   "execution_count": null,
   "metadata": {
    "colab": {
     "base_uri": "https://localhost:8080/",
     "height": 104
    },
    "id": "msjgy3j-f-5i",
    "outputId": "0e86becd-b75d-42f9-d115-72de002f8786",
    "scrolled": true
   },
   "outputs": [],
   "source": [
    "#NO descriptors\n",
    "\n",
    "text_overview_report = Report(metrics=[\n",
    "    TextOverviewPreset(column_name=\"Review_Text\")\n",
    "])\n",
    "\n",
    "text_overview_report.run(reference_data=reviews_ref, current_data=reviews_cur, column_mapping=column_mapping)\n",
    "text_overview_report"
   ]
  },
  {
   "cell_type": "code",
   "execution_count": null,
   "metadata": {
    "colab": {
     "base_uri": "https://localhost:8080/",
     "height": 1000
    },
    "id": "9H8xHPN-tYY8",
    "outputId": "644abbf8-d717-484f-8125-902b99288c59",
    "scrolled": true
   },
   "outputs": [],
   "source": [
    "#WITH descriptors\n",
    "text_overview_report = Report(metrics=[\n",
    "    TextOverviewPreset(column_name=\"Review_Text\", descriptors={\n",
    "        \"Review Text OOV\" : OOV(),\n",
    "        \"Review Text Non Letter %\" : NonLetterCharacterPercentage(),\n",
    "        \"Review Text Length\" : TextLength(),\n",
    "        \"Reviews about Dress\" : TriggerWordsPresence(words_list=['dress', 'gown']),\n",
    "        \"Review about Blouses\" : TriggerWordsPresence(words_list=['blouse', 'shirt'])\n",
    "    })\n",
    "])\n",
    "\n",
    "text_overview_report.run(reference_data=reviews_ref, current_data=reviews_cur, column_mapping=column_mapping)\n",
    "text_overview_report"
   ]
  },
  {
   "cell_type": "code",
   "execution_count": null,
   "metadata": {},
   "outputs": [],
   "source": []
  }
 ],
 "metadata": {
  "colab": {
   "provenance": []
  },
  "kernelspec": {
   "display_name": "Python 3 (ipykernel)",
   "language": "python",
   "name": "python3"
  },
  "language_info": {
   "codemirror_mode": {
    "name": "ipython",
    "version": 3
   },
   "file_extension": ".py",
   "mimetype": "text/x-python",
   "name": "python",
   "nbconvert_exporter": "python",
   "pygments_lexer": "ipython3",
   "version": "3.8.13"
  }
 },
 "nbformat": 4,
 "nbformat_minor": 1
}
