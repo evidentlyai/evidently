{
 "cells": [
  {
   "cell_type": "code",
   "execution_count": null,
   "metadata": {
    "id": "jn4VjbRSEm8L",
    "pycharm": {
     "name": "#%%\n"
    }
   },
   "outputs": [],
   "source": [
    "try:\n",
    "    import evidently\n",
    "except:\n",
    "    !npm install -g yarn\n",
    "    !pip install git+https://github.com/evidentlyai/evidently.git"
   ]
  },
  {
   "cell_type": "code",
   "execution_count": null,
   "metadata": {
    "pycharm": {
     "name": "#%%\n"
    }
   },
   "outputs": [],
   "source": [
    "import numpy as np\n",
    "\n",
    "from evidently.test_suite import TestSuite\n",
    "\n",
    "from sklearn.datasets import fetch_openml\n",
    "\n",
    "data = fetch_openml(name='adult', version=2, as_frame='auto')\n",
    "df = data.frame\n",
    "\n",
    "reference_data = df[~df.education.isin(['Some-college', 'HS-grad', 'Bachelors'])]\n",
    "current_data = df[df.education.isin(['Some-college', 'HS-grad', 'Bachelors'])]\n",
    "\n",
    "current_data.iloc[:2000, 3:5] = np.nan\n",
    "current_data.iloc[:2000, 12] = np.nan"
   ]
  },
  {
   "cell_type": "markdown",
   "metadata": {
    "id": "zGBzUG6ThEU_",
    "pycharm": {
     "name": "#%% md\n"
    }
   },
   "source": [
    "# Test Null Values\n",
    "In datasets null values could be encoded with different values: None, NaN, an empty string, zero, etc.\n",
    "\n",
    "With test you can check a number or share of such values with your null values setup."
   ]
  },
  {
   "cell_type": "markdown",
   "metadata": {
    "pycharm": {
     "name": "#%% md\n"
    }
   },
   "source": [
    "## Null Tests with Default Null Values List\n",
    "As default null-values we use\n",
    "- null-values from Pandas\n",
    "- empty stings\n",
    "- INF values from Numpy"
   ]
  },
  {
   "cell_type": "code",
   "execution_count": null,
   "metadata": {
    "pycharm": {
     "name": "#%%\n"
    }
   },
   "outputs": [],
   "source": [
    "from evidently.tests import TestNumberOfNulls\n",
    "from evidently.tests import TestShareOfNulls\n",
    "from evidently.tests import TestNumberOfColumnsWithNulls\n",
    "from evidently.tests import TestShareOfColumnsWithNulls\n",
    "from evidently.tests import TestNumberOfRowsWithNulls\n",
    "from evidently.tests import TestShareOfRowsWithNulls\n",
    "from evidently.tests import TestNumberOfDifferentNulls\n",
    "\n",
    "suite = TestSuite(tests=[\n",
    "    TestNumberOfNulls(),\n",
    "    TestShareOfNulls(),\n",
    "    TestNumberOfColumnsWithNulls(),\n",
    "    TestShareOfColumnsWithNulls(),\n",
    "    TestNumberOfRowsWithNulls(),\n",
    "    TestShareOfRowsWithNulls(),\n",
    "    TestNumberOfDifferentNulls(),\n",
    "])\n",
    "suite.run(current_data=current_data, reference_data=reference_data)\n",
    "suite"
   ]
  },
  {
   "cell_type": "code",
   "execution_count": null,
   "metadata": {
    "pycharm": {
     "name": "#%%\n"
    }
   },
   "outputs": [],
   "source": [
    "from evidently.tests import TestColumnNumberOfNulls\n",
    "from evidently.tests import TestColumnShareOfNulls\n",
    "from evidently.tests import TestColumnNumberOfDifferentNulls\n",
    "\n",
    "suite = TestSuite(tests=[\n",
    "    TestColumnNumberOfNulls(column_name='native-country'),\n",
    "    TestColumnShareOfNulls(column_name='native-country'),\n",
    "    TestColumnNumberOfDifferentNulls(column_name='native-country'),\n",
    "])\n",
    "suite.run(current_data=current_data, reference_data=reference_data)\n",
    "suite"
   ]
  },
  {
   "cell_type": "markdown",
   "metadata": {
    "pycharm": {
     "name": "#%% md\n"
    }
   },
   "source": [
    "## Null Tests with Custom Null Values List\n",
    "\n",
    "You can setup your own null-values list like 0, -9999 or \"zero\", or \"no-value\" with parameter **null_values**.\n",
    "If you want to add your values to defaults, set parameter **replace** to False.\n",
    "If you want to use your values only, set parameter **replace** to True.\n",
    "\n",
    "If you want to add Pandas null-values to your list, add None to it."
   ]
  },
  {
   "cell_type": "code",
   "execution_count": null,
   "metadata": {
    "id": "HoDiwl7TLI_U",
    "pycharm": {
     "name": "#%%\n"
    },
    "scrolled": true
   },
   "outputs": [],
   "source": [
    "# set all ages less than 20 to 0 and greater than 30 to INF\n",
    "current_data.loc[current_data['age'] < 20, 'age'] = 0\n",
    "current_data.loc[current_data['age'] > 30, 'age'] = np.inf\n",
    "\n",
    "# run tests for age and specify a custom null-value\n",
    "suite = TestSuite(tests=[\n",
    "    TestColumnNumberOfNulls(column_name='age'),\n",
    "    TestColumnShareOfNulls(column_name='age'),\n",
    "    TestColumnNumberOfDifferentNulls(column_name='age'),\n",
    "    # add 0 value to default null-values list\n",
    "    TestColumnNumberOfNulls(column_name='age', null_values=[0], replace=False),\n",
    "    TestColumnShareOfNulls(column_name='age', null_values=[0], replace=False),\n",
    "    TestColumnNumberOfDifferentNulls(column_name='age', null_values=[0], replace=False),\n",
    "    # use 0 and null valaues from Pandas as null-values list\n",
    "    TestColumnNumberOfNulls(column_name='age', null_values=[0, None], replace=True),\n",
    "    TestColumnShareOfNulls(column_name='age', null_values=[0, None], replace=True),\n",
    "    TestColumnNumberOfDifferentNulls(column_name='age', null_values=[0], replace=True),\n",
    "])\n",
    "suite.run(current_data=current_data, reference_data=reference_data)\n",
    "suite"
   ]
  },
  {
   "cell_type": "code",
   "execution_count": null,
   "metadata": {},
   "outputs": [],
   "source": []
  }
 ],
 "metadata": {
  "colab": {
   "collapsed_sections": [],
   "name": "example_tests.ipynb",
   "provenance": []
  },
  "kernelspec": {
   "display_name": "Python 3",
   "language": "python",
   "name": "python3"
  },
  "language_info": {
   "codemirror_mode": {
    "name": "ipython",
    "version": 3
   },
   "file_extension": ".py",
   "mimetype": "text/x-python",
   "name": "python",
   "nbconvert_exporter": "python",
   "pygments_lexer": "ipython3",
   "version": "3.6.13"
  }
 },
 "nbformat": 4,
 "nbformat_minor": 1
}
