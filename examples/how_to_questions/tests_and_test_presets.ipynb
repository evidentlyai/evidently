{
 "cells": [
  {
   "cell_type": "markdown",
   "id": "6e27703e",
   "metadata": {},
   "source": [
    "# Evidently Tests and Test Presets"
   ]
  },
  {
   "cell_type": "code",
   "execution_count": null,
   "id": "9c78ba61",
   "metadata": {},
   "outputs": [],
   "source": [
    "import pandas as pd\n",
    "import numpy as np\n",
    "\n",
    "from datetime import datetime\n",
    "from sklearn.datasets import fetch_openml\n",
    "\n",
    "from evidently import ColumnMapping\n",
    "from evidently.test_suite import TestSuite\n",
    "from evidently.tests import *\n",
    "\n",
    "from evidently.test_preset import NoTargetPerformanceTestPreset\n",
    "from evidently.test_preset import DataQualityTestPreset\n",
    "from evidently.test_preset import DataStabilityTestPreset\n",
    "from evidently.test_preset import DataDriftTestPreset"
   ]
  },
  {
   "cell_type": "markdown",
   "id": "922df2f0",
   "metadata": {},
   "source": [
    "## Prepare Datasets"
   ]
  },
  {
   "cell_type": "code",
   "execution_count": null,
   "id": "c19c6681",
   "metadata": {},
   "outputs": [],
   "source": [
    "data = fetch_openml(name='adult', version=2, as_frame='auto')\n",
    "df = data.frame\n",
    "\n",
    "#target and prediction\n",
    "df['target'] = df['education-num']\n",
    "df['prediction'] = df['education-num'].values + np.random.normal(0, 6, df.shape[0])\n",
    "\n",
    "#reference data\n",
    "ref = df[~df.education.isin(['Some-college', 'HS-grad', 'Bachelors'])]\n",
    "\n",
    "#current data\n",
    "curr = df[df.education.isin(['Some-college', 'HS-grad', 'Bachelors'])]"
   ]
  },
  {
   "cell_type": "markdown",
   "id": "c64570ed",
   "metadata": {},
   "source": [
    "## How to run tests for a dataset?"
   ]
  },
  {
   "cell_type": "code",
   "execution_count": null,
   "id": "7f02bf13",
   "metadata": {
    "scrolled": false
   },
   "outputs": [],
   "source": [
    "dataset_tests = TestSuite(tests=[\n",
    "    TestNumberOfColumns(),\n",
    "    TestNumberOfRows(),\n",
    "    TestNumberOfConstantColumns(),\n",
    "    TestNumberOfDuplicatedColumns(),\n",
    "    TestNumberOfDuplicatedRows(),\n",
    "    TestColumnsType(),\n",
    "    TestTargetFeaturesCorrelations(),\n",
    "    TestHighlyCorrelatedFeatures(),\n",
    "    TestShareOfDriftedFeatures(),\n",
    "    TestNumberOfDriftedFeatures(),\n",
    "])\n",
    "\n",
    "dataset_tests.run(reference_data=ref, current_data=curr)\n",
    "dataset_tests"
   ]
  },
  {
   "cell_type": "code",
   "execution_count": null,
   "id": "5f599e85",
   "metadata": {
    "scrolled": true
   },
   "outputs": [],
   "source": [
    "dataset_tests.json()"
   ]
  },
  {
   "cell_type": "code",
   "execution_count": null,
   "id": "7adc8cc7",
   "metadata": {},
   "outputs": [],
   "source": [
    "dataset_tests.as_dict()"
   ]
  },
  {
   "cell_type": "markdown",
   "id": "12f2b02d",
   "metadata": {},
   "source": [
    "## How to run tests for individual features?"
   ]
  },
  {
   "cell_type": "code",
   "execution_count": null,
   "id": "9f364320",
   "metadata": {},
   "outputs": [],
   "source": [
    "feature_level_tests = TestSuite(tests=[\n",
    "    TestMeanInNSigmas(column_name='hours-per-week'),\n",
    "    TestShareOfOutRangeValues(column_name='hours-per-week'),\n",
    "    TestColumnShareOfNulls(column_name='education'),\n",
    "    TestFeatureValueDrift(column_name='education'),\n",
    "    TestColumnValueRegExp(column_name='education', reg_exp=r\"^\\s+.*\"),\n",
    "])\n",
    "\n",
    "feature_level_tests.run(reference_data=ref, current_data=curr)\n",
    "feature_level_tests"
   ]
  },
  {
   "cell_type": "markdown",
   "id": "bcac8862",
   "metadata": {},
   "source": [
    "## How to set test parameters?"
   ]
  },
  {
   "cell_type": "code",
   "execution_count": null,
   "id": "78a285ed",
   "metadata": {},
   "outputs": [],
   "source": [
    "feature_level_tests = TestSuite(tests=[\n",
    "    TestMeanInNSigmas(column_name='hours-per-week', n_sigmas=3),\n",
    "    TestShareOfOutRangeValues(column_name='hours-per-week', lte=0),\n",
    "    #TestNumberOfOutListValues(column_name='education', lt=0),\n",
    "    TestColumnShareOfNulls(column_name='education', lt=0.2),\n",
    "])\n",
    "\n",
    "feature_level_tests.run(reference_data=ref, current_data=curr)\n",
    "feature_level_tests"
   ]
  },
  {
   "cell_type": "markdown",
   "id": "c5e6225e",
   "metadata": {},
   "source": [
    "## How to use presets?"
   ]
  },
  {
   "cell_type": "code",
   "execution_count": null,
   "id": "bb1e4bd2",
   "metadata": {},
   "outputs": [],
   "source": [
    "no_target_performance = TestSuite(tests=[\n",
    "    NoTargetPerformanceTestPreset(columns=['education-num', 'hours-per-week']),\n",
    "])\n",
    "\n",
    "no_target_performance.run(reference_data=ref,current_data=curr)\n",
    "no_target_performance"
   ]
  },
  {
   "cell_type": "code",
   "execution_count": null,
   "id": "8137bdf8",
   "metadata": {},
   "outputs": [],
   "source": [
    "data_drift = TestSuite(tests=[\n",
    "    DataDriftTestPreset(),\n",
    "])\n",
    "\n",
    "data_drift.run(reference_data=ref, current_data=curr)\n",
    "data_drift"
   ]
  },
  {
   "cell_type": "code",
   "execution_count": null,
   "id": "8ad087be",
   "metadata": {},
   "outputs": [],
   "source": [
    "data_stability = TestSuite(tests=[\n",
    "    DataStabilityTestPreset(),\n",
    "])\n",
    "\n",
    "data_stability.run(reference_data=ref, current_data=curr)\n",
    "data_stability"
   ]
  },
  {
   "cell_type": "code",
   "execution_count": null,
   "id": "ccadf8ae",
   "metadata": {},
   "outputs": [],
   "source": [
    "data_quality = TestSuite(tests=[\n",
    "    DataQualityTestPreset(),\n",
    "])\n",
    "\n",
    "data_quality.run(reference_data=ref,current_data=curr)\n",
    "data_quality"
   ]
  },
  {
   "cell_type": "code",
   "execution_count": null,
   "id": "98d6ad30",
   "metadata": {},
   "outputs": [],
   "source": []
  }
 ],
 "metadata": {
  "kernelspec": {
   "display_name": "Python 3 (ipykernel)",
   "language": "python",
   "name": "python3"
  },
  "language_info": {
   "codemirror_mode": {
    "name": "ipython",
    "version": 3
   },
   "file_extension": ".py",
   "mimetype": "text/x-python",
   "name": "python",
   "nbconvert_exporter": "python",
   "pygments_lexer": "ipython3",
   "version": "3.9.12"
  }
 },
 "nbformat": 4,
 "nbformat_minor": 5
}
