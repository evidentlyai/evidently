{
  "nbformat": 4,
  "nbformat_minor": 0,
  "metadata": {
    "colab": {
      "provenance": [],
      "toc_visible": true,
      "authorship_tag": "ABX9TyNJAdha/v4n9zLqIfGakg0E"
    },
    "kernelspec": {
      "name": "python3",
      "display_name": "Python 3"
    },
    "language_info": {
      "name": "python"
    }
  },
  "cells": [
    {
      "cell_type": "markdown",
      "source": [
        "# Install Evidently and DVC with DVCLive"
      ],
      "metadata": {
        "id": "WpfOFaqHcnAt"
      }
    },
    {
      "cell_type": "markdown",
      "source": [
        "Run on Google Colab"
      ],
      "metadata": {
        "id": "WpfOFaqHcnAs"
      }
    },
    {
      "cell_type": "code",
      "source": [
        "!pip uninstall -q -y sqlalchemy pyarrow ipython-sql pandas-gbq"
      ],
      "metadata": {
        "id": "BqWpagFPZ45W",
        "executionInfo": {
          "status": "ok",
          "timestamp": 1697468096427,
          "user_tz": -120,
          "elapsed": 2337,
          "user": {
            "displayName": "Francesco Motoko",
            "userId": "00974636158007469548"
          }
        }
      },
      "execution_count": 1,
      "outputs": []
    },
    {
      "cell_type": "code",
      "execution_count": 2,
      "metadata": {
        "id": "DijzqeokW595",
        "executionInfo": {
          "status": "ok",
          "timestamp": 1697468130037,
          "user_tz": -120,
          "elapsed": 33615,
          "user": {
            "displayName": "Francesco Motoko",
            "userId": "00974636158007469548"
          }
        }
      },
      "outputs": [],
      "source": [
        "%%capture\n",
        "!pip install -q dvc==3.25.0 dvclive==3.0.1 evidently==0.4.5 pandas==1.5.3"
      ]
    },
    {
      "cell_type": "markdown",
      "source": [
        "# Load the data"
      ],
      "metadata": {
        "id": "ZyZ2sX8GcvMU"
      }
    },
    {
      "cell_type": "code",
      "source": [
        "!mkdir raw_data && \\\n",
        " cd raw_data && \\\n",
        " wget https://archive.ics.uci.edu/static/public/275/bike+sharing+dataset.zip && \\\n",
        " unzip bike+sharing+dataset.zip"
      ],
      "metadata": {
        "colab": {
          "base_uri": "https://localhost:8080/"
        },
        "id": "ZUrB0D59XMDD",
        "executionInfo": {
          "status": "ok",
          "timestamp": 1697468131788,
          "user_tz": -120,
          "elapsed": 1772,
          "user": {
            "displayName": "Francesco Motoko",
            "userId": "00974636158007469548"
          }
        },
        "outputId": "9f6f5a3c-f856-4d56-a8fb-ec4483ec6127"
      },
      "execution_count": 3,
      "outputs": [
        {
          "output_type": "stream",
          "name": "stdout",
          "text": [
            "--2023-10-16 14:55:29--  https://archive.ics.uci.edu/static/public/275/bike+sharing+dataset.zip\n",
            "Resolving archive.ics.uci.edu (archive.ics.uci.edu)... 128.195.10.252\n",
            "Connecting to archive.ics.uci.edu (archive.ics.uci.edu)|128.195.10.252|:443... connected.\n",
            "HTTP request sent, awaiting response... 200 OK\n",
            "Length: unspecified\n",
            "Saving to: ‘bike+sharing+dataset.zip’\n",
            "\n",
            "bike+sharing+datase     [   <=>              ] 273.43K   443KB/s    in 0.6s    \n",
            "\n",
            "2023-10-16 14:55:30 (443 KB/s) - ‘bike+sharing+dataset.zip’ saved [279992]\n",
            "\n",
            "Archive:  bike+sharing+dataset.zip\n",
            "  inflating: Readme.txt              \n",
            "  inflating: day.csv                 \n",
            "  inflating: hour.csv                \n"
          ]
        }
      ]
    },
    {
      "cell_type": "code",
      "source": [
        "import pandas as pd"
      ],
      "metadata": {
        "id": "P3XXcUrQY1EQ",
        "executionInfo": {
          "status": "ok",
          "timestamp": 1697468132141,
          "user_tz": -120,
          "elapsed": 357,
          "user": {
            "displayName": "Francesco Motoko",
            "userId": "00974636158007469548"
          }
        }
      },
      "execution_count": 4,
      "outputs": []
    },
    {
      "cell_type": "code",
      "source": [
        "df = pd.read_csv(\"raw_data/day.csv\", header=0, sep=',', parse_dates=['dteday'])\n",
        "df.head()"
      ],
      "metadata": {
        "colab": {
          "base_uri": "https://localhost:8080/",
          "height": 206
        },
        "id": "MDK0xkdbYCWg",
        "executionInfo": {
          "status": "ok",
          "timestamp": 1697468132141,
          "user_tz": -120,
          "elapsed": 9,
          "user": {
            "displayName": "Francesco Motoko",
            "userId": "00974636158007469548"
          }
        },
        "outputId": "ec8d2605-144d-45ff-b442-70ba858a44a3"
      },
      "execution_count": 5,
      "outputs": [
        {
          "output_type": "execute_result",
          "data": {
            "text/plain": [
              "   instant     dteday  season  yr  mnth  holiday  weekday  workingday  \\\n",
              "0        1 2011-01-01       1   0     1        0        6           0   \n",
              "1        2 2011-01-02       1   0     1        0        0           0   \n",
              "2        3 2011-01-03       1   0     1        0        1           1   \n",
              "3        4 2011-01-04       1   0     1        0        2           1   \n",
              "4        5 2011-01-05       1   0     1        0        3           1   \n",
              "\n",
              "   weathersit      temp     atemp       hum  windspeed  casual  registered  \\\n",
              "0           2  0.344167  0.363625  0.805833   0.160446     331         654   \n",
              "1           2  0.363478  0.353739  0.696087   0.248539     131         670   \n",
              "2           1  0.196364  0.189405  0.437273   0.248309     120        1229   \n",
              "3           1  0.200000  0.212122  0.590435   0.160296     108        1454   \n",
              "4           1  0.226957  0.229270  0.436957   0.186900      82        1518   \n",
              "\n",
              "    cnt  \n",
              "0   985  \n",
              "1   801  \n",
              "2  1349  \n",
              "3  1562  \n",
              "4  1600  "
            ],
            "text/html": [
              "\n",
              "  <div id=\"df-f57eeeda-2494-42a9-8d15-33081c4de93d\" class=\"colab-df-container\">\n",
              "    <div>\n",
              "<style scoped>\n",
              "    .dataframe tbody tr th:only-of-type {\n",
              "        vertical-align: middle;\n",
              "    }\n",
              "\n",
              "    .dataframe tbody tr th {\n",
              "        vertical-align: top;\n",
              "    }\n",
              "\n",
              "    .dataframe thead th {\n",
              "        text-align: right;\n",
              "    }\n",
              "</style>\n",
              "<table border=\"1\" class=\"dataframe\">\n",
              "  <thead>\n",
              "    <tr style=\"text-align: right;\">\n",
              "      <th></th>\n",
              "      <th>instant</th>\n",
              "      <th>dteday</th>\n",
              "      <th>season</th>\n",
              "      <th>yr</th>\n",
              "      <th>mnth</th>\n",
              "      <th>holiday</th>\n",
              "      <th>weekday</th>\n",
              "      <th>workingday</th>\n",
              "      <th>weathersit</th>\n",
              "      <th>temp</th>\n",
              "      <th>atemp</th>\n",
              "      <th>hum</th>\n",
              "      <th>windspeed</th>\n",
              "      <th>casual</th>\n",
              "      <th>registered</th>\n",
              "      <th>cnt</th>\n",
              "    </tr>\n",
              "  </thead>\n",
              "  <tbody>\n",
              "    <tr>\n",
              "      <th>0</th>\n",
              "      <td>1</td>\n",
              "      <td>2011-01-01</td>\n",
              "      <td>1</td>\n",
              "      <td>0</td>\n",
              "      <td>1</td>\n",
              "      <td>0</td>\n",
              "      <td>6</td>\n",
              "      <td>0</td>\n",
              "      <td>2</td>\n",
              "      <td>0.344167</td>\n",
              "      <td>0.363625</td>\n",
              "      <td>0.805833</td>\n",
              "      <td>0.160446</td>\n",
              "      <td>331</td>\n",
              "      <td>654</td>\n",
              "      <td>985</td>\n",
              "    </tr>\n",
              "    <tr>\n",
              "      <th>1</th>\n",
              "      <td>2</td>\n",
              "      <td>2011-01-02</td>\n",
              "      <td>1</td>\n",
              "      <td>0</td>\n",
              "      <td>1</td>\n",
              "      <td>0</td>\n",
              "      <td>0</td>\n",
              "      <td>0</td>\n",
              "      <td>2</td>\n",
              "      <td>0.363478</td>\n",
              "      <td>0.353739</td>\n",
              "      <td>0.696087</td>\n",
              "      <td>0.248539</td>\n",
              "      <td>131</td>\n",
              "      <td>670</td>\n",
              "      <td>801</td>\n",
              "    </tr>\n",
              "    <tr>\n",
              "      <th>2</th>\n",
              "      <td>3</td>\n",
              "      <td>2011-01-03</td>\n",
              "      <td>1</td>\n",
              "      <td>0</td>\n",
              "      <td>1</td>\n",
              "      <td>0</td>\n",
              "      <td>1</td>\n",
              "      <td>1</td>\n",
              "      <td>1</td>\n",
              "      <td>0.196364</td>\n",
              "      <td>0.189405</td>\n",
              "      <td>0.437273</td>\n",
              "      <td>0.248309</td>\n",
              "      <td>120</td>\n",
              "      <td>1229</td>\n",
              "      <td>1349</td>\n",
              "    </tr>\n",
              "    <tr>\n",
              "      <th>3</th>\n",
              "      <td>4</td>\n",
              "      <td>2011-01-04</td>\n",
              "      <td>1</td>\n",
              "      <td>0</td>\n",
              "      <td>1</td>\n",
              "      <td>0</td>\n",
              "      <td>2</td>\n",
              "      <td>1</td>\n",
              "      <td>1</td>\n",
              "      <td>0.200000</td>\n",
              "      <td>0.212122</td>\n",
              "      <td>0.590435</td>\n",
              "      <td>0.160296</td>\n",
              "      <td>108</td>\n",
              "      <td>1454</td>\n",
              "      <td>1562</td>\n",
              "    </tr>\n",
              "    <tr>\n",
              "      <th>4</th>\n",
              "      <td>5</td>\n",
              "      <td>2011-01-05</td>\n",
              "      <td>1</td>\n",
              "      <td>0</td>\n",
              "      <td>1</td>\n",
              "      <td>0</td>\n",
              "      <td>3</td>\n",
              "      <td>1</td>\n",
              "      <td>1</td>\n",
              "      <td>0.226957</td>\n",
              "      <td>0.229270</td>\n",
              "      <td>0.436957</td>\n",
              "      <td>0.186900</td>\n",
              "      <td>82</td>\n",
              "      <td>1518</td>\n",
              "      <td>1600</td>\n",
              "    </tr>\n",
              "  </tbody>\n",
              "</table>\n",
              "</div>\n",
              "    <div class=\"colab-df-buttons\">\n",
              "\n",
              "  <div class=\"colab-df-container\">\n",
              "    <button class=\"colab-df-convert\" onclick=\"convertToInteractive('df-f57eeeda-2494-42a9-8d15-33081c4de93d')\"\n",
              "            title=\"Convert this dataframe to an interactive table.\"\n",
              "            style=\"display:none;\">\n",
              "\n",
              "  <svg xmlns=\"http://www.w3.org/2000/svg\" height=\"24px\" viewBox=\"0 -960 960 960\">\n",
              "    <path d=\"M120-120v-720h720v720H120Zm60-500h600v-160H180v160Zm220 220h160v-160H400v160Zm0 220h160v-160H400v160ZM180-400h160v-160H180v160Zm440 0h160v-160H620v160ZM180-180h160v-160H180v160Zm440 0h160v-160H620v160Z\"/>\n",
              "  </svg>\n",
              "    </button>\n",
              "\n",
              "  <style>\n",
              "    .colab-df-container {\n",
              "      display:flex;\n",
              "      gap: 12px;\n",
              "    }\n",
              "\n",
              "    .colab-df-convert {\n",
              "      background-color: #E8F0FE;\n",
              "      border: none;\n",
              "      border-radius: 50%;\n",
              "      cursor: pointer;\n",
              "      display: none;\n",
              "      fill: #1967D2;\n",
              "      height: 32px;\n",
              "      padding: 0 0 0 0;\n",
              "      width: 32px;\n",
              "    }\n",
              "\n",
              "    .colab-df-convert:hover {\n",
              "      background-color: #E2EBFA;\n",
              "      box-shadow: 0px 1px 2px rgba(60, 64, 67, 0.3), 0px 1px 3px 1px rgba(60, 64, 67, 0.15);\n",
              "      fill: #174EA6;\n",
              "    }\n",
              "\n",
              "    .colab-df-buttons div {\n",
              "      margin-bottom: 4px;\n",
              "    }\n",
              "\n",
              "    [theme=dark] .colab-df-convert {\n",
              "      background-color: #3B4455;\n",
              "      fill: #D2E3FC;\n",
              "    }\n",
              "\n",
              "    [theme=dark] .colab-df-convert:hover {\n",
              "      background-color: #434B5C;\n",
              "      box-shadow: 0px 1px 3px 1px rgba(0, 0, 0, 0.15);\n",
              "      filter: drop-shadow(0px 1px 2px rgba(0, 0, 0, 0.3));\n",
              "      fill: #FFFFFF;\n",
              "    }\n",
              "  </style>\n",
              "\n",
              "    <script>\n",
              "      const buttonEl =\n",
              "        document.querySelector('#df-f57eeeda-2494-42a9-8d15-33081c4de93d button.colab-df-convert');\n",
              "      buttonEl.style.display =\n",
              "        google.colab.kernel.accessAllowed ? 'block' : 'none';\n",
              "\n",
              "      async function convertToInteractive(key) {\n",
              "        const element = document.querySelector('#df-f57eeeda-2494-42a9-8d15-33081c4de93d');\n",
              "        const dataTable =\n",
              "          await google.colab.kernel.invokeFunction('convertToInteractive',\n",
              "                                                    [key], {});\n",
              "        if (!dataTable) return;\n",
              "\n",
              "        const docLinkHtml = 'Like what you see? Visit the ' +\n",
              "          '<a target=\"_blank\" href=https://colab.research.google.com/notebooks/data_table.ipynb>data table notebook</a>'\n",
              "          + ' to learn more about interactive tables.';\n",
              "        element.innerHTML = '';\n",
              "        dataTable['output_type'] = 'display_data';\n",
              "        await google.colab.output.renderOutput(dataTable, element);\n",
              "        const docLink = document.createElement('div');\n",
              "        docLink.innerHTML = docLinkHtml;\n",
              "        element.appendChild(docLink);\n",
              "      }\n",
              "    </script>\n",
              "  </div>\n",
              "\n",
              "\n",
              "<div id=\"df-1a8f4885-5b57-4a9a-bfc7-8d551bb879a7\">\n",
              "  <button class=\"colab-df-quickchart\" onclick=\"quickchart('df-1a8f4885-5b57-4a9a-bfc7-8d551bb879a7')\"\n",
              "            title=\"Suggest charts.\"\n",
              "            style=\"display:none;\">\n",
              "\n",
              "<svg xmlns=\"http://www.w3.org/2000/svg\" height=\"24px\"viewBox=\"0 0 24 24\"\n",
              "     width=\"24px\">\n",
              "    <g>\n",
              "        <path d=\"M19 3H5c-1.1 0-2 .9-2 2v14c0 1.1.9 2 2 2h14c1.1 0 2-.9 2-2V5c0-1.1-.9-2-2-2zM9 17H7v-7h2v7zm4 0h-2V7h2v10zm4 0h-2v-4h2v4z\"/>\n",
              "    </g>\n",
              "</svg>\n",
              "  </button>\n",
              "\n",
              "<style>\n",
              "  .colab-df-quickchart {\n",
              "      --bg-color: #E8F0FE;\n",
              "      --fill-color: #1967D2;\n",
              "      --hover-bg-color: #E2EBFA;\n",
              "      --hover-fill-color: #174EA6;\n",
              "      --disabled-fill-color: #AAA;\n",
              "      --disabled-bg-color: #DDD;\n",
              "  }\n",
              "\n",
              "  [theme=dark] .colab-df-quickchart {\n",
              "      --bg-color: #3B4455;\n",
              "      --fill-color: #D2E3FC;\n",
              "      --hover-bg-color: #434B5C;\n",
              "      --hover-fill-color: #FFFFFF;\n",
              "      --disabled-bg-color: #3B4455;\n",
              "      --disabled-fill-color: #666;\n",
              "  }\n",
              "\n",
              "  .colab-df-quickchart {\n",
              "    background-color: var(--bg-color);\n",
              "    border: none;\n",
              "    border-radius: 50%;\n",
              "    cursor: pointer;\n",
              "    display: none;\n",
              "    fill: var(--fill-color);\n",
              "    height: 32px;\n",
              "    padding: 0;\n",
              "    width: 32px;\n",
              "  }\n",
              "\n",
              "  .colab-df-quickchart:hover {\n",
              "    background-color: var(--hover-bg-color);\n",
              "    box-shadow: 0 1px 2px rgba(60, 64, 67, 0.3), 0 1px 3px 1px rgba(60, 64, 67, 0.15);\n",
              "    fill: var(--button-hover-fill-color);\n",
              "  }\n",
              "\n",
              "  .colab-df-quickchart-complete:disabled,\n",
              "  .colab-df-quickchart-complete:disabled:hover {\n",
              "    background-color: var(--disabled-bg-color);\n",
              "    fill: var(--disabled-fill-color);\n",
              "    box-shadow: none;\n",
              "  }\n",
              "\n",
              "  .colab-df-spinner {\n",
              "    border: 2px solid var(--fill-color);\n",
              "    border-color: transparent;\n",
              "    border-bottom-color: var(--fill-color);\n",
              "    animation:\n",
              "      spin 1s steps(1) infinite;\n",
              "  }\n",
              "\n",
              "  @keyframes spin {\n",
              "    0% {\n",
              "      border-color: transparent;\n",
              "      border-bottom-color: var(--fill-color);\n",
              "      border-left-color: var(--fill-color);\n",
              "    }\n",
              "    20% {\n",
              "      border-color: transparent;\n",
              "      border-left-color: var(--fill-color);\n",
              "      border-top-color: var(--fill-color);\n",
              "    }\n",
              "    30% {\n",
              "      border-color: transparent;\n",
              "      border-left-color: var(--fill-color);\n",
              "      border-top-color: var(--fill-color);\n",
              "      border-right-color: var(--fill-color);\n",
              "    }\n",
              "    40% {\n",
              "      border-color: transparent;\n",
              "      border-right-color: var(--fill-color);\n",
              "      border-top-color: var(--fill-color);\n",
              "    }\n",
              "    60% {\n",
              "      border-color: transparent;\n",
              "      border-right-color: var(--fill-color);\n",
              "    }\n",
              "    80% {\n",
              "      border-color: transparent;\n",
              "      border-right-color: var(--fill-color);\n",
              "      border-bottom-color: var(--fill-color);\n",
              "    }\n",
              "    90% {\n",
              "      border-color: transparent;\n",
              "      border-bottom-color: var(--fill-color);\n",
              "    }\n",
              "  }\n",
              "</style>\n",
              "\n",
              "  <script>\n",
              "    async function quickchart(key) {\n",
              "      const quickchartButtonEl =\n",
              "        document.querySelector('#' + key + ' button');\n",
              "      quickchartButtonEl.disabled = true;  // To prevent multiple clicks.\n",
              "      quickchartButtonEl.classList.add('colab-df-spinner');\n",
              "      try {\n",
              "        const charts = await google.colab.kernel.invokeFunction(\n",
              "            'suggestCharts', [key], {});\n",
              "      } catch (error) {\n",
              "        console.error('Error during call to suggestCharts:', error);\n",
              "      }\n",
              "      quickchartButtonEl.classList.remove('colab-df-spinner');\n",
              "      quickchartButtonEl.classList.add('colab-df-quickchart-complete');\n",
              "    }\n",
              "    (() => {\n",
              "      let quickchartButtonEl =\n",
              "        document.querySelector('#df-1a8f4885-5b57-4a9a-bfc7-8d551bb879a7 button');\n",
              "      quickchartButtonEl.style.display =\n",
              "        google.colab.kernel.accessAllowed ? 'block' : 'none';\n",
              "    })();\n",
              "  </script>\n",
              "</div>\n",
              "    </div>\n",
              "  </div>\n"
            ]
          },
          "metadata": {},
          "execution_count": 5
        }
      ]
    },
    {
      "cell_type": "markdown",
      "source": [
        "# Define column mapping"
      ],
      "metadata": {
        "id": "4a9DrmjyhhEP"
      }
    },
    {
      "cell_type": "code",
      "source": [
        "from evidently.pipeline.column_mapping import ColumnMapping"
      ],
      "metadata": {
        "id": "_bkEZuM8gELe",
        "executionInfo": {
          "status": "ok",
          "timestamp": 1697468132141,
          "user_tz": -120,
          "elapsed": 5,
          "user": {
            "displayName": "Francesco Motoko",
            "userId": "00974636158007469548"
          }
        }
      },
      "execution_count": 6,
      "outputs": []
    },
    {
      "cell_type": "code",
      "source": [
        "data_columns = ColumnMapping()\n",
        "data_columns.numerical_features = ['weathersit', 'temp', 'atemp', 'hum', 'windspeed']\n",
        "data_columns.categorical_features = ['holiday', 'workingday']"
      ],
      "metadata": {
        "id": "dLIZqkHAgEuo",
        "executionInfo": {
          "status": "ok",
          "timestamp": 1697468132141,
          "user_tz": -120,
          "elapsed": 5,
          "user": {
            "displayName": "Francesco Motoko",
            "userId": "00974636158007469548"
          }
        }
      },
      "execution_count": 7,
      "outputs": []
    },
    {
      "cell_type": "markdown",
      "source": [
        "# Define what to log"
      ],
      "metadata": {
        "id": "yNBKbk51hpyz"
      }
    },
    {
      "cell_type": "code",
      "source": [
        "from evidently.report import Report\n",
        "from evidently.metric_preset import DataDriftPreset"
      ],
      "metadata": {
        "id": "owblpS3Ahw0o",
        "executionInfo": {
          "status": "ok",
          "timestamp": 1697468136565,
          "user_tz": -120,
          "elapsed": 4428,
          "user": {
            "displayName": "Francesco Motoko",
            "userId": "00974636158007469548"
          }
        }
      },
      "execution_count": 8,
      "outputs": []
    },
    {
      "cell_type": "code",
      "source": [
        "def eval_drift(reference, production, column_mapping):\n",
        "    data_drift_report = Report(metrics=[DataDriftPreset()])\n",
        "    data_drift_report.run(\n",
        "        reference_data=reference, current_data=production, column_mapping=column_mapping\n",
        "    )\n",
        "    report = data_drift_report.as_dict()\n",
        "\n",
        "    drifts = []\n",
        "\n",
        "    for feature in (\n",
        "        column_mapping.numerical_features + column_mapping.categorical_features\n",
        "    ):\n",
        "        drifts.append(\n",
        "            (\n",
        "                feature,\n",
        "                report[\"metrics\"][1][\"result\"][\"drift_by_columns\"][feature][\n",
        "                    \"drift_score\"\n",
        "                ],\n",
        "            )\n",
        "        )\n",
        "\n",
        "    return drifts\n"
      ],
      "metadata": {
        "id": "vRF8PjiYho6z",
        "executionInfo": {
          "status": "ok",
          "timestamp": 1697468136565,
          "user_tz": -120,
          "elapsed": 3,
          "user": {
            "displayName": "Francesco Motoko",
            "userId": "00974636158007469548"
          }
        }
      },
      "execution_count": 9,
      "outputs": []
    },
    {
      "cell_type": "markdown",
      "source": [
        "# Define the comparison windows"
      ],
      "metadata": {
        "id": "4Yhet51mh6Xz"
      }
    },
    {
      "cell_type": "code",
      "source": [
        "#set reference dates\n",
        "reference_dates = ('2011-01-01 00:00:00','2011-01-28 23:00:00')\n",
        "\n",
        "#set experiment batches dates\n",
        "experiment_batches = [\n",
        "    ('2011-01-01 00:00:00','2011-01-29 23:00:00'),\n",
        "    ('2011-01-29 00:00:00','2011-02-07 23:00:00'),\n",
        "    ('2011-02-07 00:00:00','2011-02-14 23:00:00'),\n",
        "    ('2011-02-15 00:00:00','2011-02-21 23:00:00'),\n",
        "]"
      ],
      "metadata": {
        "id": "nTq8xUbGh3Ux",
        "executionInfo": {
          "status": "ok",
          "timestamp": 1697468136565,
          "user_tz": -120,
          "elapsed": 3,
          "user": {
            "displayName": "Francesco Motoko",
            "userId": "00974636158007469548"
          }
        }
      },
      "execution_count": 10,
      "outputs": []
    },
    {
      "cell_type": "markdown",
      "source": [
        "# Run and log experiments with DVCLive"
      ],
      "metadata": {
        "id": "8lNq9OdniDss"
      }
    },
    {
      "cell_type": "code",
      "source": [
        "!git config --global user.email \"you@example.com\"\n",
        "!git config --global user.name \"Your Name\""
      ],
      "metadata": {
        "id": "zUt5jrVSRIqD",
        "executionInfo": {
          "status": "ok",
          "timestamp": 1697468136565,
          "user_tz": -120,
          "elapsed": 3,
          "user": {
            "displayName": "Francesco Motoko",
            "userId": "00974636158007469548"
          }
        }
      },
      "execution_count": 11,
      "outputs": []
    },
    {
      "cell_type": "code",
      "source": [
        "from dvclive import Live"
      ],
      "metadata": {
        "id": "5Hx1jI9PnT3C",
        "executionInfo": {
          "status": "ok",
          "timestamp": 1697468137794,
          "user_tz": -120,
          "elapsed": 1231,
          "user": {
            "displayName": "Francesco Motoko",
            "userId": "00974636158007469548"
          }
        }
      },
      "execution_count": 12,
      "outputs": []
    },
    {
      "cell_type": "markdown",
      "source": [
        "There are two ways to use DVC, put all the drift evaluation steps in one single experiment (corresponding to a git commit), or to save each step as a separate experiment (git commit)"
      ],
      "metadata": {
        "id": "jTsrtISaSF7D"
      }
    },
    {
      "cell_type": "markdown",
      "source": [
        "## In one experiment"
      ],
      "metadata": {
        "id": "RGrEbbla30jr"
      }
    },
    {
      "cell_type": "code",
      "source": [
        "# Setup a git repo with dvc\n",
        "\n",
        "%cd /content\n",
        "!rm -rf experiments && mkdir experiments\n",
        "%cd experiments\n",
        "\n",
        "!git init\n",
        "!git add .gitignore\n",
        "!git commit -m \"Init repo\"\n",
        "!dvc init\n",
        "!git commit -m \"Init DVC\""
      ],
      "metadata": {
        "colab": {
          "base_uri": "https://localhost:8080/"
        },
        "id": "ijUf_HhRobl0",
        "executionInfo": {
          "status": "ok",
          "timestamp": 1697468140631,
          "user_tz": -120,
          "elapsed": 2844,
          "user": {
            "displayName": "Francesco Motoko",
            "userId": "00974636158007469548"
          }
        },
        "outputId": "796d7eec-17dc-40b2-a4c9-5bdcf9184c58"
      },
      "execution_count": 13,
      "outputs": [
        {
          "output_type": "stream",
          "name": "stdout",
          "text": [
            "/content\n",
            "/content/experiments\n",
            "hint: Using 'master' as the name for the initial branch. This default branch name\n",
            "hint: is subject to change. To configure the initial branch name to use in all\n",
            "hint: of your new repositories, which will suppress this warning, call:\n",
            "hint: \n",
            "hint: \tgit config --global init.defaultBranch <name>\n",
            "hint: \n",
            "hint: Names commonly chosen instead of 'master' are 'main', 'trunk' and\n",
            "hint: 'development'. The just-created branch can be renamed via this command:\n",
            "hint: \n",
            "hint: \tgit branch -m <name>\n",
            "Initialized empty Git repository in /content/experiments/.git/\n",
            "fatal: pathspec '.gitignore' did not match any files\n",
            "On branch master\n",
            "\n",
            "Initial commit\n",
            "\n",
            "nothing to commit (create/copy files and use \"git add\" to track)\n",
            "Initialized DVC repository.\n",
            "\n",
            "You can now commit the changes to git.\n",
            "\n",
            "+---------------------------------------------------------------------+\n",
            "|                                                                     |\n",
            "|        DVC has enabled anonymous aggregate usage analytics.         |\n",
            "|     Read the analytics documentation (and how to opt-out) here:     |\n",
            "|             <https://dvc.org/doc/user-guide/analytics>              |\n",
            "|                                                                     |\n",
            "+---------------------------------------------------------------------+\n",
            "\n",
            "What's next?\n",
            "------------\n",
            "- Check out the documentation: <https://dvc.org/doc>\n",
            "- Get help and share ideas: <https://dvc.org/chat>\n",
            "- Star us on GitHub: <https://github.com/iterative/dvc>\n",
            "[master (root-commit) 9220260] Init DVC\n",
            " 3 files changed, 6 insertions(+)\n",
            " create mode 100644 .dvc/.gitignore\n",
            " create mode 100644 .dvc/config\n",
            " create mode 100644 .dvcignore\n"
          ]
        }
      ]
    },
    {
      "cell_type": "code",
      "source": [
        "with Live(report=\"notebook\") as live:\n",
        "    for date in experiment_batches:\n",
        "        live.log_param(\"begin\", date[0])\n",
        "        live.log_param(\"end\", date[1])\n",
        "\n",
        "        metrics = eval_drift(\n",
        "            df.loc[df.dteday.between(reference_dates[0], reference_dates[1])],\n",
        "            df.loc[df.dteday.between(date[0], date[1])],\n",
        "            column_mapping=data_columns,\n",
        "        )\n",
        "\n",
        "        for feature in metrics:\n",
        "            live.log_metric(feature[0], round(feature[1], 3))\n",
        "\n",
        "        live.next_step()"
      ],
      "metadata": {
        "id": "_h-jGJqPiA30",
        "executionInfo": {
          "status": "ok",
          "timestamp": 1697468156663,
          "user_tz": -120,
          "elapsed": 16055,
          "user": {
            "displayName": "Francesco Motoko",
            "userId": "00974636158007469548"
          }
        },
        "colab": {
          "base_uri": "https://localhost:8080/",
          "height": 1000
        },
        "outputId": "0b949e24-8c53-4765-a8ee-64d002b3801e"
      },
      "execution_count": 14,
      "outputs": [
        {
          "output_type": "display_data",
          "data": {
            "text/plain": [
              "<IPython.core.display.Markdown object>"
            ],
            "text/markdown": "# DVC Report\n\nparams.yaml\n\n| begin               | end                 |\n|---------------------|---------------------|\n| 2011-02-15 00:00:00 | 2011-02-21 23:00:00 |\n\nmetrics.json\n\n|   weathersit |   temp |   atemp |   hum |   windspeed |   holiday |   workingday |   step |\n|--------------|--------|---------|-------|-------------|-----------|--------------|--------|\n|        0.231 |      0 |       0 | 0.062 |       0.012 |     0.275 |        0.593 |      3 |\n\n![static/holiday](data:image/png;base64,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)\n\n![static/windspeed](data:image/png;base64,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)\n\n![static/temp](data:image/png;base64,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)\n\n![static/workingday](data:image/png;base64,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)\n\n![static/weathersit](data:image/png;base64,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)\n\n![static/hum](data:image/png;base64,iVBORw0KGgoAAAANSUhEUgAAAoAAAAHgCAYAAAA10dzkAAAAOXRFWHRTb2Z0d2FyZQBNYXRwbG90bGliIHZlcnNpb24zLjcuMSwgaHR0cHM6Ly9tYXRwbG90bGliLm9yZy/bCgiHAAAACXBIWXMAAA9hAAAPYQGoP6dpAABhiklEQVR4nO3dd3xT5eI/8M9J0iSdKaW7lJayZ1umZY8qoiK4mC6uONiKC7wCblABQYYoinqvTBFwIYqFsofQFiiU0UFbSgeldI+0yfn9Eezv22uBFtI+GZ/365XX6xLOST45Nx4+efLkOZIsyzKIiIiIyG4oRAcgIiIiosbFAkhERERkZ1gAiYiIiOwMCyARERGRnWEBJCIiIrIzLIBEREREdoYFkIiIiMjOsAASERER2RkWQCIiIiI7wwJIREREZGdYAImIiIjsDAsgERERkZ1hASQiIiKyMyyARERERHaGBZCI6CbeeustSJKE3Nxc0VGIiMyGBZCIiIjIzrAAEhEREdkZFkAiIiIiO8MCSERUB/n5+Xj66afh7u4OnU6HCRMmoLS0FABw8eJFSJKEb7755h/7SZKEt956q/rPf88pPH/+PB5//HHodDp4eXlhzpw5kGUZ6enpGDFiBNzc3ODr64tFixY10iskInvCAkhEVAejRo1CUVER5s+fj1GjRuGbb77B22+/fduPN3r0aBiNRixYsAC9evXCe++9hyVLluDuu+9GQEAAPvzwQ7Rq1QqvvPIK9u7da8ZXQkQEqEQHICKyBuHh4fjqq6+q/3z16lV89dVX+PDDD2/r8Xr27InPP/8cAPDcc88hODgYL7/8MubPn4/XX38dADB27Fj4+/tjzZo16N+//52/CCKi6zgCSERUBy+88EKNP/fr1w9Xr15FYWHhbT3exIkTq/+3UqlE9+7dIcsynnnmmer73d3d0bZtWyQnJ99eaCKiG2ABJCKqg+bNm9f4c5MmTQAA165dM8vj6XQ6aLVaeHp6/uP+230OIqIbYQEkIqoDpVJZ6/2yLEOSpFr/zmAw1OvxbvYcRETmxAJIRHSH/h4NzM/Pr3F/amqqgDRERLfGAkhEdIfc3Nzg6en5j1/rrly5UlAiIqKb46+AiYjMYOLEiViwYAEmTpyI7t27Y+/evTh//rzoWEREtWIBJCIyg7lz5+LKlSvYvHkzNm3ahGHDhuG3336Dt7e36GhERP8gyZxdTERERGRXOAeQiIiIyM6wABIRERHZGRZAIiIiIjvDAkhERERkZ1gAiYiIiOwMCyARERGRneE6gACMRiMuX74MV1fXG17Tk4iIiMhSyLKMoqIi+Pv7Q6Go/3geCyCAy5cvIzAwUHQMIiIionpJT09Hs2bN6r0fCyAAV1dXAKaD6ObmJjgNERER0c0VFhYiMDCwusPUFwsgUP21r5ubGwsgERERWY3bnbrGH4EQERER2RkWQCIiIiI7wwJIREREZGdYAImIiIjsDAsgERERkZ1hASQiIiKyMyyARERERHaGBZCIiIjIzrAAEhEREdkZFkAiIiIiO2NxBXDv3r0YPnw4/P39IUkStm3bdst9oqOj0bVrV2g0GrRq1QrffPNNg+ckIiIislYWVwBLSkoQGhqKFStW1Gn7lJQU3H///Rg0aBDi4uLw4osvYuLEifj9998bOCkRERGRdVKJDvC/hg0bhmHDhtV5+1WrVqFFixZYtGgRAKB9+/bYv38/PvnkEwwdOrShYhIRERFZLYsbAayvQ4cOITIyssZ9Q4cOxaFDhwQlqp0sy9h34QrOZRWJjkJERER2zuoLYFZWFnx8fGrc5+Pjg8LCQpSVldW6T0VFBQoLC2vcGtonf17AE18dxeKd5xr8uYiIiIhuxuoL4O2YP38+dDpd9S0wMLDBn3N4Fz9IEvD76WyOAhIREZFQVl8AfX19kZ2dXeO+7OxsuLm5wdHRsdZ9Zs+ejYKCgupbenp6g+ds7eOKYZ18AQArdic2+PMRERER3YjVF8CIiAhERUXVuG/nzp2IiIi44T4ajQZubm41bo1hyqBWAIBfTl5G8pXiRnlOIiIiov9lcQWwuLgYcXFxiIuLA2Ba5iUuLg5paWkATKN3Tz75ZPX2L7zwApKTk/Haa6/h7NmzWLlyJTZt2oSXXnpJRPyb6uivw5B23jDKwGfRSaLjEBERkZ2yuAJ47NgxhIeHIzw8HAAwc+ZMhIeHY+7cuQCAzMzM6jIIAC1atMCvv/6KnTt3IjQ0FIsWLcKXX35psUvATB1sGgXcGpuB9LxSwWmIiIjIHkmyLMuiQ4hWWFgInU6HgoKCRvk6+ImvjmDfhVw8fldzvDeyc4M/HxEREdmWO+0uFjcCaA+mXp8LuOmvS8guLBechoiIiOwNC6AAvUKaomewB/QGIz7fkyw6DhEREdkZFkBB/p4LuO5oKnKLKwSnISIiInvCAihIv9aeCG2mQ3mlEV/tTxEdh4iIiOwIC6AgkiRh6uDWAID/HLyI/FK94ERERERkL1gABRrSzhvtfF1Rojfgm4MXRcchIiIiO8ECKJBCIVXPBfz6wEUUlVcKTkRERET2gAVQsGGd/BDi5YyCskp8dzjt1jsQERER3SEWQMGUCglTBppGAb/cl4wyvUFwIiIiIrJ1LIAW4MEwfwR6OOJqiR7rj3IUkIiIiBoWC6AFcFAqMGmAaRTw871JqKjiKCARERE1HBZAC/FItwD4ummRXViBzccviY5DRERENowF0EJoVEo8PyAEAPBZdBIqDUbBiYiIiMhWsQBakDE9msPTRY1L18rwY9xl0XGIiIjIRrEAWhBHtRIT+5lGAVfuToTBKAtORERERLaIBdDCPH5XEHSODkjOLcH2U5mi4xAREZENYgG0MC4aFf7VpwUAYPmuRBg5CkhERERmxgJogZ7uHQwXjQrnsovwZ0K26DhERERkY1gALZDOyQFPRgQBAJbvToQscxSQiIiIzIcF0EI907cFtA4KnLxUgL0XckXHISIiIhvCAmihmrpoML6XaRRwWdQFjgISERGR2bAAWrDn+odArVTgWOo1HEnJEx2HiIiIbAQLoAXzcdNiVI9mAEy/CCYiIiIyBxZAC/d8/5ZQKSTsT8xFTNo10XGIiIjIBrAAWrhADyc8FB4AAFjBUUAiIiIyAxZAKzB5UCsoJCDqbA7iMwpExyEiIiIrxwJoBVp4OmN4qD8AYGU0RwGJiIjozrAAWokpg1oBAH6Lz8KF7CLBaYiIiMiasQBaiTY+rri3oy9kGVgZnSQ6DhEREVkxFkArMnWwaRTwx7gMXMwtEZyGiIiIrBULoBXpFKDDoLZeMMrAZxwFJCIiotvEAmhlpg5uDQD4IeYSMvLLBKchIiIia8QCaGW6BTVB75ZNUWWU8fkejgISERFR/bEAWqG/5wJu+CsdOYXlgtMQERGRtWEBtEIRIU3RLagJ9FVGrN6XLDoOERERWRkWQCskSVL1KOB3h9OQV6IXnIiIiIisCQuglRrYxgudAtxQVmnAmv0pouMQERGRFWEBtFKSJGHqINMvgr89eBEFZZWCExEREZG1YAG0Yvd08EEbHxcUVVThPwcvio5DREREVoIF0IopFFL1NYK/OpCCkooqwYmIiIjIGrAAWrkHuvijhacz8ksrsfZIqug4REREZAVYAK2cUiFh0sCWAIAv9qagvNIgOBERERFZOhZAG/BQeAAC3B2RW1yBjX+li45DREREFo4F0AY4KBV44foo4Ko9SdBXGQUnIiIiIkvGAmgjHuvWDN6uGmQWlGNLzCXRcYiIiMiCsQDaCK2DEs/1DwEArIxOQpWBo4BERERUOxZAGzKuV3N4OKuRlleKn09eFh2HiIiILBQLoA1xUqvwTN8WAIDluxJhNMqCExEREZElYgG0MU9GBMFNq0LSlRLsOJ0lOg4RERFZIBZAG+OqdcDTfUyjgMt2JUKWOQpIRERENbEA2qAJvYPhrFYiIbMQu87miI5DREREFoYF0AY1cVbj8YggABwFJCIion9iAbRRE/uGQOugQFx6Pg4kXhUdh4iIiCwIC6CN8nLVYGzP5gCAZbsuCE5DREREloQF0IY91z8EaqUCR1LycDQlT3QcIiIishAsgDbMT+eIR7s3AwAs350oOA0RERFZChZAGzdpQEsoFRL2nr+CuPR80XGIiIjIArAA2rhADyeMDAsAYLo6CBERERELoB2YPKglJAn4MyEbZy4Xio5DREREgrEA2oGWXi64v7MfAGBFNEcBiYiI7B0LoJ2YMqgVAGD7qUwk5hQLTkNEREQiWWQBXLFiBYKDg6HVatGrVy8cPXr0ptsvWbIEbdu2haOjIwIDA/HSSy+hvLy8kdJah/Z+bri7gw9kGVjJUUAiIiK7ZnEFcOPGjZg5cybmzZuHmJgYhIaGYujQocjJqf2atuvWrcOsWbMwb948JCQk4KuvvsLGjRvxxhtvNHJyyzf1+ijgj3GXkXa1VHAaIiIiEsXiCuDixYvx7LPPYsKECejQoQNWrVoFJycnrFmzptbtDx48iD59+mDcuHEIDg7GPffcg7Fjx95y1NAehQa6o38bLxiMMj7bkyQ6DhEREQliUQVQr9fj+PHjiIyMrL5PoVAgMjIShw4dqnWf3r174/jx49WFLzk5Gdu3b8d9993XKJmtzbTBplHAzcfTkVlQJjgNERERiaASHeD/ys3NhcFggI+PT437fXx8cPbs2Vr3GTduHHJzc9G3b1/Isoyqqiq88MILN/0KuKKiAhUVFdV/Liy0n6VRegR7oFcLDxxJycPne5Lx1oMdRUciIiKiRmZRI4C3Izo6Gh988AFWrlyJmJgYbNmyBb/++ivefffdG+4zf/586HS66ltgYGAjJhZv2uDWAID1R9NwpajiFlsTERGRrbGoAujp6QmlUons7Owa92dnZ8PX17fWfebMmYMnnngCEydOROfOnfHQQw/hgw8+wPz582E0GmvdZ/bs2SgoKKi+paenm/21WLI+rZoiLNAdFVVGfLk/WXQcIiIiamQWVQDVajW6deuGqKio6vuMRiOioqIQERFR6z6lpaVQKGq+DKVSCQCQZbnWfTQaDdzc3Grc7IkkSdVzAb87lIprJXrBiYiIiKgxWVQBBICZM2di9erV+Pbbb5GQkIBJkyahpKQEEyZMAAA8+eSTmD17dvX2w4cPx2effYYNGzYgJSUFO3fuxJw5czB8+PDqIkj/NLidN9r7uaFEb8DXBy+KjkNERESNyKJ+BAIAo0ePxpUrVzB37lxkZWUhLCwMO3bsqP5hSFpaWo0RvzfffBOSJOHNN99ERkYGvLy8MHz4cLz//vuiXoJV+HsUcPLaGHxzIAUT+7WAm9ZBdCwiIiJqBJJ8o+9J7UhhYSF0Oh0KCgrs6utgo1HGPUv2IjGnGK8ObVt9uTgiIiKybHfaXSzuK2BqPAqFhCmDWgIAvtqfglJ9leBERERE1BhYAO3c8C7+aO7hhLwSPdYdSRMdh4iIiBoBC6CdUykVmDzQNAr4xd5klFcaBCciIiKihsYCSHi4azP46bTIKarA98cviY5DREREDYwFkKBWKfDCANMo4KroJFQaal9Am4iIiGwDCyABAEb3CISniwYZ+WXYGpshOg4RERE1IBZAAgBoHZR4rn8LAMDK3YkwGO1+dSAiIiKbxQJI1cb3CkITJwdcvFqKX05eFh2HiIiIGggLIFVz1qjwTF/TKOCK3YkwchSQiIjIJrEAUg1P9g6Gq1aF89nF+ONMtug4RERE1ABYAKkGN60Dnu4dDABYvvsCeKVAIiIi28MCSP8woU8LOKmViM8oRPT5K6LjEBERkZmxANI/eDir8fhdQQCAZVEcBSQiIrI1LIBUq4n9WkCtUiAmLR+Hkq6KjkNERERmxAJItfJ21WJsj0AAwLJdiYLTEBERkTmxANINPTegJRyUEg4lX8Wxi3mi4xAREZGZsADSDQW4O+KRrs0AAMt3cxSQiIjIVrAA0k1NGtgSCgmIPncFpy4ViI5DREREZsACSDcV1NQZI8ICAJjWBSQiIiLrxwJItzR5YEtIEvD76WycyyoSHYeIiIjuEAsg3VJrH1cM6+QLwHSNYCIiIrJuLIBUJ1MGtQIA/HLyMpKvFAtOQ0RERHeCBZDqpKO/DkPaecMoA59FJ4mOQ0RERHeABZDqbMpg0yjg1tgMpOeVCk5DREREt4sFkOqsa/Mm6NvKE1VGGZ/v5SggERGRtWIBpHqZen0UcNNfl5BdWC44DREREd0OFkCql14tPNAjuAn0BiO+2JssOg4RERHdBhZAqhdJkjB1cGsAwNojqbhaXCE4EREREdUXCyDVW//WnujSTIfySiO+2p8iOg4RERHVEwsg1ZskSZh6fV3A/xxKRUFppeBEREREVB8sgHRbItv7oJ2vK4orqvDNwYui4xAREVE9sADSbVEopOqrg6w5kILiiirBiYiIiKiuWADptt3X2Q8hns4oKKvEd4dTRcchIiKiOmIBpNumVEiYfH0U8Mt9ySjTGwQnIiIiorpgAaQ7MiLMH82aOCK3WI8Nf6WJjkNENi6nqBxRCdmQZVl0FCKrxgJId8RBqcDkgaZRwM/3JKOiiqOARNQwSvVVGPPFYTzz7TF8GpUoOg6RVWMBpDv2SLcA+LppkVVYjh+OZ4iOQ0Q26t1fziD5SgkAYEnUeRxMzBWciMh6sQDSHdOolHh+QAgAYGV0IioNRsGJiMjW/HYqE+uPpkOSgLtCPCDLwPQNccjhNcmJbgsLIJnFmB7N4emixqVrZfgp7rLoOERkQy7nl2HWllMAgBcGtMTXT/dEO19X5BZXYPqGWFTxQydRvbEAklk4qpWY2M80CrhidyIMRk7QJqI7ZzDKeGljHArKKhHaTIeZd7eBo1qJFeO7wlmtxOHkPCyNuiA6JpHVYQEks3n8riDoHB2QnFuC7acyRcchIhuwak8SjqTkwUmtxNIx4XBQmv7Zaunlgg8e7gwAWL47EXvOXxEZk8jqsACS2bhoVPhXnxYAgOW7EmHkKCAR3YHYtGtYvPM8AOCdEZ0Q7Olc4+9HhAVgfK/mkGXgpY1xyCwoExGTyCqxAJJZPd07GC4aFc5lF+HPhGzRcYjIShWVV2LGhjgYjDKGh/rjka4BtW4354EO6OjvhrwSPaavj+WP0IjqiAWQzErn5IAnI4IAmL6W4WKtRHQ75v14Gml5pQhwd8R7IztBkqRat9M6KLFiXFe4alT46+I1LPzjXCMnJbJOLIBkds/0bQGtgwInLxVg7wWu00VE9bMtNgNbYjOgkIClY8Kgc3S46fbBns746NEuAEwL0kfx2weiW2IBJLNr6qLB+F6mUcBlURc4CkhEdZZ2tRRvbosHAEwf0hrdgz3qtN+wzn54uncwAGDmphO4dK20oSIS2QQWQGoQz/UPgVqpwLHUaziSkic6DhFZgSqDETM2xqK4ogrdg5pg6qBW9dr/jfvaI7SZDgVllZi6Lhb6Ks4HJLoRFkBqED5uWozq0QyA6RfBRES38mnUBcSm5cNVq8KSMWFQKev3T5RapcDycV3hplUhLj0fC34720BJiawfCyA1mOf7t4RKIWF/Yi5i0q6JjkNEFuxI8lUs3236sPj+Q53RrInTbT1OoIcTFo0KAwCsOZCCHfFZ5opIZFNYAKnBBHo44aFw09INKzgKSEQ3UFBaiZc2xsEoA492a4YHQ/3v6PHu7uCDZ/uZ1iR9dfMJpF3lfECi/8UCSA1q0sCWUEhA1NkcxGcUiI5DRBZGlmXM3noSlwvKEdzUCW892NEsj/vave3Qtbk7isqrMGVdDCqqDGZ5XCJbwQJIDSrEywUPdDF9ml8ZzVFAIqrp+2OXsP1UFlQKCUvHhMNFozLL4zooTfMBmzg54FRGAd7/NcEsj0tkK1gAqcFNuf5Lvt/is3Ahu0hwGiKyFElXijHvp9MAgJfvaYvQQHezPr6/uyMWjw4DAPznUCp+PnHZrI9PZM1YAKnBtfV1xdCOPpBlYGV0kug4RGQB9FVGzNgQi7JKA3q3bIrn+4c0yPMMauuNyQNbAgBmbzmF5CvFDfI8RNaGBZAaxdRBrQEAP8ZlIPVqieA0RCTaoj/OIT6jEO5ODlg8KgwKRe2XejOHmXe3Qc8WHiiuqMLktTEor+R8QCIWQGoUnZvpMLCtF4wy8BlHAYns2v4Lufh8bzIA4MNHusBXp23Q51MpFVg2NhxNndU4m1WEt38+3aDPR2QNWACp0UwbbJoL+EPMJWTklwlOQ0QiXC2uwMxNcQCA8b2aY2hH30Z5Xh83LZaOCYckAeuPpmNr7KVGeV4iS8UCSI2mW5AHIkKaotIg44s9HAUksjeyLOP1H04ip6gCrbxd8Ob9HRr1+fu29sT0wabpKG9siUdiDn+URvaLBZAa1d+jgOv/SkdOUbngNETUmL47nIo/E3KgVirw6ZhwOKqVjZ5h+pDW6NOqKcoqDZi8Ngal+qpGz0BkCVgAqVFFtGyKrs3doa8y4st9KaLjEFEjOZ9dhPeur8U3a1g7dPB3E5JDqZCwZHQ4vFw1OJ9djDnbOB+Q7BMLIDUqSZIw7fpXMN8dTkVeiV5wIiJqaOWVBkxfH4uKKiMGtvXChD7BQvN4uWqwbGw4FJJpTvKmY+lC8xCJYJEFcMWKFQgODoZWq0WvXr1w9OjRm26fn5+PKVOmwM/PDxqNBm3atMH27dsbKS3V18C2XugU4IZSvQFfH+AoIJGtW/DbWZzNKoKnixofPxoKSWq4JV/q6q6Qpnj5nrYAgDnb4nE2q1BwIqLGZXEFcOPGjZg5cybmzZuHmJgYhIaGYujQocjJyal1e71ej7vvvhsXL17E5s2bce7cOaxevRoBAQGNnJzqSpKk6nUBvzlwEQVllYITEVFD2XU2G98cvAgAWPhYKLxcNWID/R+TBrTEgDZeqKgyYvLaGBRXcD4g2Q+LK4CLFy/Gs88+iwkTJqBDhw5YtWoVnJycsGbNmlq3X7NmDfLy8rBt2zb06dMHwcHBGDBgAEJDQxs5OdXHPR180MbHBUUVVfjvoYui4xBRA8gpKser358EAPyrTwsMbOstOFFNCoWET0aHwddNi+QrJfj31lOQZVl0LKJGYVEFUK/X4/jx44iMjKy+T6FQIDIyEocOHap1n59++gkRERGYMmUKfHx80KlTJ3zwwQcwGLjSuyVTKKTqawR/tT8FJfzkTWRTjEYZL286gaslerT3c8Prw9qKjlQrD2c1lo8Lh1Ih4ce4y1h3NE10JKJGYVEFMDc3FwaDAT4+PjXu9/HxQVZWVq37JCcnY/PmzTAYDNi+fTvmzJmDRYsW4b333rvh81RUVKCwsLDGjRrfA1380cLTGddKK7HuCE+6RLZkzYEU7LuQC62DAp+OCYNG1fhLvtRV92APvDbUVFDf/vkM4jMKBCciangWVQBvh9FohLe3N7744gt069YNo0ePxr///W+sWrXqhvvMnz8fOp2u+hYYGNiIielvSoWESdcv0v753mRen5PIRsRnFODDHWcBAHMe6IDWPq6CE93as/1CENneG/oqI6asi0FhOecmk22zqALo6ekJpVKJ7OzsGvdnZ2fD17f2ywX5+fmhTZs2UCr//6fL9u3bIysrC3p97UuMzJ49GwUFBdW39HQuASDKQ+EBCHB3RG5xBTb+xf8fiKxdqb4KMzbEotIg454OPhjXs7noSHWiUEhY+FgoAtwdkXq1FLN+OMn5gGTTLKoAqtVqdOvWDVFRUdX3GY1GREVFISIiotZ9+vTpg8TERBiNxur7zp8/Dz8/P6jV6lr30Wg0cHNzq3EjMRyUCrxwfRRw1Z4k6KuMt9iDiCzZu78kIOlKCXzcNPjwkS4WseRLXbk7meYDOiglbD+VhW+v/3qZyBZZVAEEgJkzZ2L16tX49ttvkZCQgEmTJqGkpAQTJkwAADz55JOYPXt29faTJk1CXl4eZsyYgfPnz+PXX3/FBx98gClTpoh6CVRPj3VrBm9XDTILyrElhhdoJ7JWO+Izsf5oGiQJ+GRUGJo41/4h3JKFN2+C2cPaAwDe356AE+n5YgMRNRCLK4CjR4/GwoULMXfuXISFhSEuLg47duyo/mFIWloaMjMzq7cPDAzE77//jr/++gtdunTB9OnTMWPGDMyaNUvUS6B60joo8Vz/EADAyugkVBk4CkhkbTILyvD6D6cAAM/3b4nerTwFJ7p9E/oE496Ovqg0yJiyLgYFpZwPSLZHkjnJAYWFhdDpdCgoKODXwYKU6qvQ98PdyCvR45PRoXgovJnoSERURwajjPFfHsbh5Dx0aabD5hd6Q62yuPGFeikoq8TwZfuRlleKuzv44IsnulnV19lk++60u1j3f6FkM5zUKjzTtwUAYPmuRBiNdv+5hMhqrNqThMPJeXBSK7F0TLjVlz8A0Dk6YOX4rlArFdh5Jhtf7edlK8m2WP9/pWQznowIgptWhaQrJdhxuvZ1H4nIssSmXcPinecBAG8/2BEtPJ0FJzKfTgE6zBneAYDpesbHU68JTkRkPiyAZDFctQ54uo9pFHDZrkQuwUBk4YorqjBjQxwMRhkPdPHDo91sb+rG472a44Eufqgyypi6LgZ5JbUvL0ZkbVgAyaJM6B0MZ7USCZmF2HU2R3QcIrqJuT/GIy2vFAHujnj/oc42OUdOkiQseKQLQjydkVlQjpmb4jhFhWwCCyBZlCbOajweEQSAo4BEluzHuAxsicmAQgKWjAmDztFBdKQG46JRYcX4rtCoFIg+dwWr9iaJjkR0x1gAyeJM7BsCjUqBuPR8HEi8KjoOEf2P9LxSvLk1HgAwbXBr9Aj2EJyo4bX3c8PbD3YEACz64zyOJPPcRNaNBZAsjperBmOvXz5q2a4LgtMQ0f9VZTBixoZYFFVUoVtQE0wb3Ep0pEYzukcgHg4PgMEoY9r6WOQWV4iORHTbWADJIj0/IAQOSglHUvJwNCVPdBwiuu7TXYmIScuHq0aFJaPDoFLazz8jkiThvYc6oZW3C3KKKvDi9R/AEFkj+/kvl6yKn84Rj3YLBAAs350oOA0RAcDRlDwsvz4q//7DnRHo4SQ4UeNzUqvw2fiucHRQYn9iLpbv4vmJrBMLIFmsSQNaQqmQsPf8FV6Pk0iwgtJKvLghFkYZeKRrMzwY6i86kjCtfVzx3shOAIAlUedxIDFXcCKi+mMBJIvVvKkTRoSZ/pHhKCCROLIs441tp3C5oBxBTZ3w9oiOoiMJ90i3ZhjdPRCyDMzYEIucwnLRkYjqhQWQLNrkga0gScDOM9lIyCwUHYfILn1//BJ+PZkJlULC0jHhcNGoREeyCG+P6Ih2vq7ILdZj+oZYVBmMoiMR1RkLIFm0Vt4uuK+zHwBgBUcBiRpd8pVivPXTaQDAzHvaICzQXWwgC6J1UGLF+K5wVitxODkPS6O4agFZD7MVwPLycnz88ce477770L17d3Tt2rXGjeh2TR1kWmbi11OZSLpSLDgNkf3QVxkxY0McSvUGRIQ0xfP9W4qOZHFaerngg4c7AzBNVdlz/orgRER1Y7Zx/GeeeQZ//PEHHn30UfTs2dMmLwlEYrT3c0Nkex/8mZCNlbuTsGhUqOhIRHZh0c5zOJVRAHcnByweHQqlguf12owIC8DRlDysPZKGlzbG4dfpfeGncxQdi+imJNlM19rS6XTYvn07+vTpY46Ha1SFhYXQ6XQoKCiAm5ub6DhUi7j0fIxccQBKhYToVwba5fITRI1p/4VcPP7VEQDAqse74d5OvoITWbbySgMe+ewgTl8uRPegJlj/3F1wsKM1Eqnx3Wl3Mdu7MyAgAK6uruZ6OKIawgLd0a+1JwxGGZ/t4XU4iRpSXokeMzfFAQDG9WrO8lcHWgclVo7vCleNCsdSr2HhH+dERyK6KbMVwEWLFuH1119HamqquR6SqIbpQ1oDADYfu4TMgjLBaYhskyzLeG3zSeQUVaCllzPm3N9BdCSrEdTUGR892gUA8PmeZEQlZAtORHRjZiuA3bt3R3l5OUJCQuDq6goPD48aN6I71SPYA71aeEBvMOKLvcmi4xDZpLVH0vBnQjbUSgU+HRsOR7VSdCSrMqyzH57uHQwAmLnpBC5dKxUbiOgGzPYjkLFjxyIjIwMffPABfHx8+CMQahDTBrfGka+OYP3RNEwe2AperhrRkYhsxoXsIrz7yxkAwOvD2qGjv05wIuv0xn3tEZuejxPp+Zi6Lhabno+AWsX5gGRZzFYADx48iEOHDiE0lL/QpIbTp1VThAW6Iy49H1/tT8GsYe1ERyKyCeWVBkxbH4uKKiMGtPHChOujWFR/apUCy8eG4/5P9yEuPR8LfjuLucP5VTpZFrN9JGnXrh3KyjgvixqWJEmYNti0LuB/D11EfqlecCIi2/DhjrM4m1UETxc1Fj4WCgWXfLkjgR5OWDQqDACw5kAKdsRniQ1E9D/MVgAXLFiAl19+GdHR0bh69SoKCwtr3IjMZXA7b7T3c0OJ3oA1By6KjkNk9XafzcHX1/9b+vjRUE6tMJO7O/jguf4hAIBXN59A2lXOByTLYbYCeO+99+LQoUMYMmQIvL290aRJEzRp0gTu7u5o0qSJuZ6GqMYo4DcHUlBYXik4EZH1ulJUgVc3nwAATOgTjEHtvAUnsi2vDm2LbkFNUFRehcnrjqO80iA6EhEAM84B3L17t7keiuiW7u3oi1beLkjMKcZ/D6ViyvXLxRFR3RmNMl75/gRyi/Vo5+uK1+/lnFpzc1AqsOz6fMD4jEK8/2sC3h3ZSXQsIvNdCcSa8Uog1mlr7CW8tPEEPJzV2P/6IDipzfZ5hsgufLU/Be/+cgYalQK/TOuL1j5czL+h7D6Xgwlf/wUAWDY2HMND/QUnImt3p93FbP9i7t2796Z/379/f3M9FREAYHgXf3yy8wLS8kqx7kgaJvYLER2JyGqcvlyAD387CwCY80AHlr8GNqitN6YMaokVu5Mwe8spdPR3Q4iXi+hYZMfMNgKoUPxzOuH/XQvQYLDceQ8cAbReG46mYdaWU/B21WDva4OgdeCitUS3UqY34IFl+5B0pQR3d/DBF09049qtjaDKYMT4L4/gSEoe2vm6YtuUPjxn0W2zmGsBX7t2rcYtJycHO3bsQI8ePfDHH3+Y62mIani4azP46bTIKarA98cviY5DZBXe/fUMkq6UwMdNgw8f6cLy10hU16+u0tRZjbNZRXj759OiI5EdM1sB1Ol0NW6enp64++678eGHH+K1114z19MQ1aBWKfDCgJYAgFXRSag0GAUnIrJsO+KzsO5IGiQJWDwqDB7OatGR7IqPmxZLx4RDkoD1R9OxNZYfXEmMBr82jY+PD86dO9fQT0N2bHSPQHi6aJCRX4atsRmi4xBZrMyCMszachIA8Fz/EPRp5Sk4kX3q29oT0we3BgC8sSUeF7KLBCcie2S2Anjy5MkatxMnTmDHjh144YUXEBYWZq6nIfoHrYMSz/VvAQBYuTsRBqPd/7Cd6B8MRhkzN55AfmklOgfo8PLdbUVHsmvTh7RGn1ZNUVZpwOS1MSjVV4mORHbGbAUwLCwM4eHhCAsLq/7f9913H/R6Pb788ktzPQ1Rrcb3CoK7kwMuXi3FLycvi45DZHE+35uEQ8lX4aRWYumYMKhVDf4FEN2EUiFhyehweLlqcCGnGHO2cT4gNS6znQFSUlKQnJyMlJQUpKSkIDU1FaWlpTh48CDatePiotSwnDUqPNPHNAq4YncijBwFJKoWl56PxX+cBwC89WBHLj9iIbxcNVg2NhwKCfgh5hI2HUsXHYnsiNnWAQwKCkJUVBSioqKQk5MDo7HmZPw1a9aY66mIavVk72B8sTcZ57OL8ceZbNzbyVd0JCLhiiuqMGNDLKqMMu7v4ofHujUTHYn+j7tCmuLle9ri49/PYc62eHRppkM7Xy5HRg3PbCOAb7/9Nu655x5ERUUhNzf3H8vCEDU0naMDnuodDABYvvsCeJEbImDej6eRerUUAe6O+GBkZy75YoEmDWiJAW28UFFlxOS1MSiu4HxAanhmWwjaz88PH330EZ544glzPFyj4kLQtiOvRI8+C3ahrNKAryf0wKC2vLA92a8f4zIwY0McFBKw4bkI9GzhIToS3UBeiR73Ld2HrMJyPBjqj6VjwljW6aYsZiFovV6P3r17m+vhiG6Lh7Maj9/VHACwLIqjgGS/0vNK8ebWeADA1MGtWf4snIezGsvHhUOpkPDTictYdzRNdCSycWYrgBMnTsS6devM9XBEt+3ZfiFQqxSIScvHoeSrouMQNboqgxEvboxDUUUVujZ3x/TBrURHojroHuyB1+81Lc/z9s9nEJ9RIDgR2bI7+hHIzJkzq/+30WjEF198gT///BNdunSBg4NDjW0XL158J09FVGfeblqM6RGI/xxKxfJdiejdkovdkn1ZtisRx1OvwVWjwtIx4VApueSLtXi2XwiOpuThz4QcTFkXg5+n9YWb1uHWOxLV0x0VwNjY2Bp//nvB5/j4+Br3cx4DNbbnB7TEuiNpOJh0FcdT89AtiF9/kX3462Ielu26AAB476FOCPRwEpyI6kOSJCx8LBT3f7ofqVdLMeuHk1gxriv/HSWzM9uPQKwZfwRim17ffBIbj6VjUFsvfD2hp+g4RA2uoKwS9y3dh4z8MjzcNQCLR4WJjkS3KS49H4+tOohKg4y3hnfA09fXOSX6m8X8CITI0kwa2BIKCdh97grn0pDNk2UZb2w9hYz8MjT3cMI7IzqJjkR3ICzQHbOHtQcAvL89ASfS88UGIpvDAkg2K9jTGQ+G+gMAlu9KFJyGqGFtPn4Jv57MhEoh4dOx4XDRmG2dfxJkQp9g3NvRF5UGGZPXxqCgtFJ0JLIhLIBk06YMagVJAnaczsL57CLRcYgaREpuCeb9ZLqW7Et3t0FYoLvYQGQWkiTho8e6oLmHEzLyy/Dy9ye4tBWZDQsg2bTWPq4Ydv2ScCt2cxSQbI++yogZG2JRqjfgrhAPvDCgpehIZEZuWgesHN8VaqUCfyZk48t9KaIjkY1gASSbN2WQaQ20n09cRkpuieA0ROa1eOd5nLxUAJ2jAz4ZHQalgr8WtTWdAnSYM7wDAODDHWdxPJWXV6U7xwJINq+jvw5D2nnDKAOfRXMUkGzHwcRcfL43CQDw4SOd4adzFJyIGsrjvZpjeKg/qowypq6LQV6JXnQksnIsgGQXply/EsKWmAxculYqOA3RnbtWosdLm+Igy8DYns1xbyc/0ZGoAUmShPkPd0aIpzMyC8oxc1McjEbOB6TbxwJIdqFr8ybo28oTVUYZq/YkiY5DdEdkWcbrP5xEdmEFWno5Y84D7UVHokbgolFhxfiu0KgUiD53Bav28lxGt48FkOzG1OujgJv+uoTswnLBaYhu37qjafjjTDbUSgWWjgmHk5pLvtiL9n5ueGdERwDAwt/P4Qivd063iQWQ7EavFh7oEdwEeoMRX+xNFh2H6LZcyC7Cu7+cAQC8dm9bdArQCU5EjW1U90A8HB4AowxMWx+L3OIK0ZHICrEAkt2QJAlTB7cGAKw9koqrPGmSlSmvNGD6hjiUVxrRv40X/sXLg9klSZLw3kOd0NrbBTlFFXhxQxwMnA9I9cQCSHalf2tPdGmmQ3mlEV/t53paZF0+2nEOCZmFaOqsxsLHukDBJV/slpNahZXju8LRQYn9ibm82hHVGwsg2RVJkjD1+rqA/zmUyksrkdXYfS4Haw6YPrQsfCwU3q5awYlItNY+rnj/IdM1n5dEnceBxFzBiciasACS3Yls74N2vq4orqjCNwcvio5DdEtXiirw6vcnAABP9w7GoHbeghORpXi4azOM7h4IWQZmbIhFDn/gRnXEAkh2R6GQqq8OsuZACoorqgQnIroxo1HGK9+fQG6xHu18XTFrWDvRkcjCvD2iI9r5uiK3WI9p62NRZTCKjkRWgAWQ7NJ9nf0Q4umMgrJKfHc4VXQcohv65uBF7Dl/BRqVAp+ODYfWQSk6ElkYrYMSK8d3hbNaiSMpeVjy5wXRkcgKsACSXVIqJEy+Pgr45b5klOkNghMR/dOZy4VY8NtZAMCbD3RAGx9XwYnIUoV4uWD+I10AAMt3JyL6XI7gRGTpWADJbo0I80ezJo7ILdZjw19pouMQ1VCmN2D6hljoDUZEtvfB472ai45EFu7BUH88fpfpffLSxjhkFpQJTkSWjAWQ7JaDUoFJA1sCAD7fk4yKKo4CkuV479czSMwphrerBh892gWSxCVf6NbevL8DOvq74VppJaati0Ul5wPSDVhsAVyxYgWCg4Oh1WrRq1cvHD16tE77bdiwAZIkYeTIkQ0bkGzCo92awcdNg6zCcvxwPEN0HCIAwO+ns7D2SBokCfhkdBg8nNWiI5GV+Hs+oKtGhWOp17Dwj3OiI5GFssgCuHHjRsycORPz5s1DTEwMQkNDMXToUOTk3HxOw8WLF/HKK6+gX79+jZSUrJ1GpcTz/U2jgCujE/lpmYTLKijH6z+cBAA81z8EfVp5Ck5E1iaoqTM+etQ0H/DzPcmISsgWnIgskUUWwMWLF+PZZ5/FhAkT0KFDB6xatQpOTk5Ys2bNDfcxGAwYP3483n77bYSEhDRiWrJ2Y3s2R1NnNS5dK8NPcZdFxyE7ZjDKeGljHPJLK9E5QIeX724rOhJZqWGd/TChTzAAYOamE7h0rVRsILI4FlcA9Xo9jh8/jsjIyOr7FAoFIiMjcejQoRvu984778Db2xvPPPNMY8QkG+KoVmJiP9OHhhXRibymJgnzxd5kHEq+CkcHJZaOCYNaZXGnaLIis4e1R2igOwrKKjFlXSz0VfyGg/4/izu75ObmwmAwwMfHp8b9Pj4+yMrKqnWf/fv346uvvsLq1avr9BwVFRUoLCyscSP79vhdzaFzdEDylRL8Fp8pOg7ZoRPp+Vh0fb7W2w92RIiXi+BEZO3UKgWWjw2Hm1aFE+n51UsKEQEWWADrq6ioCE888QRWr14NT8+6zZWZP38+dDpd9S0wMLCBU5Klc9U6VH9dsnxXIowcBaRGVFxRhRkbYlFllHF/Zz881r2Z6EhkIwI9nLBoVBgA05WPdvADLl1ncQXQ09MTSqUS2dk1J61mZ2fD19f3H9snJSXh4sWLGD58OFQqFVQqFf7zn//gp59+gkqlQlJS0j/2mT17NgoKCqpv6enpDfZ6yHo83TsYLhoVzmYVIeosF1GlxvPWT6dx8Wop/HVafPBQZy75QmZ1dwcfPNffNM3l1c0nkXaV8wHJAgugWq1Gt27dEBUVVX2f0WhEVFQUIiIi/rF9u3btcOrUKcTFxVXfHnzwQQwaNAhxcXG1ju5pNBq4ubnVuBG5O6nxREQQAGD5rguQZY4CUsP76cRlbD5+CQoJWDImHDonB9GRyAa9OrQtugU1QVF5FSavO47ySq57au8srgACwMyZM7F69Wp8++23SEhIwKRJk1BSUoIJEyYAAJ588knMnj0bAKDVatGpU6caN3d3d7i6uqJTp05Qq7l+FtXdM31bQOugwIlLBdh3IVd0HLJx6Xml+PfWUwCAqYNaoWcLD8GJyFY5KBVYPi4cTZwcEJ9RiPd/TRAdiQSzyAI4evRoLFy4EHPnzkVYWBji4uKwY8eO6h+GpKWlITOT8xjI/DxdNBjX8+9RwETBaciWVRmMeGljHIrKq9C1uTumD2ktOhLZOD+dIz4ZHQYA+O/hVPx8gste2TNJ5vdcKCwshE6nQ0FBAb8OJmQXlqPfh7uhNxix8bm70CukqehIZIOW/HkeS/68ABeNCr/N6IdADyfRkchOfPz7WazYnQRntRI/T+vLX5xbqTvtLhY5Akgkko+bFqN6mH6FuXw3RwHJ/I5dzMOnURcAAO8/1InljxrVS5Ft0KuFB0r0BkxeG8P5gHaKBZCoFs/3bwmVQsK+C7mITbsmOg7ZkIKySszYEAejDDwcHoARYQGiI5GdUSkV+HRsODxd1DibVYS3fjotOhIJwAJIVItADyc8FG76h3kFRwHJTGRZxr+3nkJGfhmaezjh7REdRUciO+XjpsXSMeGQJGDDX+nYGntJdCRqZCyARDcwaWBLKCTgz4QcnL5cIDoO2YAfYjLwy8lMKBUSlo4Jg6uWS76QOH1aeWLG9R8fvbElHheyiwQnosbEAkh0AyFeLnigiz8AjgLSnbuYW4K5P8YDAGbe3QbhzZsITkQETBvcGn1beaKs0jQfsFRfJToSNRIWQKKbmDKoFQDgt/gsfjqm21ZpMGLGhliU6g3o1cIDLwxoKToSEQBAqZDwyegweLtqcCGnGG9ui+ci+HaCBZDoJtr6umJoRx/IMrAy+p+XFSSqi092nseJSwXQOTrgk9FhUCp4qTeyHF6uGnw6NhwKCdgSk4Hvj3E+oD1gASS6hamDTHNkfozLQOrVEsFpyNocTMrFZ3tMHx4WPNwZ/u6OghMR/dNdIU3x8j1tAQBzfoxHQmah4ETU0FgAiW6hczMdBrb1glEGPuMoINXDtRI9Zm48AVkGxvYMxLDOfqIjEd3QpAEtMbCtFyqqjJiyNgbFFZwPaMtYAInqYNpg01zAH2IuISO/THAasgayLGPWlpPIKixHiJcz5jzQQXQkoptSKCQsHhUGP50WybkleGPLKc4HtGEsgER10C3IAxEhTVFpkPHFHo4C0q2tP5qO309nw0Ep4dMx4XBSq0RHIrolD2c1lo8Lh0oh4acTl7HuaJroSNRAWACJ6ujvUcD1f6Ujp6hccBqyZIk5RXjnF9PVFV6/tx06BegEJyKqu25BHnjtXtN8wLd/PoP4DK6DaotYAInqKKJlU3Rt7g59lRFf7ksRHYcsVEWVAdPWx6G80oh+rT3xrz4tREciqrdn+4Ugsr039FVGTFkXg8LyStGRyMxYAInqSJIkTBts+kXwd4dTkVeiF5yILNFHO84hIbMQTZ3VWDQqFAou+UJWSJIkLHosDAHujki9WorXN5/kfEAbwwJIVA8D23qho78bSvUGfH2Ao4BUU/S5HHy13/S++PixLvB21QpORHT7dE4OWDG+KxyUEn6Lz8K3By+KjkRmxAJIVA+mUUDTXMBvDlxEQRm/FiGTK0UVeOX7EwCAp3sHY3A7H8GJiO5cWKA73rivPQDg/e0JiEvPFxuIzIYFkKie7ungi9beLiiqqMJ/D10UHYcsgCzLeHXzCeQW69HWxxWzhrUTHYnIbJ7uHYxhnXxRaZAxZW0MCkr5wdcWsAAS1ZNCIWHq9VHAr/anoISLpdq9bw5eRPS5K9CoFPh0bDi0DkrRkYjMRpIkfPhoFzT3cEJGfhle/v4E5wPaABZAottwf2c/BDd1wrXSSqw7wnWy7FlCZiHmbz8LAHjz/vZo6+sqOBGR+blpHbByfFeolQr8mZDNlRBsAAsg0W1QKRWYPNA0CvjFvmSUVxoEJyIRyvQGTF8fC73BiMj23nj8riDRkYgaTKcAHeYON13R5sMdZ3E8NU9wIroTLIBEt2lkeAAC3B1xpagCm46li45DAry//Qwu5BTD21WDjx4NhSRxyReybeN7NcfwUH9UGWVMXRfL5bCsGAsg0W1SqxR4YUAIAGBVdBL0VUbBiagx/XE6C98dNn39v3hUGDyc1YITETU8SZIw/+HOCPF0RmZBOWZuioPRyPmA1ogFkOgOPNY9EF6uGlwuKMfW2Eui41AjySoox2s/nAQAPN8/BH1bewpORNR4XDQqrBjfFRqVAtHnruAzXh/dKrEAEt0BrYMSz/c3jQKujE5ClYGjgLbOaJQxc1Mc8ksr0SnADS/f01Z0JKJG197PDe+M6AgAWPTHORxJvio4EdUXCyDRHRrXqzmaODkg9WopfjmZKToONbAv9iXjYNJVODoosXRMONQqnkbJPo3qHoiHuwbAKAPT1scit7hCdCSqB565iO6Qk1qFif1Mo4DLdydyPowNO3kpHwt/PwcAeOvBDmjp5SI4EZE4kiThvZGd0NrbBTlFFXhxQxwMPP9ZDRZAIjN4MiIIbloVEnOK8fvpLNFxqAGUVFRh+vpYVBll3NfZF6O6B4qORCSck1qFleO7wtFBif2JuVi+K1F0JKojFkAiM3DVOuDpPi0AAMt2JXKVfBv01k+ncfFqKfx1Wsx/qAuXfCG6rrWPK95/qBMAYEnUeRxIzBWciOqCBZDITCb0DoazWokzmYXYfS5HdBwyo59PXMb3xy9BkoBPRodB5+QgOhKRRXm4azOM6REIWQZmbIhFTmG56Eh0CyyARGbSxFmNxyNMV4L4NIqjgLbi0rVSvLH1FABg6qBW6BXSVHAiIsv01oMd0c7XFbnFekxbH8tVESwcCyCRGU3sGwKNSoG49HwcTOKyCNauymDEixviUFRehfDm7pg+pLXoSEQWS+ugxMrxXeGsVuJISh6W/HlBdCS6CRZAIjPyctVgbM/mAIBlu3jys3YrdifhWOo1uGhUWDo6HA5KnjKJbibEywULHukCwLQqQjSnw1gsns2IzOz5ASFwUEo4nJyHvy7yYunW6tjFPCyNOg8AeG9kJzRv6iQ4EZF1GB7qj8fvMn0QfmljHDILygQnotqwABKZmZ/OEY92My0RsoxLIlilwvJKzNgQB6MMPBQegJHhAaIjEVmVN+/vgE4BbrhWWolp62JRyfmAFocFkKgBTBrQEkqFhL3nr+BEer7oOFQPsizj31vjkZFfhkAPx+rLXRFR3WkdlFgxritcNSocS71WvYA6WQ4WQKIG0LypE0aE+QMwzYMh67ElJgM/n7gMpULC0jHhcNVyyRei2xHU1BkfP2aaD/j53mT8eSZbcCL6v1gAiRrI5IGtIEnAzjPZSMgsFB2H6iD1agnm/hgPAHgpsjW6Nm8iOBGRdbu3kx8m9AkGALz8/QlculYqNhBVYwEkaiCtvF1wX2c/AMAKjgJavEqDEdM3xKFEb0DPFh6YNLCV6EhENmH2sPYIDXRHQVklpqyLhb6K8wEtAQsgUQOaOshUIn49lYmkK8WC09DNLPnzPE6k58NNq8KS0WFQKnipNyJzUKsUWDEuHDpHB5xIz8eC386KjkRgASRqUO393BDZ3geyDKzcnSQ6Dt3AoaSrWBlt+v9nwSNd4O/uKDgRkW1p1sQJix4LBQCsOZCCHfGZghMRCyBRA5s62DQKuC0uA+l5nP9iafJL9XhpYxxkGRjTI7D6a3siMq/IDj54vn8IAODVzSeRerVEcCL7xgJI1MDCAt3Rr7UnDEYZn+3hKKAlkWUZs344hazCcoR4OmPu8A6iIxHZtFeGtkW3oCYoKq/ClHUxKK80iI5kt1gAiRrBtMGma8huPnaJq+JbkA1/pWPH6Sw4KCV8OjYcTmqV6EhENs1BqcDyceFo4uSA+IxCvP9rguhIdosFkKgR9GzhgZ4tPKA3GPHF3mTRcQhAYk4x3v75NADgtaHt0ClAJzgRkX3w0znik9FhAID/Hk7Fzycuiw1kp1gAiRrJtOtzAdcfTcOVogrBaexbRZUB09fHorzSiH6tPfFM3xaiIxHZlYFtvatXSZj1w0kkc5WERscCSNRI+rbyRGigO8orjfhqf4roOHbt4x3ncCazEB7Oaix6LBQKLvlC1OhejGyNXi08UKI3YPJazgdsbCyARI1EkiRMu/6J97+HLiK/VC84kX3ac/4KvrxewD9+tAu83bSCExHZJ5VSgWVjw+HposbZrCK89dNp0ZHsCgsgUSMa0t4b7f3cUKI34OsDF0XHsTu5xRV4edMJAMBTEUEY0t5HcCIi++btpsXSMeGQJNOPsrbEXBIdyW6wABI1IkmSque9fH0gBUXllYIT2Q9ZlvHq9yeQW1yBtj6umH1fe9GRiAhAn1aemDHEtFLCv7fG40J2keBE9oEFkKiR3dvJFy29nFFYXoX/Hk4VHcdufHvwInafuwK1SoFPx4ZD66AUHYmIrps2uDX6tvJEWaVpPmCpvkp0JJvHAkjUyJQKCVOujwJ+uS+FJ7pGkJBZiA+uX3/0zfvbo62vq+BERPR/KRUSlowJg7erBhdyivHmtnjIsiw6lk1jASQS4MFQfzT3cEJeiR7rj6aLjmPTyitNS77oq4wY0s4bT9wVJDoSEdXC00WDZWPDoZCALTEZ+P4Y5wM2JBZAIgFUSgUmD2wJAPhibxKXP2hA7/+agAs5xfBy1eCjR7tAkrjkC5Gl6hXSFC/f0xYAMOfHeCRkFgpOZLtYAIkEebhrM/jptMgurMDm4/yk2xB2nsmunme5eFQomrpoBCcioluZNKAlBrb1QkWVEVPWxqC4gtNkGgILIJEgapUCLwwwjQJ+Fp2ESoNRcCLbkl1Yjtc2m5Z8ea5/CPq19hKciIjqQqGQsHhUGPx0WiTnlmD2llOcD9gAWACJBBrdIxCeLhpk5JdhW2yG6Dg2w2iUMXNTHK6VVqJTgBteuf6VEhFZBw9nNZaPC4dKIeHnE5ex9kia6Eg2hwWQSCCtgxLP9Tddh3ZldBIMRn7KNYfV+5JxIPEqHB2UWDomHGoVT3VE1qZbkAdev7cdAOCdn88gPqNAcCLbwrMikWDjewXB3ckBKbkl+PVUpug4Vu/kpXx8/Ps5AMC84R3Q0stFcCIiul0T+7VAZHsf6A1GTF4bg0Iunm82LIBEgjlrVHimj2kUcMWuRBg5CnjbSiqqMGNDHKqMMoZ18sXoHoGiIxHRHZAkCYseC0WzJo5IyyvF65tPcj6gmbAAElmAJ3sHw1WjwrnsIvxxJlt0HKv19s+nkZJbAj+dFvMf7swlX4hsgM7JASvGdYWDUsJv8Vn49uBF0ZFsAgsgkQXQOTrgqd7BAIDluy/wE+5t+OXkZWw6dgmSBHwyOgzuTmrRkYjITEID3fHG9et3v789AXHp+WID2QAWQCIL8a++LeDooER8RiGiz18RHceqXLpWitlbTgEApgxshbtCmgpORETm9nTvYAzr5ItKg4wpa2NQUMr5gHfCYgvgihUrEBwcDK1Wi169euHo0aM33Hb16tXo168fmjRpgiZNmiAyMvKm2xNZIg9nNR6/qzkAYFkURwHrymCU8dLGOBSVVyEs0B0zIluLjkREDUCSJHz4aBcENXVCRn4ZXv7+BM+Td8AiC+DGjRsxc+ZMzJs3DzExMQgNDcXQoUORk5NT6/bR0dEYO3Ysdu/ejUOHDiEwMBD33HMPMjK4rhpZl2f7hUCtUiAmLR+Hkq+KjmMVVuxOxF8Xr8FFo8KnY8LhoLTI0xoRmYGb1jQfUK1S4M+EbHy5L0V0JKtlkWfKxYsX49lnn8WECRPQoUMHrFq1Ck5OTlizZk2t269duxaTJ09GWFgY2rVrhy+//BJGoxFRUVGNnJzozni7aTHm+i9Xl+9KFJzG8h1PzcPSqAsAgHdHdkTzpk6CExFRQ+sUoMPcBzoAABbsOIvjqXmCE1kniyuAer0ex48fR2RkZPV9CoUCkZGROHToUJ0eo7S0FJWVlfDw8Kj17ysqKlBYWFjjRmQpnh/QEiqFhINJV3liu4nC8krM2BAHg1HGyDB/PBTeTHQkImok43s1x4Oh/jAYZUxdF4u8Er3oSFbH4gpgbm4uDAYDfHx8atzv4+ODrKysOj3G66+/Dn9//xol8v+aP38+dDpd9S0wkGuFkeUIcHfEI11NZYajgDc2d1s8Ll0rQ6CHI94Z2Ul0HCJqRJIk4YOHOyPE0xmZBeWYuSmOa6jWk8UVwDu1YMECbNiwAVu3boVWq611m9mzZ6OgoKD6lp6e3sgpiW5u0sCWUEjA7nNXePmjWmyNvYRtcZehVEhYMjocbloH0ZGIqJG5aFRY+XhXaFQKRJ+7gs/2JImOZFUsrgB6enpCqVQiO7vmYrjZ2dnw9fW96b4LFy7EggUL8Mcff6BLly433E6j0cDNza3GjciSBHs648FQfwAcBfxfqVdLMGfbaQDAi0Nao1tQE8GJiEiUdr5ueHeE6RuARX+cw2H+eK7OLK4AqtVqdOvWrcYPOP7+QUdERMQN9/voo4/w7rvvYseOHejevXtjRCVqUFMGtQIA7DidhfPZRYLTWIZKgxEzNsShuKIKPYM9MPn6MSIi+/VY92Z4uGsAjDIwfX0srhRViI5kFSyuAALAzJkzsXr1anz77bdISEjApEmTUFJSggkTJgAAnnzyScyePbt6+w8//BBz5szBmjVrEBwcjKysLGRlZaG4uFjUSyC6Y619XDGsk2nUe8VujgICwNI/LyAuPR9uWhU+GRMGpYKXeiOyd5Ik4b2RndDa2wU5RRV4aaPpx2F0cxZZAEePHo2FCxdi7ty5CAsLQ1xcHHbs2FH9w5C0tDRkZmZWb//ZZ59Br9fj0UcfhZ+fX/Vt4cKFol4CkVn8PQr484nLSMktEZxGrMPJV7Ei2lSEFzzSBQHujoITEZGlcFKrsHJ8Vzg6KLE/MRfLdl0QHcniSTKX0UZhYSF0Oh0KCgo4H5Aszr+++Qu7zuZgVPdm+OjRUNFxhMgv1WPY0n3ILCjH6O6B+PDRG8/xJSL7tTX2El7aeAKSBHz3TC/0aeUpOlKDudPuYpEjgET0//09CrglJgOXrpUKTtP4ZFnGrB9OIbOgHCGezpg7vIPoSERkoR4Kb4YxPQIhy8CMDbHIKSwXHclisQASWbhuQU3Qp1VTVBllfL4nWXScRrfxr3TsOJ0FB6WEpWPC4axRiY5ERBbsrQc7op2vK3KL9Zi2PhZVBqPoSBaJBZDICkwd1BoAsPFYOrLt6BNtYk4x3v75DADg1aFt0bmZTnAiIrJ0WgclVo7vCme1EkdS8rDkT84HrA0LIJEVuCvEA92DmkBfZcTqvfYxClhRZcCMDbEoqzSgbytPTOwbIjoSEVmJEC8XLHjENFd4+e5ERJ/LEZzI8rAAElkBSZIwdbBpLuDaI2m4Wmz761wt/P0cTl8uhIezGotHhULBJV+IqB6Gh/rjibuCAAAvbYzD5fwywYksCwsgkZUY0MYLXZrpUFZpwJoDKaLjNKi9569g9T7Ta/zokS7wdqv9so5ERDfz5gPt0SnADddKKzFtfSwqOR+wGgsgkZWQJAlTr/8i+NuDqSgorRScqGHkFldg5qYTAIAnI4IQ2cFHcCIislYalRIrx3WDq1aF46nXsPD3c6IjWQwWQCIrEtneB+18XVFcUYVvD10UHcfsZFnGa5tPIre4Am18XPDGfe1FRyIiK9e8qRM+vr6G6ud7k/HnmWzBiSwDCyCRFVEopOp1AdccSEFxRZXgROb1n0Op2HU2B2qVAp+ODYfWQSk6EhHZgHs7+eJffVoAAF7+/oRdrqn6v1gAiazMfZ39EOLpjPzSSqw9nCo6jtmczSrE+9sTAAD/vq892vnyqjxEZD6zhrVDaKA7CsoqMWVdLPRV9j0fkAWQyMooFRImXx8FXL0vGeWVBsGJ7lx5pQHT15tOyIPbeePJiCDRkYjIxqhVCqwYFw6dowNOpOdj/m8JoiMJxQJIZIVGhPmjWRNH5BbrseFomug4d+yD7Qk4n10ML1cNPn60CySJS74Qkfk1a+KExaNM8wG/PnARO+IzBScShwWQyAo5KBWYNLAlANOk5ooq6x0F/PNMNv5zyPRV9qLHQtHURSM4ERHZsiHtffB8f9PC8q9+fxKpV0sEJxKDBZDISj3arRl83DTILCjHlpgM0XFuS3ZhOV7dbFry5dl+LdC/jZfgRERkD14Z2hbdg5qgqKIKU9bF2MRUmvpiASSyUhqVEs/3N40CroxOtLoFTo1GGS9vOoFrpZXo6O+GV4a2FR2JiOyEg1KBZePC4eGsRnxGId7/1f7mA7IAElmxsT2bo6mzGul5Zfgp7rLoOPXy5f5k7E/MhaODEp+ODYdGxSVfiKjx+OkcsXhUKCQJ+O/hVPx8wrrOoXeKBZDIijmqlZjYzzSXZUV0IgxGWXCiujl1qQAfX1+Rf97wDmjp5SI4ERHZo4FtvTFloGlVhVk/nETylWLBiRoPCyCRlXv8rubQOTog+UoJfrOCX7SVVFRh+oZYVBpk3NvRF6N7BIqORER27MXI1ujVwgMlegMmr7Wf+YAsgERWzlXrgAl9ggEAy3clwmjho4Dv/HwGKbkl8HXTYsEjnbnkCxEJpVIqsGxsODxd1DibVYS3fjotOlKjYAEksgFP9w6Gi0aFs1lFiDqbIzrODf16MhMbj6VDkoBPRofB3UktOhIREbzdtFg6JhySBGz4Kx1bYi6JjtTgWACJbIC7kxpPXL96xvJdFyDLljcKmJFfhtlbTgIAJg9siYiWTQUnIiL6//q08sSLQ9oAAP69NR4XsosEJ2pYLIBENuKZvi2gdVDgxKUC7LuQKzpODQajjJc2xKGwvAqhge54MbKN6EhERP8wdXAr9G3libJK03zAUn2V6EgNhgWQyEZ4umgwruffo4CJgtPUtHJ3Io5ezIOzWolPx4TBQclTDxFZHqVCwpIxYfB21eBCTjHe3BZvkd+omAPPwkQ25Ln+IVArFTh6MQ9Hkq+KjgMAOJ56DUuiLgAA3h3ZCUFNnQUnIiK6MU8XDZaNDYdCArbEZOD7Y7Y5H5AFkMiG+Oq0eKx7MwDA8t3iRwGLyivx4sZYGIwyRoT546HwANGRiIhuqVdI0+qrE835MR4JmYWCE5kfCyCRjXlhQEsoFRL2XchFbNo1oVnm/nga6XllaNbEEe+O7MQlX4jIarzQvyUGtfVCRZURU9bGoLjCtuYDsgAS2ZhAD6fqkbYVAkcBt8ZewtbYDCgVEpaOCYeb1kFYFiKi+lIoJCwaFQY/nRbJuSWYveWUTc0HZAEkskGTB7aEJAF/JuTg9OWCRn/+tKulmLPNtJjqjCGt0S2oSaNnICK6Ux7OaiwfFw6VQsLPJy5j7ZE00ZHMhgWQyAaFeLnggS7+AICVu5Ma9bkrDUZM3xCL4ooq9Az2wJRBrRr1+YmIzKlbkAdev7cdANOVjOIzGv9DdUNgASSyUVMGtQQAbI/PRGJO4y1o+mnUBcSl58NVq8InY8KgVHDeHxFZt4n9WuDuDj7QG4yYvDYGheWVoiPdMRZAIhvVztcN93TwgSw33ijg4eSr1b8+nv9wZwS4OzbK8xIRNSRJkrDw0VA0a+KItLxSvL75pNXPB2QBJLJhUwebvn798cRlpF4tadDnKiitxEsb4yDLwKjuzaq/giYisgU6JwesGNcVDkoJv8Vn4ZuDF0VHuiMsgEQ2rEszdwxo4wWDUcaqPQ03CijLMmZvPYnMgnK08HTGvOEdG+y5iIhECQ10x7/vaw8A+GB7AuLS88UGugMsgEQ2bvoQ0yjg5uOXcDm/rEGeY9OxdGw/lQUHpYRPx4TDWaNqkOchIhLtqd7BuK+zLyoNMqasjUF+qV50pNvCAkhk47oFeSAipCkqDTK+2Jts9sdPulKMt346AwB45Z626NxMZ/bnICKyFJIkYcEjXRDU1AkZ+WV45XvrnA/IAkhkB6Zdnwu4/mgacorKzfa4FVUGTF8fi7JKA/q0aopn+4WY7bGJiCyVm9Y0H1CtUuDPhGx8uS9FdKR6YwEksgMRLZuia3N3VFQZ8ZUZT1SL/jiP05cL0cTJAYtHhUHBJV+IyE50CtBh3vAOAIAFO87ieGqe4ET1wwJIZAckScK0wa0BAP89nIprJXc+Z2XfhSvVXyl/9GgofNy0d/yYRETWZFzP5ngw1B8Go4yp62KRZ4Zza2NhASSyEwPbeqGjvxtK9QZ8feDORgGvFldg5qYTAIAn7grC3R18zBGRiMiqSJKEDx7ujBAvZ2QWlOOljXEwGq1jPiALIJGdMI0CmuYCfn3w4m2vZC/LMl7bfBJXiirQ2tsF/76/vTljEhFZFReNCivHd4XWQYE956/gswZccsucWACJ7Mg9HXzR2tsFReVV+O+h1Nt6jP8eTkXU2RyoVQp8OjYcWgelmVMSEVmXdr5ueOfBTgCARX+cw+Hkq4IT3RoLIJEdUSik6quDfLkvGSUVVfXa/1xWEd77NQEA8Mawdmjv52b2jERE1uix7s3wSNdmMMrA9PWxuFJUITrSTbEAEtmZ+zv7IbipE66VVmLdkbQ671deaVryRV9lxKC2Xniqd3DDhSQisjKSJOHdkR3R2tsFOUUVFj8fkAWQyM6olApMHmgaBfxiXzLKKw112m/+9gScyy6Cp4sGHz8WCkniki9ERP+Xk1qFzx7vCk8XDR7r3syil8ZiASSyQyPDAxDg7ogrRRXYdCz9lttHJWTj2+tzBheNCoWni6ahIxIRWaVW3q7Y//ogjAgLEB3lplgAieyQWqXACwNMV+1YFZ0EfZXxhtvmFJbj1c0nAQAT+7bAgDZejZKRiMhaWcOP41gAiezUY90D4eWqweWCcmyNvVTrNkajjJe/P4G8Ej06+Lnh1XvbNnJKIiJqCCyARHZK66DE8/1No4Aro5NQZfjnKOBX+1Ow70IutA6mJV80Ksv/VEtERLfGAkhkx8b1ao4mTg5IvVqKX05m1vi7+IwCfPT7WQDAvOEd0crbRUREIiJqACyARHbMSa3CxH6mUcDluxOrlywo1Vdh+vpYVBpk3NvRF2N6BIqMSUREZsYCSGTnnogIgqtWhcScYvx+OgsA8M7PZ5CcWwJfNy0WPNKZS74QEdkYFkAiO+emdcCE64s6L9uViF9PZmLDX+mQJGDx6FC4O6nFBiQiIrNjASQiTOjTAk5qJc5kFuKljXEAgEkDWqJ3S0+xwYiIqEGwABIRmjir8cRdQQAAvcGI0GY6vHR3G8GpiIioobAAEhEA4Jl+LeCqUcFVo8LSMeFwUPL0QERkq1SiAxCRZfB21WLHS/2hkAA/naPoOERE1IBYAImoWoA7ix8RkT3gdzxEREREdoYFkIiIiMjOsAASERER2RkWQCIiIiI7Y7EFcMWKFQgODoZWq0WvXr1w9OjRm27//fffo127dtBqtejcuTO2b9/eSEmJiIiIrItFFsCNGzdi5syZmDdvHmJiYhAaGoqhQ4ciJyen1u0PHjyIsWPH4plnnkFsbCxGjhyJkSNHIj4+vpGTExEREVk+SZZlWXSI/9WrVy/06NEDy5cvBwAYjUYEBgZi2rRpmDVr1j+2Hz16NEpKSvDLL79U33fXXXchLCwMq1atuuXzFRYWQqfToaCgAG5ubuZ7IUREREQN4E67i8WNAOr1ehw/fhyRkZHV9ykUCkRGRuLQoUO17nPo0KEa2wPA0KFDb7h9RUUFCgsLa9yIiIiI7IXFFcDc3FwYDAb4+PjUuN/HxwdZWVm17pOVlVWv7efPnw+dTld9CwwMNE94IiIiIitgcQWwMcyePRsFBQXVt/T0dNGRiIiIiBqNxV0KztPTE0qlEtnZ2TXuz87Ohq+vb637+Pr61mt7jUYDjUZjnsBEREREVsbiRgDVajW6deuGqKio6vuMRiOioqIQERFR6z4RERE1tgeAnTt33nB7IiIiIntmcSOAADBz5kw89dRT6N69O3r27IklS5agpKQEEyZMAAA8+eSTCAgIwPz58wEAM2bMwIABA7Bo0SLcf//92LBhA44dO4YvvvhC5MsgIiIiskgWWQBHjx6NK1euYO7cucjKykJYWBh27NhR/UOPtLQ0KBT/f/Cyd+/eWLduHd5880288cYbaN26NbZt24ZOnTqJeglEREREFssi1wFsbAUFBXB3d0d6ejrXASQiIiKLV1hYiMDAQOTn50On09V7f4scAWxsRUVFAMDlYIiIiMiqFBUV3VYB5AggTD8yuXz5MlxdXSFJUoM9z99tnSON5sHjaX48pubHY2pePJ7mx2Nqfo1xTGVZRlFREfz9/WtMi6srjgDCdKWRZs2aNdrzubm58T8yM+LxND8eU/PjMTUvHk/z4zE1v4Y+prcz8vc3i1sGhoiIiIgaFgsgERERkZ1hAWxEGo0G8+bN41VIzITH0/x4TM2Px9S8eDzNj8fU/KzhmPJHIERERER2hiOARERERHaGBZCIiIjIzrAAEhEREdkZFkAzW7FiBYKDg6HVatGrVy8cPXr0ptt///33aNeuHbRaLTp37ozt27c3UlLrUJ/j+c0330CSpBo3rVbbiGkt3969ezF8+HD4+/tDkiRs27btlvtER0eja9eu0Gg0aNWqFb755psGz2kt6ns8o6Oj//EelSQJWVlZjRPYws2fPx89evSAq6srvL29MXLkSJw7d+6W+/E8emO3c0x5Lr25zz77DF26dKle4y8iIgK//fbbTfexxPcoC6AZbdy4ETNnzsS8efMQExOD0NBQDB06FDk5ObVuf/DgQYwdOxbPPPMMYmNjMXLkSIwcORLx8fGNnNwy1fd4AqZFNzMzM6tvqampjZjY8pWUlCA0NBQrVqyo0/YpKSm4//77MWjQIMTFxeHFF1/ExIkT8fvvvzdwUutQ3+P5t3PnztV4n3p7ezdQQuuyZ88eTJkyBYcPH8bOnTtRWVmJe+65ByUlJTfch+fRm7udYwrwXHozzZo1w4IFC3D8+HEcO3YMgwcPxogRI3D69Olat7fY96hMZtOzZ095ypQp1X82GAyyv7+/PH/+/Fq3HzVqlHz//ffXuK9Xr17y888/36A5rUV9j+fXX38t63S6Rkpn/QDIW7duvek2r732mtyxY8ca940ePVoeOnRoAyazTnU5nrt375YByNeuXWuUTNYuJydHBiDv2bPnhtvwPFo/dTmmPJfWX5MmTeQvv/yy1r+z1PcoRwDNRK/X4/jx44iMjKy+T6FQIDIyEocOHap1n0OHDtXYHgCGDh16w+3tye0cTwAoLi5GUFAQAgMDb/qJjOqG79GGERYWBj8/P9x99904cOCA6DgWq6CgAADg4eFxw234Hq2fuhxTgOfSujIYDNiwYQNKSkoQERFR6zaW+h5lATST3NxcGAwG+Pj41Ljfx8fnhvN7srKy6rW9Pbmd49m2bVusWbMGP/74I7777jsYjUb07t0bly5daozINulG79HCwkKUlZUJSmW9/Pz8sGrVKvzwww/44YcfEBgYiIEDByImJkZ0NItjNBrx4osvok+fPujUqdMNt+N5tO7qekx5Lr21U6dOwcXFBRqNBi+88AK2bt2KDh061Lqtpb5HVUKfnciMIiIianwC6927N9q3b4/PP/8c7777rsBkRCZt27ZF27Ztq//cu3dvJCUl4ZNPPsF///tfgcksz5QpUxAfH4/9+/eLjmIz6npMeS69tbZt2yIuLg4FBQXYvHkznnrqKezZs+eGJdAScQTQTDw9PaFUKpGdnV3j/uzsbPj6+ta6j6+vb722tye3czz/l4ODA8LDw5GYmNgQEe3Cjd6jbm5ucHR0FJTKtvTs2ZPv0f8xdepU/PLLL9i9ezeaNWt20215Hq2b+hzT/8Vz6T+p1Wq0atUK3bp1w/z58xEaGoqlS5fWuq2lvkdZAM1ErVajW7duiIqKqr7PaDQiKirqhvMCIiIiamwPADt37rzh9vbkdo7n/zIYDDh16hT8/PwaKqbN43u04cXFxfE9ep0sy5g6dSq2bt2KXbt2oUWLFrfch+/Rm7udY/q/eC69NaPRiIqKilr/zmLfo0J/gmJjNmzYIGs0Gvmbb76Rz5w5Iz/33HOyu7u7nJWVJcuyLD/xxBPyrFmzqrc/cOCArFKp5IULF8oJCQnyvHnzZAcHB/nUqVOiXoJFqe/xfPvtt+Xff/9dTkpKko8fPy6PGTNG1mq18unTp0W9BItTVFQkx8bGyrGxsTIAefHixXJsbKycmpoqy7Isz5o1S37iiSeqt09OTpadnJzkV199VU5ISJBXrFghK5VKeceOHaJegkWp7/H85JNP5G3btskXLlyQT506Jc+YMUNWKBTyn3/+KeolWJRJkybJOp1Ojo6OljMzM6tvpaWl1dvwPFo/t3NMeS69uVmzZsl79uyRU1JS5JMnT8qzZs2SJUmS//jjD1mWrec9ygJoZsuWLZObN28uq9VquWfPnvLhw4er/27AgAHyU089VWP7TZs2yW3atJHVarXcsWNH+ddff23kxJatPsfzxRdfrN7Wx8dHvu++++SYmBgBqS3X38uQ/O/t7+P41FNPyQMGDPjHPmFhYbJarZZDQkLkr7/+utFzW6r6Hs8PP/xQbtmypazVamUPDw954MCB8q5du8SEt0C1HUsANd5zPI/Wz+0cU55Lb+5f//qXHBQUJKvVatnLy0seMmRIdfmTZet5j0qyLMuNN95IRERERKJxDiARERGRnWEBJCIiIrIzLIBEREREdoYFkIiIiMjOsAASERER2RkWQCIiIiI7wwJIREREZGdYAImIiIjsDAsgERERkZ1hASQiukNPP/00Ro4cKToGEVGdsQASERER2RkWQCKiOtq8eTM6d+4MR0dHNG3aFJGRkXj11Vfx7bff4scff4QkSZAkCdHR0QCA9PR0jBo1Cu7u7vDw8MCIESNw8eLF6sf7e+Tw7bffhpeXF9zc3PDCCy9Ar9eLeYFEZDdUogMQEVmDzMxMjB07Fh999BEeeughFBUVYd++fXjyySeRlpaGwsJCfP311wAADw8PVFZWYujQoYiIiMC+ffugUqnw3nvv4d5778XJkyehVqsBAFFRUdBqtYiOjsbFixcxYcIENG3aFO+//77Il0tENo4FkIioDjIzM1FVVYWHH34YQUFBAIDOnTsDABwdHVFRUQFfX9/q7b/77jsYjUZ8+eWXkCQJAPD111/D3d0d0dHRuOeeewAAarUaa9asgZOTEzp27Ih33nkHr776Kt59910oFPyShogaBs8uRER1EBoaiiFDhqBz58547LHHsHr1aly7du2G2584cQKJiYlwdXWFi4sLXFxc4OHhgfLyciQlJdV4XCcnp+o/R0REoLi4GOnp6Q36eojIvnEEkIioDpRKJXbu3ImDBw/ijz/+wLJly/Dvf/8bR44cqXX74uJidOvWDWvXrv3H33l5eTV0XCKim2IBJCKqI0mS0KdPH/Tp0wdz585FUFAQtm7dCrVaDYPBUGPbrl27YuPGjfD29oabm9sNH/PEiRMoKyuDo6MjAODw4cNwcXFBYGBgg74WIrJv/AqYiKgOjhw5gg8++ADHjh1DWloatmzZgitXrqB9+/YIDg7GyZMnce7cOeTm5qKyshLjx4+Hp6cnRowYgX379iElJQXR0dGYPn06Ll26VP24er0ezzzzDM6cOYPt27dj3rx5mDp1Kuf/EVGD4gggEVEduLm5Ye/evViyZAkKCwsRFBSERYsWYdiwYejevTuio6PRvXt3FBcXY/fu3Rg4cCD27t2L119/HQ8//DCKiooQEBCAIUOG1BgRHDJkCFq3bo3+/fujoqICY8eOxVtvvSXuhRKRXZBkWZZFhyAiskdPP/008vPzsW3bNtFRiMjO8DsGIiIiIjvDAkhERERkZ/gVMBEREZGd4QggERERkZ1hASQiIiKyMyyARERERHaGBZCIiIjIzrAAEhEREdkZFkAiIiIiO8MCSERERGRnWACJiIiI7AwLIBEREZGdYQEkIiIisjMsgERERER2hgWQiIiIyM6wABIRERHZGRZAIiIiIjvz/wCUWP+3zJ+aTQAAAABJRU5ErkJggg==)\n\n![static/atemp](data:image/png;base64,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)\n"
          },
          "metadata": {}
        }
      ]
    },
    {
      "cell_type": "markdown",
      "source": [
        "To explore the results from CLI:"
      ],
      "metadata": {
        "id": "Pc3jDX1q-y3c"
      }
    },
    {
      "cell_type": "code",
      "source": [
        "!dvc plots show"
      ],
      "metadata": {
        "colab": {
          "base_uri": "https://localhost:8080/"
        },
        "id": "6OAsURiL-Ge2",
        "executionInfo": {
          "status": "ok",
          "timestamp": 1697468158085,
          "user_tz": -120,
          "elapsed": 1434,
          "user": {
            "displayName": "Francesco Motoko",
            "userId": "00974636158007469548"
          }
        },
        "outputId": "0fb47be1-f524-41f1-8c74-d4663d721290"
      },
      "execution_count": 15,
      "outputs": [
        {
          "output_type": "stream",
          "name": "stdout",
          "text": [
            "\rReading plot's data from workspace:   0% 0/7 [00:00<?, ?files/s]\rReading plot's data from workspace:   0% 0/7 [00:00<?, ?files/s{'info': ''}]\r                                                                            \rfile:///content/experiments/dvc_plots/index.html\n"
          ]
        }
      ]
    },
    {
      "cell_type": "code",
      "source": [
        "import IPython\n",
        "IPython.display.HTML(filename='dvc_plots/index.html')"
      ],
      "metadata": {
        "colab": {
          "base_uri": "https://localhost:8080/",
          "height": 802
        },
        "id": "pwdjxeEG-I49",
        "executionInfo": {
          "status": "ok",
          "timestamp": 1697468158085,
          "user_tz": -120,
          "elapsed": 4,
          "user": {
            "displayName": "Francesco Motoko",
            "userId": "00974636158007469548"
          }
        },
        "outputId": "e01c74f9-45b6-4715-b1bd-2dd20875a421"
      },
      "execution_count": 16,
      "outputs": [
        {
          "output_type": "execute_result",
          "data": {
            "text/plain": [
              "<IPython.core.display.HTML object>"
            ],
            "text/html": [
              "<!DOCTYPE html>\n",
              "<html>\n",
              "<head>\n",
              "    \n",
              "    <title>DVC Plot</title>\n",
              "    \n",
              "\n",
              "    <script src=\"https://cdn.jsdelivr.net/npm/vega@5.20.2\"></script>\n",
              "    <script src=\"https://cdn.jsdelivr.net/npm/vega-lite@5.2.0\"></script>\n",
              "    <script src=\"https://cdn.jsdelivr.net/npm/vega-embed@6.18.2\"></script>\n",
              "    \n",
              "    <style>\n",
              "        table {\n",
              "            border-spacing: 15px;\n",
              "        }\n",
              "    </style>\n",
              "</head>\n",
              "<body>\n",
              "    \n",
              "    <div id = \"dvclive_plots_metrics_atemp_tsv\">\n",
              "        <script type = \"text/javascript\">\n",
              "            var spec = {\"$schema\": \"https://vega.github.io/schema/vega-lite/v5.json\", \"data\": {\"values\": [{\"step\": \"0\", \"atemp\": \"1.0\", \"rev\": \"workspace\"}, {\"step\": \"1\", \"atemp\": \"0.107\", \"rev\": \"workspace\"}, {\"step\": \"2\", \"atemp\": \"0.537\", \"rev\": \"workspace\"}, {\"step\": \"3\", \"atemp\": \"0.0\", \"rev\": \"workspace\"}]}, \"title\": \"dvclive/plots/metrics/atemp.tsv\", \"width\": 300, \"height\": 300, \"params\": [{\"name\": \"smooth\", \"value\": 0.001, \"bind\": {\"input\": \"range\", \"min\": 0.001, \"max\": 1, \"step\": 0.001}}], \"layer\": [{\"mark\": \"line\", \"encoding\": {\"x\": {\"field\": \"step\", \"type\": \"quantitative\", \"title\": \"step\"}, \"y\": {\"field\": \"atemp\", \"type\": \"quantitative\", \"title\": \"atemp\", \"scale\": {\"zero\": false}}, \"color\": {\"field\": \"rev\", \"type\": \"nominal\"}, \"tooltip\": [{\"field\": \"step\", \"title\": \"step\", \"type\": \"quantitative\"}, {\"field\": \"atemp\", \"title\": \"atemp\", \"type\": \"quantitative\"}]}, \"transform\": [{\"loess\": \"atemp\", \"on\": \"step\", \"groupby\": [\"rev\", \"filename\", \"field\", \"filename::field\"], \"bandwidth\": {\"signal\": \"smooth\"}}]}, {\"mark\": {\"type\": \"line\", \"opacity\": 0.2}, \"encoding\": {\"x\": {\"field\": \"step\", \"type\": \"quantitative\", \"title\": \"step\"}, \"y\": {\"field\": \"atemp\", \"type\": \"quantitative\", \"title\": \"atemp\", \"scale\": {\"zero\": false}}, \"color\": {\"field\": \"rev\", \"type\": \"nominal\"}, \"tooltip\": [{\"field\": \"step\", \"title\": \"step\", \"type\": \"quantitative\"}, {\"field\": \"atemp\", \"title\": \"atemp\", \"type\": \"quantitative\"}]}}, {\"mark\": {\"type\": \"circle\", \"size\": 10, \"tooltip\": {\"content\": \"encoding\"}}, \"encoding\": {\"x\": {\"aggregate\": \"max\", \"field\": \"step\", \"type\": \"quantitative\", \"title\": \"step\"}, \"y\": {\"aggregate\": {\"argmax\": \"step\"}, \"field\": \"atemp\", \"type\": \"quantitative\", \"title\": \"atemp\", \"scale\": {\"zero\": false}}, \"color\": {\"field\": \"rev\", \"type\": \"nominal\"}}}]};\n",
              "            vegaEmbed('#dvclive_plots_metrics_atemp_tsv', spec);\n",
              "        </script>\n",
              "    </div>\n",
              "    \n",
              "\n",
              "    <div id = \"dvclive_plots_metrics_holiday_tsv\">\n",
              "        <script type = \"text/javascript\">\n",
              "            var spec = {\"$schema\": \"https://vega.github.io/schema/vega-lite/v5.json\", \"data\": {\"values\": [{\"step\": \"0\", \"holiday\": \"0.98\", \"rev\": \"workspace\"}, {\"step\": \"1\", \"holiday\": \"0.545\", \"rev\": \"workspace\"}, {\"step\": \"2\", \"holiday\": \"0.588\", \"rev\": \"workspace\"}, {\"step\": \"3\", \"holiday\": \"0.275\", \"rev\": \"workspace\"}]}, \"title\": \"dvclive/plots/metrics/holiday.tsv\", \"width\": 300, \"height\": 300, \"params\": [{\"name\": \"smooth\", \"value\": 0.001, \"bind\": {\"input\": \"range\", \"min\": 0.001, \"max\": 1, \"step\": 0.001}}], \"layer\": [{\"mark\": \"line\", \"encoding\": {\"x\": {\"field\": \"step\", \"type\": \"quantitative\", \"title\": \"step\"}, \"y\": {\"field\": \"holiday\", \"type\": \"quantitative\", \"title\": \"holiday\", \"scale\": {\"zero\": false}}, \"color\": {\"field\": \"rev\", \"type\": \"nominal\"}, \"tooltip\": [{\"field\": \"step\", \"title\": \"step\", \"type\": \"quantitative\"}, {\"field\": \"holiday\", \"title\": \"holiday\", \"type\": \"quantitative\"}]}, \"transform\": [{\"loess\": \"holiday\", \"on\": \"step\", \"groupby\": [\"rev\", \"filename\", \"field\", \"filename::field\"], \"bandwidth\": {\"signal\": \"smooth\"}}]}, {\"mark\": {\"type\": \"line\", \"opacity\": 0.2}, \"encoding\": {\"x\": {\"field\": \"step\", \"type\": \"quantitative\", \"title\": \"step\"}, \"y\": {\"field\": \"holiday\", \"type\": \"quantitative\", \"title\": \"holiday\", \"scale\": {\"zero\": false}}, \"color\": {\"field\": \"rev\", \"type\": \"nominal\"}, \"tooltip\": [{\"field\": \"step\", \"title\": \"step\", \"type\": \"quantitative\"}, {\"field\": \"holiday\", \"title\": \"holiday\", \"type\": \"quantitative\"}]}}, {\"mark\": {\"type\": \"circle\", \"size\": 10, \"tooltip\": {\"content\": \"encoding\"}}, \"encoding\": {\"x\": {\"aggregate\": \"max\", \"field\": \"step\", \"type\": \"quantitative\", \"title\": \"step\"}, \"y\": {\"aggregate\": {\"argmax\": \"step\"}, \"field\": \"holiday\", \"type\": \"quantitative\", \"title\": \"holiday\", \"scale\": {\"zero\": false}}, \"color\": {\"field\": \"rev\", \"type\": \"nominal\"}}}]};\n",
              "            vegaEmbed('#dvclive_plots_metrics_holiday_tsv', spec);\n",
              "        </script>\n",
              "    </div>\n",
              "    \n",
              "\n",
              "    <div id = \"dvclive_plots_metrics_hum_tsv\">\n",
              "        <script type = \"text/javascript\">\n",
              "            var spec = {\"$schema\": \"https://vega.github.io/schema/vega-lite/v5.json\", \"data\": {\"values\": [{\"step\": \"0\", \"hum\": \"1.0\", \"rev\": \"workspace\"}, {\"step\": \"1\", \"hum\": \"0.03\", \"rev\": \"workspace\"}, {\"step\": \"2\", \"hum\": \"0.684\", \"rev\": \"workspace\"}, {\"step\": \"3\", \"hum\": \"0.062\", \"rev\": \"workspace\"}]}, \"title\": \"dvclive/plots/metrics/hum.tsv\", \"width\": 300, \"height\": 300, \"params\": [{\"name\": \"smooth\", \"value\": 0.001, \"bind\": {\"input\": \"range\", \"min\": 0.001, \"max\": 1, \"step\": 0.001}}], \"layer\": [{\"mark\": \"line\", \"encoding\": {\"x\": {\"field\": \"step\", \"type\": \"quantitative\", \"title\": \"step\"}, \"y\": {\"field\": \"hum\", \"type\": \"quantitative\", \"title\": \"hum\", \"scale\": {\"zero\": false}}, \"color\": {\"field\": \"rev\", \"type\": \"nominal\"}, \"tooltip\": [{\"field\": \"step\", \"title\": \"step\", \"type\": \"quantitative\"}, {\"field\": \"hum\", \"title\": \"hum\", \"type\": \"quantitative\"}]}, \"transform\": [{\"loess\": \"hum\", \"on\": \"step\", \"groupby\": [\"rev\", \"filename\", \"field\", \"filename::field\"], \"bandwidth\": {\"signal\": \"smooth\"}}]}, {\"mark\": {\"type\": \"line\", \"opacity\": 0.2}, \"encoding\": {\"x\": {\"field\": \"step\", \"type\": \"quantitative\", \"title\": \"step\"}, \"y\": {\"field\": \"hum\", \"type\": \"quantitative\", \"title\": \"hum\", \"scale\": {\"zero\": false}}, \"color\": {\"field\": \"rev\", \"type\": \"nominal\"}, \"tooltip\": [{\"field\": \"step\", \"title\": \"step\", \"type\": \"quantitative\"}, {\"field\": \"hum\", \"title\": \"hum\", \"type\": \"quantitative\"}]}}, {\"mark\": {\"type\": \"circle\", \"size\": 10, \"tooltip\": {\"content\": \"encoding\"}}, \"encoding\": {\"x\": {\"aggregate\": \"max\", \"field\": \"step\", \"type\": \"quantitative\", \"title\": \"step\"}, \"y\": {\"aggregate\": {\"argmax\": \"step\"}, \"field\": \"hum\", \"type\": \"quantitative\", \"title\": \"hum\", \"scale\": {\"zero\": false}}, \"color\": {\"field\": \"rev\", \"type\": \"nominal\"}}}]};\n",
              "            vegaEmbed('#dvclive_plots_metrics_hum_tsv', spec);\n",
              "        </script>\n",
              "    </div>\n",
              "    \n",
              "\n",
              "    <div id = \"dvclive_plots_metrics_temp_tsv\">\n",
              "        <script type = \"text/javascript\">\n",
              "            var spec = {\"$schema\": \"https://vega.github.io/schema/vega-lite/v5.json\", \"data\": {\"values\": [{\"step\": \"0\", \"temp\": \"1.0\", \"rev\": \"workspace\"}, {\"step\": \"1\", \"temp\": \"0.098\", \"rev\": \"workspace\"}, {\"step\": \"2\", \"temp\": \"0.399\", \"rev\": \"workspace\"}, {\"step\": \"3\", \"temp\": \"0.0\", \"rev\": \"workspace\"}]}, \"title\": \"dvclive/plots/metrics/temp.tsv\", \"width\": 300, \"height\": 300, \"params\": [{\"name\": \"smooth\", \"value\": 0.001, \"bind\": {\"input\": \"range\", \"min\": 0.001, \"max\": 1, \"step\": 0.001}}], \"layer\": [{\"mark\": \"line\", \"encoding\": {\"x\": {\"field\": \"step\", \"type\": \"quantitative\", \"title\": \"step\"}, \"y\": {\"field\": \"temp\", \"type\": \"quantitative\", \"title\": \"temp\", \"scale\": {\"zero\": false}}, \"color\": {\"field\": \"rev\", \"type\": \"nominal\"}, \"tooltip\": [{\"field\": \"step\", \"title\": \"step\", \"type\": \"quantitative\"}, {\"field\": \"temp\", \"title\": \"temp\", \"type\": \"quantitative\"}]}, \"transform\": [{\"loess\": \"temp\", \"on\": \"step\", \"groupby\": [\"rev\", \"filename\", \"field\", \"filename::field\"], \"bandwidth\": {\"signal\": \"smooth\"}}]}, {\"mark\": {\"type\": \"line\", \"opacity\": 0.2}, \"encoding\": {\"x\": {\"field\": \"step\", \"type\": \"quantitative\", \"title\": \"step\"}, \"y\": {\"field\": \"temp\", \"type\": \"quantitative\", \"title\": \"temp\", \"scale\": {\"zero\": false}}, \"color\": {\"field\": \"rev\", \"type\": \"nominal\"}, \"tooltip\": [{\"field\": \"step\", \"title\": \"step\", \"type\": \"quantitative\"}, {\"field\": \"temp\", \"title\": \"temp\", \"type\": \"quantitative\"}]}}, {\"mark\": {\"type\": \"circle\", \"size\": 10, \"tooltip\": {\"content\": \"encoding\"}}, \"encoding\": {\"x\": {\"aggregate\": \"max\", \"field\": \"step\", \"type\": \"quantitative\", \"title\": \"step\"}, \"y\": {\"aggregate\": {\"argmax\": \"step\"}, \"field\": \"temp\", \"type\": \"quantitative\", \"title\": \"temp\", \"scale\": {\"zero\": false}}, \"color\": {\"field\": \"rev\", \"type\": \"nominal\"}}}]};\n",
              "            vegaEmbed('#dvclive_plots_metrics_temp_tsv', spec);\n",
              "        </script>\n",
              "    </div>\n",
              "    \n",
              "\n",
              "    <div id = \"dvclive_plots_metrics_weathersit_tsv\">\n",
              "        <script type = \"text/javascript\">\n",
              "            var spec = {\"$schema\": \"https://vega.github.io/schema/vega-lite/v5.json\", \"data\": {\"values\": [{\"step\": \"0\", \"weathersit\": \"0.985\", \"rev\": \"workspace\"}, {\"step\": \"1\", \"weathersit\": \"0.779\", \"rev\": \"workspace\"}, {\"step\": \"2\", \"weathersit\": \"0.155\", \"rev\": \"workspace\"}, {\"step\": \"3\", \"weathersit\": \"0.231\", \"rev\": \"workspace\"}]}, \"title\": \"dvclive/plots/metrics/weathersit.tsv\", \"width\": 300, \"height\": 300, \"params\": [{\"name\": \"smooth\", \"value\": 0.001, \"bind\": {\"input\": \"range\", \"min\": 0.001, \"max\": 1, \"step\": 0.001}}], \"layer\": [{\"mark\": \"line\", \"encoding\": {\"x\": {\"field\": \"step\", \"type\": \"quantitative\", \"title\": \"step\"}, \"y\": {\"field\": \"weathersit\", \"type\": \"quantitative\", \"title\": \"weathersit\", \"scale\": {\"zero\": false}}, \"color\": {\"field\": \"rev\", \"type\": \"nominal\"}, \"tooltip\": [{\"field\": \"step\", \"title\": \"step\", \"type\": \"quantitative\"}, {\"field\": \"weathersit\", \"title\": \"weathersit\", \"type\": \"quantitative\"}]}, \"transform\": [{\"loess\": \"weathersit\", \"on\": \"step\", \"groupby\": [\"rev\", \"filename\", \"field\", \"filename::field\"], \"bandwidth\": {\"signal\": \"smooth\"}}]}, {\"mark\": {\"type\": \"line\", \"opacity\": 0.2}, \"encoding\": {\"x\": {\"field\": \"step\", \"type\": \"quantitative\", \"title\": \"step\"}, \"y\": {\"field\": \"weathersit\", \"type\": \"quantitative\", \"title\": \"weathersit\", \"scale\": {\"zero\": false}}, \"color\": {\"field\": \"rev\", \"type\": \"nominal\"}, \"tooltip\": [{\"field\": \"step\", \"title\": \"step\", \"type\": \"quantitative\"}, {\"field\": \"weathersit\", \"title\": \"weathersit\", \"type\": \"quantitative\"}]}}, {\"mark\": {\"type\": \"circle\", \"size\": 10, \"tooltip\": {\"content\": \"encoding\"}}, \"encoding\": {\"x\": {\"aggregate\": \"max\", \"field\": \"step\", \"type\": \"quantitative\", \"title\": \"step\"}, \"y\": {\"aggregate\": {\"argmax\": \"step\"}, \"field\": \"weathersit\", \"type\": \"quantitative\", \"title\": \"weathersit\", \"scale\": {\"zero\": false}}, \"color\": {\"field\": \"rev\", \"type\": \"nominal\"}}}]};\n",
              "            vegaEmbed('#dvclive_plots_metrics_weathersit_tsv', spec);\n",
              "        </script>\n",
              "    </div>\n",
              "    \n",
              "\n",
              "    <div id = \"dvclive_plots_metrics_windspeed_tsv\">\n",
              "        <script type = \"text/javascript\">\n",
              "            var spec = {\"$schema\": \"https://vega.github.io/schema/vega-lite/v5.json\", \"data\": {\"values\": [{\"step\": \"0\", \"windspeed\": \"1.0\", \"rev\": \"workspace\"}, {\"step\": \"1\", \"windspeed\": \"0.171\", \"rev\": \"workspace\"}, {\"step\": \"2\", \"windspeed\": \"0.611\", \"rev\": \"workspace\"}, {\"step\": \"3\", \"windspeed\": \"0.012\", \"rev\": \"workspace\"}]}, \"title\": \"dvclive/plots/metrics/windspeed.tsv\", \"width\": 300, \"height\": 300, \"params\": [{\"name\": \"smooth\", \"value\": 0.001, \"bind\": {\"input\": \"range\", \"min\": 0.001, \"max\": 1, \"step\": 0.001}}], \"layer\": [{\"mark\": \"line\", \"encoding\": {\"x\": {\"field\": \"step\", \"type\": \"quantitative\", \"title\": \"step\"}, \"y\": {\"field\": \"windspeed\", \"type\": \"quantitative\", \"title\": \"windspeed\", \"scale\": {\"zero\": false}}, \"color\": {\"field\": \"rev\", \"type\": \"nominal\"}, \"tooltip\": [{\"field\": \"step\", \"title\": \"step\", \"type\": \"quantitative\"}, {\"field\": \"windspeed\", \"title\": \"windspeed\", \"type\": \"quantitative\"}]}, \"transform\": [{\"loess\": \"windspeed\", \"on\": \"step\", \"groupby\": [\"rev\", \"filename\", \"field\", \"filename::field\"], \"bandwidth\": {\"signal\": \"smooth\"}}]}, {\"mark\": {\"type\": \"line\", \"opacity\": 0.2}, \"encoding\": {\"x\": {\"field\": \"step\", \"type\": \"quantitative\", \"title\": \"step\"}, \"y\": {\"field\": \"windspeed\", \"type\": \"quantitative\", \"title\": \"windspeed\", \"scale\": {\"zero\": false}}, \"color\": {\"field\": \"rev\", \"type\": \"nominal\"}, \"tooltip\": [{\"field\": \"step\", \"title\": \"step\", \"type\": \"quantitative\"}, {\"field\": \"windspeed\", \"title\": \"windspeed\", \"type\": \"quantitative\"}]}}, {\"mark\": {\"type\": \"circle\", \"size\": 10, \"tooltip\": {\"content\": \"encoding\"}}, \"encoding\": {\"x\": {\"aggregate\": \"max\", \"field\": \"step\", \"type\": \"quantitative\", \"title\": \"step\"}, \"y\": {\"aggregate\": {\"argmax\": \"step\"}, \"field\": \"windspeed\", \"type\": \"quantitative\", \"title\": \"windspeed\", \"scale\": {\"zero\": false}}, \"color\": {\"field\": \"rev\", \"type\": \"nominal\"}}}]};\n",
              "            vegaEmbed('#dvclive_plots_metrics_windspeed_tsv', spec);\n",
              "        </script>\n",
              "    </div>\n",
              "    \n",
              "\n",
              "    <div id = \"dvclive_plots_metrics_workingday_tsv\">\n",
              "        <script type = \"text/javascript\">\n",
              "            var spec = {\"$schema\": \"https://vega.github.io/schema/vega-lite/v5.json\", \"data\": {\"values\": [{\"step\": \"0\", \"workingday\": \"0.851\", \"rev\": \"workspace\"}, {\"step\": \"1\", \"workingday\": \"0.653\", \"rev\": \"workspace\"}, {\"step\": \"2\", \"workingday\": \"0.699\", \"rev\": \"workspace\"}, {\"step\": \"3\", \"workingday\": \"0.593\", \"rev\": \"workspace\"}]}, \"title\": \"dvclive/plots/metrics/workingday.tsv\", \"width\": 300, \"height\": 300, \"params\": [{\"name\": \"smooth\", \"value\": 0.001, \"bind\": {\"input\": \"range\", \"min\": 0.001, \"max\": 1, \"step\": 0.001}}], \"layer\": [{\"mark\": \"line\", \"encoding\": {\"x\": {\"field\": \"step\", \"type\": \"quantitative\", \"title\": \"step\"}, \"y\": {\"field\": \"workingday\", \"type\": \"quantitative\", \"title\": \"workingday\", \"scale\": {\"zero\": false}}, \"color\": {\"field\": \"rev\", \"type\": \"nominal\"}, \"tooltip\": [{\"field\": \"step\", \"title\": \"step\", \"type\": \"quantitative\"}, {\"field\": \"workingday\", \"title\": \"workingday\", \"type\": \"quantitative\"}]}, \"transform\": [{\"loess\": \"workingday\", \"on\": \"step\", \"groupby\": [\"rev\", \"filename\", \"field\", \"filename::field\"], \"bandwidth\": {\"signal\": \"smooth\"}}]}, {\"mark\": {\"type\": \"line\", \"opacity\": 0.2}, \"encoding\": {\"x\": {\"field\": \"step\", \"type\": \"quantitative\", \"title\": \"step\"}, \"y\": {\"field\": \"workingday\", \"type\": \"quantitative\", \"title\": \"workingday\", \"scale\": {\"zero\": false}}, \"color\": {\"field\": \"rev\", \"type\": \"nominal\"}, \"tooltip\": [{\"field\": \"step\", \"title\": \"step\", \"type\": \"quantitative\"}, {\"field\": \"workingday\", \"title\": \"workingday\", \"type\": \"quantitative\"}]}}, {\"mark\": {\"type\": \"circle\", \"size\": 10, \"tooltip\": {\"content\": \"encoding\"}}, \"encoding\": {\"x\": {\"aggregate\": \"max\", \"field\": \"step\", \"type\": \"quantitative\", \"title\": \"step\"}, \"y\": {\"aggregate\": {\"argmax\": \"step\"}, \"field\": \"workingday\", \"type\": \"quantitative\", \"title\": \"workingday\", \"scale\": {\"zero\": false}}, \"color\": {\"field\": \"rev\", \"type\": \"nominal\"}}}]};\n",
              "            vegaEmbed('#dvclive_plots_metrics_workingday_tsv', spec);\n",
              "        </script>\n",
              "    </div>\n",
              "    \n",
              "</body>\n",
              "</html>"
            ]
          },
          "metadata": {},
          "execution_count": 16
        }
      ]
    },
    {
      "cell_type": "markdown",
      "source": [
        "## In multiple experiments (one per step)"
      ],
      "metadata": {
        "id": "CCdF_ipAIY7k"
      }
    },
    {
      "cell_type": "code",
      "source": [
        "# Setup a git repo with dvc\n",
        "\n",
        "%cd /content\n",
        "!rm -rf experiments && mkdir experiments\n",
        "%cd experiments\n",
        "\n",
        "!git init\n",
        "!git add .gitignore\n",
        "!git commit -m \"Init repo\"\n",
        "!dvc init\n",
        "!git commit -m \"Init DVC\""
      ],
      "metadata": {
        "colab": {
          "base_uri": "https://localhost:8080/"
        },
        "id": "0x81BAI--2Gm",
        "executionInfo": {
          "status": "ok",
          "timestamp": 1697468159295,
          "user_tz": -120,
          "elapsed": 1213,
          "user": {
            "displayName": "Francesco Motoko",
            "userId": "00974636158007469548"
          }
        },
        "outputId": "7fb22cea-d367-41b0-f27d-a99e9d6081dc"
      },
      "execution_count": 17,
      "outputs": [
        {
          "output_type": "stream",
          "name": "stdout",
          "text": [
            "/content\n",
            "/content/experiments\n",
            "hint: Using 'master' as the name for the initial branch. This default branch name\n",
            "hint: is subject to change. To configure the initial branch name to use in all\n",
            "hint: of your new repositories, which will suppress this warning, call:\n",
            "hint: \n",
            "hint: \tgit config --global init.defaultBranch <name>\n",
            "hint: \n",
            "hint: Names commonly chosen instead of 'master' are 'main', 'trunk' and\n",
            "hint: 'development'. The just-created branch can be renamed via this command:\n",
            "hint: \n",
            "hint: \tgit branch -m <name>\n",
            "Initialized empty Git repository in /content/experiments/.git/\n",
            "fatal: pathspec '.gitignore' did not match any files\n",
            "On branch master\n",
            "\n",
            "Initial commit\n",
            "\n",
            "nothing to commit (create/copy files and use \"git add\" to track)\n",
            "Initialized DVC repository.\n",
            "\n",
            "You can now commit the changes to git.\n",
            "\n",
            "+---------------------------------------------------------------------+\n",
            "|                                                                     |\n",
            "|        DVC has enabled anonymous aggregate usage analytics.         |\n",
            "|     Read the analytics documentation (and how to opt-out) here:     |\n",
            "|             <https://dvc.org/doc/user-guide/analytics>              |\n",
            "|                                                                     |\n",
            "+---------------------------------------------------------------------+\n",
            "\n",
            "What's next?\n",
            "------------\n",
            "- Check out the documentation: <https://dvc.org/doc>\n",
            "- Get help and share ideas: <https://dvc.org/chat>\n",
            "- Star us on GitHub: <https://github.com/iterative/dvc>\n",
            "[master (root-commit) 469083d] Init DVC\n",
            " 3 files changed, 6 insertions(+)\n",
            " create mode 100644 .dvc/.gitignore\n",
            " create mode 100644 .dvc/config\n",
            " create mode 100644 .dvcignore\n"
          ]
        }
      ]
    },
    {
      "cell_type": "code",
      "source": [
        "from dvclive import Live\n",
        "\n",
        "for step, date in enumerate(experiment_batches):\n",
        "    with Live() as live:\n",
        "        live.log_param(\"step\", step)\n",
        "        live.log_param(\"begin\", date[0])\n",
        "        live.log_param(\"end\", date[1])\n",
        "\n",
        "        metrics = eval_drift(\n",
        "            df.loc[df.dteday.between(reference_dates[0], reference_dates[1])],\n",
        "            df.loc[df.dteday.between(date[0], date[1])],\n",
        "            column_mapping=data_columns,\n",
        "        )\n",
        "\n",
        "        for feature in metrics:\n",
        "            live.log_metric(feature[0], round(feature[1], 3))\n"
      ],
      "metadata": {
        "id": "VfVLDwfD39qO",
        "executionInfo": {
          "status": "ok",
          "timestamp": 1697468161649,
          "user_tz": -120,
          "elapsed": 2355,
          "user": {
            "displayName": "Francesco Motoko",
            "userId": "00974636158007469548"
          }
        }
      },
      "execution_count": 18,
      "outputs": []
    },
    {
      "cell_type": "code",
      "source": [
        "import dvc.api\n",
        "\n",
        "pd.DataFrame(dvc.api.exp_show())"
      ],
      "metadata": {
        "colab": {
          "base_uri": "https://localhost:8080/",
          "height": 238
        },
        "id": "ijcN3PaZ6fM0",
        "executionInfo": {
          "status": "ok",
          "timestamp": 1697468162078,
          "user_tz": -120,
          "elapsed": 433,
          "user": {
            "displayName": "Francesco Motoko",
            "userId": "00974636158007469548"
          }
        },
        "outputId": "2d26f834-604f-4e28-8924-f5d97ae92596"
      },
      "execution_count": 19,
      "outputs": [
        {
          "output_type": "execute_result",
          "data": {
            "text/plain": [
              "   Experiment        rev            typ   Created parent State Executor  \\\n",
              "0        None  workspace       baseline      None   None  None     None   \n",
              "1        None     master       baseline  02:55 PM   None  None     None   \n",
              "2  elite-mobs    e4d6acd  branch_commit  02:56 PM   None  None     None   \n",
              "3  buxom-shes    439f6e1  branch_commit  02:56 PM   None  None     None   \n",
              "4  hammy-skip    b5b80b5  branch_commit  02:55 PM   None  None     None   \n",
              "5  girly-sere    2ba9568    branch_base  02:55 PM   None  None     None   \n",
              "\n",
              "   weathersit   temp  atemp    hum  windspeed  holiday  workingday  step  \\\n",
              "0       0.231    NaN    NaN  0.062      0.012    0.275       0.593   3.0   \n",
              "1         NaN    NaN    NaN    NaN        NaN      NaN         NaN   NaN   \n",
              "2       0.231    NaN    NaN  0.062      0.012    0.275       0.593   3.0   \n",
              "3       0.155  0.399  0.537  0.684      0.611    0.588       0.699   2.0   \n",
              "4       0.985  1.000  1.000  1.000      1.000    0.980       0.851   NaN   \n",
              "5       0.779  0.098  0.107  0.030      0.171    0.545       0.653   1.0   \n",
              "\n",
              "                 begin                  end  \n",
              "0  2011-02-15 00:00:00  2011-02-21 23:00:00  \n",
              "1                 None                 None  \n",
              "2  2011-02-15 00:00:00  2011-02-21 23:00:00  \n",
              "3  2011-02-07 00:00:00  2011-02-14 23:00:00  \n",
              "4  2011-01-01 00:00:00  2011-01-29 23:00:00  \n",
              "5  2011-01-29 00:00:00  2011-02-07 23:00:00  "
            ],
            "text/html": [
              "\n",
              "  <div id=\"df-8c0d1ac2-fd6a-4e45-909c-a1c7a643c0ff\" class=\"colab-df-container\">\n",
              "    <div>\n",
              "<style scoped>\n",
              "    .dataframe tbody tr th:only-of-type {\n",
              "        vertical-align: middle;\n",
              "    }\n",
              "\n",
              "    .dataframe tbody tr th {\n",
              "        vertical-align: top;\n",
              "    }\n",
              "\n",
              "    .dataframe thead th {\n",
              "        text-align: right;\n",
              "    }\n",
              "</style>\n",
              "<table border=\"1\" class=\"dataframe\">\n",
              "  <thead>\n",
              "    <tr style=\"text-align: right;\">\n",
              "      <th></th>\n",
              "      <th>Experiment</th>\n",
              "      <th>rev</th>\n",
              "      <th>typ</th>\n",
              "      <th>Created</th>\n",
              "      <th>parent</th>\n",
              "      <th>State</th>\n",
              "      <th>Executor</th>\n",
              "      <th>weathersit</th>\n",
              "      <th>temp</th>\n",
              "      <th>atemp</th>\n",
              "      <th>hum</th>\n",
              "      <th>windspeed</th>\n",
              "      <th>holiday</th>\n",
              "      <th>workingday</th>\n",
              "      <th>step</th>\n",
              "      <th>begin</th>\n",
              "      <th>end</th>\n",
              "    </tr>\n",
              "  </thead>\n",
              "  <tbody>\n",
              "    <tr>\n",
              "      <th>0</th>\n",
              "      <td>None</td>\n",
              "      <td>workspace</td>\n",
              "      <td>baseline</td>\n",
              "      <td>None</td>\n",
              "      <td>None</td>\n",
              "      <td>None</td>\n",
              "      <td>None</td>\n",
              "      <td>0.231</td>\n",
              "      <td>NaN</td>\n",
              "      <td>NaN</td>\n",
              "      <td>0.062</td>\n",
              "      <td>0.012</td>\n",
              "      <td>0.275</td>\n",
              "      <td>0.593</td>\n",
              "      <td>3.0</td>\n",
              "      <td>2011-02-15 00:00:00</td>\n",
              "      <td>2011-02-21 23:00:00</td>\n",
              "    </tr>\n",
              "    <tr>\n",
              "      <th>1</th>\n",
              "      <td>None</td>\n",
              "      <td>master</td>\n",
              "      <td>baseline</td>\n",
              "      <td>02:55 PM</td>\n",
              "      <td>None</td>\n",
              "      <td>None</td>\n",
              "      <td>None</td>\n",
              "      <td>NaN</td>\n",
              "      <td>NaN</td>\n",
              "      <td>NaN</td>\n",
              "      <td>NaN</td>\n",
              "      <td>NaN</td>\n",
              "      <td>NaN</td>\n",
              "      <td>NaN</td>\n",
              "      <td>NaN</td>\n",
              "      <td>None</td>\n",
              "      <td>None</td>\n",
              "    </tr>\n",
              "    <tr>\n",
              "      <th>2</th>\n",
              "      <td>elite-mobs</td>\n",
              "      <td>e4d6acd</td>\n",
              "      <td>branch_commit</td>\n",
              "      <td>02:56 PM</td>\n",
              "      <td>None</td>\n",
              "      <td>None</td>\n",
              "      <td>None</td>\n",
              "      <td>0.231</td>\n",
              "      <td>NaN</td>\n",
              "      <td>NaN</td>\n",
              "      <td>0.062</td>\n",
              "      <td>0.012</td>\n",
              "      <td>0.275</td>\n",
              "      <td>0.593</td>\n",
              "      <td>3.0</td>\n",
              "      <td>2011-02-15 00:00:00</td>\n",
              "      <td>2011-02-21 23:00:00</td>\n",
              "    </tr>\n",
              "    <tr>\n",
              "      <th>3</th>\n",
              "      <td>buxom-shes</td>\n",
              "      <td>439f6e1</td>\n",
              "      <td>branch_commit</td>\n",
              "      <td>02:56 PM</td>\n",
              "      <td>None</td>\n",
              "      <td>None</td>\n",
              "      <td>None</td>\n",
              "      <td>0.155</td>\n",
              "      <td>0.399</td>\n",
              "      <td>0.537</td>\n",
              "      <td>0.684</td>\n",
              "      <td>0.611</td>\n",
              "      <td>0.588</td>\n",
              "      <td>0.699</td>\n",
              "      <td>2.0</td>\n",
              "      <td>2011-02-07 00:00:00</td>\n",
              "      <td>2011-02-14 23:00:00</td>\n",
              "    </tr>\n",
              "    <tr>\n",
              "      <th>4</th>\n",
              "      <td>hammy-skip</td>\n",
              "      <td>b5b80b5</td>\n",
              "      <td>branch_commit</td>\n",
              "      <td>02:55 PM</td>\n",
              "      <td>None</td>\n",
              "      <td>None</td>\n",
              "      <td>None</td>\n",
              "      <td>0.985</td>\n",
              "      <td>1.000</td>\n",
              "      <td>1.000</td>\n",
              "      <td>1.000</td>\n",
              "      <td>1.000</td>\n",
              "      <td>0.980</td>\n",
              "      <td>0.851</td>\n",
              "      <td>NaN</td>\n",
              "      <td>2011-01-01 00:00:00</td>\n",
              "      <td>2011-01-29 23:00:00</td>\n",
              "    </tr>\n",
              "    <tr>\n",
              "      <th>5</th>\n",
              "      <td>girly-sere</td>\n",
              "      <td>2ba9568</td>\n",
              "      <td>branch_base</td>\n",
              "      <td>02:55 PM</td>\n",
              "      <td>None</td>\n",
              "      <td>None</td>\n",
              "      <td>None</td>\n",
              "      <td>0.779</td>\n",
              "      <td>0.098</td>\n",
              "      <td>0.107</td>\n",
              "      <td>0.030</td>\n",
              "      <td>0.171</td>\n",
              "      <td>0.545</td>\n",
              "      <td>0.653</td>\n",
              "      <td>1.0</td>\n",
              "      <td>2011-01-29 00:00:00</td>\n",
              "      <td>2011-02-07 23:00:00</td>\n",
              "    </tr>\n",
              "  </tbody>\n",
              "</table>\n",
              "</div>\n",
              "    <div class=\"colab-df-buttons\">\n",
              "\n",
              "  <div class=\"colab-df-container\">\n",
              "    <button class=\"colab-df-convert\" onclick=\"convertToInteractive('df-8c0d1ac2-fd6a-4e45-909c-a1c7a643c0ff')\"\n",
              "            title=\"Convert this dataframe to an interactive table.\"\n",
              "            style=\"display:none;\">\n",
              "\n",
              "  <svg xmlns=\"http://www.w3.org/2000/svg\" height=\"24px\" viewBox=\"0 -960 960 960\">\n",
              "    <path d=\"M120-120v-720h720v720H120Zm60-500h600v-160H180v160Zm220 220h160v-160H400v160Zm0 220h160v-160H400v160ZM180-400h160v-160H180v160Zm440 0h160v-160H620v160ZM180-180h160v-160H180v160Zm440 0h160v-160H620v160Z\"/>\n",
              "  </svg>\n",
              "    </button>\n",
              "\n",
              "  <style>\n",
              "    .colab-df-container {\n",
              "      display:flex;\n",
              "      gap: 12px;\n",
              "    }\n",
              "\n",
              "    .colab-df-convert {\n",
              "      background-color: #E8F0FE;\n",
              "      border: none;\n",
              "      border-radius: 50%;\n",
              "      cursor: pointer;\n",
              "      display: none;\n",
              "      fill: #1967D2;\n",
              "      height: 32px;\n",
              "      padding: 0 0 0 0;\n",
              "      width: 32px;\n",
              "    }\n",
              "\n",
              "    .colab-df-convert:hover {\n",
              "      background-color: #E2EBFA;\n",
              "      box-shadow: 0px 1px 2px rgba(60, 64, 67, 0.3), 0px 1px 3px 1px rgba(60, 64, 67, 0.15);\n",
              "      fill: #174EA6;\n",
              "    }\n",
              "\n",
              "    .colab-df-buttons div {\n",
              "      margin-bottom: 4px;\n",
              "    }\n",
              "\n",
              "    [theme=dark] .colab-df-convert {\n",
              "      background-color: #3B4455;\n",
              "      fill: #D2E3FC;\n",
              "    }\n",
              "\n",
              "    [theme=dark] .colab-df-convert:hover {\n",
              "      background-color: #434B5C;\n",
              "      box-shadow: 0px 1px 3px 1px rgba(0, 0, 0, 0.15);\n",
              "      filter: drop-shadow(0px 1px 2px rgba(0, 0, 0, 0.3));\n",
              "      fill: #FFFFFF;\n",
              "    }\n",
              "  </style>\n",
              "\n",
              "    <script>\n",
              "      const buttonEl =\n",
              "        document.querySelector('#df-8c0d1ac2-fd6a-4e45-909c-a1c7a643c0ff button.colab-df-convert');\n",
              "      buttonEl.style.display =\n",
              "        google.colab.kernel.accessAllowed ? 'block' : 'none';\n",
              "\n",
              "      async function convertToInteractive(key) {\n",
              "        const element = document.querySelector('#df-8c0d1ac2-fd6a-4e45-909c-a1c7a643c0ff');\n",
              "        const dataTable =\n",
              "          await google.colab.kernel.invokeFunction('convertToInteractive',\n",
              "                                                    [key], {});\n",
              "        if (!dataTable) return;\n",
              "\n",
              "        const docLinkHtml = 'Like what you see? Visit the ' +\n",
              "          '<a target=\"_blank\" href=https://colab.research.google.com/notebooks/data_table.ipynb>data table notebook</a>'\n",
              "          + ' to learn more about interactive tables.';\n",
              "        element.innerHTML = '';\n",
              "        dataTable['output_type'] = 'display_data';\n",
              "        await google.colab.output.renderOutput(dataTable, element);\n",
              "        const docLink = document.createElement('div');\n",
              "        docLink.innerHTML = docLinkHtml;\n",
              "        element.appendChild(docLink);\n",
              "      }\n",
              "    </script>\n",
              "  </div>\n",
              "\n",
              "\n",
              "<div id=\"df-34c6bd2a-95f3-454a-a096-42c68cda98fb\">\n",
              "  <button class=\"colab-df-quickchart\" onclick=\"quickchart('df-34c6bd2a-95f3-454a-a096-42c68cda98fb')\"\n",
              "            title=\"Suggest charts.\"\n",
              "            style=\"display:none;\">\n",
              "\n",
              "<svg xmlns=\"http://www.w3.org/2000/svg\" height=\"24px\"viewBox=\"0 0 24 24\"\n",
              "     width=\"24px\">\n",
              "    <g>\n",
              "        <path d=\"M19 3H5c-1.1 0-2 .9-2 2v14c0 1.1.9 2 2 2h14c1.1 0 2-.9 2-2V5c0-1.1-.9-2-2-2zM9 17H7v-7h2v7zm4 0h-2V7h2v10zm4 0h-2v-4h2v4z\"/>\n",
              "    </g>\n",
              "</svg>\n",
              "  </button>\n",
              "\n",
              "<style>\n",
              "  .colab-df-quickchart {\n",
              "      --bg-color: #E8F0FE;\n",
              "      --fill-color: #1967D2;\n",
              "      --hover-bg-color: #E2EBFA;\n",
              "      --hover-fill-color: #174EA6;\n",
              "      --disabled-fill-color: #AAA;\n",
              "      --disabled-bg-color: #DDD;\n",
              "  }\n",
              "\n",
              "  [theme=dark] .colab-df-quickchart {\n",
              "      --bg-color: #3B4455;\n",
              "      --fill-color: #D2E3FC;\n",
              "      --hover-bg-color: #434B5C;\n",
              "      --hover-fill-color: #FFFFFF;\n",
              "      --disabled-bg-color: #3B4455;\n",
              "      --disabled-fill-color: #666;\n",
              "  }\n",
              "\n",
              "  .colab-df-quickchart {\n",
              "    background-color: var(--bg-color);\n",
              "    border: none;\n",
              "    border-radius: 50%;\n",
              "    cursor: pointer;\n",
              "    display: none;\n",
              "    fill: var(--fill-color);\n",
              "    height: 32px;\n",
              "    padding: 0;\n",
              "    width: 32px;\n",
              "  }\n",
              "\n",
              "  .colab-df-quickchart:hover {\n",
              "    background-color: var(--hover-bg-color);\n",
              "    box-shadow: 0 1px 2px rgba(60, 64, 67, 0.3), 0 1px 3px 1px rgba(60, 64, 67, 0.15);\n",
              "    fill: var(--button-hover-fill-color);\n",
              "  }\n",
              "\n",
              "  .colab-df-quickchart-complete:disabled,\n",
              "  .colab-df-quickchart-complete:disabled:hover {\n",
              "    background-color: var(--disabled-bg-color);\n",
              "    fill: var(--disabled-fill-color);\n",
              "    box-shadow: none;\n",
              "  }\n",
              "\n",
              "  .colab-df-spinner {\n",
              "    border: 2px solid var(--fill-color);\n",
              "    border-color: transparent;\n",
              "    border-bottom-color: var(--fill-color);\n",
              "    animation:\n",
              "      spin 1s steps(1) infinite;\n",
              "  }\n",
              "\n",
              "  @keyframes spin {\n",
              "    0% {\n",
              "      border-color: transparent;\n",
              "      border-bottom-color: var(--fill-color);\n",
              "      border-left-color: var(--fill-color);\n",
              "    }\n",
              "    20% {\n",
              "      border-color: transparent;\n",
              "      border-left-color: var(--fill-color);\n",
              "      border-top-color: var(--fill-color);\n",
              "    }\n",
              "    30% {\n",
              "      border-color: transparent;\n",
              "      border-left-color: var(--fill-color);\n",
              "      border-top-color: var(--fill-color);\n",
              "      border-right-color: var(--fill-color);\n",
              "    }\n",
              "    40% {\n",
              "      border-color: transparent;\n",
              "      border-right-color: var(--fill-color);\n",
              "      border-top-color: var(--fill-color);\n",
              "    }\n",
              "    60% {\n",
              "      border-color: transparent;\n",
              "      border-right-color: var(--fill-color);\n",
              "    }\n",
              "    80% {\n",
              "      border-color: transparent;\n",
              "      border-right-color: var(--fill-color);\n",
              "      border-bottom-color: var(--fill-color);\n",
              "    }\n",
              "    90% {\n",
              "      border-color: transparent;\n",
              "      border-bottom-color: var(--fill-color);\n",
              "    }\n",
              "  }\n",
              "</style>\n",
              "\n",
              "  <script>\n",
              "    async function quickchart(key) {\n",
              "      const quickchartButtonEl =\n",
              "        document.querySelector('#' + key + ' button');\n",
              "      quickchartButtonEl.disabled = true;  // To prevent multiple clicks.\n",
              "      quickchartButtonEl.classList.add('colab-df-spinner');\n",
              "      try {\n",
              "        const charts = await google.colab.kernel.invokeFunction(\n",
              "            'suggestCharts', [key], {});\n",
              "      } catch (error) {\n",
              "        console.error('Error during call to suggestCharts:', error);\n",
              "      }\n",
              "      quickchartButtonEl.classList.remove('colab-df-spinner');\n",
              "      quickchartButtonEl.classList.add('colab-df-quickchart-complete');\n",
              "    }\n",
              "    (() => {\n",
              "      let quickchartButtonEl =\n",
              "        document.querySelector('#df-34c6bd2a-95f3-454a-a096-42c68cda98fb button');\n",
              "      quickchartButtonEl.style.display =\n",
              "        google.colab.kernel.accessAllowed ? 'block' : 'none';\n",
              "    })();\n",
              "  </script>\n",
              "</div>\n",
              "    </div>\n",
              "  </div>\n"
            ]
          },
          "metadata": {},
          "execution_count": 19
        }
      ]
    },
    {
      "cell_type": "markdown",
      "source": [
        "To explore the results from CLI:"
      ],
      "metadata": {
        "id": "TQE5aBWl-sef"
      }
    },
    {
      "cell_type": "code",
      "source": [
        "!dvc exp show"
      ],
      "metadata": {
        "id": "oZtY-97bQj-Q",
        "executionInfo": {
          "status": "ok",
          "timestamp": 1697468163295,
          "user_tz": -120,
          "elapsed": 1221,
          "user": {
            "displayName": "Francesco Motoko",
            "userId": "00974636158007469548"
          }
        },
        "colab": {
          "base_uri": "https://localhost:8080/"
        },
        "outputId": "14eb8d4c-c9ce-4bb8-caba-42e46d45bb65"
      },
      "execution_count": 20,
      "outputs": [
        {
          "output_type": "stream",
          "name": "stdout",
          "text": [
            " ──────────────────────────────────────────────────────────────────────────────────────────────────────────────────────────────────────────────────────────────── \n",
            "  Experiment                 Created    weathersit    temp   atemp     hum   windspeed   holiday   workingday   step   begin                 end                  \n",
            " ──────────────────────────────────────────────────────────────────────────────────────────────────────────────────────────────────────────────────────────────── \n",
            "  workspace                  -               0.231       0       0   0.062       0.012     0.275        0.593   3      2011-02-15 00:00:00   2011-02-21 23:00:00  \n",
            "  master                     02:55 PM            -       -       -       -           -         -            -   -      -                     -                    \n",
            "  ├── e4d6acd [elite-mobs]   02:56 PM        0.231       0       0   0.062       0.012     0.275        0.593   3      2011-02-15 00:00:00   2011-02-21 23:00:00  \n",
            "  ├── 439f6e1 [buxom-shes]   02:56 PM        0.155   0.399   0.537   0.684       0.611     0.588        0.699   2      2011-02-07 00:00:00   2011-02-14 23:00:00  \n",
            "  ├── b5b80b5 [hammy-skip]   02:55 PM        0.985       1       1       1           1      0.98        0.851   0      2011-01-01 00:00:00   2011-01-29 23:00:00  \n",
            "  └── 2ba9568 [girly-sere]   02:55 PM        0.779   0.098   0.107    0.03       0.171     0.545        0.653   1      2011-01-29 00:00:00   2011-02-07 23:00:00  \n",
            " ──────────────────────────────────────────────────────────────────────────────────────────────────────────────────────────────────────────────────────────────── \n"
          ]
        }
      ]
    },
    {
      "cell_type": "code",
      "source": [],
      "metadata": {
        "id": "QoYexufp-qw2",
        "executionInfo": {
          "status": "ok",
          "timestamp": 1697468163757,
          "user_tz": -120,
          "elapsed": 464,
          "user": {
            "displayName": "Francesco Motoko",
            "userId": "00974636158007469548"
          }
        }
      },
      "execution_count": 20,
      "outputs": []
    }
  ]
}
