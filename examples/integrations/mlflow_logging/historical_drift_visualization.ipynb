{
 "cells": [
  {
   "cell_type": "markdown",
   "source": [
    "# Using  Evidently to Evaluate Data Drift for Dataset"
   ],
   "metadata": {
    "pycharm": {
     "name": "#%% md\n"
    },
    "id": "zifyYw-ollsY"
   }
  },
  {
   "cell_type": "markdown",
   "source": [
    "This notebook shows how you can use Evidently to check the data for data drift.\n",
    "\n",
    "Acknowledgments:\n",
    "\n",
    "The dataset used in the example is from: https://www.kaggle.com/c/bike-sharing-demand/data?select=train.csv\n",
    "Fanaee-T, Hadi, and Gama, Joao, 'Event labeling combining ensemble detectors and background knowledge', Progress in Artificial Intelligence (2013): pp. 1-15, Springer Berlin Heidelberg\n",
    "More information about the dataset can be found in UCI machine learning repository: https://archive.ics.uci.edu/ml/datasets/bike+sharing+dataset"
   ],
   "metadata": {
    "pycharm": {
     "name": "#%% md\n"
    },
    "id": "GLo2a7W2llse"
   }
  },
  {
   "cell_type": "markdown",
   "source": [
    "## Getting Started¶\n",
    "To run this tutorial:\n",
    "\n",
    "1. Install MLflow\n",
    "You can install MLflow with the following command `pip install mlflow` or install MLflow with scikit-learn via `pip install mlflow[extras]`\n",
    "More details:https://mlflow.org/docs/latest/tutorials-and-examples/tutorial.html#id5\n",
    "\n",
    "2. Install Evidently\n",
    "You can install Evidently with the following command `pip install evidently`\n",
    "In case you are also interested in Evidently Dashboard visualization in Jupyter install jupyter nbextention:\n",
    "`jupyter nbextension install --sys-prefix --symlink --overwrite --py evidently`\n",
    "And activate it:\n",
    "`jupyter nbextension enable evidently --py --sys-prefix`\n",
    "More details: https://docs.evidentlyai.com/install-evidently \n",
    "\n",
    "3. Optionally, you can load data from https://archive.ics.uci.edu/ml/datasets/bike+sharing+dataset and save in locally or skip this step and download data with  ```requests```  using instructions below"
   ],
   "metadata": {
    "id": "Eg-Ddrh7llsf"
   }
  },
  {
   "cell_type": "code",
   "execution_count": null,
   "source": [
    "import json\n",
    "import pandas as pd\n",
    "import numpy as np\n",
    "import requests\n",
    "import zipfile\n",
    "import io\n",
    "\n",
    "import plotly.offline as py #working offline\n",
    "import plotly.graph_objs as go\n",
    "\n",
    "from evidently.pipeline.column_mapping import ColumnMapping\n",
    "from evidently.report import Report\n",
    "from evidently.metric_preset import DataDriftPreset\n",
    "\n",
    "import mlflow\n",
    "import mlflow.sklearn\n",
    "from mlflow.tracking import MlflowClient"
   ],
   "outputs": [],
   "metadata": {
    "pycharm": {
     "name": "#%%\n"
    },
    "id": "0qLqOlt9llsg"
   }
  },
  {
   "cell_type": "code",
   "execution_count": null,
   "source": [
    "import warnings\n",
    "warnings.filterwarnings('ignore')\n",
    "warnings.simplefilter('ignore')"
   ],
   "outputs": [],
   "metadata": {
    "pycharm": {
     "name": "#%%\n"
    },
    "id": "LlKbn-2ullsj"
   }
  },
  {
   "cell_type": "code",
   "execution_count": null,
   "source": [
    "py.init_notebook_mode()"
   ],
   "outputs": [],
   "metadata": {
    "pycharm": {
     "name": "#%%\n"
    },
    "id": "odU8_XKlllsk"
   }
  },
  {
   "cell_type": "markdown",
   "source": [
    "## Load Data"
   ],
   "metadata": {
    "pycharm": {
     "name": "#%% md\n"
    },
    "id": "7lKnwPO-llsk"
   }
  },
  {
   "cell_type": "code",
   "execution_count": null,
   "source": [
    "content = requests.get(\"https://archive.ics.uci.edu/static/public/275/bike+sharing+dataset.zip\").content\n",
    "with zipfile.ZipFile(io.BytesIO(content)) as arc:\n",
    "    raw_data = pd.read_csv(arc.open(\"day.csv\"), header=0, sep=',', parse_dates=['dteday'])"
   ],
   "outputs": [],
   "metadata": {
    "pycharm": {
     "name": "#%%\n"
    },
    "id": "B3x2-w2Illsl"
   }
  },
  {
   "cell_type": "code",
   "execution_count": null,
   "source": [
    "#observe data structure\n",
    "raw_data.head()"
   ],
   "outputs": [],
   "metadata": {
    "pycharm": {
     "name": "#%%\n"
    },
    "id": "W0mG3lSQllsm"
   }
  },
  {
   "cell_type": "code",
   "execution_count": null,
   "source": [
    "#set column mapping for Evidently Profile\n",
    "data_columns = ColumnMapping()\n",
    "data_columns.datetime = 'dteday'\n",
    "data_columns.numerical_features = ['weathersit', 'temp', 'atemp', 'hum', 'windspeed']"
   ],
   "outputs": [],
   "metadata": {
    "pycharm": {
     "name": "#%%\n"
    },
    "id": "jV3J8Egcllsm"
   }
  },
  {
   "cell_type": "code",
   "execution_count": null,
   "source": [
    "#set reference dates\n",
    "reference_dates = ('2011-01-01 00:00:00','2011-01-28 23:00:00')\n",
    "\n",
    "#set experiment batches dates\n",
    "experiment_batches = [\n",
    "    ('2011-02-01 00:00:00','2011-02-28 23:00:00'),\n",
    "    ('2011-03-01 00:00:00','2011-03-31 23:00:00'),\n",
    "    ('2011-04-01 00:00:00','2011-04-30 23:00:00'),\n",
    "    ('2011-05-01 00:00:00','2011-05-31 23:00:00'),  \n",
    "    ('2011-06-01 00:00:00','2011-06-30 23:00:00'), \n",
    "    ('2011-07-01 00:00:00','2011-07-31 23:00:00'), \n",
    "]"
   ],
   "outputs": [],
   "metadata": {
    "pycharm": {
     "name": "#%%\n"
    },
    "id": "QM1wTcUwllsn"
   }
  },
  {
   "cell_type": "markdown",
   "source": [
    "## Functions to clculate drift with Evidently"
   ],
   "metadata": {
    "pycharm": {
     "name": "#%% md\n"
    },
    "id": "qs1g2R93llsn"
   }
  },
  {
   "cell_type": "code",
   "execution_count": null,
   "source": [
    "data_drift_report = Report(metrics=[DataDriftPreset()])\n",
    "data_drift_report.run(reference_data=raw_data[:100], current_data=raw_data[100:200], column_mapping=data_columns)\n",
    "report = data_drift_report.as_dict()"
   ],
   "outputs": [],
   "metadata": {
    "id": "AG4b_lfxllsn"
   }
  },
  {
   "cell_type": "code",
   "execution_count": null,
   "source": [
    "report[\"metrics\"][1][\"result\"][\"drift_by_columns\"]"
   ],
   "outputs": [],
   "metadata": {
    "id": "dL6HzIkSllso"
   }
  },
  {
   "cell_type": "code",
   "execution_count": null,
   "source": [
    "#evaluate data drift with Evidently Profile\n",
    "def detect_dataset_drift(reference, production, column_mapping, get_ratio=False):\n",
    "    \"\"\"\n",
    "    Returns True if Data Drift is detected, else returns False.\n",
    "    If get_ratio is True, returns the share of drifted features.\n",
    "    The Data Drift detection depends on the confidence level and the threshold.\n",
    "    For each individual feature Data Drift is detected with the selected confidence (default value is 0.95).\n",
    "    Data Drift for the dataset is detected if share of the drifted features is above the selected threshold (default value is 0.5).\n",
    "    \"\"\"\n",
    "    \n",
    "    data_drift_report = Report(metrics=[DataDriftPreset()])\n",
    "    data_drift_report.run(reference_data=reference, current_data=production, column_mapping=column_mapping)\n",
    "    report = data_drift_report.as_dict()\n",
    "    \n",
    "    if get_ratio:\n",
    "        return report[\"metrics\"][0][\"result\"][\"drift_share\"]\n",
    "    else:\n",
    "        return report[\"metrics\"][0][\"result\"][\"dataset_drift\"]\n"
   ],
   "outputs": [],
   "metadata": {
    "pycharm": {
     "name": "#%%\n"
    },
    "id": "-l4ohZ7Allsp"
   }
  },
  {
   "cell_type": "code",
   "execution_count": null,
   "source": [
    "#evaluate data drift with Evidently Profile\n",
    "def detect_features_drift(reference, production, column_mapping, get_scores=False):\n",
    "    \"\"\"\n",
    "    Returns True if Data Drift is detected, else returns False. \n",
    "    If get_scores is True, returns scores value (like p-value) for each feature.\n",
    "    The Data Drift detection depends on the confidence level and the threshold.\n",
    "    For each individual feature Data Drift is detected with the selected confidence (default value is 0.95).\n",
    "    \"\"\"\n",
    "    \n",
    "    data_drift_report = Report(metrics=[DataDriftPreset()])\n",
    "    data_drift_report.run(reference_data=reference, current_data=production, column_mapping=column_mapping)\n",
    "    report = data_drift_report.as_dict()\n",
    "    \n",
    "    drifts = []\n",
    "    num_features = column_mapping.numerical_features if column_mapping.numerical_features else []\n",
    "    cat_features = column_mapping.categorical_features if column_mapping.categorical_features else []\n",
    "    for feature in num_features + cat_features:\n",
    "        drift_score = report[\"metrics\"][1][\"result\"][\"drift_by_columns\"][feature][\"drift_score\"]\n",
    "        if get_scores:\n",
    "            drifts.append((feature, drift_score))\n",
    "        else:\n",
    "            drifts.append((feature, report[\"metrics\"][1][\"result\"][\"drift_by_columns\"][feature][\"drift_detected\"]))\n",
    "             \n",
    "    return drifts"
   ],
   "outputs": [],
   "metadata": {
    "pycharm": {
     "name": "#%%\n"
    },
    "id": "k59pXtSwllsp"
   }
  },
  {
   "cell_type": "markdown",
   "source": [
    "## Features Drift"
   ],
   "metadata": {
    "pycharm": {
     "name": "#%% md\n"
    },
    "id": "-arYuQRellsq"
   }
  },
  {
   "cell_type": "code",
   "execution_count": null,
   "source": [
    "features_historical_drift = []\n",
    "\n",
    "for date in experiment_batches:\n",
    "    drifts = detect_features_drift(raw_data.loc[raw_data.dteday.between(reference_dates[0],reference_dates[1])], \n",
    "                           raw_data.loc[raw_data.dteday.between(date[0], date[1])], \n",
    "                           column_mapping=data_columns)\n",
    "    \n",
    "    features_historical_drift.append([x[1] for x in drifts])\n",
    "    \n",
    "features_historical_drift_frame = pd.DataFrame(features_historical_drift, \n",
    "                                               columns = data_columns.numerical_features)"
   ],
   "outputs": [],
   "metadata": {
    "pycharm": {
     "name": "#%%\n"
    },
    "id": "wN4ttBrYllsq"
   }
  },
  {
   "cell_type": "code",
   "execution_count": null,
   "source": [
    "fig = go.Figure(data=go.Heatmap(\n",
    "                   z = features_historical_drift_frame.astype(int).transpose(),\n",
    "                   x = [x[1] for x in experiment_batches],\n",
    "                   y = data_columns.numerical_features,\n",
    "                   hoverongaps = False,\n",
    "                   xgap = 1,\n",
    "                   ygap = 1,\n",
    "                   zmin = 0,\n",
    "                   zmax = 1,\n",
    "                   showscale = False,\n",
    "                   colorscale = 'Bluered'\n",
    "))\n",
    "\n",
    "fig.update_xaxes(side=\"top\")\n",
    "\n",
    "fig.update_layout(\n",
    "    xaxis_title = \"Timestamp\",\n",
    "    yaxis_title = \"Feature Drift\"\n",
    ")\n",
    "\n",
    "fig.show()"
   ],
   "outputs": [],
   "metadata": {
    "pycharm": {
     "name": "#%%\n"
    },
    "id": "Zt7zceZollsq"
   }
  },
  {
   "cell_type": "code",
   "execution_count": null,
   "source": [
    "features_historical_drift_pvalues = []\n",
    "\n",
    "for date in experiment_batches:\n",
    "    drifts = detect_features_drift(raw_data.loc[raw_data.dteday.between(reference_dates[0], reference_dates[1])], \n",
    "                           raw_data.loc[raw_data.dteday.between(date[0], date[1])],\n",
    "                           column_mapping=data_columns,\n",
    "                           get_scores=True)\n",
    "    \n",
    "    features_historical_drift_pvalues.append([x[1] for x in drifts])\n",
    "    \n",
    "features_historical_drift_pvalues_frame = pd.DataFrame(features_historical_drift_pvalues, \n",
    "                                                       columns = data_columns.numerical_features)\n"
   ],
   "outputs": [],
   "metadata": {
    "pycharm": {
     "name": "#%%\n"
    },
    "id": "-gsQQiB9llsr"
   }
  },
  {
   "cell_type": "code",
   "execution_count": null,
   "source": [
    "fig = go.Figure(data=go.Heatmap(\n",
    "                   z = features_historical_drift_pvalues_frame.transpose(),\n",
    "                   x = [x[1] for x in experiment_batches],\n",
    "                   y = features_historical_drift_pvalues_frame.columns,\n",
    "                   hoverongaps = False,\n",
    "                   xgap = 1,\n",
    "                   ygap = 1,\n",
    "                   zmin = 0,\n",
    "                   zmax = 1,\n",
    "                   colorscale = 'reds_r'\n",
    "                   )\n",
    "               )\n",
    "\n",
    "fig.update_xaxes(side=\"top\")\n",
    "\n",
    "fig.update_layout(\n",
    "    xaxis_title = \"Timestamp\",\n",
    "    yaxis_title = \"p-value\"\n",
    ")\n",
    "\n",
    "fig.show(\"notebook\")"
   ],
   "outputs": [],
   "metadata": {
    "pycharm": {
     "name": "#%%\n"
    },
    "id": "65_nOkLallsr"
   }
  },
  {
   "cell_type": "markdown",
   "source": [
    "## Dataset Drift"
   ],
   "metadata": {
    "pycharm": {
     "name": "#%% md\n"
    },
    "id": "bJat2lIAllss"
   }
  },
  {
   "cell_type": "code",
   "execution_count": null,
   "source": [
    "dataset_historical_drift = []\n",
    "\n",
    "for date in experiment_batches:\n",
    "    dataset_historical_drift.append(detect_dataset_drift(raw_data.loc[raw_data.dteday.between(reference_dates[0], reference_dates[1])], \n",
    "                           raw_data.loc[raw_data.dteday.between(date[0], date[1])], \n",
    "                           column_mapping=data_columns))"
   ],
   "outputs": [],
   "metadata": {
    "pycharm": {
     "name": "#%%\n"
    },
    "id": "5-ZV7Ug4llss"
   }
  },
  {
   "cell_type": "code",
   "execution_count": null,
   "source": [
    "fig = go.Figure(data=go.Heatmap(\n",
    "                   z = [[1 if x == True else 0 for x in dataset_historical_drift]],\n",
    "                   x = [x[1] for x in experiment_batches],\n",
    "                   y = [''],\n",
    "                   hoverongaps = False,\n",
    "                   xgap = 1,\n",
    "                   ygap = 1,\n",
    "                   zmin = 0,\n",
    "                   zmax = 1,\n",
    "                   colorscale = 'Bluered',\n",
    "                   showscale = False\n",
    "                   )\n",
    "               )\n",
    "\n",
    "fig.update_xaxes(side=\"top\")\n",
    "\n",
    "fig.update_layout(\n",
    "    xaxis_title = \"Timestamp\",\n",
    "    yaxis_title = \"Dataset Drift\"\n",
    ")\n",
    "fig.show()"
   ],
   "outputs": [],
   "metadata": {
    "pycharm": {
     "name": "#%%\n"
    },
    "id": "iXFMLPXDllsv"
   }
  },
  {
   "cell_type": "code",
   "execution_count": null,
   "source": [
    "dataset_historical_drift_ratio = []\n",
    "\n",
    "for date in experiment_batches:\n",
    "    dataset_historical_drift_ratio.append(detect_dataset_drift(raw_data.loc[raw_data.dteday.between(reference_dates[0], reference_dates[1])], \n",
    "                           raw_data.loc[raw_data.dteday.between(date[0],date[1])],\n",
    "                           column_mapping=data_columns,\n",
    "                           get_ratio=True))"
   ],
   "outputs": [],
   "metadata": {
    "pycharm": {
     "name": "#%%\n"
    },
    "id": "WEgYspQ8llsw"
   }
  },
  {
   "cell_type": "code",
   "execution_count": null,
   "source": [
    "fig = go.Figure(data=go.Heatmap(\n",
    "                   z = [dataset_historical_drift_ratio],\n",
    "                   x = [x[1] for x in experiment_batches],\n",
    "                   y = [''],\n",
    "                   hoverongaps = False,\n",
    "                   xgap = 1,\n",
    "                   ygap = 1,\n",
    "                   zmin = 0.5,\n",
    "                   zmax = 1,\n",
    "                   colorscale = 'reds'\n",
    "                  )\n",
    "               )\n",
    "\n",
    "fig.update_xaxes(side=\"top\")\n",
    "\n",
    "fig.update_layout(\n",
    "    xaxis_title = \"Timestamp\",\n",
    "    yaxis_title = \"Dataset Drift\"\n",
    ")\n",
    "fig.show()"
   ],
   "outputs": [],
   "metadata": {
    "pycharm": {
     "name": "#%%\n"
    },
    "id": "y834xm1lllsw"
   }
  },
  {
   "cell_type": "markdown",
   "source": [
    "## Log Dataset Drift in MLFlow"
   ],
   "metadata": {
    "pycharm": {
     "name": "#%% md\n"
    },
    "id": "bqkWw_uCllsx"
   }
  },
  {
   "cell_type": "code",
   "execution_count": null,
   "source": [
    "#log into MLflow\n",
    "client = MlflowClient()\n",
    "\n",
    "#set experiment\n",
    "mlflow.set_experiment('Dataset Drift Analysis with Evidently')\n",
    "\n",
    "#start new run\n",
    "for date in experiment_batches:\n",
    "    with mlflow.start_run() as run: \n",
    "        \n",
    "        # Log parameters\n",
    "        mlflow.log_param(\"begin\", date[0])\n",
    "        mlflow.log_param(\"end\", date[1])\n",
    "\n",
    "        # Log metrics\n",
    "        metric = detect_dataset_drift(raw_data.loc[raw_data.dteday.between(reference_dates[0], reference_dates[1])], \n",
    "                           raw_data.loc[raw_data.dteday.between(date[0], date[1])],\n",
    "                           column_mapping=data_columns,\n",
    "                           get_ratio=True)\n",
    "        \n",
    "        mlflow.log_metric('dataset drift', metric)\n",
    "\n",
    "        print(run.info)"
   ],
   "outputs": [],
   "metadata": {
    "pycharm": {
     "name": "#%%\n"
    },
    "id": "_NWT4mHullsx"
   }
  },
  {
   "cell_type": "code",
   "execution_count": null,
   "source": [
    "#run MLflow UI (it will be more convinient to run it directly from the terminal)\n",
    "#!mlflow ui"
   ],
   "outputs": [],
   "metadata": {
    "pycharm": {
     "name": "#%%\n"
    },
    "id": "rBbyPiVWllsx"
   }
  },
  {
   "cell_type": "markdown",
   "source": [
    "# Support Evidently\n",
    "Enjoyed the tutorial? Star Evidently on GitHub to contribute back! This helps us continue creating free open-source tools for the community. https://github.com/evidentlyai/evidently"
   ],
   "metadata": {}
  }
 ],
 "metadata": {
  "kernelspec": {
   "display_name": "Python 3 (ipykernel)",
   "language": "python",
   "name": "python3"
  },
  "language_info": {
   "codemirror_mode": {
    "name": "ipython",
    "version": 3
   },
   "file_extension": ".py",
   "mimetype": "text/x-python",
   "name": "python",
   "nbconvert_exporter": "python",
   "pygments_lexer": "ipython3",
   "version": "3.8.13"
  },
  "colab": {
   "provenance": []
  }
 },
 "nbformat": 4,
 "nbformat_minor": 2
}