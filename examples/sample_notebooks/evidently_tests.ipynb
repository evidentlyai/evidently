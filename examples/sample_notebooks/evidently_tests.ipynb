{
 "cells": [
  {
   "cell_type": "markdown",
   "id": "aad1e6ef",
   "metadata": {},
   "source": [
    "# Evidently Tests "
   ]
  },
  {
   "cell_type": "code",
   "execution_count": null,
   "id": "6617c9a3",
   "metadata": {},
   "outputs": [],
   "source": [
    "try:\n",
    "    import evidently\n",
    "except:\n",
    "    !npm install -g yarn\n",
    "    !pip install git+https://github.com/evidentlyai/evidently.git"
   ]
  },
  {
   "cell_type": "code",
   "execution_count": null,
   "id": "12dd086f",
   "metadata": {},
   "outputs": [],
   "source": [
    "import pandas as pd\n",
    "import numpy as np\n",
    "\n",
    "from sklearn import datasets, ensemble, model_selection\n",
    "\n",
    "from evidently import ColumnMapping\n",
    "from evidently.options import DataDriftOptions\n",
    "from evidently.options import ColorOptions\n",
    "from evidently.test_suite import TestSuite\n",
    "from evidently.tests import *"
   ]
  },
  {
   "cell_type": "markdown",
   "id": "c3531990",
   "metadata": {},
   "source": [
    "## Prepare Datasets"
   ]
  },
  {
   "cell_type": "code",
   "execution_count": null,
   "id": "856341cd",
   "metadata": {},
   "outputs": [],
   "source": [
    "#Dataset for Data Quality and Integrity\n",
    "adult_data = datasets.fetch_openml(name='adult', version=2, as_frame='auto')\n",
    "adult = adult_data.frame\n",
    "\n",
    "adult_ref = adult[~adult.education.isin(['Some-college', 'HS-grad', 'Bachelors'])]\n",
    "adult_cur = adult[adult.education.isin(['Some-college', 'HS-grad', 'Bachelors'])]\n",
    "\n",
    "adult_cur.iloc[:2000, 3:5] = np.nan"
   ]
  },
  {
   "cell_type": "code",
   "execution_count": null,
   "id": "c310ba35",
   "metadata": {},
   "outputs": [],
   "source": [
    "#Dataset for Regression\n",
    "housing_data = datasets.fetch_california_housing(as_frame='auto')\n",
    "housing = housing_data.frame\n",
    "\n",
    "housing.rename(columns={'MedHouseVal': 'target'}, inplace=True)\n",
    "housing['prediction'] = housing_data['target'].values + np.random.normal(0, 3, housing.shape[0])\n",
    "\n",
    "housing_ref = housing.sample(n=5000, replace=False)\n",
    "housing_cur = housing.sample(n=5000, replace=False)"
   ]
  },
  {
   "cell_type": "code",
   "execution_count": null,
   "id": "db040e44",
   "metadata": {},
   "outputs": [],
   "source": [
    "#Dataset for Binary Probabilistic Classifcation\n",
    "bcancer_data = datasets.load_breast_cancer(as_frame='auto')\n",
    "bcancer = bcancer_data.frame\n",
    "\n",
    "bcancer_ref = bcancer.sample(n=300, replace=False)\n",
    "bcancer_cur = bcancer.sample(n=200, replace=False)\n",
    "\n",
    "model = ensemble.RandomForestClassifier(random_state=1, n_estimators=10)\n",
    "model.fit(bcancer_ref[bcancer_data.feature_names.tolist()], bcancer_ref.target)\n",
    "\n",
    "bcancer_ref['prediction'] = model.predict_proba(bcancer_ref[bcancer_data.feature_names.tolist()])[:, 1]\n",
    "bcancer_cur['prediction'] = model.predict_proba(bcancer_cur[bcancer_data.feature_names.tolist()])[:, 1]"
   ]
  },
  {
   "cell_type": "code",
   "execution_count": null,
   "id": "c701de37",
   "metadata": {},
   "outputs": [],
   "source": [
    "#Dataset for Multiclass Classifcation (labels)\n",
    "iris_data = datasets.load_iris(as_frame='auto')\n",
    "iris = iris_data.frame\n",
    "\n",
    "iris_ref = iris.sample(n=75, replace=False)\n",
    "iris_cur = iris.sample(n=75, replace=False)\n",
    "\n",
    "model = ensemble.RandomForestClassifier(random_state=1, n_estimators=3)\n",
    "model.fit(iris_ref[iris_data.feature_names], iris_ref.target)\n",
    "\n",
    "iris_ref['prediction'] = model.predict(iris_ref[iris_data.feature_names])\n",
    "iris_cur['prediction'] = model.predict(iris_cur[iris_data.feature_names])"
   ]
  },
  {
   "cell_type": "markdown",
   "id": "922a4d3a",
   "metadata": {},
   "source": [
    "## How to run TestSuites?"
   ]
  },
  {
   "cell_type": "markdown",
   "id": "5a80593a",
   "metadata": {},
   "source": [
    "### Data Intergrity Tests"
   ]
  },
  {
   "cell_type": "code",
   "execution_count": null,
   "id": "a1bebf9e",
   "metadata": {
    "scrolled": true
   },
   "outputs": [],
   "source": [
    "#dataset-level tests\n",
    "data_integrity_dataset_tests = TestSuite(tests=[\n",
    "    TestNumberOfColumns(),\n",
    "    TestNumberOfRows(),\n",
    "    TestNumberOfMissingValues(),\n",
    "    TestShareOfMissingValues(),\n",
    "    TestNumberOfColumnsWithMissingValues(),\n",
    "    TestNumberOfRowsWithMissingValues(),\n",
    "    TestShareOfColumnsWithMissingValues(),\n",
    "    TestShareOfRowsWithMissingValues(),\n",
    "    TestNumberOfDifferentMissingValues(),\n",
    "    TestNumberOfConstantColumns(),\n",
    "    TestNumberOfEmptyRows(),\n",
    "    TestNumberOfEmptyColumns(),\n",
    "    TestNumberOfDuplicatedRows(),\n",
    "    TestNumberOfDuplicatedColumns(),\n",
    "    TestColumnsType(),\n",
    "    \n",
    "])\n",
    "\n",
    "data_integrity_dataset_tests.run(reference_data=adult_ref, current_data=adult_cur)\n",
    "data_integrity_dataset_tests"
   ]
  },
  {
   "cell_type": "code",
   "execution_count": null,
   "id": "a3972887",
   "metadata": {},
   "outputs": [],
   "source": [
    "#column-level tests\n",
    "data_integrity_column_tests = TestSuite(tests=[\n",
    "    TestColumnNumberOfMissingValues(column_name='education'),\n",
    "    TestColumnShareOfMissingValues(column_name='education'),\n",
    "    TestColumnNumberOfDifferentMissingValues(column_name='education'),\n",
    "    TestColumnAllConstantValues(column_name='education'),\n",
    "    TestColumnAllUniqueValues(column_name='education'),\n",
    "    TestColumnValueRegExp(column_name='education',reg_exp='^[0..9]')\n",
    "])\n",
    "\n",
    "data_integrity_column_tests.run(reference_data=adult_ref, current_data=adult_cur)\n",
    "data_integrity_column_tests"
   ]
  },
  {
   "cell_type": "code",
   "execution_count": null,
   "id": "b7ee8dae",
   "metadata": {
    "scrolled": false
   },
   "outputs": [],
   "source": [
    "#test in a JSON format\n",
    "data_integrity_dataset_tests.json()"
   ]
  },
  {
   "cell_type": "code",
   "execution_count": null,
   "id": "c4d8f244",
   "metadata": {
    "scrolled": true
   },
   "outputs": [],
   "source": [
    "#tests as a python object\n",
    "data_integrity_dataset_tests.as_dict()"
   ]
  },
  {
   "cell_type": "markdown",
   "id": "f195c8d9",
   "metadata": {},
   "source": [
    "### Data Quality Tests"
   ]
  },
  {
   "cell_type": "code",
   "execution_count": null,
   "id": "e3dd160a",
   "metadata": {},
   "outputs": [],
   "source": [
    "#dataset-level tests\n",
    "data_quality_dataset_tests = TestSuite(tests=[\n",
    "    TestTargetPredictionCorrelation(),\n",
    "    TestHighlyCorrelatedColumns(),\n",
    "    TestTargetFeaturesCorrelations(),\n",
    "    TestPredictionFeaturesCorrelations(),\n",
    "    TestCorrelationChanges(),\n",
    "])\n",
    "\n",
    "data_quality_dataset_tests.run(reference_data=adult_ref, current_data=adult_cur)\n",
    "data_quality_dataset_tests"
   ]
  },
  {
   "cell_type": "code",
   "execution_count": null,
   "id": "e5d6c44b",
   "metadata": {},
   "outputs": [],
   "source": [
    "#column-level tests\n",
    "data_quality_column_tests = TestSuite(tests=[\n",
    "    TestColumnValueMin(column_name='education-num'),\n",
    "    TestColumnValueMax(column_name='education-num'),\n",
    "    TestColumnValueMean(column_name='education-num'),\n",
    "    TestColumnValueMedian(column_name='education-num'),\n",
    "    TestColumnValueStd(column_name='education-num'),\n",
    "    TestNumberOfUniqueValues(column_name='education'),\n",
    "    TestUniqueValuesShare(column_name='education'),\n",
    "    TestMostCommonValueShare(column_name='education'),\n",
    "    TestMeanInNSigmas(column_name='education-num'),\n",
    "    TestValueRange(column_name='education-num'),\n",
    "    TestNumberOfOutRangeValues(column_name='education-num'),\n",
    "    TestShareOfOutRangeValues(column_name='education-num'),\n",
    "    TestValueList(column_name='education'),\n",
    "    TestNumberOfOutListValues(column_name='education'),\n",
    "    TestShareOfOutListValues(column_name='education'),\n",
    "    TestValueQuantile(column_name='education-num', quantile=0.25),\n",
    "    TestShareOfOutListValues(column_name='education-num'),\n",
    "])\n",
    "\n",
    "data_quality_column_tests.run(reference_data=adult_ref, current_data=adult_cur)\n",
    "data_quality_column_tests"
   ]
  },
  {
   "cell_type": "markdown",
   "id": "71b1e6aa",
   "metadata": {},
   "source": [
    "### Data Drift Tests"
   ]
  },
  {
   "cell_type": "code",
   "execution_count": null,
   "id": "48222831",
   "metadata": {},
   "outputs": [],
   "source": [
    "#dataset-level tests\n",
    "data_drift_dataset_tests = TestSuite(tests=[\n",
    "    TestNumberOfDriftedColumns(),\n",
    "    TestShareOfDriftedColumns(),\n",
    "])\n",
    "\n",
    "data_drift_dataset_tests.run(reference_data=adult_ref, current_data=adult_cur)\n",
    "data_drift_dataset_tests"
   ]
  },
  {
   "cell_type": "code",
   "execution_count": null,
   "id": "29134357",
   "metadata": {},
   "outputs": [],
   "source": [
    "#column-level tests\n",
    "data_drift_column_tests = TestSuite(tests=[\n",
    "    TestColumnValueDrift(column_name='education-num')\n",
    "])\n",
    "\n",
    "data_drift_column_tests.run(reference_data=adult_ref, current_data=adult_cur)\n",
    "data_drift_column_tests"
   ]
  },
  {
   "cell_type": "markdown",
   "id": "290bfb82",
   "metadata": {},
   "source": [
    "### Regression Performance Tests"
   ]
  },
  {
   "cell_type": "code",
   "execution_count": null,
   "id": "624e4a87",
   "metadata": {},
   "outputs": [],
   "source": [
    "#dataset-level tests\n",
    "regression_performance_dataset_tests = TestSuite(tests=[\n",
    "    TestValueMAE(),\n",
    "    TestValueRMSE(),\n",
    "    TestValueMeanError(),\n",
    "    TestValueMAPE(),\n",
    "    TestValueAbsMaxError(),\n",
    "    TestValueR2Score()\n",
    "])\n",
    "\n",
    "regression_performance_dataset_tests.run(reference_data=housing_ref, current_data=housing_cur)\n",
    "regression_performance_dataset_tests"
   ]
  },
  {
   "cell_type": "markdown",
   "id": "5277cced",
   "metadata": {},
   "source": [
    "### Classification Performance Tests"
   ]
  },
  {
   "cell_type": "code",
   "execution_count": null,
   "id": "d8171336",
   "metadata": {},
   "outputs": [],
   "source": [
    "#dataset-level tests\n",
    "classification_performance_dataset_tests = TestSuite(tests=[\n",
    "    TestAccuracyScore(),\n",
    "    TestPrecisionScore(),\n",
    "    TestRecallScore(),\n",
    "    TestF1Score(),\n",
    "    TestPrecisionByClass(label='0'),\n",
    "    TestPrecisionByClass(label='1'),\n",
    "    TestPrecisionByClass(label='2'),\n",
    "    TestRecallByClass(label='0'),\n",
    "    TestRecallByClass(label='1'),\n",
    "    TestRecallByClass(label='2'),\n",
    "    TestF1ByClass(label='0'),\n",
    "    TestF1ByClass(label='1'),\n",
    "    TestF1ByClass(label='2'),\n",
    "])\n",
    "\n",
    "classification_performance_dataset_tests.run(reference_data=iris_ref, current_data=iris_cur)\n",
    "classification_performance_dataset_tests"
   ]
  },
  {
   "cell_type": "markdown",
   "id": "04462e88",
   "metadata": {},
   "source": [
    "### Probabilistic Classification Performance Tests"
   ]
  },
  {
   "cell_type": "code",
   "execution_count": null,
   "id": "9278a4a4",
   "metadata": {},
   "outputs": [],
   "source": [
    "#dataset-level tests\n",
    "prob_classification_performance_dataset_tests = TestSuite(tests=[\n",
    "    TestAccuracyScore(),\n",
    "    TestPrecisionScore(),\n",
    "    TestRecallScore(),\n",
    "    TestF1Score(),\n",
    "    TestRocAuc(),\n",
    "    TestLogLoss(),\n",
    "    TestPrecisionByClass(label='0'),\n",
    "    TestPrecisionByClass(label='1'),\n",
    "    TestRecallByClass(label='0'),\n",
    "    TestRecallByClass(label='1'),\n",
    "    TestF1ByClass(label='0'),\n",
    "    TestF1ByClass(label='1'),\n",
    "\n",
    "])\n",
    "\n",
    "prob_classification_performance_dataset_tests.run(reference_data=bcancer_ref, current_data=bcancer_cur)\n",
    "prob_classification_performance_dataset_tests"
   ]
  },
  {
   "cell_type": "markdown",
   "id": "73e9d42f",
   "metadata": {},
   "source": [
    "## How to set test parameters?"
   ]
  },
  {
   "cell_type": "code",
   "execution_count": null,
   "id": "8f8ee9b0",
   "metadata": {},
   "outputs": [],
   "source": [
    "#simple test parameters\n",
    "feature_level_tests = TestSuite(tests=[\n",
    "    TestMeanInNSigmas(column_name='hours-per-week', n_sigmas=3),\n",
    "    TestShareOfOutRangeValues(column_name='hours-per-week', lte=0),\n",
    "    TestColumnShareOfMissingValues(column_name='education', lt=0.2),\n",
    "])\n",
    "\n",
    "feature_level_tests.run(reference_data=adult_ref, current_data=adult_cur)\n",
    "feature_level_tests"
   ]
  },
  {
   "cell_type": "code",
   "execution_count": null,
   "id": "ecff8b89",
   "metadata": {},
   "outputs": [],
   "source": [
    "#options\n",
    "stat_test_option = DataDriftOptions(all_features_stattest='psi')\n",
    "\n",
    "color_scheme = ColorOptions()\n",
    "color_scheme.primary_color = \"#5a86ad\"\n",
    "color_scheme.fill_color = \"#fff4f2\"\n",
    "color_scheme.zero_line_color = \"#016795\"\n",
    "color_scheme.current_data_color = \"#c292a1\" \n",
    "color_scheme.reference_data_color = \"#017b92\""
   ]
  },
  {
   "cell_type": "code",
   "execution_count": null,
   "id": "9f0815fc",
   "metadata": {},
   "outputs": [],
   "source": [
    "data_drift_column_tests = TestSuite(tests=[\n",
    "    TestColumnValueDrift(column_name='education-num',options=stat_test_option)\n",
    "], options=[color_scheme])\n",
    "\n",
    "data_drift_column_tests.run(reference_data=adult_ref, current_data=adult_cur)\n",
    "data_drift_column_tests"
   ]
  }
 ],
 "metadata": {
  "kernelspec": {
   "display_name": "Python 3 (ipykernel)",
   "language": "python",
   "name": "python3"
  },
  "language_info": {
   "codemirror_mode": {
    "name": "ipython",
    "version": 3
   },
   "file_extension": ".py",
   "mimetype": "text/x-python",
   "name": "python",
   "nbconvert_exporter": "python",
   "pygments_lexer": "ipython3",
   "version": "3.9.12"
  }
 },
 "nbformat": 4,
 "nbformat_minor": 5
}
