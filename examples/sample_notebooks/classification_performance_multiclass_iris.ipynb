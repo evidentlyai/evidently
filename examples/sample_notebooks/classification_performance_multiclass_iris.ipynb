{
 "cells": [
  {
   "cell_type": "code",
   "execution_count": null,
   "id": "3975cab8",
   "metadata": {},
   "outputs": [],
   "source": [
    "import pandas as pd\n",
    "\n",
    "from sklearn import datasets, model_selection, linear_model, neighbors\n",
    "\n",
    "from evidently.dashboard import Dashboard\n",
    "from evidently.pipeline.column_mapping import ColumnMapping\n",
    "from evidently.dashboard.tabs import ClassificationPerformanceTab\n",
    "\n",
    "from evidently.model_profile import Profile\n",
    "from evidently.model_profile.sections import ClassificationPerformanceProfileSection"
   ]
  },
  {
   "cell_type": "code",
   "execution_count": null,
   "id": "2ebe84cf",
   "metadata": {},
   "outputs": [],
   "source": [
    "import warnings\n",
    "warnings.filterwarnings('ignore')\n",
    "warnings.simplefilter('ignore')"
   ]
  },
  {
   "cell_type": "markdown",
   "id": "1bce90c2",
   "metadata": {},
   "source": [
    "# Iris Data"
   ]
  },
  {
   "cell_type": "code",
   "execution_count": null,
   "id": "1d1407fe",
   "metadata": {},
   "outputs": [],
   "source": [
    "iris = datasets.load_iris()"
   ]
  },
  {
   "cell_type": "code",
   "execution_count": null,
   "id": "d0fb2f4c",
   "metadata": {},
   "outputs": [],
   "source": [
    "iris_frame = pd.DataFrame(iris.data, columns = iris.feature_names)"
   ]
  },
  {
   "cell_type": "code",
   "execution_count": null,
   "id": "ceda6195",
   "metadata": {},
   "outputs": [],
   "source": [
    "iris_frame['target'] = iris.target"
   ]
  },
  {
   "cell_type": "code",
   "execution_count": null,
   "id": "b756401a",
   "metadata": {},
   "outputs": [],
   "source": [
    "train_data, test_data = model_selection.train_test_split(iris_frame, random_state=0)"
   ]
  },
  {
   "cell_type": "code",
   "execution_count": null,
   "id": "676a496c",
   "metadata": {},
   "outputs": [],
   "source": [
    "target = 'target'\n",
    "prediction = 'prediction'\n",
    "\n",
    "numerical_features = iris.feature_names\n",
    "categorical_features = []\n",
    "\n",
    "features = numerical_features + categorical_features"
   ]
  },
  {
   "cell_type": "markdown",
   "id": "6f2f8a8f",
   "metadata": {},
   "source": [
    "# Model Performance Dashboard "
   ]
  },
  {
   "cell_type": "code",
   "execution_count": null,
   "id": "df9bc0b1",
   "metadata": {},
   "outputs": [],
   "source": [
    "model = neighbors.KNeighborsClassifier(n_neighbors=1)"
   ]
  },
  {
   "cell_type": "code",
   "execution_count": null,
   "id": "a003ae99",
   "metadata": {},
   "outputs": [],
   "source": [
    "model.fit(train_data[features], train_data.target)"
   ]
  },
  {
   "cell_type": "code",
   "execution_count": null,
   "id": "c0e4a5a3",
   "metadata": {},
   "outputs": [],
   "source": [
    "train_predictions = model.predict(train_data[features])\n",
    "test_predictions = model.predict(test_data[features])"
   ]
  },
  {
   "cell_type": "code",
   "execution_count": null,
   "id": "f39aa368",
   "metadata": {},
   "outputs": [],
   "source": [
    "train_data['prediction'] = train_predictions\n",
    "test_data['prediction'] = test_predictions"
   ]
  },
  {
   "cell_type": "code",
   "execution_count": null,
   "id": "1337ab19",
   "metadata": {},
   "outputs": [],
   "source": [
    "iris_column_mapping = ColumnMapping()\n",
    "\n",
    "iris_column_mapping.target = target\n",
    "iris_column_mapping.prediction = prediction\n",
    "iris_column_mapping.numerical_features = numerical_features"
   ]
  },
  {
   "cell_type": "markdown",
   "id": "8478b744",
   "metadata": {},
   "source": [
    "## Model Performance Dashboard full (verbose_level=1)"
   ]
  },
  {
   "cell_type": "code",
   "execution_count": null,
   "id": "4784b2d0",
   "metadata": {},
   "outputs": [],
   "source": [
    "iris_model_performance_dashboard = Dashboard(tabs=[ClassificationPerformanceTab(verbose_level=1)])\n",
    "iris_model_performance_dashboard.calculate(train_data, test_data, column_mapping = iris_column_mapping)\n",
    "iris_model_performance_dashboard.show()"
   ]
  },
  {
   "cell_type": "code",
   "execution_count": null,
   "id": "d3d17cad",
   "metadata": {},
   "outputs": [],
   "source": [
    "# iris_model_performance_dashboard.save('iris_model_performance.html')"
   ]
  },
  {
   "cell_type": "markdown",
   "id": "e4a8faca",
   "metadata": {},
   "source": [
    "## Model Performance Dashboard short (verbose_level=0)"
   ]
  },
  {
   "cell_type": "code",
   "execution_count": null,
   "id": "be7a2e85",
   "metadata": {},
   "outputs": [],
   "source": [
    "iris_model_performance_dashboard = Dashboard(tabs=[ClassificationPerformanceTab(verbose_level=0)])\n",
    "iris_model_performance_dashboard.calculate(train_data, test_data, column_mapping = iris_column_mapping)\n",
    "iris_model_performance_dashboard.show()"
   ]
  },
  {
   "cell_type": "code",
   "execution_count": null,
   "id": "6ceef5e9",
   "metadata": {},
   "outputs": [],
   "source": [
    "# iris_model_performance_dashboard.save('iris_model_performance.html')"
   ]
  },
  {
   "cell_type": "markdown",
   "id": "8a8e4586",
   "metadata": {},
   "source": [
    "## Model Performance Profile"
   ]
  },
  {
   "cell_type": "code",
   "execution_count": null,
   "id": "a10634c5",
   "metadata": {},
   "outputs": [],
   "source": [
    "iris_classification_performance_profile = Profile(sections=[ClassificationPerformanceProfileSection()])"
   ]
  },
  {
   "cell_type": "code",
   "execution_count": null,
   "id": "8ec25a1d",
   "metadata": {},
   "outputs": [],
   "source": [
    "iris_classification_performance_profile.calculate(train_data, test_data, column_mapping = iris_column_mapping)"
   ]
  },
  {
   "cell_type": "code",
   "execution_count": null,
   "id": "a05afe1a",
   "metadata": {},
   "outputs": [],
   "source": [
    "iris_classification_performance_profile.json() "
   ]
  }
 ],
 "metadata": {
  "kernelspec": {
   "display_name": "Python 3",
   "language": "python",
   "name": "python3"
  },
  "language_info": {
   "codemirror_mode": {
    "name": "ipython",
    "version": 3
   },
   "file_extension": ".py",
   "mimetype": "text/x-python",
   "name": "python",
   "nbconvert_exporter": "python",
   "pygments_lexer": "ipython3",
   "version": "3.6.13"
  }
 },
 "nbformat": 4,
 "nbformat_minor": 5
}
