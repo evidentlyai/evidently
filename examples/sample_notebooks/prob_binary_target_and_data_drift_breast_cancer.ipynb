{
 "cells": [
  {
   "cell_type": "code",
   "execution_count": null,
   "metadata": {
    "id": "eprrWB5hI7UM"
   },
   "outputs": [],
   "source": [
    "import pandas as pd\n",
    "import numpy as np\n",
    "\n",
    "from sklearn import datasets, ensemble, model_selection\n",
    "\n",
    "from evidently.dashboard import Dashboard\n",
    "from evidently.pipeline.column_mapping import ColumnMapping\n",
    "from evidently.dashboard.tabs import DataDriftTab, CatTargetDriftTab\n",
    "\n",
    "from evidently.model_profile import Profile\n",
    "from evidently.model_profile.sections import DataDriftProfileSection, CatTargetDriftProfileSection "
   ]
  },
  {
   "cell_type": "markdown",
   "metadata": {
    "id": "IRw1mt7gI1aw"
   },
   "source": [
    "# Load data"
   ]
  },
  {
   "cell_type": "code",
   "execution_count": null,
   "metadata": {
    "id": "P03q4s7TI6Xy"
   },
   "outputs": [],
   "source": [
    "bcancer = datasets.load_breast_cancer()\n",
    "bcancer_frame = pd.DataFrame(bcancer.data, columns = bcancer.feature_names)\n",
    "bcancer_frame['target'] = bcancer.target\n",
    "\n",
    "target = 'target'\n",
    "prediction = 'prediction'\n",
    "numerical_features = bcancer.feature_names\n",
    "categorical_features = []\n",
    "features = numerical_features.tolist() + categorical_features"
   ]
  },
  {
   "cell_type": "markdown",
   "metadata": {
    "id": "UP6VbW36Jcko"
   },
   "source": [
    "# Get Predictions"
   ]
  },
  {
   "cell_type": "code",
   "execution_count": null,
   "metadata": {
    "id": "30yQ_dLRJiMK"
   },
   "outputs": [],
   "source": [
    "train_data, test_data = model_selection.train_test_split(bcancer_frame, random_state=0)\n",
    "model = ensemble.RandomForestClassifier(random_state=0)\n",
    "model.fit(train_data[features], train_data.target)"
   ]
  },
  {
   "cell_type": "code",
   "execution_count": null,
   "metadata": {
    "id": "_sx1_2AIJrLO"
   },
   "outputs": [],
   "source": [
    "# make a data frame with predictions for each class\n",
    "train_probas = pd.DataFrame(model.predict_proba(train_data[features]))\n",
    "train_probas.columns = bcancer.target_names\n",
    "test_probas = pd.DataFrame(model.predict_proba(test_data[features]))\n",
    "test_probas.columns = bcancer.target_names"
   ]
  },
  {
   "cell_type": "code",
   "execution_count": null,
   "metadata": {
    "id": "moOkAFWPJzkx"
   },
   "outputs": [],
   "source": [
    "# get labels for target: [0, 1, 0, 2] -> ['setosa', 'versicolor', 'setosa', 'virginica']\n",
    "train_data['target'] = [bcancer.target_names[x] for x in train_data['target']]\n",
    "test_data['target'] = [bcancer.target_names[x] for x in test_data['target']]"
   ]
  },
  {
   "cell_type": "code",
   "execution_count": null,
   "metadata": {
    "id": "xq70Oh0YJ267"
   },
   "outputs": [],
   "source": [
    "# merge train and test data with predictions\n",
    "train_data.reset_index(inplace=True, drop=True)\n",
    "test_data.reset_index(inplace=True, drop=True)\n",
    "\n",
    "merged_train_data = pd.concat([train_data, train_probas], axis=1)\n",
    "merged_test_data = pd.concat([test_data, test_probas], axis=1)"
   ]
  },
  {
   "cell_type": "code",
   "execution_count": null,
   "metadata": {
    "id": "sW87FL51J9IO"
   },
   "outputs": [],
   "source": [
    "merged_train_data.head()"
   ]
  },
  {
   "cell_type": "code",
   "execution_count": null,
   "metadata": {
    "id": "AihTNgsWKDhs"
   },
   "outputs": [],
   "source": [
    "bcancer_column_mapping = ColumnMapping()\n",
    "\n",
    "bcancer_column_mapping.target = target\n",
    "bcancer_column_mapping.prediction = bcancer.target_names.tolist()\n",
    "bcancer_column_mapping.numerical_features = numerical_features"
   ]
  },
  {
   "cell_type": "markdown",
   "metadata": {
    "id": "tvw_NoVWKEDi"
   },
   "source": [
    "# Target Drift Dashboard full (verbose_level=1)"
   ]
  },
  {
   "cell_type": "code",
   "execution_count": null,
   "metadata": {
    "id": "pqR9xOntKJT2"
   },
   "outputs": [],
   "source": [
    "bcancer_model_performance_dashboard = Dashboard(tabs=[CatTargetDriftTab(verbose_level=1)])\n",
    "bcancer_model_performance_dashboard.calculate(merged_train_data, merged_test_data, \n",
    "                                              column_mapping = bcancer_column_mapping)\n",
    "bcancer_model_performance_dashboard.show()"
   ]
  },
  {
   "cell_type": "markdown",
   "metadata": {
    "id": "V3_bO0exKOff"
   },
   "source": [
    "# Target Drift Dashboard short (verbose_level=0)"
   ]
  },
  {
   "cell_type": "code",
   "execution_count": null,
   "metadata": {
    "id": "Zbw6ePR9KRKL"
   },
   "outputs": [],
   "source": [
    "bcancer_model_performance_dashboard = Dashboard(tabs=[CatTargetDriftTab(verbose_level=0)])\n",
    "bcancer_model_performance_dashboard.calculate(merged_train_data, merged_test_data, \n",
    "                                              column_mapping = bcancer_column_mapping)\n",
    "bcancer_model_performance_dashboard.show()"
   ]
  },
  {
   "cell_type": "markdown",
   "metadata": {
    "id": "7U3dXrFcKUTS"
   },
   "source": [
    "# Target Drift Dashboard full with threshold options"
   ]
  },
  {
   "cell_type": "code",
   "execution_count": null,
   "metadata": {
    "id": "cy_BWvInKgRl"
   },
   "outputs": [],
   "source": [
    "from evidently.options import QualityMetricsOptions\n",
    "\n",
    "m_options = QualityMetricsOptions(classification_threshold = 0.8)\n",
    "\n",
    "bcancer_target_drift_dashboard = Dashboard(tabs=[CatTargetDriftTab(verbose_level=1)], options=[m_options])\n",
    "bcancer_target_drift_dashboard.calculate(merged_train_data, merged_test_data, \n",
    "                                         column_mapping=bcancer_column_mapping)\n",
    "bcancer_target_drift_dashboard.show()"
   ]
  },
  {
   "cell_type": "markdown",
   "metadata": {
    "id": "dNkV7TIQKmsN"
   },
   "source": [
    "# Data Drift Dashboard"
   ]
  },
  {
   "cell_type": "code",
   "execution_count": null,
   "metadata": {
    "id": "rSKM4Yj8KmHo"
   },
   "outputs": [],
   "source": [
    "bcancer_model_performance_dashboard = Dashboard(tabs=[DataDriftTab()])\n",
    "bcancer_model_performance_dashboard.calculate(merged_train_data, merged_test_data, \n",
    "                                              column_mapping = bcancer_column_mapping)\n",
    "bcancer_model_performance_dashboard.show()"
   ]
  },
  {
   "cell_type": "markdown",
   "metadata": {
    "id": "AkxWH9BKK3_q"
   },
   "source": [
    "# Target and Data Drift Dashboard"
   ]
  },
  {
   "cell_type": "code",
   "execution_count": null,
   "metadata": {
    "id": "LZ640THVK56W"
   },
   "outputs": [],
   "source": [
    "bcancer_model_performance_dashboard = Dashboard(tabs=[CatTargetDriftTab(verbose_level=0), DataDriftTab()])\n",
    "bcancer_model_performance_dashboard.calculate(merged_train_data, merged_test_data, \n",
    "                                              column_mapping = bcancer_column_mapping)\n",
    "bcancer_model_performance_dashboard.show()"
   ]
  },
  {
   "cell_type": "markdown",
   "metadata": {
    "id": "hWHmuWyxK_mr"
   },
   "source": [
    "# Profiles"
   ]
  },
  {
   "cell_type": "markdown",
   "metadata": {
    "id": "QvWXF6FXLD6M"
   },
   "source": [
    "## Target Drift Profile"
   ]
  },
  {
   "cell_type": "code",
   "execution_count": null,
   "metadata": {
    "id": "6y8nKKooLDIL"
   },
   "outputs": [],
   "source": [
    "bcancer_target_drift_profile = Profile(sections=[CatTargetDriftProfileSection()], options=[m_options])\n",
    "bcancer_target_drift_profile.calculate(merged_train_data, merged_test_data, column_mapping = bcancer_column_mapping) \n",
    "bcancer_target_drift_profile.json()"
   ]
  },
  {
   "cell_type": "markdown",
   "metadata": {
    "id": "AQ6wY4IMLnJX"
   },
   "source": [
    "# Target Drift Profile with threshold options"
   ]
  },
  {
   "cell_type": "code",
   "execution_count": null,
   "metadata": {
    "id": "JGlCgAygLtuQ"
   },
   "outputs": [],
   "source": [
    "bcancer_target_drift_profile = Profile(sections=[CatTargetDriftProfileSection()])\n",
    "bcancer_target_drift_profile.calculate(merged_train_data, merged_test_data, column_mapping = bcancer_column_mapping) \n",
    "bcancer_target_drift_profile.json()"
   ]
  },
  {
   "cell_type": "markdown",
   "metadata": {
    "id": "S9xwhGKfLSU4"
   },
   "source": [
    "## Data Drift Profile"
   ]
  },
  {
   "cell_type": "code",
   "execution_count": null,
   "metadata": {
    "id": "43hFcDwiLWih"
   },
   "outputs": [],
   "source": [
    "bcancer_target_drift_profile = Profile(sections=[DataDriftProfileSection()])\n",
    "bcancer_target_drift_profile.calculate(merged_train_data, merged_test_data, column_mapping = bcancer_column_mapping) \n",
    "bcancer_target_drift_profile.json()"
   ]
  },
  {
   "cell_type": "markdown",
   "metadata": {
    "id": "EOGJ0SAPLZ5S"
   },
   "source": [
    "## Target and Data Drift Profile"
   ]
  },
  {
   "cell_type": "code",
   "execution_count": null,
   "metadata": {
    "id": "CInpDJagLdmJ"
   },
   "outputs": [],
   "source": [
    "bcancer_target_drift_profile = Profile(sections=[CatTargetDriftProfileSection(), DataDriftProfileSection()])\n",
    "bcancer_target_drift_profile.calculate(merged_train_data, merged_test_data, column_mapping = bcancer_column_mapping) \n",
    "bcancer_target_drift_profile.json()"
   ]
  },
  {
   "cell_type": "code",
   "execution_count": null,
   "metadata": {},
   "outputs": [],
   "source": []
  }
 ],
 "metadata": {
  "colab": {
   "collapsed_sections": [],
   "name": "prob_binary_target_and_data_drift_breast_cancer.ipynb",
   "provenance": []
  },
  "kernelspec": {
   "display_name": "Python 3",
   "language": "python",
   "name": "python3"
  },
  "language_info": {
   "codemirror_mode": {
    "name": "ipython",
    "version": 3
   },
   "file_extension": ".py",
   "mimetype": "text/x-python",
   "name": "python",
   "nbconvert_exporter": "python",
   "pygments_lexer": "ipython3",
   "version": "3.6.13"
  }
 },
 "nbformat": 4,
 "nbformat_minor": 1
}
