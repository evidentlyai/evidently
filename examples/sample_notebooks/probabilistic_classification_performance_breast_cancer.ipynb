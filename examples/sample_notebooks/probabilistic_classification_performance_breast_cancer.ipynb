{
 "cells": [
  {
   "cell_type": "code",
   "execution_count": null,
   "id": "4bf54b97",
   "metadata": {},
   "outputs": [],
   "source": [
    "import pandas as pd\n",
    "\n",
    "from datetime import datetime\n",
    "from sklearn import datasets, ensemble, model_selection\n",
    "\n",
    "from evidently.dashboard import Dashboard\n",
    "from evidently.pipeline.column_mapping import ColumnMapping\n",
    "from evidently.dashboard.tabs import ProbClassificationPerformanceTab\n",
    "\n",
    "from evidently.model_profile import Profile\n",
    "from evidently.model_profile.sections import ProbClassificationPerformanceProfileSection"
   ]
  },
  {
   "cell_type": "markdown",
   "id": "8c2810ba",
   "metadata": {},
   "source": [
    "# Breast Cancer Data"
   ]
  },
  {
   "cell_type": "code",
   "execution_count": null,
   "id": "b1fc0e86",
   "metadata": {},
   "outputs": [],
   "source": [
    "bcancer = datasets.load_breast_cancer()"
   ]
  },
  {
   "cell_type": "code",
   "execution_count": null,
   "id": "f92790e5",
   "metadata": {},
   "outputs": [],
   "source": [
    "bcancer_frame = pd.DataFrame(bcancer.data, columns = bcancer.feature_names)"
   ]
  },
  {
   "cell_type": "code",
   "execution_count": null,
   "id": "6f769028",
   "metadata": {},
   "outputs": [],
   "source": [
    "bcancer_frame['target'] = bcancer.target"
   ]
  },
  {
   "cell_type": "code",
   "execution_count": null,
   "id": "d1104b69",
   "metadata": {},
   "outputs": [],
   "source": [
    "bcancer_frame.head()"
   ]
  },
  {
   "cell_type": "code",
   "execution_count": null,
   "id": "0489b26a",
   "metadata": {},
   "outputs": [],
   "source": [
    "target = 'target'\n",
    "prediction = 'prediction'\n",
    "\n",
    "numerical_features = bcancer.feature_names\n",
    "categorical_features = []\n",
    "\n",
    "features = numerical_features.tolist() + categorical_features"
   ]
  },
  {
   "cell_type": "markdown",
   "id": "ea91fbe0",
   "metadata": {},
   "source": [
    "# Probabilistic Model Performance Dashboard"
   ]
  },
  {
   "cell_type": "code",
   "execution_count": null,
   "id": "6cb54153",
   "metadata": {},
   "outputs": [],
   "source": [
    "train_data, test_data = model_selection.train_test_split(bcancer_frame, random_state=0)"
   ]
  },
  {
   "cell_type": "code",
   "execution_count": null,
   "id": "0eaa90f5",
   "metadata": {},
   "outputs": [],
   "source": [
    "model = ensemble.RandomForestClassifier(random_state=0)"
   ]
  },
  {
   "cell_type": "code",
   "execution_count": null,
   "id": "798ae910",
   "metadata": {},
   "outputs": [],
   "source": [
    "model.fit(train_data[features], train_data.target)"
   ]
  },
  {
   "cell_type": "code",
   "execution_count": null,
   "id": "958a2b16",
   "metadata": {},
   "outputs": [],
   "source": [
    "# make a data frame with predictions for each class\n",
    "\n",
    "train_probas = pd.DataFrame(model.predict_proba(train_data[features]))\n",
    "train_probas.columns = bcancer.target_names\n",
    "test_probas = pd.DataFrame(model.predict_proba(test_data[features]))\n",
    "test_probas.columns = bcancer.target_names"
   ]
  },
  {
   "cell_type": "code",
   "execution_count": null,
   "id": "0d6ef58c",
   "metadata": {},
   "outputs": [],
   "source": [
    "train_probas.head()"
   ]
  },
  {
   "cell_type": "code",
   "execution_count": null,
   "id": "f7d05d0a",
   "metadata": {},
   "outputs": [],
   "source": [
    "# get labels for target: [0, 1, 0, 2] -> ['setosa', 'versicolor', 'setosa', 'virginica']\n",
    "\n",
    "train_data['target'] = [bcancer.target_names[x] for x in train_data['target']]\n",
    "test_data['target'] = [bcancer.target_names[x] for x in test_data['target']]"
   ]
  },
  {
   "cell_type": "code",
   "execution_count": null,
   "id": "f804d6e0",
   "metadata": {},
   "outputs": [],
   "source": [
    "# merge train and test data with predictions\n",
    "\n",
    "train_data.reset_index(inplace=True, drop=True)\n",
    "test_data.reset_index(inplace=True, drop=True)\n",
    "\n",
    "merged_train_data = pd.concat([train_data, train_probas], axis=1)\n",
    "merged_test_data = pd.concat([test_data, test_probas], axis=1)"
   ]
  },
  {
   "cell_type": "code",
   "execution_count": null,
   "id": "5faae2a8",
   "metadata": {},
   "outputs": [],
   "source": [
    "merged_train_data.head()"
   ]
  },
  {
   "cell_type": "code",
   "execution_count": null,
   "id": "f3598dcf",
   "metadata": {},
   "outputs": [],
   "source": [
    "bcancer_column_mapping = ColumnMapping()\n",
    "\n",
    "bcancer_column_mapping.target = target\n",
    "bcancer_column_mapping.prediction = bcancer.target_names.tolist()\n",
    "bcancer_column_mapping.numerical_features = numerical_features"
   ]
  },
  {
   "cell_type": "markdown",
   "id": "0ceb294f",
   "metadata": {},
   "source": [
    "## Probabilistic Model Performance Dashboard full (verbose_level=1)"
   ]
  },
  {
   "cell_type": "code",
   "execution_count": null,
   "id": "611feceb",
   "metadata": {},
   "outputs": [],
   "source": [
    "bcancer_model_performance_dashboard = Dashboard(tabs=[ProbClassificationPerformanceTab(verbose_level=1)])\n",
    "bcancer_model_performance_dashboard.calculate(merged_train_data, merged_test_data, \n",
    "                                              column_mapping = bcancer_column_mapping)\n",
    "bcancer_model_performance_dashboard.show()"
   ]
  },
  {
   "cell_type": "code",
   "execution_count": null,
   "id": "0330cb39",
   "metadata": {},
   "outputs": [],
   "source": [
    "# bcancer_model_performance_dashboard.save('bcancer_model_performance.html')"
   ]
  },
  {
   "cell_type": "markdown",
   "id": "44da0d5e",
   "metadata": {},
   "source": [
    "## Probabilistic Model Performance Dashboard short (verbose_level=0)"
   ]
  },
  {
   "cell_type": "code",
   "execution_count": null,
   "id": "2f3f1916",
   "metadata": {},
   "outputs": [],
   "source": [
    "bcancer_model_performance_dashboard = Dashboard(tabs=[ProbClassificationPerformanceTab(verbose_level=0)])\n",
    "bcancer_model_performance_dashboard.calculate(merged_train_data, merged_test_data, \n",
    "                                              column_mapping = bcancer_column_mapping)\n",
    "bcancer_model_performance_dashboard.show()"
   ]
  },
  {
   "cell_type": "code",
   "execution_count": null,
   "id": "ec3e1ed5",
   "metadata": {},
   "outputs": [],
   "source": [
    "# bcancer_model_performance_dashboard.save('bcancer_model_performance.html')"
   ]
  },
  {
   "cell_type": "markdown",
   "id": "9683e321",
   "metadata": {},
   "source": [
    "# Model Performance Profile"
   ]
  },
  {
   "cell_type": "code",
   "execution_count": null,
   "id": "2b48edee",
   "metadata": {},
   "outputs": [],
   "source": [
    "bcancer_classification_performance_profile = Profile(sections=[ProbClassificationPerformanceProfileSection()])"
   ]
  },
  {
   "cell_type": "code",
   "execution_count": null,
   "id": "a3a88e4e",
   "metadata": {},
   "outputs": [],
   "source": [
    "bcancer_classification_performance_profile.calculate(merged_train_data, merged_test_data, \n",
    "                                                     column_mapping = bcancer_column_mapping)"
   ]
  },
  {
   "cell_type": "code",
   "execution_count": null,
   "id": "840ae9e4",
   "metadata": {},
   "outputs": [],
   "source": [
    "bcancer_classification_performance_profile.json() "
   ]
  },
  {
   "cell_type": "code",
   "execution_count": null,
   "id": "66387068",
   "metadata": {},
   "outputs": [],
   "source": []
  }
 ],
 "metadata": {
  "kernelspec": {
   "display_name": "Python 3",
   "language": "python",
   "name": "python3"
  },
  "language_info": {
   "codemirror_mode": {
    "name": "ipython",
    "version": 3
   },
   "file_extension": ".py",
   "mimetype": "text/x-python",
   "name": "python",
   "nbconvert_exporter": "python",
   "pygments_lexer": "ipython3",
   "version": "3.6.13"
  }
 },
 "nbformat": 4,
 "nbformat_minor": 5
}
