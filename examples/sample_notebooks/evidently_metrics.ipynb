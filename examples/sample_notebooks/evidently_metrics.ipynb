{
 "cells": [
  {
   "cell_type": "markdown",
   "metadata": {},
   "source": [
    "# Evidently Metrics "
   ]
  },
  {
   "cell_type": "code",
   "execution_count": null,
   "metadata": {},
   "outputs": [],
   "source": [
    "try:\n",
    "    import evidently\n",
    "except:\n",
    "    !npm install -g yarn\n",
    "    !pip install git+https://github.com/evidentlyai/evidently.git"
   ]
  },
  {
   "cell_type": "code",
   "execution_count": null,
   "metadata": {},
   "outputs": [],
   "source": [
    "import pandas as pd\n",
    "import numpy as np\n",
    "\n",
    "from sklearn import datasets, ensemble, model_selection\n",
    "\n",
    "from evidently import ColumnMapping\n",
    "from evidently.options import DataDriftOptions\n",
    "from evidently.report import Report\n",
    "from evidently.metrics import ColumnDriftMetric, DataDriftTable, DatasetDriftMetric, ColumnRegExpMetric"
   ]
  },
  {
   "cell_type": "markdown",
   "metadata": {},
   "source": [
    "## Prepare a Dataset"
   ]
  },
  {
   "cell_type": "code",
   "execution_count": null,
   "metadata": {},
   "outputs": [],
   "source": [
    "#Dataset for Data Quality and Integrity\n",
    "adult_data = datasets.fetch_openml(name='adult', version=2, as_frame='auto')\n",
    "adult = adult_data.frame\n",
    "\n",
    "adult_ref = adult[~adult.education.isin(['Some-college', 'HS-grad', 'Bachelors'])]\n",
    "adult_cur = adult[adult.education.isin(['Some-college', 'HS-grad', 'Bachelors'])]\n",
    "\n",
    "adult_cur.iloc[:2000, 3:5] = np.nan"
   ]
  },
  {
   "cell_type": "markdown",
   "metadata": {},
   "source": [
    "## How to run Reports?"
   ]
  },
  {
   "cell_type": "markdown",
   "metadata": {},
   "source": [
    "### Data Drift Metrics"
   ]
  },
  {
   "cell_type": "code",
   "execution_count": null,
   "metadata": {
    "scrolled": false
   },
   "outputs": [],
   "source": [
    "#dataset-level metrics\n",
    "data_drift_dataset_report = Report(metrics=[\n",
    "    DatasetDriftMetric(),\n",
    "    DataDriftTable()    \n",
    "])\n",
    "\n",
    "data_drift_dataset_report.run(reference_data=adult_ref, current_data=adult_cur)\n",
    "data_drift_dataset_report"
   ]
  },
  {
   "cell_type": "code",
   "execution_count": null,
   "metadata": {},
   "outputs": [],
   "source": [
    "#report in a JSON format\n",
    "data_drift_dataset_report.json()"
   ]
  },
  {
   "cell_type": "code",
   "execution_count": null,
   "metadata": {
    "scrolled": true
   },
   "outputs": [],
   "source": [
    "#report as a python object\n",
    "data_drift_dataset_report.as_dict()"
   ]
  },
  {
   "cell_type": "code",
   "execution_count": null,
   "metadata": {},
   "outputs": [],
   "source": [
    "#column-level metrics\n",
    "data_drift_column_report = Report(metrics=[\n",
    "    ColumnDriftMetric('age'),\n",
    "    ColumnDriftMetric('education'),\n",
    "    ColumnDriftMetric('marital-status')\n",
    "])\n",
    "\n",
    "data_drift_column_report.run(reference_data=adult_ref, current_data=adult_cur)\n",
    "data_drift_column_report"
   ]
  },
  {
   "cell_type": "markdown",
   "metadata": {},
   "source": [
    "### Data Integrity Metrics"
   ]
  },
  {
   "cell_type": "code",
   "execution_count": null,
   "metadata": {},
   "outputs": [],
   "source": [
    "#column-level metrics\n",
    "data_integrity_column_report = Report(metrics=[\n",
    "    ColumnRegExpMetric(column_name=\"relationship\", reg_exp=r\".*child.*\")\n",
    "])\n",
    "\n",
    "data_integrity_column_report.run(reference_data=adult_ref, current_data=adult_cur)\n",
    "data_integrity_column_report"
   ]
  },
  {
   "cell_type": "markdown",
   "metadata": {},
   "source": [
    "### How to set metric parameters?"
   ]
  },
  {
   "cell_type": "code",
   "execution_count": null,
   "metadata": {},
   "outputs": [],
   "source": [
    "#simple metric parameters\n",
    "data_integrity_column_report = Report(metrics=[\n",
    "    ColumnRegExpMetric(column_name=\"education\", reg_exp=r\".*-.*\", top=5),\n",
    "    ColumnRegExpMetric(column_name=\"relationship\", reg_exp=r\".*child.*\")\n",
    "])\n",
    "\n",
    "data_integrity_column_report.run(reference_data=adult_ref, current_data=adult_cur)\n",
    "data_integrity_column_report"
   ]
  },
  {
   "cell_type": "code",
   "execution_count": null,
   "metadata": {},
   "outputs": [],
   "source": [
    "#options\n",
    "stat_test_option = DataDriftOptions(all_features_stattest='psi')\n",
    "\n",
    "data_drift_column_report = Report(metrics=[\n",
    "    ColumnDriftMetric('age'),\n",
    "    ColumnDriftMetric('age', options=stat_test_option),\n",
    "])\n",
    "data_drift_column_report.run(reference_data=adult_ref, current_data=adult_cur)\n",
    "\n",
    "data_drift_column_report"
   ]
  }
 ],
 "metadata": {
  "kernelspec": {
   "display_name": "Python 3 (ipykernel)",
   "language": "python",
   "name": "python3"
  },
  "language_info": {
   "codemirror_mode": {
    "name": "ipython",
    "version": 3
   },
   "file_extension": ".py",
   "mimetype": "text/x-python",
   "name": "python",
   "nbconvert_exporter": "python",
   "pygments_lexer": "ipython3",
   "version": "3.9.12"
  }
 },
 "nbformat": 4,
 "nbformat_minor": 1
}
