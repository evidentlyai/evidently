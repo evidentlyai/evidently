{
 "cells": [
  {
   "cell_type": "code",
   "execution_count": null,
   "metadata": {
    "id": "Z8qici6GDXLv"
   },
   "outputs": [],
   "source": [
    "import pandas as pd\n",
    "import numpy as np\n",
    "\n",
    "from sklearn import datasets, model_selection, linear_model\n",
    "\n",
    "from evidently.dashboard import Dashboard\n",
    "from evidently.pipeline.column_mapping import ColumnMapping\n",
    "from evidently.dashboard.tabs import DataDriftTab, CatTargetDriftTab\n",
    "\n",
    "from evidently.model_profile import Profile\n",
    "from evidently.model_profile.sections import DataDriftProfileSection, CatTargetDriftProfileSection "
   ]
  },
  {
   "cell_type": "markdown",
   "metadata": {
    "id": "SGr7Dq7eDnWh"
   },
   "source": [
    "# Load data"
   ]
  },
  {
   "cell_type": "code",
   "execution_count": null,
   "metadata": {
    "id": "u_5LLo7KDXY-"
   },
   "outputs": [],
   "source": [
    "iris = datasets.load_iris()\n",
    "iris_frame = pd.DataFrame(iris.data, columns = iris.feature_names)\n",
    "iris_frame['target'] = iris.target"
   ]
  },
  {
   "cell_type": "markdown",
   "metadata": {
    "id": "jLpWmyJmD08n"
   },
   "source": [
    "# Get Predictions"
   ]
  },
  {
   "cell_type": "code",
   "execution_count": null,
   "metadata": {
    "id": "I5sOGW3WD61X"
   },
   "outputs": [],
   "source": [
    "train_data, test_data = model_selection.train_test_split(iris_frame, random_state=0)\n",
    "\n",
    "target = 'target'\n",
    "prediction = 'prediction'\n",
    "numerical_features = iris.feature_names\n",
    "categorical_features = []\n",
    "features = numerical_features + categorical_features"
   ]
  },
  {
   "cell_type": "code",
   "execution_count": null,
   "metadata": {
    "id": "YC8NlfpyEJaY"
   },
   "outputs": [],
   "source": [
    "model = linear_model.LogisticRegression()\n",
    "model.fit(train_data[features], train_data.target)\n",
    "\n",
    "# make a data frame with predictions for each class\n",
    "\n",
    "train_probas = pd.DataFrame(model.predict_proba(train_data[features]))\n",
    "train_probas.columns = iris.target_names\n",
    "\n",
    "test_probas = pd.DataFrame(model.predict_proba(test_data[features]))\n",
    "test_probas.columns = iris.target_names"
   ]
  },
  {
   "cell_type": "code",
   "execution_count": null,
   "metadata": {
    "id": "BDSkUCrYERgV"
   },
   "outputs": [],
   "source": [
    "# get labels for target: [0, 1, 0, 2] -> ['setosa', 'versicolor', 'setosa', 'virginica']\n",
    "\n",
    "train_data['target'] = [iris.target_names[x] for x in train_data['target']]\n",
    "test_data['target'] = [iris.target_names[x] for x in test_data['target']]"
   ]
  },
  {
   "cell_type": "code",
   "execution_count": null,
   "metadata": {
    "id": "Oa-EnfOnEU_m"
   },
   "outputs": [],
   "source": [
    "# merge train and test data with predictions\n",
    "\n",
    "train_data.reset_index(inplace=True, drop=True)\n",
    "test_data.reset_index(inplace=True, drop=True)\n",
    "\n",
    "merged_train_data = pd.concat([train_data, train_probas], axis=1)\n",
    "merged_test_data = pd.concat([test_data, test_probas], axis=1)"
   ]
  },
  {
   "cell_type": "code",
   "execution_count": null,
   "metadata": {
    "id": "rAAdXskyEX7K"
   },
   "outputs": [],
   "source": [
    "merged_train_data.head()"
   ]
  },
  {
   "cell_type": "code",
   "execution_count": null,
   "metadata": {
    "id": "BCDXEJ9BEVDg"
   },
   "outputs": [],
   "source": [
    "iris_column_mapping = ColumnMapping()\n",
    "\n",
    "iris_column_mapping.target = 'target'\n",
    "iris_column_mapping.prediction = iris.target_names.tolist()\n",
    "iris_column_mapping.numerical_features = iris.feature_names"
   ]
  },
  {
   "cell_type": "markdown",
   "metadata": {
    "id": "NpFUgzSkFEHP"
   },
   "source": [
    "# Target Drift Dashboard full (verbose_level=1)"
   ]
  },
  {
   "cell_type": "code",
   "execution_count": null,
   "metadata": {
    "id": "vzL9ydGlFMUo"
   },
   "outputs": [],
   "source": [
    "iris_prob_classification_dashboard = Dashboard(tabs=[CatTargetDriftTab(verbose_level=1)])\n",
    "iris_prob_classification_dashboard.calculate(merged_train_data, merged_test_data, \n",
    "                                             column_mapping = iris_column_mapping)\n",
    "iris_prob_classification_dashboard.show()"
   ]
  },
  {
   "cell_type": "markdown",
   "metadata": {
    "id": "YaBuHAw_FWbB"
   },
   "source": [
    "# Target Drift Dashboard short (verbose_level=0)"
   ]
  },
  {
   "cell_type": "code",
   "execution_count": null,
   "metadata": {
    "id": "pNiuH0SIFX7Q"
   },
   "outputs": [],
   "source": [
    "iris_prob_classification_dashboard = Dashboard(tabs=[CatTargetDriftTab(verbose_level=0)])\n",
    "iris_prob_classification_dashboard.calculate(merged_train_data, merged_test_data, \n",
    "                                             column_mapping = iris_column_mapping)\n",
    "iris_prob_classification_dashboard.show()"
   ]
  },
  {
   "cell_type": "markdown",
   "metadata": {
    "id": "siUK1jJ7Ff4w"
   },
   "source": [
    "# Data Drift Dashboard"
   ]
  },
  {
   "cell_type": "code",
   "execution_count": null,
   "metadata": {
    "id": "ukvLutgQFhA3"
   },
   "outputs": [],
   "source": [
    "iris_prob_classification_dashboard = Dashboard(tabs=[DataDriftTab()])\n",
    "iris_prob_classification_dashboard.calculate(merged_train_data, merged_test_data, \n",
    "                                             column_mapping = iris_column_mapping)\n",
    "iris_prob_classification_dashboard.show()"
   ]
  },
  {
   "cell_type": "markdown",
   "metadata": {
    "id": "T97lwAPuFs8W"
   },
   "source": [
    "# Target and Data Drift Dashboard"
   ]
  },
  {
   "cell_type": "code",
   "execution_count": null,
   "metadata": {
    "id": "qL1lfxj4Fuxe"
   },
   "outputs": [],
   "source": [
    "iris_data_and_target_drift_dashboard = Dashboard(tabs=[DataDriftTab(verbose_level=0), \n",
    "                                                       CatTargetDriftTab()])\n",
    "iris_data_and_target_drift_dashboard.calculate(merged_train_data, merged_test_data, column_mapping=iris_column_mapping)\n",
    "iris_data_and_target_drift_dashboard.show()"
   ]
  },
  {
   "cell_type": "markdown",
   "metadata": {
    "id": "9S3OXpPaFoPT"
   },
   "source": [
    "# Profiles"
   ]
  },
  {
   "cell_type": "markdown",
   "metadata": {
    "id": "wol62xRnGAp1"
   },
   "source": [
    "## Target Drift Profile"
   ]
  },
  {
   "cell_type": "code",
   "execution_count": null,
   "metadata": {
    "id": "t69oXpDGFpSw"
   },
   "outputs": [],
   "source": [
    "iris_target_drift_profile = Profile(sections=[CatTargetDriftProfileSection()])\n",
    "iris_target_drift_profile.calculate(merged_train_data, merged_test_data, column_mapping=iris_column_mapping) \n",
    "iris_target_drift_profile.json()"
   ]
  },
  {
   "cell_type": "markdown",
   "metadata": {
    "id": "EkO4Uf6eGLOU"
   },
   "source": [
    "## Data Drift Profile"
   ]
  },
  {
   "cell_type": "code",
   "execution_count": null,
   "metadata": {
    "id": "U8P1BYUUGOLx"
   },
   "outputs": [],
   "source": [
    "iris_target_drift_profile = Profile(sections=[DataDriftProfileSection()])\n",
    "iris_target_drift_profile.calculate(merged_train_data, merged_test_data, column_mapping=iris_column_mapping) \n",
    "iris_target_drift_profile.json()"
   ]
  },
  {
   "cell_type": "markdown",
   "metadata": {
    "id": "o_-nAZddGUqo"
   },
   "source": [
    "## Target and Data Drift Profile"
   ]
  },
  {
   "cell_type": "code",
   "execution_count": null,
   "metadata": {
    "id": "0_HMXzw-GZz1"
   },
   "outputs": [],
   "source": [
    "iris_target_and_data_drift_profile = Profile(sections=[DataDriftProfileSection(), CatTargetDriftProfileSection()])\n",
    "iris_target_and_data_drift_profile.calculate(merged_train_data, merged_test_data, column_mapping=iris_column_mapping) \n",
    "iris_target_and_data_drift_profile.json()"
   ]
  },
  {
   "cell_type": "code",
   "execution_count": null,
   "metadata": {
    "id": "5ql0uRZxIODY"
   },
   "outputs": [],
   "source": []
  }
 ],
 "metadata": {
  "colab": {
   "collapsed_sections": [
    "NpFUgzSkFEHP"
   ],
   "name": "prob_multiclass_target_and_data_drift_iris.ipynb",
   "provenance": []
  },
  "kernelspec": {
   "display_name": "Python 3",
   "language": "python",
   "name": "python3"
  },
  "language_info": {
   "codemirror_mode": {
    "name": "ipython",
    "version": 3
   },
   "file_extension": ".py",
   "mimetype": "text/x-python",
   "name": "python",
   "nbconvert_exporter": "python",
   "pygments_lexer": "ipython3",
   "version": "3.6.13"
  }
 },
 "nbformat": 4,
 "nbformat_minor": 1
}
