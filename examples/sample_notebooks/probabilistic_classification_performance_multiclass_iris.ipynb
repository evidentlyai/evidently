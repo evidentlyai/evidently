{
 "cells": [
  {
   "cell_type": "code",
   "execution_count": null,
   "id": "3975cab8",
   "metadata": {},
   "outputs": [],
   "source": [
    "import pandas as pd\n",
    "\n",
    "from sklearn import datasets, model_selection, linear_model, neighbors\n",
    "\n",
    "from evidently.dashboard import Dashboard\n",
    "from evidently.pipeline.column_mapping import ColumnMapping\n",
    "from evidently.dashboard.tabs import ProbClassificationPerformanceTab\n",
    "\n",
    "from evidently.model_profile import Profile\n",
    "from evidently.model_profile.sections import ProbClassificationPerformanceProfileSection"
   ]
  },
  {
   "cell_type": "code",
   "execution_count": null,
   "id": "2ebe84cf",
   "metadata": {},
   "outputs": [],
   "source": [
    "import warnings\n",
    "warnings.filterwarnings('ignore')\n",
    "warnings.simplefilter('ignore')"
   ]
  },
  {
   "cell_type": "markdown",
   "id": "1bce90c2",
   "metadata": {},
   "source": [
    "# Iris Data"
   ]
  },
  {
   "cell_type": "code",
   "execution_count": null,
   "id": "1d1407fe",
   "metadata": {},
   "outputs": [],
   "source": [
    "iris = datasets.load_iris()"
   ]
  },
  {
   "cell_type": "code",
   "execution_count": null,
   "id": "d0fb2f4c",
   "metadata": {},
   "outputs": [],
   "source": [
    "iris_frame = pd.DataFrame(iris.data, columns = iris.feature_names)"
   ]
  },
  {
   "cell_type": "code",
   "execution_count": null,
   "id": "ceda6195",
   "metadata": {},
   "outputs": [],
   "source": [
    "iris_frame['target'] = iris.target"
   ]
  },
  {
   "cell_type": "code",
   "execution_count": null,
   "id": "b756401a",
   "metadata": {},
   "outputs": [],
   "source": [
    "train_data, test_data = model_selection.train_test_split(iris_frame, random_state=0)"
   ]
  },
  {
   "cell_type": "code",
   "execution_count": null,
   "id": "676a496c",
   "metadata": {},
   "outputs": [],
   "source": [
    "target = 'target'\n",
    "prediction = 'prediction'\n",
    "\n",
    "numerical_features = iris.feature_names\n",
    "categorical_features = []\n",
    "\n",
    "features = numerical_features + categorical_features"
   ]
  },
  {
   "cell_type": "markdown",
   "id": "ddbd0722",
   "metadata": {},
   "source": [
    "# Probabilistic Model Performance Dashboard "
   ]
  },
  {
   "cell_type": "code",
   "execution_count": null,
   "id": "a9e49f0b",
   "metadata": {},
   "outputs": [],
   "source": [
    "model = linear_model.LogisticRegression()"
   ]
  },
  {
   "cell_type": "code",
   "execution_count": null,
   "id": "8776dbbd",
   "metadata": {},
   "outputs": [],
   "source": [
    "model.fit(train_data[features], train_data.target)"
   ]
  },
  {
   "cell_type": "code",
   "execution_count": null,
   "id": "440ea599",
   "metadata": {},
   "outputs": [],
   "source": [
    "# make a data frame with predictions for each class\n",
    "\n",
    "train_probas = pd.DataFrame(model.predict_proba(train_data[features]))\n",
    "train_probas.columns = iris.target_names\n",
    "test_probas = pd.DataFrame(model.predict_proba(test_data[features]))\n",
    "test_probas.columns = iris.target_names"
   ]
  },
  {
   "cell_type": "code",
   "execution_count": null,
   "id": "e051efc0",
   "metadata": {},
   "outputs": [],
   "source": [
    "train_probas.head()"
   ]
  },
  {
   "cell_type": "code",
   "execution_count": null,
   "id": "3df53ffd",
   "metadata": {},
   "outputs": [],
   "source": [
    "# get labels for target: [0, 1, 0, 2] -> ['setosa', 'versicolor', 'setosa', 'virginica']\n",
    "\n",
    "train_data['target'] = [iris.target_names[x] for x in train_data['target']]\n",
    "test_data['target'] = [iris.target_names[x] for x in test_data['target']]"
   ]
  },
  {
   "cell_type": "code",
   "execution_count": null,
   "id": "cc3a4c7e",
   "metadata": {},
   "outputs": [],
   "source": [
    "# merge train and test data with predictions\n",
    "\n",
    "train_data.reset_index(inplace=True, drop=True)\n",
    "test_data.reset_index(inplace=True, drop=True)\n",
    "\n",
    "merged_train_data = pd.concat([train_data, train_probas], axis=1)\n",
    "merged_test_data = pd.concat([test_data, test_probas], axis=1)"
   ]
  },
  {
   "cell_type": "code",
   "execution_count": null,
   "id": "b5d5dafa",
   "metadata": {},
   "outputs": [],
   "source": [
    "merged_train_data.head()"
   ]
  },
  {
   "cell_type": "code",
   "execution_count": null,
   "id": "9853f9c1",
   "metadata": {},
   "outputs": [],
   "source": [
    "iris_column_mapping = ColumnMapping()\n",
    "\n",
    "iris_column_mapping.target = 'target'\n",
    "iris_column_mapping.prediction = iris.target_names.tolist()\n",
    "iris_column_mapping.numerical_features = iris.feature_names"
   ]
  },
  {
   "cell_type": "markdown",
   "id": "3548624c",
   "metadata": {},
   "source": [
    "## Probabilistic Model Performance Dashboard full (verbose_level=1)"
   ]
  },
  {
   "cell_type": "code",
   "execution_count": null,
   "id": "971a22fe",
   "metadata": {},
   "outputs": [],
   "source": [
    "iris_prob_classification_dashboard = Dashboard(tabs=[ProbClassificationPerformanceTab(verbose_level=1)])\n",
    "iris_prob_classification_dashboard.calculate(merged_train_data, merged_test_data, \n",
    "                                             column_mapping = iris_column_mapping)\n",
    "iris_prob_classification_dashboard.show()"
   ]
  },
  {
   "cell_type": "code",
   "execution_count": null,
   "id": "6191bf6c",
   "metadata": {},
   "outputs": [],
   "source": [
    "from evidently.report import Report\n",
    "from evidently.metrics import ClassificationPerformanceMetrics\n",
    "\n",
    "# bcancer_column_mapping.pos_label = 'malignant'\n",
    "report = Report(metrics=[ClassificationPerformanceMetrics()])\n",
    "report.run(current_data=merged_test_data, reference_data=merged_train_data, column_mapping=iris_column_mapping)\n",
    "report"
   ]
  },
  {
   "cell_type": "markdown",
   "id": "134544da",
   "metadata": {},
   "source": [
    "## Probabilistic Model Performance Dashboard short (verbose_level=0)"
   ]
  },
  {
   "cell_type": "code",
   "execution_count": null,
   "id": "1590f462",
   "metadata": {},
   "outputs": [],
   "source": [
    "iris_prob_classification_dashboard = Dashboard(tabs=[ProbClassificationPerformanceTab(verbose_level=0)])\n",
    "iris_prob_classification_dashboard.calculate(merged_train_data, merged_test_data, \n",
    "                                             column_mapping = iris_column_mapping)\n",
    "iris_prob_classification_dashboard.show()"
   ]
  },
  {
   "cell_type": "code",
   "execution_count": null,
   "id": "aa885414",
   "metadata": {},
   "outputs": [],
   "source": [
    "# iris_prob_classification_dashboard.save('iris_prob_classification_dashboard.html')"
   ]
  },
  {
   "cell_type": "markdown",
   "id": "224e1c0e",
   "metadata": {},
   "source": [
    "## Model Performance Profile"
   ]
  },
  {
   "cell_type": "code",
   "execution_count": null,
   "id": "128b3be1",
   "metadata": {},
   "outputs": [],
   "source": [
    "iris_prob_classification_profile = Profile(sections=[ProbClassificationPerformanceProfileSection()])"
   ]
  },
  {
   "cell_type": "code",
   "execution_count": null,
   "id": "b1067d34",
   "metadata": {},
   "outputs": [],
   "source": [
    "iris_prob_classification_profile.calculate(merged_train_data, merged_test_data, \n",
    "                                           column_mapping = iris_column_mapping)"
   ]
  },
  {
   "cell_type": "code",
   "execution_count": null,
   "id": "90fc3f48",
   "metadata": {},
   "outputs": [],
   "source": [
    "iris_prob_classification_profile.json() "
   ]
  },
  {
   "cell_type": "code",
   "execution_count": null,
   "id": "ee23b599",
   "metadata": {},
   "outputs": [],
   "source": []
  }
 ],
 "metadata": {
  "kernelspec": {
   "display_name": "Python 3",
   "language": "python",
   "name": "python3"
  },
  "language_info": {
   "codemirror_mode": {
    "name": "ipython",
    "version": 3
   },
   "file_extension": ".py",
   "mimetype": "text/x-python",
   "name": "python",
   "nbconvert_exporter": "python",
   "pygments_lexer": "ipython3",
   "version": "3.6.13"
  }
 },
 "nbformat": 4,
 "nbformat_minor": 5
}
