{
 "cells": [
  {
   "cell_type": "markdown",
   "id": "630a2437",
   "metadata": {
    "pycharm": {
     "name": "#%% md\n"
    }
   },
   "source": [
    "# Getting Started Tutorial"
   ]
  },
  {
   "cell_type": "markdown",
   "id": "3c3dfc08",
   "metadata": {},
   "source": [
    "To install Evidently using the pip package manager, run:\n",
    "\n",
    "```$ pip install evidently```\n",
    "\n",
    "\n",
    "If you want to see reports inside a Jupyter notebook, you need to also install the Jupyter nbextension. After installing evidently, run the two following commands in the terminal from the Evidently directory.\n",
    "\n",
    "To install jupyter nbextension, run:\n",
    "\n",
    "```$ jupyter nbextension install --sys-prefix --symlink --overwrite --py evidently```\n",
    "\n",
    "To enable it, run:\n",
    "\n",
    "```$ jupyter nbextension enable evidently --py --sys-prefix```\n",
    "\n",
    "That's it!"
   ]
  },
  {
   "cell_type": "code",
   "execution_count": null,
   "id": "aec9a1cc",
   "metadata": {},
   "outputs": [],
   "source": [
    "try:\n",
    "    import evidently\n",
    "except:\n",
    "    !npm install -g yarn\n",
    "    !pip install git+https://github.com/evidentlyai/evidently.git"
   ]
  },
  {
   "cell_type": "code",
   "execution_count": null,
   "id": "0c00061b",
   "metadata": {},
   "outputs": [],
   "source": [
    "import pandas as pd\n",
    "import numpy as np\n",
    "\n",
    "from sklearn.datasets import fetch_california_housing\n",
    "\n",
    "from evidently import ColumnMapping\n",
    "\n",
    "from evidently.report import Report\n",
    "from evidently.metric_preset import DataDriftPreset\n",
    "from evidently.metric_preset import NumTargetDrift\n",
    "\n",
    "from evidently.test_suite import TestSuite\n",
    "from evidently.test_preset import DataStabilityTestPreset\n",
    "from evidently.tests import *"
   ]
  },
  {
   "cell_type": "markdown",
   "id": "1dca5a2c",
   "metadata": {},
   "source": [
    "## Load Data"
   ]
  },
  {
   "cell_type": "code",
   "execution_count": null,
   "id": "5c9d9f9e",
   "metadata": {},
   "outputs": [],
   "source": [
    "data = fetch_california_housing(as_frame=True)\n",
    "housing_data = data.frame"
   ]
  },
  {
   "cell_type": "code",
   "execution_count": null,
   "id": "60692ed0",
   "metadata": {},
   "outputs": [],
   "source": [
    "housing_data.rename(columns={'MedHouseVal': 'target'}, inplace=True)\n",
    "housing_data['prediction'] = housing_data['target'].values + np.random.normal(0, 5, housing_data.shape[0])"
   ]
  },
  {
   "cell_type": "code",
   "execution_count": null,
   "id": "86aa711d",
   "metadata": {},
   "outputs": [],
   "source": [
    "housing_data.head()"
   ]
  },
  {
   "cell_type": "code",
   "execution_count": null,
   "id": "f48b2f20",
   "metadata": {},
   "outputs": [],
   "source": [
    "reference = housing_data.sample(n=5000, replace=False)\n",
    "current = housing_data.sample(n=5000, replace=False)"
   ]
  },
  {
   "cell_type": "markdown",
   "id": "1ea31ae7",
   "metadata": {},
   "source": [
    "## Test Suite Preset"
   ]
  },
  {
   "cell_type": "code",
   "execution_count": null,
   "id": "d78779bb",
   "metadata": {
    "scrolled": false
   },
   "outputs": [],
   "source": [
    "data_stability = TestSuite(tests=[\n",
    "    DataStabilityTestPreset(),\n",
    "])\n",
    "\n",
    "data_stability.run(reference_data=reference, current_data=current)\n",
    "data_stability"
   ]
  },
  {
   "cell_type": "markdown",
   "id": "fedb4612",
   "metadata": {},
   "source": [
    "## Report"
   ]
  },
  {
   "cell_type": "code",
   "execution_count": null,
   "id": "42ebff66",
   "metadata": {},
   "outputs": [],
   "source": [
    "drift_report = Report(metrics=[DataDriftPreset(), NumTargetDrift()])\n",
    "\n",
    "drift_report.run(reference_data=reference, current_data=current)\n",
    "drift_report"
   ]
  },
  {
   "cell_type": "markdown",
   "id": "6f4c59f2",
   "metadata": {},
   "source": [
    "## Customized Test Suite"
   ]
  },
  {
   "cell_type": "code",
   "execution_count": null,
   "id": "f2311155",
   "metadata": {},
   "outputs": [],
   "source": [
    "tests = TestSuite(tests=[\n",
    "    TestNumberOfColumnsWithNulls(),\n",
    "    TestNumberOfRowsWithNulls(),\n",
    "    TestNumberOfConstantColumns(),\n",
    "    TestNumberOfDuplicatedRows(),\n",
    "    TestNumberOfDuplicatedColumns(),\n",
    "    TestColumnsType(),\n",
    "    TestNumberOfDriftedFeatures(), \n",
    "])\n",
    "\n",
    "tests.run(reference_data=reference, current_data=current)\n",
    "\n",
    "# show HTML\n",
    "tests"
   ]
  },
  {
   "cell_type": "code",
   "execution_count": null,
   "id": "20da511b",
   "metadata": {},
   "outputs": [],
   "source": [
    "# get JSON\n",
    "tests.json()"
   ]
  }
 ],
 "metadata": {
  "kernelspec": {
   "display_name": "Python 3 (ipykernel)",
   "language": "python",
   "name": "python3"
  },
  "language_info": {
   "codemirror_mode": {
    "name": "ipython",
    "version": 3
   },
   "file_extension": ".py",
   "mimetype": "text/x-python",
   "name": "python",
   "nbconvert_exporter": "python",
   "pygments_lexer": "ipython3",
   "version": "3.9.12"
  }
 },
 "nbformat": 4,
 "nbformat_minor": 5
}
