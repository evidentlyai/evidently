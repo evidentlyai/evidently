{
 "cells": [
  {
   "cell_type": "code",
   "execution_count": null,
   "id": "29a1fef9",
   "metadata": {},
   "outputs": [],
   "source": [
    "import pandas as pd\n",
    "\n",
    "from datetime import datetime\n",
    "from sklearn import datasets, ensemble, model_selection\n",
    "\n",
    "from evidently.dashboard import Dashboard\n",
    "from evidently.pipeline.column_mapping import ColumnMapping\n",
    "from evidently.dashboard.tabs import ClassificationPerformanceTab\n",
    "\n",
    "from evidently.model_profile import Profile\n",
    "from evidently.model_profile.sections import ClassificationPerformanceProfileSection"
   ]
  },
  {
   "cell_type": "markdown",
   "id": "65fce61f",
   "metadata": {},
   "source": [
    "# Breast Cancer Data"
   ]
  },
  {
   "cell_type": "code",
   "execution_count": null,
   "id": "006cc19a",
   "metadata": {},
   "outputs": [],
   "source": [
    "bcancer = datasets.load_breast_cancer()"
   ]
  },
  {
   "cell_type": "code",
   "execution_count": null,
   "id": "b1d4d493",
   "metadata": {},
   "outputs": [],
   "source": [
    "bcancer_frame = pd.DataFrame(bcancer.data, columns = bcancer.feature_names)"
   ]
  },
  {
   "cell_type": "code",
   "execution_count": null,
   "id": "358bfdb5",
   "metadata": {},
   "outputs": [],
   "source": [
    "bcancer_frame['target'] = bcancer.target"
   ]
  },
  {
   "cell_type": "code",
   "execution_count": null,
   "id": "c9d95b00",
   "metadata": {},
   "outputs": [],
   "source": [
    "bcancer_frame.head()"
   ]
  },
  {
   "cell_type": "code",
   "execution_count": null,
   "id": "7f894d52",
   "metadata": {},
   "outputs": [],
   "source": [
    "target = 'target'\n",
    "prediction = 'prediction'\n",
    "\n",
    "numerical_features = bcancer.feature_names\n",
    "categorical_features = []\n",
    "\n",
    "features = numerical_features.tolist() + categorical_features"
   ]
  },
  {
   "cell_type": "markdown",
   "id": "118c16c7",
   "metadata": {},
   "source": [
    "# Model Performance Dashboard"
   ]
  },
  {
   "cell_type": "code",
   "execution_count": null,
   "id": "0de52885",
   "metadata": {},
   "outputs": [],
   "source": [
    "train_data, test_data = model_selection.train_test_split(bcancer_frame, random_state=0)"
   ]
  },
  {
   "cell_type": "code",
   "execution_count": null,
   "id": "0bcf8f0d",
   "metadata": {},
   "outputs": [],
   "source": [
    "model = ensemble.RandomForestClassifier(random_state=0)"
   ]
  },
  {
   "cell_type": "code",
   "execution_count": null,
   "id": "8b6e5f94",
   "metadata": {},
   "outputs": [],
   "source": [
    "model.fit(train_data[features], train_data.target)"
   ]
  },
  {
   "cell_type": "code",
   "execution_count": null,
   "id": "6e66c0c0",
   "metadata": {},
   "outputs": [],
   "source": [
    "train_predictions = model.predict(train_data[features])\n",
    "test_predictions = model.predict(test_data[features])"
   ]
  },
  {
   "cell_type": "code",
   "execution_count": null,
   "id": "fd3b6bda",
   "metadata": {},
   "outputs": [],
   "source": [
    "train_data['prediction'] = train_predictions\n",
    "test_data['prediction'] = test_predictions"
   ]
  },
  {
   "cell_type": "code",
   "execution_count": null,
   "id": "3fb93fc4",
   "metadata": {},
   "outputs": [],
   "source": [
    "bcancer_column_mapping = ColumnMapping()\n",
    "\n",
    "bcancer_column_mapping.target = target\n",
    "bcancer_column_mapping.prediction = prediction\n",
    "bcancer_column_mapping.numerical_features = numerical_features"
   ]
  },
  {
   "cell_type": "markdown",
   "id": "c7a7ca37",
   "metadata": {},
   "source": [
    "## Model Performance Dashboard full (verbose_level=1)"
   ]
  },
  {
   "cell_type": "code",
   "execution_count": null,
   "id": "842dd259",
   "metadata": {},
   "outputs": [],
   "source": [
    "bcancer_model_performance_dashboard = Dashboard(tabs=[ClassificationPerformanceTab(verbose_level=1)])\n",
    "bcancer_model_performance_dashboard.calculate(train_data, test_data, column_mapping = bcancer_column_mapping)\n",
    "bcancer_model_performance_dashboard.show()"
   ]
  },
  {
   "cell_type": "code",
   "execution_count": null,
   "id": "c7d5d96f",
   "metadata": {},
   "outputs": [],
   "source": [
    "# bcancer_model_performance_dashboard.save('bcancer_model_performance.html')"
   ]
  },
  {
   "cell_type": "markdown",
   "id": "66a7ef6c",
   "metadata": {},
   "source": [
    "## Model Performance Dashboard short (verbose_level=0)"
   ]
  },
  {
   "cell_type": "code",
   "execution_count": null,
   "id": "3958fa1c",
   "metadata": {},
   "outputs": [],
   "source": [
    "bcancer_model_performance_dashboard = Dashboard(tabs=[ClassificationPerformanceTab(verbose_level=0)])\n",
    "bcancer_model_performance_dashboard.calculate(train_data, test_data, column_mapping = bcancer_column_mapping)\n",
    "bcancer_model_performance_dashboard.show()"
   ]
  },
  {
   "cell_type": "code",
   "execution_count": null,
   "id": "d575556f",
   "metadata": {},
   "outputs": [],
   "source": [
    "# bcancer_model_performance_dashboard.save('bcancer_model_performance.html')"
   ]
  },
  {
   "cell_type": "markdown",
   "id": "99e652b1",
   "metadata": {},
   "source": [
    "# Model Performance Profile"
   ]
  },
  {
   "cell_type": "code",
   "execution_count": null,
   "id": "b33295e1",
   "metadata": {},
   "outputs": [],
   "source": [
    "bcancer_classification_performance_profile = Profile(sections=[ClassificationPerformanceProfileSection()])"
   ]
  },
  {
   "cell_type": "code",
   "execution_count": null,
   "id": "ac8703f1",
   "metadata": {},
   "outputs": [],
   "source": [
    "bcancer_classification_performance_profile.calculate(train_data, test_data, column_mapping = bcancer_column_mapping)"
   ]
  },
  {
   "cell_type": "code",
   "execution_count": null,
   "id": "3eaa27dd",
   "metadata": {},
   "outputs": [],
   "source": [
    "bcancer_classification_performance_profile.json() "
   ]
  },
  {
   "cell_type": "code",
   "execution_count": null,
   "id": "f5cf3aa1",
   "metadata": {},
   "outputs": [],
   "source": []
  }
 ],
 "metadata": {
  "kernelspec": {
   "display_name": "Python 3",
   "language": "python",
   "name": "python3"
  },
  "language_info": {
   "codemirror_mode": {
    "name": "ipython",
    "version": 3
   },
   "file_extension": ".py",
   "mimetype": "text/x-python",
   "name": "python",
   "nbconvert_exporter": "python",
   "pygments_lexer": "ipython3",
   "version": "3.6.13"
  }
 },
 "nbformat": 4,
 "nbformat_minor": 5
}
