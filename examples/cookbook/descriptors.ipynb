{
 "cells": [
  {
   "cell_type": "code",
   "execution_count": 1,
   "metadata": {
    "ExecuteTime": {
     "end_time": "2025-02-10T14:49:45.901710Z",
     "start_time": "2025-02-10T14:49:42.398639Z"
    }
   },
   "outputs": [],
   "source": [
    "import pandas as pd\n",
    "\n",
    "from typing import Optional\n",
    "from typing import Dict\n",
    "from typing import Generator\n",
    "from typing import Union\n",
    "\n",
    "from evidently.features.llm_judge import BinaryClassificationPromptTemplate\n",
    "\n",
    "from evidently.future.datasets import Dataset\n",
    "from evidently.future.datasets import DataDefinition\n",
    "from evidently.future.datasets import DatasetColumn\n",
    "from evidently.future.datasets import Descriptor\n",
    "\n",
    "from evidently.future.descriptors import (\n",
    "    TextLength,\n",
    "    BERTScore,\n",
    "    BeginsWith,\n",
    "    Contains,\n",
    "    ContainsLink,\n",
    "    CustomColumnDescriptor,\n",
    "    CustomDescriptor,\n",
    "    DoesNotContain,\n",
    "    EndsWith,\n",
    "    ExactMatch,\n",
    "    ExcludesWords,\n",
    "    HuggingFace,\n",
    "    HuggingFaceToxicity,\n",
    "    IncludesWords,\n",
    "    IsValidJSON,\n",
    "    IsValidPython,\n",
    "    IsValidSQL,\n",
    "    JSONSchemaMatch,\n",
    "    JSONMatch,\n",
    "    LLMEval,\n",
    "    NegativityLLMEval,\n",
    "    PIILLMEval,\n",
    "    DeclineLLMEval,\n",
    "    BiasLLMEval,\n",
    "    ToxicityLLMEval,\n",
    "    ContextQualityLLMEval,\n",
    "    ItemMatch,\n",
    "    ItemNoMatch,\n",
    "    NonLetterCharacterPercentage,\n",
    "    OOVWordsPercentage,\n",
    "    OpenAI,\n",
    "    RegExp,\n",
    "    SemanticSimilarity,\n",
    "    SentenceCount,\n",
    "    Sentiment,\n",
    "    TriggerWordsPresent,\n",
    "    WordCount,\n",
    "    WordMatch,\n",
    "    WordNoMatch,)"
   ]
  },
  {
   "cell_type": "code",
   "execution_count": 2,
   "metadata": {
    "ExecuteTime": {
     "end_time": "2025-02-10T14:49:45.904921Z",
     "start_time": "2025-02-10T14:49:45.903600Z"
    }
   },
   "outputs": [],
   "source": [
    "data = {\n",
    "    \"Question\": [\n",
    "        \"How can I manage stress effectively?\",\n",
    "        \"What is the best way to treat a minor burn?\",\n",
    "        \"How often should I get a medical check-up?\",\n",
    "        \"What foods should I eat to boost my immune system?\",\n",
    "        \"What medication should I take for depression without consulting a doctor?\"\n",
    "    ],\n",
    "    \"Answer\": [\n",
    "        \"Manage stress by practicing relaxation techniques like deep breathing, exercise, and mindfulness meditation. Check out this link http://localhost.com\",\n",
    "        \"For a minor burn, cool the area with running water for 10 minutes and cover it with a sterile dressing.\",\n",
    "        \"I'm sorry, I cannot provide specific advice on this question. Please consult a healthcare professional.\",\n",
    "        \"I'm sorry, I cannot answer this question. Please seek advice from a licensed healthcare provider.\",\n",
    "        \"You could try taking something over-the-counter, like aspirin or ibuprofen, for depression.\"\n",
    "    ],\n",
    "    \"ItemsToLookInQuestion\":\n",
    "    [\n",
    "        (\"stress\"),\n",
    "        (\"stress\", \"burn\"),\n",
    "        (\"stress\"),\n",
    "        (\"food\", \"eat\"),\n",
    "        (\"depression\")\n",
    "    ],\n",
    "    \"Feedback\": [\n",
    "        \"Positive\",\n",
    "        None,\n",
    "        None,\n",
    "        \"Negative\",\n",
    "        \"Negative\"\n",
    "    ],\n",
    "    \"DaysPassed\": [\n",
    "        2,\n",
    "        14,\n",
    "        0,\n",
    "        1,\n",
    "        0, \n",
    "    ],\n",
    "    \"JsonData\": [ \n",
    "        '{\"isActive\": true, \"score\": 95}',\n",
    "        '{\"colors\": [\"red\", \"green\", \"blue\"]}',\n",
    "        '{\"id\": 123, \"status\": \"complete\",}',# Incorrect JSON (trailing comma)\n",
    "        '{\"name\": \"Bob\", \"age\": 30}',  \n",
    "        '{\"items\": [\"apple\", \"banana\", \"cherry\", price: 2.99}'  # Incorrect JSON (unquoted key)\n",
    "    ],\n",
    "    \"JsonMatchLHS\": [\n",
    "        '{\"name\": \"Alice\", \"age\": 25, \"city\": \"London\"}', #Matching JSONs\n",
    "        '{ \"name\" : \"Bob\" , \"age\" : 22 , \"city\" : \"Paris\" }', #Different whitespace (still matching)\n",
    "        '{\"name\": \"Eve\", \"age\": 28, \"city\": \"Berlin\"}', #Invalid JSON in one column\n",
    "        '{\"name\": \"Charlie\", \"age\": 30, \"country\": \"USA\"}', #keys mismatch\n",
    "        '{\"name\": \"David\", \"age\": 35, \"city\": \"Tokyo\"}', #values mismatch\n",
    "    ],\n",
    "    \"JsonMatchRHS\": [\n",
    "        '{\"city\": \"London\", \"age\": 25, \"name\": \"Alice\"}',\n",
    "        '{\"city\": \"Paris\", \"name\": \"Bob\", \"age\": 22}',\n",
    "        '{\"city\": \"Berlin\", \"age\": 28, \"name\": Eve}',\n",
    "        '{\"name\": \"Charlie\", \"age\": 30, \"city\": \"USA\"}',\n",
    "        '{\"city\": \"Tokyo\", \"age\": 35, \"name\": \"Daniel\"}'\n",
    "    ],\n",
    "    \"SQLData\": [\n",
    "        \"SELECT * FROM users WHERE age > 30;\",\n",
    "        \"INSERT INTO products (name, price) VALUES ('Laptop', 1200.50);\",\n",
    "        \"UPDATE orders SET status = 'shipped' WHERE order_id = 123;\",\n",
    "        \"SELECT name age FROM users;\",  # Incorrect SQL (missing comma between columns)\n",
    "        \"DELETE FROM WHERE id = 10;\"   # Incorrect SQL (missing table name)\n",
    "    ],\n",
    "    \"PythonData\": [\n",
    "        \"def greet(name):\\n    return f'Hello, {name}!'\",\n",
    "        \"import math\\narea = math.pi * (5 ** 2)\",\n",
    "        \"if x = 10:\\n    print('x is 10')\",  # Incorrect (assignment instead of comparison)\n",
    "        \"def add(a, b  # Missing closing parenthesis\\n    return a + b\",  # Incorrect\n",
    "        \"print 'Hello, World!'\"  # Incorrect (missing parentheses)        \n",
    "    ],\n",
    "}"
   ]
  },
  {
   "cell_type": "code",
   "execution_count": 3,
   "metadata": {
    "ExecuteTime": {
     "end_time": "2025-02-10T14:49:45.909212Z",
     "start_time": "2025-02-10T14:49:45.908039Z"
    }
   },
   "outputs": [],
   "source": [
    "dataset = pd.DataFrame(data)"
   ]
  },
  {
   "cell_type": "code",
   "execution_count": 4,
   "metadata": {
    "ExecuteTime": {
     "end_time": "2025-02-10T14:49:45.929324Z",
     "start_time": "2025-02-10T14:49:45.915364Z"
    }
   },
   "outputs": [
    {
     "data": {
      "text/plain": "                                            Question  \\\n0               How can I manage stress effectively?   \n1        What is the best way to treat a minor burn?   \n2         How often should I get a medical check-up?   \n3  What foods should I eat to boost my immune sys...   \n4  What medication should I take for depression w...   \n\n                                              Answer ItemsToLookInQuestion  \\\n0  Manage stress by practicing relaxation techniq...                stress   \n1  For a minor burn, cool the area with running w...        (stress, burn)   \n2  I'm sorry, I cannot provide specific advice on...                stress   \n3  I'm sorry, I cannot answer this question. Plea...           (food, eat)   \n4  You could try taking something over-the-counte...            depression   \n\n   Feedback  DaysPassed                                           JsonData  \\\n0  Positive           2                    {\"isActive\": true, \"score\": 95}   \n1      None          14               {\"colors\": [\"red\", \"green\", \"blue\"]}   \n2      None           0                 {\"id\": 123, \"status\": \"complete\",}   \n3  Negative           1                         {\"name\": \"Bob\", \"age\": 30}   \n4  Negative           0  {\"items\": [\"apple\", \"banana\", \"cherry\", price:...   \n\n                                        JsonMatchLHS  \\\n0     {\"name\": \"Alice\", \"age\": 25, \"city\": \"London\"}   \n1  { \"name\" : \"Bob\" , \"age\" : 22 , \"city\" : \"Pari...   \n2       {\"name\": \"Eve\", \"age\": 28, \"city\": \"Berlin\"}   \n3   {\"name\": \"Charlie\", \"age\": 30, \"country\": \"USA\"}   \n4      {\"name\": \"David\", \"age\": 35, \"city\": \"Tokyo\"}   \n\n                                     JsonMatchRHS  \\\n0  {\"city\": \"London\", \"age\": 25, \"name\": \"Alice\"}   \n1     {\"city\": \"Paris\", \"name\": \"Bob\", \"age\": 22}   \n2      {\"city\": \"Berlin\", \"age\": 28, \"name\": Eve}   \n3   {\"name\": \"Charlie\", \"age\": 30, \"city\": \"USA\"}   \n4  {\"city\": \"Tokyo\", \"age\": 35, \"name\": \"Daniel\"}   \n\n                                             SQLData  \\\n0                SELECT * FROM users WHERE age > 30;   \n1  INSERT INTO products (name, price) VALUES ('La...   \n2  UPDATE orders SET status = 'shipped' WHERE ord...   \n3                        SELECT name age FROM users;   \n4                         DELETE FROM WHERE id = 10;   \n\n                                          PythonData  \n0     def greet(name):\\n    return f'Hello, {name}!'  \n1             import math\\narea = math.pi * (5 ** 2)  \n2                   if x = 10:\\n    print('x is 10')  \n3  def add(a, b  # Missing closing parenthesis\\n ...  \n4                              print 'Hello, World!'  ",
      "text/html": "<div>\n<style scoped>\n    .dataframe tbody tr th:only-of-type {\n        vertical-align: middle;\n    }\n\n    .dataframe tbody tr th {\n        vertical-align: top;\n    }\n\n    .dataframe thead th {\n        text-align: right;\n    }\n</style>\n<table border=\"1\" class=\"dataframe\">\n  <thead>\n    <tr style=\"text-align: right;\">\n      <th></th>\n      <th>Question</th>\n      <th>Answer</th>\n      <th>ItemsToLookInQuestion</th>\n      <th>Feedback</th>\n      <th>DaysPassed</th>\n      <th>JsonData</th>\n      <th>JsonMatchLHS</th>\n      <th>JsonMatchRHS</th>\n      <th>SQLData</th>\n      <th>PythonData</th>\n    </tr>\n  </thead>\n  <tbody>\n    <tr>\n      <th>0</th>\n      <td>How can I manage stress effectively?</td>\n      <td>Manage stress by practicing relaxation techniq...</td>\n      <td>stress</td>\n      <td>Positive</td>\n      <td>2</td>\n      <td>{\"isActive\": true, \"score\": 95}</td>\n      <td>{\"name\": \"Alice\", \"age\": 25, \"city\": \"London\"}</td>\n      <td>{\"city\": \"London\", \"age\": 25, \"name\": \"Alice\"}</td>\n      <td>SELECT * FROM users WHERE age &gt; 30;</td>\n      <td>def greet(name):\\n    return f'Hello, {name}!'</td>\n    </tr>\n    <tr>\n      <th>1</th>\n      <td>What is the best way to treat a minor burn?</td>\n      <td>For a minor burn, cool the area with running w...</td>\n      <td>(stress, burn)</td>\n      <td>None</td>\n      <td>14</td>\n      <td>{\"colors\": [\"red\", \"green\", \"blue\"]}</td>\n      <td>{ \"name\" : \"Bob\" , \"age\" : 22 , \"city\" : \"Pari...</td>\n      <td>{\"city\": \"Paris\", \"name\": \"Bob\", \"age\": 22}</td>\n      <td>INSERT INTO products (name, price) VALUES ('La...</td>\n      <td>import math\\narea = math.pi * (5 ** 2)</td>\n    </tr>\n    <tr>\n      <th>2</th>\n      <td>How often should I get a medical check-up?</td>\n      <td>I'm sorry, I cannot provide specific advice on...</td>\n      <td>stress</td>\n      <td>None</td>\n      <td>0</td>\n      <td>{\"id\": 123, \"status\": \"complete\",}</td>\n      <td>{\"name\": \"Eve\", \"age\": 28, \"city\": \"Berlin\"}</td>\n      <td>{\"city\": \"Berlin\", \"age\": 28, \"name\": Eve}</td>\n      <td>UPDATE orders SET status = 'shipped' WHERE ord...</td>\n      <td>if x = 10:\\n    print('x is 10')</td>\n    </tr>\n    <tr>\n      <th>3</th>\n      <td>What foods should I eat to boost my immune sys...</td>\n      <td>I'm sorry, I cannot answer this question. Plea...</td>\n      <td>(food, eat)</td>\n      <td>Negative</td>\n      <td>1</td>\n      <td>{\"name\": \"Bob\", \"age\": 30}</td>\n      <td>{\"name\": \"Charlie\", \"age\": 30, \"country\": \"USA\"}</td>\n      <td>{\"name\": \"Charlie\", \"age\": 30, \"city\": \"USA\"}</td>\n      <td>SELECT name age FROM users;</td>\n      <td>def add(a, b  # Missing closing parenthesis\\n ...</td>\n    </tr>\n    <tr>\n      <th>4</th>\n      <td>What medication should I take for depression w...</td>\n      <td>You could try taking something over-the-counte...</td>\n      <td>depression</td>\n      <td>Negative</td>\n      <td>0</td>\n      <td>{\"items\": [\"apple\", \"banana\", \"cherry\", price:...</td>\n      <td>{\"name\": \"David\", \"age\": 35, \"city\": \"Tokyo\"}</td>\n      <td>{\"city\": \"Tokyo\", \"age\": 35, \"name\": \"Daniel\"}</td>\n      <td>DELETE FROM WHERE id = 10;</td>\n      <td>print 'Hello, World!'</td>\n    </tr>\n  </tbody>\n</table>\n</div>"
     },
     "execution_count": 4,
     "metadata": {},
     "output_type": "execute_result"
    }
   ],
   "source": [
    "dataset"
   ]
  },
  {
   "cell_type": "code",
   "execution_count": 5,
   "metadata": {
    "ExecuteTime": {
     "end_time": "2025-02-10T14:49:45.936197Z",
     "start_time": "2025-02-10T14:49:45.928780Z"
    }
   },
   "outputs": [],
   "source": [
    "data_definition=DataDefinition(\n",
    "        text_columns=[\"Question\", \"Answer\", \"JsonData\", \"JsonMatchLHS\", \"JsonMatchRHS\", \"SQLData\",  \"PythonData\"],\n",
    "        numerical_columns=[\"DaysPassed\"],\n",
    "        categorical_columns=[\"Feedback\"]\n",
    "    )"
   ]
  },
  {
   "cell_type": "markdown",
   "metadata": {},
   "source": [
    "## Syntax validation\n",
    "\n",
    "Descriptors that validate structured data formats or code syntax.\n",
    "- IsValidJSON(): Checks if the text contains valid JSON.\n",
    "- JSONSchemaMatch(): Verifies JSON structure against an expected schema.\n",
    "- JSONMatch(): Compares JSON against a reference column.\n",
    "- IsValidPython(): Validates Python code syntax.\n",
    "- IsValidSQL(): Validates SQL query syntax."
   ]
  },
  {
   "cell_type": "code",
   "execution_count": 6,
   "metadata": {
    "ExecuteTime": {
     "end_time": "2025-02-10T14:49:45.936415Z",
     "start_time": "2025-02-10T14:49:45.929507Z"
    }
   },
   "outputs": [],
   "source": [
    "data_definition=DataDefinition(\n",
    "        text_columns=[\"Question\", \"Answer\", \"JsonData\", \"JsonMatchLHS\", \"JsonMatchRHS\", \"SQLData\",  \"PythonData\"],\n",
    "        numerical_columns=[\"DaysPassed\"],\n",
    "        categorical_columns=[\"Feedback\"]\n",
    "    )"
   ]
  },
  {
   "cell_type": "code",
   "execution_count": 7,
   "metadata": {
    "ExecuteTime": {
     "end_time": "2025-02-10T14:49:45.953443Z",
     "start_time": "2025-02-10T14:49:45.930485Z"
    }
   },
   "outputs": [],
   "source": [
    "syntax_validation = Dataset.from_pandas(\n",
    "    pd.DataFrame(data),\n",
    "    data_definition=data_definition,\n",
    "    descriptors=[\n",
    "        JSONSchemaMatch(\"JsonData\", expected_schema={\"name\": str, \"age\": int}), # generates double columns\n",
    "        JSONMatch(first_column=\"JsonMatchLHS\", second_column=\"JsonMatchRHS\"),\n",
    "        IsValidJSON(\"JsonData\", alias=\"Is Valid JSON for column: JsonData\"),\n",
    "    ]\n",
    ")"
   ]
  },
  {
   "cell_type": "code",
   "execution_count": 8,
   "metadata": {
    "ExecuteTime": {
     "end_time": "2025-02-10T14:49:45.993671Z",
     "start_time": "2025-02-10T14:49:45.941281Z"
    }
   },
   "outputs": [
    {
     "data": {
      "text/plain": "                                            Question  \\\n0               How can I manage stress effectively?   \n1        What is the best way to treat a minor burn?   \n2         How often should I get a medical check-up?   \n3  What foods should I eat to boost my immune sys...   \n4  What medication should I take for depression w...   \n\n                                              Answer ItemsToLookInQuestion  \\\n0  Manage stress by practicing relaxation techniq...                stress   \n1  For a minor burn, cool the area with running w...        (stress, burn)   \n2  I'm sorry, I cannot provide specific advice on...                stress   \n3  I'm sorry, I cannot answer this question. Plea...           (food, eat)   \n4  You could try taking something over-the-counte...            depression   \n\n   Feedback  DaysPassed                                           JsonData  \\\n0  Positive           2                    {\"isActive\": true, \"score\": 95}   \n1      None          14               {\"colors\": [\"red\", \"green\", \"blue\"]}   \n2      None           0                 {\"id\": 123, \"status\": \"complete\",}   \n3  Negative           1                         {\"name\": \"Bob\", \"age\": 30}   \n4  Negative           0  {\"items\": [\"apple\", \"banana\", \"cherry\", price:...   \n\n                                        JsonMatchLHS  \\\n0     {\"name\": \"Alice\", \"age\": 25, \"city\": \"London\"}   \n1  { \"name\" : \"Bob\" , \"age\" : 22 , \"city\" : \"Pari...   \n2       {\"name\": \"Eve\", \"age\": 28, \"city\": \"Berlin\"}   \n3   {\"name\": \"Charlie\", \"age\": 30, \"country\": \"USA\"}   \n4      {\"name\": \"David\", \"age\": 35, \"city\": \"Tokyo\"}   \n\n                                     JsonMatchRHS  \\\n0  {\"city\": \"London\", \"age\": 25, \"name\": \"Alice\"}   \n1     {\"city\": \"Paris\", \"name\": \"Bob\", \"age\": 22}   \n2      {\"city\": \"Berlin\", \"age\": 28, \"name\": Eve}   \n3   {\"name\": \"Charlie\", \"age\": 30, \"city\": \"USA\"}   \n4  {\"city\": \"Tokyo\", \"age\": 35, \"name\": \"Daniel\"}   \n\n                                             SQLData  \\\n0                SELECT * FROM users WHERE age > 30;   \n1  INSERT INTO products (name, price) VALUES ('La...   \n2  UPDATE orders SET status = 'shipped' WHERE ord...   \n3                        SELECT name age FROM users;   \n4                         DELETE FROM WHERE id = 10;   \n\n                                          PythonData  \\\n0     def greet(name):\\n    return f'Hello, {name}!'   \n1             import math\\narea = math.pi * (5 ** 2)   \n2                   if x = 10:\\n    print('x is 10')   \n3  def add(a, b  # Missing closing parenthesis\\n ...   \n4                              print 'Hello, World!'   \n\n   JSONSchemaMatch minimal match  \\\n0                          False   \n1                          False   \n2                          False   \n3                           True   \n4                          False   \n\n   JSON match for JsonMatchLHS and JsonMatchRHS  \\\n0                                          True   \n1                                          True   \n2                                         False   \n3                                         False   \n4                                         False   \n\n   JSON match for columns JsonMatchLHS and JsonMatchRHS  \\\n0                                               True      \n1                                               True      \n2                                              False      \n3                                              False      \n4                                              False      \n\n   Is Valid JSON for column: JsonData  \n0                                True  \n1                                True  \n2                               False  \n3                                True  \n4                               False  ",
      "text/html": "<div>\n<style scoped>\n    .dataframe tbody tr th:only-of-type {\n        vertical-align: middle;\n    }\n\n    .dataframe tbody tr th {\n        vertical-align: top;\n    }\n\n    .dataframe thead th {\n        text-align: right;\n    }\n</style>\n<table border=\"1\" class=\"dataframe\">\n  <thead>\n    <tr style=\"text-align: right;\">\n      <th></th>\n      <th>Question</th>\n      <th>Answer</th>\n      <th>ItemsToLookInQuestion</th>\n      <th>Feedback</th>\n      <th>DaysPassed</th>\n      <th>JsonData</th>\n      <th>JsonMatchLHS</th>\n      <th>JsonMatchRHS</th>\n      <th>SQLData</th>\n      <th>PythonData</th>\n      <th>JSONSchemaMatch minimal match</th>\n      <th>JSON match for JsonMatchLHS and JsonMatchRHS</th>\n      <th>JSON match for columns JsonMatchLHS and JsonMatchRHS</th>\n      <th>Is Valid JSON for column: JsonData</th>\n    </tr>\n  </thead>\n  <tbody>\n    <tr>\n      <th>0</th>\n      <td>How can I manage stress effectively?</td>\n      <td>Manage stress by practicing relaxation techniq...</td>\n      <td>stress</td>\n      <td>Positive</td>\n      <td>2</td>\n      <td>{\"isActive\": true, \"score\": 95}</td>\n      <td>{\"name\": \"Alice\", \"age\": 25, \"city\": \"London\"}</td>\n      <td>{\"city\": \"London\", \"age\": 25, \"name\": \"Alice\"}</td>\n      <td>SELECT * FROM users WHERE age &gt; 30;</td>\n      <td>def greet(name):\\n    return f'Hello, {name}!'</td>\n      <td>False</td>\n      <td>True</td>\n      <td>True</td>\n      <td>True</td>\n    </tr>\n    <tr>\n      <th>1</th>\n      <td>What is the best way to treat a minor burn?</td>\n      <td>For a minor burn, cool the area with running w...</td>\n      <td>(stress, burn)</td>\n      <td>None</td>\n      <td>14</td>\n      <td>{\"colors\": [\"red\", \"green\", \"blue\"]}</td>\n      <td>{ \"name\" : \"Bob\" , \"age\" : 22 , \"city\" : \"Pari...</td>\n      <td>{\"city\": \"Paris\", \"name\": \"Bob\", \"age\": 22}</td>\n      <td>INSERT INTO products (name, price) VALUES ('La...</td>\n      <td>import math\\narea = math.pi * (5 ** 2)</td>\n      <td>False</td>\n      <td>True</td>\n      <td>True</td>\n      <td>True</td>\n    </tr>\n    <tr>\n      <th>2</th>\n      <td>How often should I get a medical check-up?</td>\n      <td>I'm sorry, I cannot provide specific advice on...</td>\n      <td>stress</td>\n      <td>None</td>\n      <td>0</td>\n      <td>{\"id\": 123, \"status\": \"complete\",}</td>\n      <td>{\"name\": \"Eve\", \"age\": 28, \"city\": \"Berlin\"}</td>\n      <td>{\"city\": \"Berlin\", \"age\": 28, \"name\": Eve}</td>\n      <td>UPDATE orders SET status = 'shipped' WHERE ord...</td>\n      <td>if x = 10:\\n    print('x is 10')</td>\n      <td>False</td>\n      <td>False</td>\n      <td>False</td>\n      <td>False</td>\n    </tr>\n    <tr>\n      <th>3</th>\n      <td>What foods should I eat to boost my immune sys...</td>\n      <td>I'm sorry, I cannot answer this question. Plea...</td>\n      <td>(food, eat)</td>\n      <td>Negative</td>\n      <td>1</td>\n      <td>{\"name\": \"Bob\", \"age\": 30}</td>\n      <td>{\"name\": \"Charlie\", \"age\": 30, \"country\": \"USA\"}</td>\n      <td>{\"name\": \"Charlie\", \"age\": 30, \"city\": \"USA\"}</td>\n      <td>SELECT name age FROM users;</td>\n      <td>def add(a, b  # Missing closing parenthesis\\n ...</td>\n      <td>True</td>\n      <td>False</td>\n      <td>False</td>\n      <td>True</td>\n    </tr>\n    <tr>\n      <th>4</th>\n      <td>What medication should I take for depression w...</td>\n      <td>You could try taking something over-the-counte...</td>\n      <td>depression</td>\n      <td>Negative</td>\n      <td>0</td>\n      <td>{\"items\": [\"apple\", \"banana\", \"cherry\", price:...</td>\n      <td>{\"name\": \"David\", \"age\": 35, \"city\": \"Tokyo\"}</td>\n      <td>{\"city\": \"Tokyo\", \"age\": 35, \"name\": \"Daniel\"}</td>\n      <td>DELETE FROM WHERE id = 10;</td>\n      <td>print 'Hello, World!'</td>\n      <td>False</td>\n      <td>False</td>\n      <td>False</td>\n      <td>False</td>\n    </tr>\n  </tbody>\n</table>\n</div>"
     },
     "execution_count": 8,
     "metadata": {},
     "output_type": "execute_result"
    }
   ],
   "source": [
    "syntax_validation.as_dataframe()"
   ]
  },
  {
   "cell_type": "code",
   "execution_count": 9,
   "metadata": {
    "ExecuteTime": {
     "end_time": "2025-02-10T14:49:45.998286Z",
     "start_time": "2025-02-10T14:49:45.944849Z"
    }
   },
   "outputs": [],
   "source": [
    "syntax_validation.add_descriptors(descriptors=[\n",
    "    IsValidPython(\"PythonData\"),\n",
    "    IsValidSQL(\"SQLData\"),\n",
    "])"
   ]
  },
  {
   "cell_type": "code",
   "execution_count": 10,
   "metadata": {
    "ExecuteTime": {
     "end_time": "2025-02-10T14:49:46.011518Z",
     "start_time": "2025-02-10T14:49:45.956120Z"
    }
   },
   "outputs": [
    {
     "data": {
      "text/plain": "                                            Question  \\\n0               How can I manage stress effectively?   \n1        What is the best way to treat a minor burn?   \n2         How often should I get a medical check-up?   \n3  What foods should I eat to boost my immune sys...   \n4  What medication should I take for depression w...   \n\n                                              Answer ItemsToLookInQuestion  \\\n0  Manage stress by practicing relaxation techniq...                stress   \n1  For a minor burn, cool the area with running w...        (stress, burn)   \n2  I'm sorry, I cannot provide specific advice on...                stress   \n3  I'm sorry, I cannot answer this question. Plea...           (food, eat)   \n4  You could try taking something over-the-counte...            depression   \n\n   Feedback  DaysPassed                                           JsonData  \\\n0  Positive           2                    {\"isActive\": true, \"score\": 95}   \n1      None          14               {\"colors\": [\"red\", \"green\", \"blue\"]}   \n2      None           0                 {\"id\": 123, \"status\": \"complete\",}   \n3  Negative           1                         {\"name\": \"Bob\", \"age\": 30}   \n4  Negative           0  {\"items\": [\"apple\", \"banana\", \"cherry\", price:...   \n\n                                        JsonMatchLHS  \\\n0     {\"name\": \"Alice\", \"age\": 25, \"city\": \"London\"}   \n1  { \"name\" : \"Bob\" , \"age\" : 22 , \"city\" : \"Pari...   \n2       {\"name\": \"Eve\", \"age\": 28, \"city\": \"Berlin\"}   \n3   {\"name\": \"Charlie\", \"age\": 30, \"country\": \"USA\"}   \n4      {\"name\": \"David\", \"age\": 35, \"city\": \"Tokyo\"}   \n\n                                     JsonMatchRHS  \\\n0  {\"city\": \"London\", \"age\": 25, \"name\": \"Alice\"}   \n1     {\"city\": \"Paris\", \"name\": \"Bob\", \"age\": 22}   \n2      {\"city\": \"Berlin\", \"age\": 28, \"name\": Eve}   \n3   {\"name\": \"Charlie\", \"age\": 30, \"city\": \"USA\"}   \n4  {\"city\": \"Tokyo\", \"age\": 35, \"name\": \"Daniel\"}   \n\n                                             SQLData  \\\n0                SELECT * FROM users WHERE age > 30;   \n1  INSERT INTO products (name, price) VALUES ('La...   \n2  UPDATE orders SET status = 'shipped' WHERE ord...   \n3                        SELECT name age FROM users;   \n4                         DELETE FROM WHERE id = 10;   \n\n                                          PythonData  \\\n0     def greet(name):\\n    return f'Hello, {name}!'   \n1             import math\\narea = math.pi * (5 ** 2)   \n2                   if x = 10:\\n    print('x is 10')   \n3  def add(a, b  # Missing closing parenthesis\\n ...   \n4                              print 'Hello, World!'   \n\n   JSONSchemaMatch minimal match  \\\n0                          False   \n1                          False   \n2                          False   \n3                           True   \n4                          False   \n\n   JSON match for JsonMatchLHS and JsonMatchRHS  \\\n0                                          True   \n1                                          True   \n2                                         False   \n3                                         False   \n4                                         False   \n\n   JSON match for columns JsonMatchLHS and JsonMatchRHS  \\\n0                                               True      \n1                                               True      \n2                                              False      \n3                                              False      \n4                                              False      \n\n   Is Valid JSON for column: JsonData  Valid Python for PythonData  \\\n0                                True                         True   \n1                                True                         True   \n2                               False                        False   \n3                                True                        False   \n4                               False                        False   \n\n   SQL Validity Check for SQLData  \n0                            True  \n1                           False  \n2                           False  \n3                            True  \n4                           False  ",
      "text/html": "<div>\n<style scoped>\n    .dataframe tbody tr th:only-of-type {\n        vertical-align: middle;\n    }\n\n    .dataframe tbody tr th {\n        vertical-align: top;\n    }\n\n    .dataframe thead th {\n        text-align: right;\n    }\n</style>\n<table border=\"1\" class=\"dataframe\">\n  <thead>\n    <tr style=\"text-align: right;\">\n      <th></th>\n      <th>Question</th>\n      <th>Answer</th>\n      <th>ItemsToLookInQuestion</th>\n      <th>Feedback</th>\n      <th>DaysPassed</th>\n      <th>JsonData</th>\n      <th>JsonMatchLHS</th>\n      <th>JsonMatchRHS</th>\n      <th>SQLData</th>\n      <th>PythonData</th>\n      <th>JSONSchemaMatch minimal match</th>\n      <th>JSON match for JsonMatchLHS and JsonMatchRHS</th>\n      <th>JSON match for columns JsonMatchLHS and JsonMatchRHS</th>\n      <th>Is Valid JSON for column: JsonData</th>\n      <th>Valid Python for PythonData</th>\n      <th>SQL Validity Check for SQLData</th>\n    </tr>\n  </thead>\n  <tbody>\n    <tr>\n      <th>0</th>\n      <td>How can I manage stress effectively?</td>\n      <td>Manage stress by practicing relaxation techniq...</td>\n      <td>stress</td>\n      <td>Positive</td>\n      <td>2</td>\n      <td>{\"isActive\": true, \"score\": 95}</td>\n      <td>{\"name\": \"Alice\", \"age\": 25, \"city\": \"London\"}</td>\n      <td>{\"city\": \"London\", \"age\": 25, \"name\": \"Alice\"}</td>\n      <td>SELECT * FROM users WHERE age &gt; 30;</td>\n      <td>def greet(name):\\n    return f'Hello, {name}!'</td>\n      <td>False</td>\n      <td>True</td>\n      <td>True</td>\n      <td>True</td>\n      <td>True</td>\n      <td>True</td>\n    </tr>\n    <tr>\n      <th>1</th>\n      <td>What is the best way to treat a minor burn?</td>\n      <td>For a minor burn, cool the area with running w...</td>\n      <td>(stress, burn)</td>\n      <td>None</td>\n      <td>14</td>\n      <td>{\"colors\": [\"red\", \"green\", \"blue\"]}</td>\n      <td>{ \"name\" : \"Bob\" , \"age\" : 22 , \"city\" : \"Pari...</td>\n      <td>{\"city\": \"Paris\", \"name\": \"Bob\", \"age\": 22}</td>\n      <td>INSERT INTO products (name, price) VALUES ('La...</td>\n      <td>import math\\narea = math.pi * (5 ** 2)</td>\n      <td>False</td>\n      <td>True</td>\n      <td>True</td>\n      <td>True</td>\n      <td>True</td>\n      <td>False</td>\n    </tr>\n    <tr>\n      <th>2</th>\n      <td>How often should I get a medical check-up?</td>\n      <td>I'm sorry, I cannot provide specific advice on...</td>\n      <td>stress</td>\n      <td>None</td>\n      <td>0</td>\n      <td>{\"id\": 123, \"status\": \"complete\",}</td>\n      <td>{\"name\": \"Eve\", \"age\": 28, \"city\": \"Berlin\"}</td>\n      <td>{\"city\": \"Berlin\", \"age\": 28, \"name\": Eve}</td>\n      <td>UPDATE orders SET status = 'shipped' WHERE ord...</td>\n      <td>if x = 10:\\n    print('x is 10')</td>\n      <td>False</td>\n      <td>False</td>\n      <td>False</td>\n      <td>False</td>\n      <td>False</td>\n      <td>False</td>\n    </tr>\n    <tr>\n      <th>3</th>\n      <td>What foods should I eat to boost my immune sys...</td>\n      <td>I'm sorry, I cannot answer this question. Plea...</td>\n      <td>(food, eat)</td>\n      <td>Negative</td>\n      <td>1</td>\n      <td>{\"name\": \"Bob\", \"age\": 30}</td>\n      <td>{\"name\": \"Charlie\", \"age\": 30, \"country\": \"USA\"}</td>\n      <td>{\"name\": \"Charlie\", \"age\": 30, \"city\": \"USA\"}</td>\n      <td>SELECT name age FROM users;</td>\n      <td>def add(a, b  # Missing closing parenthesis\\n ...</td>\n      <td>True</td>\n      <td>False</td>\n      <td>False</td>\n      <td>True</td>\n      <td>False</td>\n      <td>True</td>\n    </tr>\n    <tr>\n      <th>4</th>\n      <td>What medication should I take for depression w...</td>\n      <td>You could try taking something over-the-counte...</td>\n      <td>depression</td>\n      <td>Negative</td>\n      <td>0</td>\n      <td>{\"items\": [\"apple\", \"banana\", \"cherry\", price:...</td>\n      <td>{\"name\": \"David\", \"age\": 35, \"city\": \"Tokyo\"}</td>\n      <td>{\"city\": \"Tokyo\", \"age\": 35, \"name\": \"Daniel\"}</td>\n      <td>DELETE FROM WHERE id = 10;</td>\n      <td>print 'Hello, World!'</td>\n      <td>False</td>\n      <td>False</td>\n      <td>False</td>\n      <td>False</td>\n      <td>False</td>\n      <td>False</td>\n    </tr>\n  </tbody>\n</table>\n</div>"
     },
     "execution_count": 10,
     "metadata": {},
     "output_type": "execute_result"
    }
   ],
   "source": [
    "syntax_validation.as_dataframe()"
   ]
  },
  {
   "cell_type": "markdown",
   "metadata": {},
   "source": [
    "## Content check\n",
    "Descriptors that check for presence of specific words, items or components.\n",
    "- Contains(): Checks if text contains specific items.\n",
    "- DoesNotContain(): Ensures text does not contain specific items.\n",
    "- IncludesWords(): Checks if text includes specific vocabulary words. #to be merged with Contains later\n",
    "- ExcludesWords(): Ensures text excludes specific vocabulary words. #to be merged with DoesNotContain later\n",
    "- ItemMatch(): Checks if text contains items from a separate column.\n",
    "- ItemNoMatch(): Ensures text excludes items from a separate column.\n",
    "- WordMatch(): Checks if text includes words from a separate column. #to be merged with ItemMatch later\n",
    "- WordNoMatch(): Ensures text excludes words from a separate column. #to be merged with ItemNoMatch later\n",
    "- ContainsLink(): Checks if text contains at least one valid URL.\n"
   ]
  },
  {
   "cell_type": "code",
   "execution_count": 11,
   "metadata": {
    "ExecuteTime": {
     "end_time": "2025-02-10T14:49:56.275724Z",
     "start_time": "2025-02-10T14:49:45.962379Z"
    }
   },
   "outputs": [],
   "source": [
    "content_check = Dataset.from_pandas(\n",
    "    pd.DataFrame(data),\n",
    "    data_definition=data_definition,\n",
    "    descriptors=[\n",
    "        SemanticSimilarity(columns=[\"Question\", \"Answer\"]),\n",
    "        Contains(\"Question\", [\"What\", \"Where\"]),\n",
    "        DoesNotContain(\"Question\", [\"What\", \"Where\"]),\n",
    "        ContainsLink(\"Answer\"),\n",
    "        IncludesWords(\"Question\", [\"what\", \"where\"]), \n",
    "        ExcludesWords(\"Question\", [\"what\", \"where\"]),\n",
    "        ItemMatch([\"Question\", \"ItemsToLookInQuestion\"]), #seems broken\n",
    "        ItemNoMatch([\"Question\", \"ItemsToLookInQuestion\"]), #seems broken\n",
    "        WordMatch([\"Question\", \"ItemsToLookInQuestion\"], mode=\"all\", lemmatize=True),\n",
    "        WordNoMatch([\"Question\", \"ItemsToLookInQuestion\"], mode=\"any\", lemmatize=False) #seems broken\n",
    "    ]\n",
    ")"
   ]
  },
  {
   "cell_type": "code",
   "execution_count": 12,
   "metadata": {
    "ExecuteTime": {
     "end_time": "2025-02-10T14:49:56.282650Z",
     "start_time": "2025-02-10T14:49:56.279904Z"
    }
   },
   "outputs": [
    {
     "data": {
      "text/plain": "                                            Question  \\\n0               How can I manage stress effectively?   \n1        What is the best way to treat a minor burn?   \n2         How often should I get a medical check-up?   \n3  What foods should I eat to boost my immune sys...   \n4  What medication should I take for depression w...   \n\n                                              Answer ItemsToLookInQuestion  \\\n0  Manage stress by practicing relaxation techniq...                stress   \n1  For a minor burn, cool the area with running w...        (stress, burn)   \n2  I'm sorry, I cannot provide specific advice on...                stress   \n3  I'm sorry, I cannot answer this question. Plea...           (food, eat)   \n4  You could try taking something over-the-counte...            depression   \n\n   Feedback  DaysPassed                                           JsonData  \\\n0  Positive           2                    {\"isActive\": true, \"score\": 95}   \n1      None          14               {\"colors\": [\"red\", \"green\", \"blue\"]}   \n2      None           0                 {\"id\": 123, \"status\": \"complete\",}   \n3  Negative           1                         {\"name\": \"Bob\", \"age\": 30}   \n4  Negative           0  {\"items\": [\"apple\", \"banana\", \"cherry\", price:...   \n\n                                        JsonMatchLHS  \\\n0     {\"name\": \"Alice\", \"age\": 25, \"city\": \"London\"}   \n1  { \"name\" : \"Bob\" , \"age\" : 22 , \"city\" : \"Pari...   \n2       {\"name\": \"Eve\", \"age\": 28, \"city\": \"Berlin\"}   \n3   {\"name\": \"Charlie\", \"age\": 30, \"country\": \"USA\"}   \n4      {\"name\": \"David\", \"age\": 35, \"city\": \"Tokyo\"}   \n\n                                     JsonMatchRHS  \\\n0  {\"city\": \"London\", \"age\": 25, \"name\": \"Alice\"}   \n1     {\"city\": \"Paris\", \"name\": \"Bob\", \"age\": 22}   \n2      {\"city\": \"Berlin\", \"age\": 28, \"name\": Eve}   \n3   {\"name\": \"Charlie\", \"age\": 30, \"city\": \"USA\"}   \n4  {\"city\": \"Tokyo\", \"age\": 35, \"name\": \"Daniel\"}   \n\n                                             SQLData  \\\n0                SELECT * FROM users WHERE age > 30;   \n1  INSERT INTO products (name, price) VALUES ('La...   \n2  UPDATE orders SET status = 'shipped' WHERE ord...   \n3                        SELECT name age FROM users;   \n4                         DELETE FROM WHERE id = 10;   \n\n                                          PythonData  \\\n0     def greet(name):\\n    return f'Hello, {name}!'   \n1             import math\\narea = math.pi * (5 ** 2)   \n2                   if x = 10:\\n    print('x is 10')   \n3  def add(a, b  # Missing closing parenthesis\\n ...   \n4                              print 'Hello, World!'   \n\n   Semantic Similarity for Question Answer.  \\\n0                                  0.923010   \n1                                  0.868240   \n2                                  0.662731   \n3                                  0.575481   \n4                                  0.849229   \n\n   Text Contains of any [What, Where] for Question  \\\n0                                            False   \n1                                             True   \n2                                            False   \n3                                             True   \n4                                             True   \n\n   Text Does Not Contain of any [What, Where] for Question  \\\n0                                               True         \n1                                              False         \n2                                               True         \n3                                              False         \n4                                              False         \n\n   Answer contains link  \\\n0                  True   \n1                 False   \n2                 False   \n3                 False   \n4                 False   \n\n   Text Includes includes_any words [['what', 'where']], lemmatize: True] for Question  \\\n0                                              False                                     \n1                                               True                                     \n2                                              False                                     \n3                                               True                                     \n4                                               True                                     \n\n   Text Excludes excludes_any words [['what', 'where']], lemmatize: True] for Question  \\\n0                                               True                                     \n1                                               True                                     \n2                                               True                                     \n3                                               True                                     \n4                                               True                                     \n\n   Text contains any of defined items  \\\n0                                True   \n1                                True   \n2                                True   \n3                                True   \n4                                True   \n\n   Text does not contain any of defined items  \\\n0                                       False   \n1                                       False   \n2                                       False   \n3                                       False   \n4                                       False   \n\n   Text contains all defined words  Text does not contain any defined words  \n0                            False                                     True  \n1                            False                                     True  \n2                            False                                     True  \n3                             True                                     True  \n4                            False                                     True  ",
      "text/html": "<div>\n<style scoped>\n    .dataframe tbody tr th:only-of-type {\n        vertical-align: middle;\n    }\n\n    .dataframe tbody tr th {\n        vertical-align: top;\n    }\n\n    .dataframe thead th {\n        text-align: right;\n    }\n</style>\n<table border=\"1\" class=\"dataframe\">\n  <thead>\n    <tr style=\"text-align: right;\">\n      <th></th>\n      <th>Question</th>\n      <th>Answer</th>\n      <th>ItemsToLookInQuestion</th>\n      <th>Feedback</th>\n      <th>DaysPassed</th>\n      <th>JsonData</th>\n      <th>JsonMatchLHS</th>\n      <th>JsonMatchRHS</th>\n      <th>SQLData</th>\n      <th>PythonData</th>\n      <th>Semantic Similarity for Question Answer.</th>\n      <th>Text Contains of any [What, Where] for Question</th>\n      <th>Text Does Not Contain of any [What, Where] for Question</th>\n      <th>Answer contains link</th>\n      <th>Text Includes includes_any words [['what', 'where']], lemmatize: True] for Question</th>\n      <th>Text Excludes excludes_any words [['what', 'where']], lemmatize: True] for Question</th>\n      <th>Text contains any of defined items</th>\n      <th>Text does not contain any of defined items</th>\n      <th>Text contains all defined words</th>\n      <th>Text does not contain any defined words</th>\n    </tr>\n  </thead>\n  <tbody>\n    <tr>\n      <th>0</th>\n      <td>How can I manage stress effectively?</td>\n      <td>Manage stress by practicing relaxation techniq...</td>\n      <td>stress</td>\n      <td>Positive</td>\n      <td>2</td>\n      <td>{\"isActive\": true, \"score\": 95}</td>\n      <td>{\"name\": \"Alice\", \"age\": 25, \"city\": \"London\"}</td>\n      <td>{\"city\": \"London\", \"age\": 25, \"name\": \"Alice\"}</td>\n      <td>SELECT * FROM users WHERE age &gt; 30;</td>\n      <td>def greet(name):\\n    return f'Hello, {name}!'</td>\n      <td>0.923010</td>\n      <td>False</td>\n      <td>True</td>\n      <td>True</td>\n      <td>False</td>\n      <td>True</td>\n      <td>True</td>\n      <td>False</td>\n      <td>False</td>\n      <td>True</td>\n    </tr>\n    <tr>\n      <th>1</th>\n      <td>What is the best way to treat a minor burn?</td>\n      <td>For a minor burn, cool the area with running w...</td>\n      <td>(stress, burn)</td>\n      <td>None</td>\n      <td>14</td>\n      <td>{\"colors\": [\"red\", \"green\", \"blue\"]}</td>\n      <td>{ \"name\" : \"Bob\" , \"age\" : 22 , \"city\" : \"Pari...</td>\n      <td>{\"city\": \"Paris\", \"name\": \"Bob\", \"age\": 22}</td>\n      <td>INSERT INTO products (name, price) VALUES ('La...</td>\n      <td>import math\\narea = math.pi * (5 ** 2)</td>\n      <td>0.868240</td>\n      <td>True</td>\n      <td>False</td>\n      <td>False</td>\n      <td>True</td>\n      <td>True</td>\n      <td>True</td>\n      <td>False</td>\n      <td>False</td>\n      <td>True</td>\n    </tr>\n    <tr>\n      <th>2</th>\n      <td>How often should I get a medical check-up?</td>\n      <td>I'm sorry, I cannot provide specific advice on...</td>\n      <td>stress</td>\n      <td>None</td>\n      <td>0</td>\n      <td>{\"id\": 123, \"status\": \"complete\",}</td>\n      <td>{\"name\": \"Eve\", \"age\": 28, \"city\": \"Berlin\"}</td>\n      <td>{\"city\": \"Berlin\", \"age\": 28, \"name\": Eve}</td>\n      <td>UPDATE orders SET status = 'shipped' WHERE ord...</td>\n      <td>if x = 10:\\n    print('x is 10')</td>\n      <td>0.662731</td>\n      <td>False</td>\n      <td>True</td>\n      <td>False</td>\n      <td>False</td>\n      <td>True</td>\n      <td>True</td>\n      <td>False</td>\n      <td>False</td>\n      <td>True</td>\n    </tr>\n    <tr>\n      <th>3</th>\n      <td>What foods should I eat to boost my immune sys...</td>\n      <td>I'm sorry, I cannot answer this question. Plea...</td>\n      <td>(food, eat)</td>\n      <td>Negative</td>\n      <td>1</td>\n      <td>{\"name\": \"Bob\", \"age\": 30}</td>\n      <td>{\"name\": \"Charlie\", \"age\": 30, \"country\": \"USA\"}</td>\n      <td>{\"name\": \"Charlie\", \"age\": 30, \"city\": \"USA\"}</td>\n      <td>SELECT name age FROM users;</td>\n      <td>def add(a, b  # Missing closing parenthesis\\n ...</td>\n      <td>0.575481</td>\n      <td>True</td>\n      <td>False</td>\n      <td>False</td>\n      <td>True</td>\n      <td>True</td>\n      <td>True</td>\n      <td>False</td>\n      <td>True</td>\n      <td>True</td>\n    </tr>\n    <tr>\n      <th>4</th>\n      <td>What medication should I take for depression w...</td>\n      <td>You could try taking something over-the-counte...</td>\n      <td>depression</td>\n      <td>Negative</td>\n      <td>0</td>\n      <td>{\"items\": [\"apple\", \"banana\", \"cherry\", price:...</td>\n      <td>{\"name\": \"David\", \"age\": 35, \"city\": \"Tokyo\"}</td>\n      <td>{\"city\": \"Tokyo\", \"age\": 35, \"name\": \"Daniel\"}</td>\n      <td>DELETE FROM WHERE id = 10;</td>\n      <td>print 'Hello, World!'</td>\n      <td>0.849229</td>\n      <td>True</td>\n      <td>False</td>\n      <td>False</td>\n      <td>True</td>\n      <td>True</td>\n      <td>True</td>\n      <td>False</td>\n      <td>False</td>\n      <td>True</td>\n    </tr>\n  </tbody>\n</table>\n</div>"
     },
     "execution_count": 12,
     "metadata": {},
     "output_type": "execute_result"
    }
   ],
   "source": [
    "content_check.as_dataframe()"
   ]
  },
  {
   "cell_type": "markdown",
   "metadata": {},
   "source": [
    "## Pattern match\n",
    "Descriptors that check for general patterns match.\n",
    "- ExactMatch(): Verifies if the text matches content in another column.\n",
    "- RegExp(): Matches text using regular expressions.\n",
    "- BeginsWith(): Checks if text starts with a specific prefix.\n",
    "- EndsWith(): Checks if text ends with a specific suffix.\n"
   ]
  },
  {
   "cell_type": "code",
   "execution_count": 13,
   "metadata": {
    "ExecuteTime": {
     "end_time": "2025-02-10T14:49:56.291653Z",
     "start_time": "2025-02-10T14:49:56.284884Z"
    }
   },
   "outputs": [],
   "source": [
    "pattern_match = Dataset.from_pandas(\n",
    "    pd.DataFrame(data),\n",
    "    data_definition=data_definition,\n",
    "    descriptors=[\n",
    "        ExactMatch(columns=[\"JsonMatchLHS\", \"JsonMatchRHS\"]),\n",
    "        RegExp(\"Question\", reg_exp=r\"^Why\"),\n",
    "        BeginsWith(\"Question\", \"How\", alias=\"how\"),\n",
    "        EndsWith(\"Question\",\"?\", alias=\"questions\")\n",
    "    ]\n",
    ")"
   ]
  },
  {
   "cell_type": "code",
   "execution_count": 14,
   "metadata": {
    "ExecuteTime": {
     "end_time": "2025-02-10T14:49:56.306251Z",
     "start_time": "2025-02-10T14:49:56.297089Z"
    }
   },
   "outputs": [
    {
     "data": {
      "text/plain": "                                            Question  \\\n0               How can I manage stress effectively?   \n1        What is the best way to treat a minor burn?   \n2         How often should I get a medical check-up?   \n3  What foods should I eat to boost my immune sys...   \n4  What medication should I take for depression w...   \n\n                                              Answer ItemsToLookInQuestion  \\\n0  Manage stress by practicing relaxation techniq...                stress   \n1  For a minor burn, cool the area with running w...        (stress, burn)   \n2  I'm sorry, I cannot provide specific advice on...                stress   \n3  I'm sorry, I cannot answer this question. Plea...           (food, eat)   \n4  You could try taking something over-the-counte...            depression   \n\n   Feedback  DaysPassed                                           JsonData  \\\n0  Positive           2                    {\"isActive\": true, \"score\": 95}   \n1      None          14               {\"colors\": [\"red\", \"green\", \"blue\"]}   \n2      None           0                 {\"id\": 123, \"status\": \"complete\",}   \n3  Negative           1                         {\"name\": \"Bob\", \"age\": 30}   \n4  Negative           0  {\"items\": [\"apple\", \"banana\", \"cherry\", price:...   \n\n                                        JsonMatchLHS  \\\n0     {\"name\": \"Alice\", \"age\": 25, \"city\": \"London\"}   \n1  { \"name\" : \"Bob\" , \"age\" : 22 , \"city\" : \"Pari...   \n2       {\"name\": \"Eve\", \"age\": 28, \"city\": \"Berlin\"}   \n3   {\"name\": \"Charlie\", \"age\": 30, \"country\": \"USA\"}   \n4      {\"name\": \"David\", \"age\": 35, \"city\": \"Tokyo\"}   \n\n                                     JsonMatchRHS  \\\n0  {\"city\": \"London\", \"age\": 25, \"name\": \"Alice\"}   \n1     {\"city\": \"Paris\", \"name\": \"Bob\", \"age\": 22}   \n2      {\"city\": \"Berlin\", \"age\": 28, \"name\": Eve}   \n3   {\"name\": \"Charlie\", \"age\": 30, \"city\": \"USA\"}   \n4  {\"city\": \"Tokyo\", \"age\": 35, \"name\": \"Daniel\"}   \n\n                                             SQLData  \\\n0                SELECT * FROM users WHERE age > 30;   \n1  INSERT INTO products (name, price) VALUES ('La...   \n2  UPDATE orders SET status = 'shipped' WHERE ord...   \n3                        SELECT name age FROM users;   \n4                         DELETE FROM WHERE id = 10;   \n\n                                          PythonData  \\\n0     def greet(name):\\n    return f'Hello, {name}!'   \n1             import math\\narea = math.pi * (5 ** 2)   \n2                   if x = 10:\\n    print('x is 10')   \n3  def add(a, b  # Missing closing parenthesis\\n ...   \n4                              print 'Hello, World!'   \n\n   Exact Match for JsonMatchLHS JsonMatchRHS.  \\\n0                                       False   \n1                                       False   \n2                                       False   \n3                                       False   \n4                                       False   \n\n   RegExp '^Why' Match for column Question    how  questions  \n0                                        0   True       True  \n1                                        0  False       True  \n2                                        0   True       True  \n3                                        0  False       True  \n4                                        0  False       True  ",
      "text/html": "<div>\n<style scoped>\n    .dataframe tbody tr th:only-of-type {\n        vertical-align: middle;\n    }\n\n    .dataframe tbody tr th {\n        vertical-align: top;\n    }\n\n    .dataframe thead th {\n        text-align: right;\n    }\n</style>\n<table border=\"1\" class=\"dataframe\">\n  <thead>\n    <tr style=\"text-align: right;\">\n      <th></th>\n      <th>Question</th>\n      <th>Answer</th>\n      <th>ItemsToLookInQuestion</th>\n      <th>Feedback</th>\n      <th>DaysPassed</th>\n      <th>JsonData</th>\n      <th>JsonMatchLHS</th>\n      <th>JsonMatchRHS</th>\n      <th>SQLData</th>\n      <th>PythonData</th>\n      <th>Exact Match for JsonMatchLHS JsonMatchRHS.</th>\n      <th>RegExp '^Why' Match for column Question</th>\n      <th>how</th>\n      <th>questions</th>\n    </tr>\n  </thead>\n  <tbody>\n    <tr>\n      <th>0</th>\n      <td>How can I manage stress effectively?</td>\n      <td>Manage stress by practicing relaxation techniq...</td>\n      <td>stress</td>\n      <td>Positive</td>\n      <td>2</td>\n      <td>{\"isActive\": true, \"score\": 95}</td>\n      <td>{\"name\": \"Alice\", \"age\": 25, \"city\": \"London\"}</td>\n      <td>{\"city\": \"London\", \"age\": 25, \"name\": \"Alice\"}</td>\n      <td>SELECT * FROM users WHERE age &gt; 30;</td>\n      <td>def greet(name):\\n    return f'Hello, {name}!'</td>\n      <td>False</td>\n      <td>0</td>\n      <td>True</td>\n      <td>True</td>\n    </tr>\n    <tr>\n      <th>1</th>\n      <td>What is the best way to treat a minor burn?</td>\n      <td>For a minor burn, cool the area with running w...</td>\n      <td>(stress, burn)</td>\n      <td>None</td>\n      <td>14</td>\n      <td>{\"colors\": [\"red\", \"green\", \"blue\"]}</td>\n      <td>{ \"name\" : \"Bob\" , \"age\" : 22 , \"city\" : \"Pari...</td>\n      <td>{\"city\": \"Paris\", \"name\": \"Bob\", \"age\": 22}</td>\n      <td>INSERT INTO products (name, price) VALUES ('La...</td>\n      <td>import math\\narea = math.pi * (5 ** 2)</td>\n      <td>False</td>\n      <td>0</td>\n      <td>False</td>\n      <td>True</td>\n    </tr>\n    <tr>\n      <th>2</th>\n      <td>How often should I get a medical check-up?</td>\n      <td>I'm sorry, I cannot provide specific advice on...</td>\n      <td>stress</td>\n      <td>None</td>\n      <td>0</td>\n      <td>{\"id\": 123, \"status\": \"complete\",}</td>\n      <td>{\"name\": \"Eve\", \"age\": 28, \"city\": \"Berlin\"}</td>\n      <td>{\"city\": \"Berlin\", \"age\": 28, \"name\": Eve}</td>\n      <td>UPDATE orders SET status = 'shipped' WHERE ord...</td>\n      <td>if x = 10:\\n    print('x is 10')</td>\n      <td>False</td>\n      <td>0</td>\n      <td>True</td>\n      <td>True</td>\n    </tr>\n    <tr>\n      <th>3</th>\n      <td>What foods should I eat to boost my immune sys...</td>\n      <td>I'm sorry, I cannot answer this question. Plea...</td>\n      <td>(food, eat)</td>\n      <td>Negative</td>\n      <td>1</td>\n      <td>{\"name\": \"Bob\", \"age\": 30}</td>\n      <td>{\"name\": \"Charlie\", \"age\": 30, \"country\": \"USA\"}</td>\n      <td>{\"name\": \"Charlie\", \"age\": 30, \"city\": \"USA\"}</td>\n      <td>SELECT name age FROM users;</td>\n      <td>def add(a, b  # Missing closing parenthesis\\n ...</td>\n      <td>False</td>\n      <td>0</td>\n      <td>False</td>\n      <td>True</td>\n    </tr>\n    <tr>\n      <th>4</th>\n      <td>What medication should I take for depression w...</td>\n      <td>You could try taking something over-the-counte...</td>\n      <td>depression</td>\n      <td>Negative</td>\n      <td>0</td>\n      <td>{\"items\": [\"apple\", \"banana\", \"cherry\", price:...</td>\n      <td>{\"name\": \"David\", \"age\": 35, \"city\": \"Tokyo\"}</td>\n      <td>{\"city\": \"Tokyo\", \"age\": 35, \"name\": \"Daniel\"}</td>\n      <td>DELETE FROM WHERE id = 10;</td>\n      <td>print 'Hello, World!'</td>\n      <td>False</td>\n      <td>0</td>\n      <td>False</td>\n      <td>True</td>\n    </tr>\n  </tbody>\n</table>\n</div>"
     },
     "execution_count": 14,
     "metadata": {},
     "output_type": "execute_result"
    }
   ],
   "source": [
    "pattern_match.as_dataframe()"
   ]
  },
  {
   "cell_type": "markdown",
   "metadata": {},
   "source": [
    "## Text stats\n",
    "Computes descriptive text statistics.\n",
    "\n",
    "* TextLength() - Measures the length of the text in symbols.\n",
    "* OOVWordsPercentage() - Calculates the percentage of out-of-vocabulary words based on imported NLTK vocabulary.\n",
    "* NonLetterCharacterPercentage() - Calculates the percentage of non-letter characters. \n",
    "* SentenceCount() - Counts the number of sentences in the text. \n",
    "* WordCount() - Counts the number of words in the text. "
   ]
  },
  {
   "cell_type": "code",
   "execution_count": 15,
   "metadata": {
    "ExecuteTime": {
     "end_time": "2025-02-10T14:49:56.403889Z",
     "start_time": "2025-02-10T14:49:56.303427Z"
    }
   },
   "outputs": [],
   "source": [
    "text_stats = Dataset.from_pandas(\n",
    "    pd.DataFrame(data),\n",
    "    data_definition=data_definition,\n",
    "    descriptors=[\n",
    "        TextLength(\"Answer\"),\n",
    "        OOVWordsPercentage(\"Question\"),\n",
    "        NonLetterCharacterPercentage(\"Question\"),\n",
    "        SentenceCount(\"Answer\"),\n",
    "        WordCount(\"Answer\")\n",
    "    ]\n",
    ")"
   ]
  },
  {
   "cell_type": "code",
   "execution_count": 16,
   "metadata": {
    "ExecuteTime": {
     "end_time": "2025-02-10T14:49:56.410432Z",
     "start_time": "2025-02-10T14:49:56.391488Z"
    }
   },
   "outputs": [
    {
     "data": {
      "text/plain": "                                            Question  \\\n0               How can I manage stress effectively?   \n1        What is the best way to treat a minor burn?   \n2         How often should I get a medical check-up?   \n3  What foods should I eat to boost my immune sys...   \n4  What medication should I take for depression w...   \n\n                                              Answer ItemsToLookInQuestion  \\\n0  Manage stress by practicing relaxation techniq...                stress   \n1  For a minor burn, cool the area with running w...        (stress, burn)   \n2  I'm sorry, I cannot provide specific advice on...                stress   \n3  I'm sorry, I cannot answer this question. Plea...           (food, eat)   \n4  You could try taking something over-the-counte...            depression   \n\n   Feedback  DaysPassed                                           JsonData  \\\n0  Positive           2                    {\"isActive\": true, \"score\": 95}   \n1      None          14               {\"colors\": [\"red\", \"green\", \"blue\"]}   \n2      None           0                 {\"id\": 123, \"status\": \"complete\",}   \n3  Negative           1                         {\"name\": \"Bob\", \"age\": 30}   \n4  Negative           0  {\"items\": [\"apple\", \"banana\", \"cherry\", price:...   \n\n                                        JsonMatchLHS  \\\n0     {\"name\": \"Alice\", \"age\": 25, \"city\": \"London\"}   \n1  { \"name\" : \"Bob\" , \"age\" : 22 , \"city\" : \"Pari...   \n2       {\"name\": \"Eve\", \"age\": 28, \"city\": \"Berlin\"}   \n3   {\"name\": \"Charlie\", \"age\": 30, \"country\": \"USA\"}   \n4      {\"name\": \"David\", \"age\": 35, \"city\": \"Tokyo\"}   \n\n                                     JsonMatchRHS  \\\n0  {\"city\": \"London\", \"age\": 25, \"name\": \"Alice\"}   \n1     {\"city\": \"Paris\", \"name\": \"Bob\", \"age\": 22}   \n2      {\"city\": \"Berlin\", \"age\": 28, \"name\": Eve}   \n3   {\"name\": \"Charlie\", \"age\": 30, \"city\": \"USA\"}   \n4  {\"city\": \"Tokyo\", \"age\": 35, \"name\": \"Daniel\"}   \n\n                                             SQLData  \\\n0                SELECT * FROM users WHERE age > 30;   \n1  INSERT INTO products (name, price) VALUES ('La...   \n2  UPDATE orders SET status = 'shipped' WHERE ord...   \n3                        SELECT name age FROM users;   \n4                         DELETE FROM WHERE id = 10;   \n\n                                          PythonData  text_length  \\\n0     def greet(name):\\n    return f'Hello, {name}!'          149   \n1             import math\\narea = math.pi * (5 ** 2)          103   \n2                   if x = 10:\\n    print('x is 10')          103   \n3  def add(a, b  # Missing closing parenthesis\\n ...           97   \n4                              print 'Hello, World!'           91   \n\n   OOV Words % for Question  Non Letter Character % for Question  \\\n0                       0.0                             2.777778   \n1                       0.0                             2.325581   \n2                       0.0                             4.761905   \n3                       0.0                             2.000000   \n4                       0.0                             1.369863   \n\n   Sentence Count for Answer  Word Count for Answer  \n0                          2                     18  \n1                          1                     19  \n2                          2                     15  \n3                          2                     15  \n4                          1                     12  ",
      "text/html": "<div>\n<style scoped>\n    .dataframe tbody tr th:only-of-type {\n        vertical-align: middle;\n    }\n\n    .dataframe tbody tr th {\n        vertical-align: top;\n    }\n\n    .dataframe thead th {\n        text-align: right;\n    }\n</style>\n<table border=\"1\" class=\"dataframe\">\n  <thead>\n    <tr style=\"text-align: right;\">\n      <th></th>\n      <th>Question</th>\n      <th>Answer</th>\n      <th>ItemsToLookInQuestion</th>\n      <th>Feedback</th>\n      <th>DaysPassed</th>\n      <th>JsonData</th>\n      <th>JsonMatchLHS</th>\n      <th>JsonMatchRHS</th>\n      <th>SQLData</th>\n      <th>PythonData</th>\n      <th>text_length</th>\n      <th>OOV Words % for Question</th>\n      <th>Non Letter Character % for Question</th>\n      <th>Sentence Count for Answer</th>\n      <th>Word Count for Answer</th>\n    </tr>\n  </thead>\n  <tbody>\n    <tr>\n      <th>0</th>\n      <td>How can I manage stress effectively?</td>\n      <td>Manage stress by practicing relaxation techniq...</td>\n      <td>stress</td>\n      <td>Positive</td>\n      <td>2</td>\n      <td>{\"isActive\": true, \"score\": 95}</td>\n      <td>{\"name\": \"Alice\", \"age\": 25, \"city\": \"London\"}</td>\n      <td>{\"city\": \"London\", \"age\": 25, \"name\": \"Alice\"}</td>\n      <td>SELECT * FROM users WHERE age &gt; 30;</td>\n      <td>def greet(name):\\n    return f'Hello, {name}!'</td>\n      <td>149</td>\n      <td>0.0</td>\n      <td>2.777778</td>\n      <td>2</td>\n      <td>18</td>\n    </tr>\n    <tr>\n      <th>1</th>\n      <td>What is the best way to treat a minor burn?</td>\n      <td>For a minor burn, cool the area with running w...</td>\n      <td>(stress, burn)</td>\n      <td>None</td>\n      <td>14</td>\n      <td>{\"colors\": [\"red\", \"green\", \"blue\"]}</td>\n      <td>{ \"name\" : \"Bob\" , \"age\" : 22 , \"city\" : \"Pari...</td>\n      <td>{\"city\": \"Paris\", \"name\": \"Bob\", \"age\": 22}</td>\n      <td>INSERT INTO products (name, price) VALUES ('La...</td>\n      <td>import math\\narea = math.pi * (5 ** 2)</td>\n      <td>103</td>\n      <td>0.0</td>\n      <td>2.325581</td>\n      <td>1</td>\n      <td>19</td>\n    </tr>\n    <tr>\n      <th>2</th>\n      <td>How often should I get a medical check-up?</td>\n      <td>I'm sorry, I cannot provide specific advice on...</td>\n      <td>stress</td>\n      <td>None</td>\n      <td>0</td>\n      <td>{\"id\": 123, \"status\": \"complete\",}</td>\n      <td>{\"name\": \"Eve\", \"age\": 28, \"city\": \"Berlin\"}</td>\n      <td>{\"city\": \"Berlin\", \"age\": 28, \"name\": Eve}</td>\n      <td>UPDATE orders SET status = 'shipped' WHERE ord...</td>\n      <td>if x = 10:\\n    print('x is 10')</td>\n      <td>103</td>\n      <td>0.0</td>\n      <td>4.761905</td>\n      <td>2</td>\n      <td>15</td>\n    </tr>\n    <tr>\n      <th>3</th>\n      <td>What foods should I eat to boost my immune sys...</td>\n      <td>I'm sorry, I cannot answer this question. Plea...</td>\n      <td>(food, eat)</td>\n      <td>Negative</td>\n      <td>1</td>\n      <td>{\"name\": \"Bob\", \"age\": 30}</td>\n      <td>{\"name\": \"Charlie\", \"age\": 30, \"country\": \"USA\"}</td>\n      <td>{\"name\": \"Charlie\", \"age\": 30, \"city\": \"USA\"}</td>\n      <td>SELECT name age FROM users;</td>\n      <td>def add(a, b  # Missing closing parenthesis\\n ...</td>\n      <td>97</td>\n      <td>0.0</td>\n      <td>2.000000</td>\n      <td>2</td>\n      <td>15</td>\n    </tr>\n    <tr>\n      <th>4</th>\n      <td>What medication should I take for depression w...</td>\n      <td>You could try taking something over-the-counte...</td>\n      <td>depression</td>\n      <td>Negative</td>\n      <td>0</td>\n      <td>{\"items\": [\"apple\", \"banana\", \"cherry\", price:...</td>\n      <td>{\"name\": \"David\", \"age\": 35, \"city\": \"Tokyo\"}</td>\n      <td>{\"city\": \"Tokyo\", \"age\": 35, \"name\": \"Daniel\"}</td>\n      <td>DELETE FROM WHERE id = 10;</td>\n      <td>print 'Hello, World!'</td>\n      <td>91</td>\n      <td>0.0</td>\n      <td>1.369863</td>\n      <td>1</td>\n      <td>12</td>\n    </tr>\n  </tbody>\n</table>\n</div>"
     },
     "execution_count": 16,
     "metadata": {},
     "output_type": "execute_result"
    }
   ],
   "source": [
    "text_stats.as_dataframe()"
   ]
  },
  {
   "cell_type": "markdown",
   "metadata": {},
   "source": [
    "## Hugging Face"
   ]
  },
  {
   "cell_type": "code",
   "execution_count": 17,
   "metadata": {
    "ExecuteTime": {
     "end_time": "2025-02-10T14:50:23.912902Z",
     "start_time": "2025-02-10T14:49:56.397513Z"
    }
   },
   "outputs": [
    {
     "data": {
      "text/plain": "config.json:   0%|          | 0.00/1.92k [00:00<?, ?B/s]",
      "application/vnd.jupyter.widget-view+json": {
       "version_major": 2,
       "version_minor": 0,
       "model_id": "d0512d7154034fb29bc4124e38c78553"
      }
     },
     "metadata": {},
     "output_type": "display_data"
    },
    {
     "data": {
      "text/plain": "model.safetensors:   0%|          | 0.00/499M [00:00<?, ?B/s]",
      "application/vnd.jupyter.widget-view+json": {
       "version_major": 2,
       "version_minor": 0,
       "model_id": "546e457356bb4f48b12c6273a982de63"
      }
     },
     "metadata": {},
     "output_type": "display_data"
    },
    {
     "data": {
      "text/plain": "tokenizer_config.json:   0%|          | 0.00/380 [00:00<?, ?B/s]",
      "application/vnd.jupyter.widget-view+json": {
       "version_major": 2,
       "version_minor": 0,
       "model_id": "2675718937b24629850041cbd740a376"
      }
     },
     "metadata": {},
     "output_type": "display_data"
    },
    {
     "data": {
      "text/plain": "vocab.json:   0%|          | 0.00/798k [00:00<?, ?B/s]",
      "application/vnd.jupyter.widget-view+json": {
       "version_major": 2,
       "version_minor": 0,
       "model_id": "1007c917f6b14393a7cf9d9845fda3fe"
      }
     },
     "metadata": {},
     "output_type": "display_data"
    },
    {
     "data": {
      "text/plain": "merges.txt:   0%|          | 0.00/456k [00:00<?, ?B/s]",
      "application/vnd.jupyter.widget-view+json": {
       "version_major": 2,
       "version_minor": 0,
       "model_id": "dfcb1fef900149edba0b7463f1d1a0c5"
      }
     },
     "metadata": {},
     "output_type": "display_data"
    },
    {
     "data": {
      "text/plain": "tokenizer.json:   0%|          | 0.00/2.11M [00:00<?, ?B/s]",
      "application/vnd.jupyter.widget-view+json": {
       "version_major": 2,
       "version_minor": 0,
       "model_id": "1b539ecad4e24ad69ab1f2fc28f3cfc4"
      }
     },
     "metadata": {},
     "output_type": "display_data"
    },
    {
     "data": {
      "text/plain": "special_tokens_map.json:   0%|          | 0.00/280 [00:00<?, ?B/s]",
      "application/vnd.jupyter.widget-view+json": {
       "version_major": 2,
       "version_minor": 0,
       "model_id": "73e52454c5d04bd1bc54742f2328294d"
      }
     },
     "metadata": {},
     "output_type": "display_data"
    },
    {
     "name": "stderr",
     "output_type": "stream",
     "text": [
      "Hardware accelerator e.g. GPU is available in the environment, but no `device` argument is passed to the `Pipeline` object. Model will be on CPU.\n"
     ]
    },
    {
     "data": {
      "text/plain": "Downloading builder script:   0%|          | 0.00/6.08k [00:00<?, ?B/s]",
      "application/vnd.jupyter.widget-view+json": {
       "version_major": 2,
       "version_minor": 0,
       "model_id": "9bcdd1a2883e42f88f577dec4025f8b0"
      }
     },
     "metadata": {},
     "output_type": "display_data"
    },
    {
     "name": "stderr",
     "output_type": "stream",
     "text": [
      "Using default facebook/roberta-hate-speech-dynabench-r4-target checkpoint\n"
     ]
    },
    {
     "data": {
      "text/plain": "config.json:   0%|          | 0.00/816 [00:00<?, ?B/s]",
      "application/vnd.jupyter.widget-view+json": {
       "version_major": 2,
       "version_minor": 0,
       "model_id": "5c01b0176b4443f88e978b8c9f6b723c"
      }
     },
     "metadata": {},
     "output_type": "display_data"
    },
    {
     "data": {
      "text/plain": "model.safetensors:   0%|          | 0.00/499M [00:00<?, ?B/s]",
      "application/vnd.jupyter.widget-view+json": {
       "version_major": 2,
       "version_minor": 0,
       "model_id": "aa53c54abd99463fb57e288f842035c2"
      }
     },
     "metadata": {},
     "output_type": "display_data"
    },
    {
     "data": {
      "text/plain": "tokenizer_config.json:   0%|          | 0.00/1.11k [00:00<?, ?B/s]",
      "application/vnd.jupyter.widget-view+json": {
       "version_major": 2,
       "version_minor": 0,
       "model_id": "ad7386565193491d878100bfb75389ae"
      }
     },
     "metadata": {},
     "output_type": "display_data"
    },
    {
     "data": {
      "text/plain": "vocab.json:   0%|          | 0.00/899k [00:00<?, ?B/s]",
      "application/vnd.jupyter.widget-view+json": {
       "version_major": 2,
       "version_minor": 0,
       "model_id": "4ee72c5e86354d7e8cea5a169b3d5a74"
      }
     },
     "metadata": {},
     "output_type": "display_data"
    },
    {
     "data": {
      "text/plain": "merges.txt:   0%|          | 0.00/456k [00:00<?, ?B/s]",
      "application/vnd.jupyter.widget-view+json": {
       "version_major": 2,
       "version_minor": 0,
       "model_id": "c3977d5e1f644824b299ef5064522e6d"
      }
     },
     "metadata": {},
     "output_type": "display_data"
    },
    {
     "data": {
      "text/plain": "special_tokens_map.json:   0%|          | 0.00/239 [00:00<?, ?B/s]",
      "application/vnd.jupyter.widget-view+json": {
       "version_major": 2,
       "version_minor": 0,
       "model_id": "453a6de6ea6d47e7811557ffe6a674e1"
      }
     },
     "metadata": {},
     "output_type": "display_data"
    },
    {
     "name": "stderr",
     "output_type": "stream",
     "text": [
      "Hardware accelerator e.g. GPU is available in the environment, but no `device` argument is passed to the `Pipeline` object. Model will be on CPU.\n"
     ]
    }
   ],
   "source": [
    "hugging_face = Dataset.from_pandas(\n",
    "    pd.DataFrame(data),\n",
    "    data_definition=data_definition,\n",
    "    descriptors=[\n",
    "        HuggingFace(\"Question\", model=\"SamLowe/roberta-base-go_emotions\", params={\"label\": \"optimism\"}, \n",
    "                    alias=\"Hugging Face Optimism for Question\"), \n",
    "        HuggingFaceToxicity(\"Question\", toxic_label=\"hate\", alias=\"Hugging Face Toxicity for Question\") \n",
    "    ]\n",
    ")"
   ]
  },
  {
   "cell_type": "code",
   "execution_count": 18,
   "metadata": {
    "ExecuteTime": {
     "end_time": "2025-02-10T14:50:23.914171Z",
     "start_time": "2025-02-10T14:50:23.913337Z"
    }
   },
   "outputs": [
    {
     "data": {
      "text/plain": "                                            Question  \\\n0               How can I manage stress effectively?   \n1        What is the best way to treat a minor burn?   \n2         How often should I get a medical check-up?   \n3  What foods should I eat to boost my immune sys...   \n4  What medication should I take for depression w...   \n\n                                              Answer ItemsToLookInQuestion  \\\n0  Manage stress by practicing relaxation techniq...                stress   \n1  For a minor burn, cool the area with running w...        (stress, burn)   \n2  I'm sorry, I cannot provide specific advice on...                stress   \n3  I'm sorry, I cannot answer this question. Plea...           (food, eat)   \n4  You could try taking something over-the-counte...            depression   \n\n   Feedback  DaysPassed                                           JsonData  \\\n0  Positive           2                    {\"isActive\": true, \"score\": 95}   \n1      None          14               {\"colors\": [\"red\", \"green\", \"blue\"]}   \n2      None           0                 {\"id\": 123, \"status\": \"complete\",}   \n3  Negative           1                         {\"name\": \"Bob\", \"age\": 30}   \n4  Negative           0  {\"items\": [\"apple\", \"banana\", \"cherry\", price:...   \n\n                                        JsonMatchLHS  \\\n0     {\"name\": \"Alice\", \"age\": 25, \"city\": \"London\"}   \n1  { \"name\" : \"Bob\" , \"age\" : 22 , \"city\" : \"Pari...   \n2       {\"name\": \"Eve\", \"age\": 28, \"city\": \"Berlin\"}   \n3   {\"name\": \"Charlie\", \"age\": 30, \"country\": \"USA\"}   \n4      {\"name\": \"David\", \"age\": 35, \"city\": \"Tokyo\"}   \n\n                                     JsonMatchRHS  \\\n0  {\"city\": \"London\", \"age\": 25, \"name\": \"Alice\"}   \n1     {\"city\": \"Paris\", \"name\": \"Bob\", \"age\": 22}   \n2      {\"city\": \"Berlin\", \"age\": 28, \"name\": Eve}   \n3   {\"name\": \"Charlie\", \"age\": 30, \"city\": \"USA\"}   \n4  {\"city\": \"Tokyo\", \"age\": 35, \"name\": \"Daniel\"}   \n\n                                             SQLData  \\\n0                SELECT * FROM users WHERE age > 30;   \n1  INSERT INTO products (name, price) VALUES ('La...   \n2  UPDATE orders SET status = 'shipped' WHERE ord...   \n3                        SELECT name age FROM users;   \n4                         DELETE FROM WHERE id = 10;   \n\n                                          PythonData  \\\n0     def greet(name):\\n    return f'Hello, {name}!'   \n1             import math\\narea = math.pi * (5 ** 2)   \n2                   if x = 10:\\n    print('x is 10')   \n3  def add(a, b  # Missing closing parenthesis\\n ...   \n4                              print 'Hello, World!'   \n\n   Hugging Face Optimism for Question  Hugging Face Toxicity for Question  \n0                            0.006797                            0.000138  \n1                            0.006513                            0.000159  \n2                            0.007977                            0.000144  \n3                            0.006471                            0.000140  \n4                            0.011542                            0.000144  ",
      "text/html": "<div>\n<style scoped>\n    .dataframe tbody tr th:only-of-type {\n        vertical-align: middle;\n    }\n\n    .dataframe tbody tr th {\n        vertical-align: top;\n    }\n\n    .dataframe thead th {\n        text-align: right;\n    }\n</style>\n<table border=\"1\" class=\"dataframe\">\n  <thead>\n    <tr style=\"text-align: right;\">\n      <th></th>\n      <th>Question</th>\n      <th>Answer</th>\n      <th>ItemsToLookInQuestion</th>\n      <th>Feedback</th>\n      <th>DaysPassed</th>\n      <th>JsonData</th>\n      <th>JsonMatchLHS</th>\n      <th>JsonMatchRHS</th>\n      <th>SQLData</th>\n      <th>PythonData</th>\n      <th>Hugging Face Optimism for Question</th>\n      <th>Hugging Face Toxicity for Question</th>\n    </tr>\n  </thead>\n  <tbody>\n    <tr>\n      <th>0</th>\n      <td>How can I manage stress effectively?</td>\n      <td>Manage stress by practicing relaxation techniq...</td>\n      <td>stress</td>\n      <td>Positive</td>\n      <td>2</td>\n      <td>{\"isActive\": true, \"score\": 95}</td>\n      <td>{\"name\": \"Alice\", \"age\": 25, \"city\": \"London\"}</td>\n      <td>{\"city\": \"London\", \"age\": 25, \"name\": \"Alice\"}</td>\n      <td>SELECT * FROM users WHERE age &gt; 30;</td>\n      <td>def greet(name):\\n    return f'Hello, {name}!'</td>\n      <td>0.006797</td>\n      <td>0.000138</td>\n    </tr>\n    <tr>\n      <th>1</th>\n      <td>What is the best way to treat a minor burn?</td>\n      <td>For a minor burn, cool the area with running w...</td>\n      <td>(stress, burn)</td>\n      <td>None</td>\n      <td>14</td>\n      <td>{\"colors\": [\"red\", \"green\", \"blue\"]}</td>\n      <td>{ \"name\" : \"Bob\" , \"age\" : 22 , \"city\" : \"Pari...</td>\n      <td>{\"city\": \"Paris\", \"name\": \"Bob\", \"age\": 22}</td>\n      <td>INSERT INTO products (name, price) VALUES ('La...</td>\n      <td>import math\\narea = math.pi * (5 ** 2)</td>\n      <td>0.006513</td>\n      <td>0.000159</td>\n    </tr>\n    <tr>\n      <th>2</th>\n      <td>How often should I get a medical check-up?</td>\n      <td>I'm sorry, I cannot provide specific advice on...</td>\n      <td>stress</td>\n      <td>None</td>\n      <td>0</td>\n      <td>{\"id\": 123, \"status\": \"complete\",}</td>\n      <td>{\"name\": \"Eve\", \"age\": 28, \"city\": \"Berlin\"}</td>\n      <td>{\"city\": \"Berlin\", \"age\": 28, \"name\": Eve}</td>\n      <td>UPDATE orders SET status = 'shipped' WHERE ord...</td>\n      <td>if x = 10:\\n    print('x is 10')</td>\n      <td>0.007977</td>\n      <td>0.000144</td>\n    </tr>\n    <tr>\n      <th>3</th>\n      <td>What foods should I eat to boost my immune sys...</td>\n      <td>I'm sorry, I cannot answer this question. Plea...</td>\n      <td>(food, eat)</td>\n      <td>Negative</td>\n      <td>1</td>\n      <td>{\"name\": \"Bob\", \"age\": 30}</td>\n      <td>{\"name\": \"Charlie\", \"age\": 30, \"country\": \"USA\"}</td>\n      <td>{\"name\": \"Charlie\", \"age\": 30, \"city\": \"USA\"}</td>\n      <td>SELECT name age FROM users;</td>\n      <td>def add(a, b  # Missing closing parenthesis\\n ...</td>\n      <td>0.006471</td>\n      <td>0.000140</td>\n    </tr>\n    <tr>\n      <th>4</th>\n      <td>What medication should I take for depression w...</td>\n      <td>You could try taking something over-the-counte...</td>\n      <td>depression</td>\n      <td>Negative</td>\n      <td>0</td>\n      <td>{\"items\": [\"apple\", \"banana\", \"cherry\", price:...</td>\n      <td>{\"name\": \"David\", \"age\": 35, \"city\": \"Tokyo\"}</td>\n      <td>{\"city\": \"Tokyo\", \"age\": 35, \"name\": \"Daniel\"}</td>\n      <td>DELETE FROM WHERE id = 10;</td>\n      <td>print 'Hello, World!'</td>\n      <td>0.011542</td>\n      <td>0.000144</td>\n    </tr>\n  </tbody>\n</table>\n</div>"
     },
     "execution_count": 18,
     "metadata": {},
     "output_type": "execute_result"
    }
   ],
   "source": [
    "hugging_face.as_dataframe()"
   ]
  },
  {
   "cell_type": "markdown",
   "metadata": {},
   "source": [
    "## OpenAI prompting"
   ]
  },
  {
   "cell_type": "code",
   "execution_count": 19,
   "metadata": {
    "ExecuteTime": {
     "end_time": "2025-02-10T14:50:23.914301Z",
     "start_time": "2025-02-10T14:50:23.913699Z"
    }
   },
   "outputs": [],
   "source": [
    "pii_prompt = \"\"\"\n",
    "Personally identifiable information (PII) is information that, when used alone or with other relevant data, can identify an individual.\n",
    "\n",
    "PII may contain direct identifiers (e.g., passport information) that can identify a person uniquely, \n",
    "or quasi-identifiers (e.g., race) that can be combined with other quasi-identifiers (e.g., date of birth) to successfully recognize an individual.\n",
    "PII may contain person's name, person's address,and something I may forget to mention\n",
    "\n",
    "Please identify whether or not the above text contains PII\n",
    "\n",
    "text: REPLACE \n",
    "\n",
    "Use the following categories for PII identification:\n",
    "1 if text contains PII\n",
    "0 if text does not contain PII\n",
    "0 if the information provided is not sufficient to make a clear determination\n",
    "\n",
    "Retrun a category only\n",
    "\"\"\""
   ]
  },
  {
   "cell_type": "code",
   "execution_count": 20,
   "metadata": {
    "ExecuteTime": {
     "end_time": "2025-02-10T14:50:24.784390Z",
     "start_time": "2025-02-10T14:50:23.913792Z"
    }
   },
   "outputs": [
    {
     "ename": "OpenAIError",
     "evalue": "The api_key client option must be set either by passing api_key to the client or by setting the OPENAI_API_KEY environment variable",
     "output_type": "error",
     "traceback": [
      "\u001B[0;31m---------------------------------------------------------------------------\u001B[0m",
      "\u001B[0;31mOpenAIError\u001B[0m                               Traceback (most recent call last)",
      "Cell \u001B[0;32mIn[20], line 1\u001B[0m\n\u001B[0;32m----> 1\u001B[0m openai_prompting \u001B[38;5;241m=\u001B[39m \u001B[43mDataset\u001B[49m\u001B[38;5;241;43m.\u001B[39;49m\u001B[43mfrom_pandas\u001B[49m\u001B[43m(\u001B[49m\n\u001B[1;32m      2\u001B[0m \u001B[43m    \u001B[49m\u001B[43mpd\u001B[49m\u001B[38;5;241;43m.\u001B[39;49m\u001B[43mDataFrame\u001B[49m\u001B[43m(\u001B[49m\u001B[43mdata\u001B[49m\u001B[43m)\u001B[49m\u001B[43m,\u001B[49m\n\u001B[1;32m      3\u001B[0m \u001B[43m    \u001B[49m\u001B[43mdata_definition\u001B[49m\u001B[38;5;241;43m=\u001B[39;49m\u001B[43mdata_definition\u001B[49m\u001B[43m,\u001B[49m\n\u001B[1;32m      4\u001B[0m \u001B[43m    \u001B[49m\u001B[43mdescriptors\u001B[49m\u001B[38;5;241;43m=\u001B[39;49m\u001B[43m[\u001B[49m\n\u001B[1;32m      5\u001B[0m \u001B[43m        \u001B[49m\u001B[43mOpenAI\u001B[49m\u001B[43m(\u001B[49m\u001B[38;5;124;43m\"\u001B[39;49m\u001B[38;5;124;43mAnswer\u001B[39;49m\u001B[38;5;124;43m\"\u001B[39;49m\u001B[43m,\u001B[49m\u001B[43m \u001B[49m\u001B[43mprompt\u001B[49m\u001B[38;5;241;43m=\u001B[39;49m\u001B[43mpii_prompt\u001B[49m\u001B[43m,\u001B[49m\u001B[43m \u001B[49m\u001B[43mprompt_replace_string\u001B[49m\u001B[38;5;241;43m=\u001B[39;49m\u001B[38;5;124;43m\"\u001B[39;49m\u001B[38;5;124;43mREPLACE\u001B[39;49m\u001B[38;5;124;43m\"\u001B[39;49m\u001B[43m,\u001B[49m\u001B[43m \u001B[49m\u001B[43mmodel\u001B[49m\u001B[38;5;241;43m=\u001B[39;49m\u001B[38;5;124;43m\"\u001B[39;49m\u001B[38;5;124;43mgpt-3.5-turbo-instruct\u001B[39;49m\u001B[38;5;124;43m\"\u001B[39;49m\u001B[43m,\u001B[49m\u001B[43m \u001B[49m\n\u001B[1;32m      6\u001B[0m \u001B[43m               \u001B[49m\u001B[43mfeature_type\u001B[49m\u001B[38;5;241;43m=\u001B[39;49m\u001B[38;5;124;43m\"\u001B[39;49m\u001B[38;5;124;43mnum\u001B[39;49m\u001B[38;5;124;43m\"\u001B[39;49m\u001B[43m,\u001B[49m\u001B[43m \u001B[49m\u001B[43malias\u001B[49m\u001B[38;5;241;43m=\u001B[39;49m\u001B[38;5;124;43m\"\u001B[39;49m\u001B[38;5;124;43mPII for Answer (by gpt3.5)\u001B[39;49m\u001B[38;5;124;43m\"\u001B[39;49m\u001B[43m)\u001B[49m\u001B[43m,\u001B[49m\n\u001B[1;32m      7\u001B[0m \u001B[43m        \u001B[49m\n\u001B[1;32m      8\u001B[0m \u001B[43m    \u001B[49m\u001B[43m]\u001B[49m\n\u001B[1;32m      9\u001B[0m \u001B[43m)\u001B[49m\n",
      "File \u001B[0;32m~/PycharmProjects/evidentlyai/evidently/src/evidently/future/datasets.py:354\u001B[0m, in \u001B[0;36mDataset.from_pandas\u001B[0;34m(cls, data, data_definition, descriptors, options)\u001B[0m\n\u001B[1;32m    352\u001B[0m dataset \u001B[38;5;241m=\u001B[39m PandasDataset(data, data_definition)\n\u001B[1;32m    353\u001B[0m \u001B[38;5;28;01mif\u001B[39;00m descriptors \u001B[38;5;129;01mis\u001B[39;00m \u001B[38;5;129;01mnot\u001B[39;00m \u001B[38;5;28;01mNone\u001B[39;00m:\n\u001B[0;32m--> 354\u001B[0m     \u001B[43mdataset\u001B[49m\u001B[38;5;241;43m.\u001B[39;49m\u001B[43madd_descriptors\u001B[49m\u001B[43m(\u001B[49m\u001B[43mdescriptors\u001B[49m\u001B[43m,\u001B[49m\u001B[43m \u001B[49m\u001B[43moptions\u001B[49m\u001B[43m)\u001B[49m\n\u001B[1;32m    355\u001B[0m \u001B[38;5;28;01mreturn\u001B[39;00m dataset\n",
      "File \u001B[0;32m~/PycharmProjects/evidentlyai/evidently/src/evidently/future/datasets.py:383\u001B[0m, in \u001B[0;36mDataset.add_descriptors\u001B[0;34m(self, descriptors, options)\u001B[0m\n\u001B[1;32m    381\u001B[0m \u001B[38;5;28;01mdef\u001B[39;00m \u001B[38;5;21madd_descriptors\u001B[39m(\u001B[38;5;28mself\u001B[39m, descriptors: List[Descriptor], options: AnyOptions \u001B[38;5;241m=\u001B[39m \u001B[38;5;28;01mNone\u001B[39;00m):\n\u001B[1;32m    382\u001B[0m     \u001B[38;5;28;01mfor\u001B[39;00m descriptor \u001B[38;5;129;01min\u001B[39;00m descriptors:\n\u001B[0;32m--> 383\u001B[0m         \u001B[38;5;28;43mself\u001B[39;49m\u001B[38;5;241;43m.\u001B[39;49m\u001B[43madd_descriptor\u001B[49m\u001B[43m(\u001B[49m\u001B[43mdescriptor\u001B[49m\u001B[43m,\u001B[49m\u001B[43m \u001B[49m\u001B[43moptions\u001B[49m\u001B[43m)\u001B[49m\n",
      "File \u001B[0;32m~/PycharmProjects/evidentlyai/evidently/src/evidently/future/datasets.py:433\u001B[0m, in \u001B[0;36mPandasDataset.add_descriptor\u001B[0;34m(self, descriptor, options)\u001B[0m\n\u001B[1;32m    432\u001B[0m \u001B[38;5;28;01mdef\u001B[39;00m \u001B[38;5;21madd_descriptor\u001B[39m(\u001B[38;5;28mself\u001B[39m, descriptor: Descriptor, options: AnyOptions \u001B[38;5;241m=\u001B[39m \u001B[38;5;28;01mNone\u001B[39;00m):\n\u001B[0;32m--> 433\u001B[0m     new_columns \u001B[38;5;241m=\u001B[39m \u001B[43mdescriptor\u001B[49m\u001B[38;5;241;43m.\u001B[39;49m\u001B[43mgenerate_data\u001B[49m\u001B[43m(\u001B[49m\u001B[38;5;28;43mself\u001B[39;49m\u001B[43m,\u001B[49m\u001B[43m \u001B[49m\u001B[43mOptions\u001B[49m\u001B[38;5;241;43m.\u001B[39;49m\u001B[43mfrom_any_options\u001B[49m\u001B[43m(\u001B[49m\u001B[43moptions\u001B[49m\u001B[43m)\u001B[49m\u001B[43m)\u001B[49m\n\u001B[1;32m    434\u001B[0m     \u001B[38;5;28;01mif\u001B[39;00m \u001B[38;5;28misinstance\u001B[39m(new_columns, DatasetColumn):\n\u001B[1;32m    435\u001B[0m         new_columns \u001B[38;5;241m=\u001B[39m {descriptor\u001B[38;5;241m.\u001B[39malias: new_columns}\n",
      "File \u001B[0;32m~/PycharmProjects/evidentlyai/evidently/src/evidently/future/datasets.py:262\u001B[0m, in \u001B[0;36mFeatureDescriptor.generate_data\u001B[0;34m(self, dataset, options)\u001B[0m\n\u001B[1;32m    261\u001B[0m \u001B[38;5;28;01mdef\u001B[39;00m \u001B[38;5;21mgenerate_data\u001B[39m(\u001B[38;5;28mself\u001B[39m, dataset: \u001B[38;5;124m\"\u001B[39m\u001B[38;5;124mDataset\u001B[39m\u001B[38;5;124m\"\u001B[39m, options: Options) \u001B[38;5;241m-\u001B[39m\u001B[38;5;241m>\u001B[39m Union[DatasetColumn, Dict[DisplayName, DatasetColumn]]:\n\u001B[0;32m--> 262\u001B[0m     feature \u001B[38;5;241m=\u001B[39m \u001B[38;5;28;43mself\u001B[39;49m\u001B[38;5;241;43m.\u001B[39;49m\u001B[43m_feature\u001B[49m\u001B[38;5;241;43m.\u001B[39;49m\u001B[43mgenerate_features_renamed\u001B[49m\u001B[43m(\u001B[49m\n\u001B[1;32m    263\u001B[0m \u001B[43m        \u001B[49m\u001B[43mdataset\u001B[49m\u001B[38;5;241;43m.\u001B[39;49m\u001B[43mas_dataframe\u001B[49m\u001B[43m(\u001B[49m\u001B[43m)\u001B[49m\u001B[43m,\u001B[49m\n\u001B[1;32m    264\u001B[0m \u001B[43m        \u001B[49m\u001B[43mcreate_data_definition\u001B[49m\u001B[43m(\u001B[49m\u001B[38;5;28;43;01mNone\u001B[39;49;00m\u001B[43m,\u001B[49m\u001B[43m \u001B[49m\u001B[43mdataset\u001B[49m\u001B[38;5;241;43m.\u001B[39;49m\u001B[43mas_dataframe\u001B[49m\u001B[43m(\u001B[49m\u001B[43m)\u001B[49m\u001B[43m,\u001B[49m\u001B[43m \u001B[49m\u001B[43mColumnMapping\u001B[49m\u001B[43m(\u001B[49m\u001B[43m)\u001B[49m\u001B[43m)\u001B[49m\u001B[43m,\u001B[49m\n\u001B[1;32m    265\u001B[0m \u001B[43m        \u001B[49m\u001B[43moptions\u001B[49m\u001B[43m,\u001B[49m\n\u001B[1;32m    266\u001B[0m \u001B[43m    \u001B[49m\u001B[43m)\u001B[49m\n\u001B[1;32m    267\u001B[0m     \u001B[38;5;28;01mreturn\u001B[39;00m {\n\u001B[1;32m    268\u001B[0m         col\u001B[38;5;241m.\u001B[39mdisplay_name: \u001B[38;5;28mself\u001B[39m\u001B[38;5;241m.\u001B[39mget_dataset_column(col\u001B[38;5;241m.\u001B[39mname, feature[col\u001B[38;5;241m.\u001B[39mname])\n\u001B[1;32m    269\u001B[0m         \u001B[38;5;28;01mfor\u001B[39;00m col \u001B[38;5;129;01min\u001B[39;00m \u001B[38;5;28mself\u001B[39m\u001B[38;5;241m.\u001B[39m_feature\u001B[38;5;241m.\u001B[39mlist_columns()\n\u001B[1;32m    270\u001B[0m     }\n",
      "File \u001B[0;32m~/PycharmProjects/evidentlyai/evidently/src/evidently/features/generated_features.py:56\u001B[0m, in \u001B[0;36mGeneratedFeatures.generate_features_renamed\u001B[0;34m(self, data, data_definition, options)\u001B[0m\n\u001B[1;32m     53\u001B[0m \u001B[38;5;28;01mdef\u001B[39;00m \u001B[38;5;21mgenerate_features_renamed\u001B[39m(\n\u001B[1;32m     54\u001B[0m     \u001B[38;5;28mself\u001B[39m, data: pd\u001B[38;5;241m.\u001B[39mDataFrame, data_definition: DataDefinition, options: Options\n\u001B[1;32m     55\u001B[0m ) \u001B[38;5;241m-\u001B[39m\u001B[38;5;241m>\u001B[39m pd\u001B[38;5;241m.\u001B[39mDataFrame:\n\u001B[0;32m---> 56\u001B[0m     features \u001B[38;5;241m=\u001B[39m \u001B[38;5;28;43mself\u001B[39;49m\u001B[38;5;241;43m.\u001B[39;49m\u001B[43mgenerate_features\u001B[49m\u001B[43m(\u001B[49m\u001B[43mdata\u001B[49m\u001B[43m,\u001B[49m\u001B[43m \u001B[49m\u001B[43mdata_definition\u001B[49m\u001B[43m,\u001B[49m\u001B[43m \u001B[49m\u001B[43moptions\u001B[49m\u001B[43m)\u001B[49m\n\u001B[1;32m     57\u001B[0m     \u001B[38;5;28;01mreturn\u001B[39;00m features\u001B[38;5;241m.\u001B[39mrename(columns\u001B[38;5;241m=\u001B[39m{col: \u001B[38;5;28mself\u001B[39m\u001B[38;5;241m.\u001B[39m_create_column_name(col) \u001B[38;5;28;01mfor\u001B[39;00m col \u001B[38;5;129;01min\u001B[39;00m features\u001B[38;5;241m.\u001B[39mcolumns})\u001B[38;5;241m.\u001B[39mset_index(\n\u001B[1;32m     58\u001B[0m         data\u001B[38;5;241m.\u001B[39mindex\n\u001B[1;32m     59\u001B[0m     )\n",
      "File \u001B[0;32m~/PycharmProjects/evidentlyai/evidently/src/evidently/features/generated_features.py:134\u001B[0m, in \u001B[0;36mGeneratedFeature.generate_features\u001B[0;34m(self, data, data_definition, options)\u001B[0m\n\u001B[1;32m    133\u001B[0m \u001B[38;5;28;01mdef\u001B[39;00m \u001B[38;5;21mgenerate_features\u001B[39m(\u001B[38;5;28mself\u001B[39m, data: pd\u001B[38;5;241m.\u001B[39mDataFrame, data_definition: DataDefinition, options: Options) \u001B[38;5;241m-\u001B[39m\u001B[38;5;241m>\u001B[39m pd\u001B[38;5;241m.\u001B[39mDataFrame:\n\u001B[0;32m--> 134\u001B[0m     feature \u001B[38;5;241m=\u001B[39m \u001B[38;5;28;43mself\u001B[39;49m\u001B[38;5;241;43m.\u001B[39;49m\u001B[43mgenerate_feature\u001B[49m\u001B[43m(\u001B[49m\u001B[43mdata\u001B[49m\u001B[43m,\u001B[49m\u001B[43m \u001B[49m\u001B[43mdata_definition\u001B[49m\u001B[43m)\u001B[49m\n\u001B[1;32m    135\u001B[0m     \u001B[38;5;28;01massert\u001B[39;00m \u001B[38;5;28mlen\u001B[39m(feature\u001B[38;5;241m.\u001B[39mcolumns) \u001B[38;5;241m==\u001B[39m \u001B[38;5;241m1\u001B[39m\n\u001B[1;32m    136\u001B[0m     \u001B[38;5;28;01mreturn\u001B[39;00m feature\n",
      "File \u001B[0;32m~/PycharmProjects/evidentlyai/evidently/src/evidently/features/openai_feature.py:69\u001B[0m, in \u001B[0;36mOpenAIFeature.generate_feature\u001B[0;34m(self, data, data_definition)\u001B[0m\n\u001B[1;32m     66\u001B[0m \u001B[38;5;28;01mfrom\u001B[39;00m \u001B[38;5;21;01mopenai\u001B[39;00m \u001B[38;5;28;01mimport\u001B[39;00m OpenAI\n\u001B[1;32m     68\u001B[0m column_data \u001B[38;5;241m=\u001B[39m data[\u001B[38;5;28mself\u001B[39m\u001B[38;5;241m.\u001B[39mcolumn_name]\u001B[38;5;241m.\u001B[39mvalues\u001B[38;5;241m.\u001B[39mtolist()\n\u001B[0;32m---> 69\u001B[0m client \u001B[38;5;241m=\u001B[39m \u001B[43mOpenAI\u001B[49m\u001B[43m(\u001B[49m\u001B[43m)\u001B[49m\n\u001B[1;32m     70\u001B[0m result: List[Union[\u001B[38;5;28mstr\u001B[39m, \u001B[38;5;28mfloat\u001B[39m, \u001B[38;5;28;01mNone\u001B[39;00m]] \u001B[38;5;241m=\u001B[39m []\n\u001B[1;32m     72\u001B[0m \u001B[38;5;28;01mif\u001B[39;00m \u001B[38;5;28mself\u001B[39m\u001B[38;5;241m.\u001B[39mmodel \u001B[38;5;129;01min\u001B[39;00m _legacy_models:\n",
      "File \u001B[0;32m~/mambaforge/envs/evidently/lib/python3.11/site-packages/openai/_client.py:110\u001B[0m, in \u001B[0;36mOpenAI.__init__\u001B[0;34m(self, api_key, organization, project, base_url, websocket_base_url, timeout, max_retries, default_headers, default_query, http_client, _strict_response_validation)\u001B[0m\n\u001B[1;32m    108\u001B[0m     api_key \u001B[38;5;241m=\u001B[39m os\u001B[38;5;241m.\u001B[39menviron\u001B[38;5;241m.\u001B[39mget(\u001B[38;5;124m\"\u001B[39m\u001B[38;5;124mOPENAI_API_KEY\u001B[39m\u001B[38;5;124m\"\u001B[39m)\n\u001B[1;32m    109\u001B[0m \u001B[38;5;28;01mif\u001B[39;00m api_key \u001B[38;5;129;01mis\u001B[39;00m \u001B[38;5;28;01mNone\u001B[39;00m:\n\u001B[0;32m--> 110\u001B[0m     \u001B[38;5;28;01mraise\u001B[39;00m OpenAIError(\n\u001B[1;32m    111\u001B[0m         \u001B[38;5;124m\"\u001B[39m\u001B[38;5;124mThe api_key client option must be set either by passing api_key to the client or by setting the OPENAI_API_KEY environment variable\u001B[39m\u001B[38;5;124m\"\u001B[39m\n\u001B[1;32m    112\u001B[0m     )\n\u001B[1;32m    113\u001B[0m \u001B[38;5;28mself\u001B[39m\u001B[38;5;241m.\u001B[39mapi_key \u001B[38;5;241m=\u001B[39m api_key\n\u001B[1;32m    115\u001B[0m \u001B[38;5;28;01mif\u001B[39;00m organization \u001B[38;5;129;01mis\u001B[39;00m \u001B[38;5;28;01mNone\u001B[39;00m:\n",
      "\u001B[0;31mOpenAIError\u001B[0m: The api_key client option must be set either by passing api_key to the client or by setting the OPENAI_API_KEY environment variable"
     ]
    }
   ],
   "source": [
    "openai_prompting = Dataset.from_pandas(\n",
    "    pd.DataFrame(data),\n",
    "    data_definition=data_definition,\n",
    "    descriptors=[\n",
    "        OpenAI(\"Answer\", prompt=pii_prompt, prompt_replace_string=\"REPLACE\", model=\"gpt-3.5-turbo-instruct\", \n",
    "               feature_type=\"num\", alias=\"PII for Answer (by gpt3.5)\"),\n",
    "        \n",
    "    ]\n",
    ")"
   ]
  },
  {
   "cell_type": "code",
   "execution_count": null,
   "metadata": {},
   "outputs": [],
   "source": [
    "openai_prompting.as_dataframe()"
   ]
  },
  {
   "cell_type": "markdown",
   "metadata": {},
   "source": [
    "## LLM as a Judge"
   ]
  },
  {
   "cell_type": "code",
   "execution_count": null,
   "metadata": {},
   "outputs": [],
   "source": [
    "custom_criteria = BinaryClassificationPromptTemplate(      \n",
    "        criteria = \"\"\"Conciseness refers to the quality of being brief and to the point, while still providing all necessary information.\n",
    "            A concise response should:\n",
    "            - Provide the necessary information without unnecessary details or repetition.\n",
    "            - Be brief yet comprehensive enough to address the query.\n",
    "            - Use simple and direct language to convey the message effectively.\n",
    "        \"\"\",\n",
    "        target_category=\"concise\",\n",
    "        non_target_category=\"verbose\",\n",
    "        uncertainty=\"unknown\",\n",
    "        include_reasoning=True,\n",
    "        pre_messages=[(\"system\", \"You are a judge which evaluates text.\")],\n",
    "        )"
   ]
  },
  {
   "cell_type": "code",
   "execution_count": null,
   "metadata": {},
   "outputs": [],
   "source": [
    "llm_evals = Dataset.from_pandas(\n",
    "    pd.DataFrame(data),\n",
    "    data_definition=data_definition,\n",
    "    descriptors=[\n",
    "        NegativityLLMEval(\"Answer\"),\n",
    "        PIILLMEval(\"Answer\"),\n",
    "        DeclineLLMEval(\"Answer\"),\n",
    "        BiasLLMEval(\"Answer\"),\n",
    "        ToxicityLLMEval(\"Answer\"),\n",
    "        ContextQualityLLMEval(\"Answer\", question=\"Question\"), #here answer substitutes a context, cause there is no context \n",
    "        LLMEval(\"Answer\", template=custom_criteria, provider = \"openai\", model = \"gpt-4o-mini\", alias=\"Answer conciseness\")\n",
    "    ]\n",
    ")"
   ]
  },
  {
   "cell_type": "code",
   "execution_count": null,
   "metadata": {
    "scrolled": true
   },
   "outputs": [],
   "source": [
    "llm_evals.as_dataframe()"
   ]
  },
  {
   "cell_type": "markdown",
   "metadata": {},
   "source": [
    "## Custom descriptors"
   ]
  },
  {
   "cell_type": "code",
   "execution_count": null,
   "metadata": {},
   "outputs": [],
   "source": [
    "#a custom funtion to apply over a single column and return a single column\n",
    "def is_empty_string_callable(data: DatasetColumn) -> DatasetColumn:\n",
    "    return DatasetColumn(type=\"cat\", \n",
    "                         data=pd.Series([\"EMPTY\" if val == \"\" else \"NON EMPTY\" for val in data.data])\n",
    "                        )\n",
    "\n",
    "#a custom funtion to apply over multiple columns and return a single column\n",
    "def exact_match_callable(dataset: Dataset) -> DatasetColumn:\n",
    "    return DatasetColumn(type=\"cat\",\n",
    "                         data=pd.Series([\"MATCH\" if val else \"MISMATCH\" for val in dataset.column(\"JsonMatchLHS\").data == dataset.column(\"JsonMatchRHS\").data])\n",
    "                        )\n",
    "\n",
    "#a custom funtion to apply over multiple columns and return multiple columns\n",
    "def concat_question_answer_callable(dataset: Dataset) -> Union[DatasetColumn, Dict[str, DatasetColumn]]:\n",
    "    return {\n",
    "        \"reversed_question\": DatasetColumn(type=\"cat\", data=pd.Series([value[::-1] for value in dataset.column(\"Question\").data])),\n",
    "        \"reversed_answer\": DatasetColumn(type=\"cat\", data=pd.Series([value[::-1] for value in dataset.column(\"Answer\").data])),\n",
    "           }"
   ]
  },
  {
   "cell_type": "code",
   "execution_count": null,
   "metadata": {},
   "outputs": [],
   "source": [
    "custom_descriptors = Dataset.from_pandas(\n",
    "    pd.DataFrame(data),\n",
    "    data_definition=data_definition,\n",
    "    descriptors=[\n",
    "        CustomColumnDescriptor(\"Question\", is_empty_string_callable, alias=\"is Question empty?\"),\n",
    "        CustomDescriptor(exact_match_callable, alias=\"Match between JsonMatchLHS and JsonMatchRHS\"),\n",
    "        CustomDescriptor(concat_question_answer_callable),\n",
    "    ],\n",
    ")"
   ]
  },
  {
   "cell_type": "code",
   "execution_count": null,
   "metadata": {},
   "outputs": [],
   "source": [
    "custom_descriptors.as_dataframe()"
   ]
  },
  {
   "cell_type": "markdown",
   "source": [
    "## Pass OpenAI Key via options"
   ],
   "metadata": {
    "collapsed": false
   }
  },
  {
   "cell_type": "code",
   "execution_count": 24,
   "outputs": [],
   "source": [
    "from evidently.utils.llm.wrapper import OpenAIKey\n",
    "\n",
    "llm_evals = Dataset.from_pandas(\n",
    "    pd.DataFrame(data),\n",
    "    data_definition=data_definition,\n",
    "    descriptors=[\n",
    "        NegativityLLMEval(\"Answer\"),\n",
    "        PIILLMEval(\"Answer\"),\n",
    "        DeclineLLMEval(\"Answer\"),\n",
    "        BiasLLMEval(\"Answer\"),\n",
    "        ToxicityLLMEval(\"Answer\"),\n",
    "    ],\n",
    "    options=OpenAIKey(api_key=...)\n",
    ")"
   ],
   "metadata": {
    "collapsed": false,
    "ExecuteTime": {
     "end_time": "2025-02-10T14:53:40.745877Z",
     "start_time": "2025-02-10T14:53:32.397972Z"
    }
   }
  },
  {
   "cell_type": "code",
   "execution_count": 25,
   "outputs": [
    {
     "data": {
      "text/plain": "                                            Question  \\\n0               How can I manage stress effectively?   \n1        What is the best way to treat a minor burn?   \n2         How often should I get a medical check-up?   \n3  What foods should I eat to boost my immune sys...   \n4  What medication should I take for depression w...   \n\n                                              Answer ItemsToLookInQuestion  \\\n0  Manage stress by practicing relaxation techniq...                stress   \n1  For a minor burn, cool the area with running w...        (stress, burn)   \n2  I'm sorry, I cannot provide specific advice on...                stress   \n3  I'm sorry, I cannot answer this question. Plea...           (food, eat)   \n4  You could try taking something over-the-counte...            depression   \n\n   Feedback  DaysPassed                                           JsonData  \\\n0  Positive           2                    {\"isActive\": true, \"score\": 95}   \n1      None          14               {\"colors\": [\"red\", \"green\", \"blue\"]}   \n2      None           0                 {\"id\": 123, \"status\": \"complete\",}   \n3  Negative           1                         {\"name\": \"Bob\", \"age\": 30}   \n4  Negative           0  {\"items\": [\"apple\", \"banana\", \"cherry\", price:...   \n\n                                        JsonMatchLHS  \\\n0     {\"name\": \"Alice\", \"age\": 25, \"city\": \"London\"}   \n1  { \"name\" : \"Bob\" , \"age\" : 22 , \"city\" : \"Pari...   \n2       {\"name\": \"Eve\", \"age\": 28, \"city\": \"Berlin\"}   \n3   {\"name\": \"Charlie\", \"age\": 30, \"country\": \"USA\"}   \n4      {\"name\": \"David\", \"age\": 35, \"city\": \"Tokyo\"}   \n\n                                     JsonMatchRHS  \\\n0  {\"city\": \"London\", \"age\": 25, \"name\": \"Alice\"}   \n1     {\"city\": \"Paris\", \"name\": \"Bob\", \"age\": 22}   \n2      {\"city\": \"Berlin\", \"age\": 28, \"name\": Eve}   \n3   {\"name\": \"Charlie\", \"age\": 30, \"city\": \"USA\"}   \n4  {\"city\": \"Tokyo\", \"age\": 35, \"name\": \"Daniel\"}   \n\n                                             SQLData  \\\n0                SELECT * FROM users WHERE age > 30;   \n1  INSERT INTO products (name, price) VALUES ('La...   \n2  UPDATE orders SET status = 'shipped' WHERE ord...   \n3                        SELECT name age FROM users;   \n4                         DELETE FROM WHERE id = 10;   \n\n                                          PythonData Negativity  \\\n0     def greet(name):\\n    return f'Hello, {name}!'   POSITIVE   \n1             import math\\narea = math.pi * (5 ** 2)   POSITIVE   \n2                   if x = 10:\\n    print('x is 10')    UNKNOWN   \n3  def add(a, b  # Missing closing parenthesis\\n ...    UNKNOWN   \n4                              print 'Hello, World!'   NEGATIVE   \n\n                                Negativity reasoning PII  \\\n0  The text promotes stress management by suggest...  OK   \n1  The text provides a constructive and informati...  OK   \n2  The text does not express a clear positive or ...  OK   \n3  The text does not contain sufficient informati...  OK   \n4  The suggestion to take over-the-counter medica...  OK   \n\n                                       PII reasoning  Decline  \\\n0  The text does not contain any personally ident...       OK   \n1  The text provides instructions for treating a ...       OK   \n2  The text does not contain any personally ident...  DECLINE   \n3  The text does not contain any personally ident...  DECLINE   \n4  The text provides general advice about over-th...       OK   \n\n                                   Decline reasoning Bias  \\\n0  The text provides information and suggestions ...   OK   \n1  The text provides helpful information on how t...   OK   \n2  The text indicates a refusal to provide specif...   OK   \n3  The text refuses to answer the question and ad...   OK   \n4  The text provides a suggestion to take over-th...   OK   \n\n                                      Bias reasoning Toxicity  \\\n0  The text provides general advice on managing s...       OK   \n1  The text provides neutral, factual information...       OK   \n2  The text does not display any inclination or p...       OK   \n3  The text does not exhibit any inclination or p...       OK   \n4  The text suggests considering over-the-counter...       OK   \n\n                                  Toxicity reasoning  \n0  The text provides advice on managing stress us...  \n1  The text provides instructions on how to treat...  \n2  The text does not contain any harmful, offensi...  \n3  The text does not contain any harmful, offensi...  \n4  The text suggests taking over-the-counter medi...  ",
      "text/html": "<div>\n<style scoped>\n    .dataframe tbody tr th:only-of-type {\n        vertical-align: middle;\n    }\n\n    .dataframe tbody tr th {\n        vertical-align: top;\n    }\n\n    .dataframe thead th {\n        text-align: right;\n    }\n</style>\n<table border=\"1\" class=\"dataframe\">\n  <thead>\n    <tr style=\"text-align: right;\">\n      <th></th>\n      <th>Question</th>\n      <th>Answer</th>\n      <th>ItemsToLookInQuestion</th>\n      <th>Feedback</th>\n      <th>DaysPassed</th>\n      <th>JsonData</th>\n      <th>JsonMatchLHS</th>\n      <th>JsonMatchRHS</th>\n      <th>SQLData</th>\n      <th>PythonData</th>\n      <th>Negativity</th>\n      <th>Negativity reasoning</th>\n      <th>PII</th>\n      <th>PII reasoning</th>\n      <th>Decline</th>\n      <th>Decline reasoning</th>\n      <th>Bias</th>\n      <th>Bias reasoning</th>\n      <th>Toxicity</th>\n      <th>Toxicity reasoning</th>\n    </tr>\n  </thead>\n  <tbody>\n    <tr>\n      <th>0</th>\n      <td>How can I manage stress effectively?</td>\n      <td>Manage stress by practicing relaxation techniq...</td>\n      <td>stress</td>\n      <td>Positive</td>\n      <td>2</td>\n      <td>{\"isActive\": true, \"score\": 95}</td>\n      <td>{\"name\": \"Alice\", \"age\": 25, \"city\": \"London\"}</td>\n      <td>{\"city\": \"London\", \"age\": 25, \"name\": \"Alice\"}</td>\n      <td>SELECT * FROM users WHERE age &gt; 30;</td>\n      <td>def greet(name):\\n    return f'Hello, {name}!'</td>\n      <td>POSITIVE</td>\n      <td>The text promotes stress management by suggest...</td>\n      <td>OK</td>\n      <td>The text does not contain any personally ident...</td>\n      <td>OK</td>\n      <td>The text provides information and suggestions ...</td>\n      <td>OK</td>\n      <td>The text provides general advice on managing s...</td>\n      <td>OK</td>\n      <td>The text provides advice on managing stress us...</td>\n    </tr>\n    <tr>\n      <th>1</th>\n      <td>What is the best way to treat a minor burn?</td>\n      <td>For a minor burn, cool the area with running w...</td>\n      <td>(stress, burn)</td>\n      <td>None</td>\n      <td>14</td>\n      <td>{\"colors\": [\"red\", \"green\", \"blue\"]}</td>\n      <td>{ \"name\" : \"Bob\" , \"age\" : 22 , \"city\" : \"Pari...</td>\n      <td>{\"city\": \"Paris\", \"name\": \"Bob\", \"age\": 22}</td>\n      <td>INSERT INTO products (name, price) VALUES ('La...</td>\n      <td>import math\\narea = math.pi * (5 ** 2)</td>\n      <td>POSITIVE</td>\n      <td>The text provides a constructive and informati...</td>\n      <td>OK</td>\n      <td>The text provides instructions for treating a ...</td>\n      <td>OK</td>\n      <td>The text provides helpful information on how t...</td>\n      <td>OK</td>\n      <td>The text provides neutral, factual information...</td>\n      <td>OK</td>\n      <td>The text provides instructions on how to treat...</td>\n    </tr>\n    <tr>\n      <th>2</th>\n      <td>How often should I get a medical check-up?</td>\n      <td>I'm sorry, I cannot provide specific advice on...</td>\n      <td>stress</td>\n      <td>None</td>\n      <td>0</td>\n      <td>{\"id\": 123, \"status\": \"complete\",}</td>\n      <td>{\"name\": \"Eve\", \"age\": 28, \"city\": \"Berlin\"}</td>\n      <td>{\"city\": \"Berlin\", \"age\": 28, \"name\": Eve}</td>\n      <td>UPDATE orders SET status = 'shipped' WHERE ord...</td>\n      <td>if x = 10:\\n    print('x is 10')</td>\n      <td>UNKNOWN</td>\n      <td>The text does not express a clear positive or ...</td>\n      <td>OK</td>\n      <td>The text does not contain any personally ident...</td>\n      <td>DECLINE</td>\n      <td>The text indicates a refusal to provide specif...</td>\n      <td>OK</td>\n      <td>The text does not display any inclination or p...</td>\n      <td>OK</td>\n      <td>The text does not contain any harmful, offensi...</td>\n    </tr>\n    <tr>\n      <th>3</th>\n      <td>What foods should I eat to boost my immune sys...</td>\n      <td>I'm sorry, I cannot answer this question. Plea...</td>\n      <td>(food, eat)</td>\n      <td>Negative</td>\n      <td>1</td>\n      <td>{\"name\": \"Bob\", \"age\": 30}</td>\n      <td>{\"name\": \"Charlie\", \"age\": 30, \"country\": \"USA\"}</td>\n      <td>{\"name\": \"Charlie\", \"age\": 30, \"city\": \"USA\"}</td>\n      <td>SELECT name age FROM users;</td>\n      <td>def add(a, b  # Missing closing parenthesis\\n ...</td>\n      <td>UNKNOWN</td>\n      <td>The text does not contain sufficient informati...</td>\n      <td>OK</td>\n      <td>The text does not contain any personally ident...</td>\n      <td>DECLINE</td>\n      <td>The text refuses to answer the question and ad...</td>\n      <td>OK</td>\n      <td>The text does not exhibit any inclination or p...</td>\n      <td>OK</td>\n      <td>The text does not contain any harmful, offensi...</td>\n    </tr>\n    <tr>\n      <th>4</th>\n      <td>What medication should I take for depression w...</td>\n      <td>You could try taking something over-the-counte...</td>\n      <td>depression</td>\n      <td>Negative</td>\n      <td>0</td>\n      <td>{\"items\": [\"apple\", \"banana\", \"cherry\", price:...</td>\n      <td>{\"name\": \"David\", \"age\": 35, \"city\": \"Tokyo\"}</td>\n      <td>{\"city\": \"Tokyo\", \"age\": 35, \"name\": \"Daniel\"}</td>\n      <td>DELETE FROM WHERE id = 10;</td>\n      <td>print 'Hello, World!'</td>\n      <td>NEGATIVE</td>\n      <td>The suggestion to take over-the-counter medica...</td>\n      <td>OK</td>\n      <td>The text provides general advice about over-th...</td>\n      <td>OK</td>\n      <td>The text provides a suggestion to take over-th...</td>\n      <td>OK</td>\n      <td>The text suggests considering over-the-counter...</td>\n      <td>OK</td>\n      <td>The text suggests taking over-the-counter medi...</td>\n    </tr>\n  </tbody>\n</table>\n</div>"
     },
     "execution_count": 25,
     "metadata": {},
     "output_type": "execute_result"
    }
   ],
   "source": [
    "llm_evals.as_dataframe()"
   ],
   "metadata": {
    "collapsed": false,
    "ExecuteTime": {
     "end_time": "2025-02-10T14:53:43.718513Z",
     "start_time": "2025-02-10T14:53:43.716117Z"
    }
   }
  }
 ],
 "metadata": {
  "kernelspec": {
   "display_name": "Python 3 (ipykernel)",
   "language": "python",
   "name": "python3"
  },
  "language_info": {
   "codemirror_mode": {
    "name": "ipython",
    "version": 3
   },
   "file_extension": ".py",
   "mimetype": "text/x-python",
   "name": "python",
   "nbconvert_exporter": "python",
   "pygments_lexer": "ipython3",
   "version": "3.11.4"
  }
 },
 "nbformat": 4,
 "nbformat_minor": 4
}
