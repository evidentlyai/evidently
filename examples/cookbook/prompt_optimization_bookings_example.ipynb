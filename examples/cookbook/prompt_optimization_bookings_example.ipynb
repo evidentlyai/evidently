{
 "cells": [
  {
   "cell_type": "markdown",
   "id": "ff47ac12",
   "metadata": {},
   "source": [
    "\n",
    "# 🧳 Prompt Optimization with Evidently: Bookings Query Classifier\n",
    "\n",
    "In this tutorial, we'll optimize a prompt for classifying different types of customer service queries (like Booking, Payment, or Technical issues) using an LLM classifier.\n",
    "\n",
    "---\n",
    "\n",
    "## ✅ What you'll learn:\n",
    "- How to load a dataset for LLM classification\n",
    "- How to define a multiclass classification prompt\n",
    "- How to run prompt optimization with Evidently\n",
    "- How to retrieve the best performing prompt\n"
   ]
  },
  {
   "cell_type": "code",
   "id": "97a9b37c",
   "metadata": {},
   "source": [
    "# Install packages if needed\n",
    "# !pip install evidently openai pandas"
   ],
   "outputs": [],
   "execution_count": null
  },
  {
   "cell_type": "code",
   "id": "f416c601",
   "metadata": {},
   "source": [
    "import pandas as pd\n",
    "\n",
    "from evidently import Dataset, DataDefinition, LLMClassification\n",
    "from evidently.descriptors import LLMJudge\n",
    "from evidently.llm.templates import MulticlassClassificationPromptTemplate\n",
    "from evidently.llm.optimization import PromptOptimizer"
   ],
   "outputs": [],
   "execution_count": null
  },
  {
   "cell_type": "markdown",
   "id": "f746075f",
   "metadata": {},
   "source": [
    "## 📥 Load Your Dataset"
   ]
  },
  {
   "cell_type": "code",
   "id": "12c9627b",
   "metadata": {},
   "source": [
    "data = pd.read_csv(\"../datasets/bookings.csv\")\n",
    "data.head()"
   ],
   "outputs": [],
   "execution_count": null
  },
  {
   "cell_type": "markdown",
   "id": "0ed36538",
   "metadata": {},
   "source": [
    "## 📖 Define Data Structure for Evidently"
   ]
  },
  {
   "cell_type": "code",
   "id": "fbd8d078",
   "metadata": {},
   "source": [
    "dd = DataDefinition(\n",
    "    text_columns=[\"query\"],\n",
    "    categorical_columns=[\"label\"],\n",
    "    llm=LLMClassification(input=\"query\", target=\"label\")\n",
    ")"
   ],
   "outputs": [],
   "execution_count": null
  },
  {
   "cell_type": "code",
   "id": "326db04f",
   "metadata": {},
   "source": "dataset = Dataset.from_pandas(data, data_definition=dd)",
   "outputs": [],
   "execution_count": null
  },
  {
   "cell_type": "markdown",
   "id": "dc5d1102",
   "metadata": {},
   "source": [
    "## 📝 Define a Multiclass Prompt and LLM Judge"
   ]
  },
  {
   "cell_type": "code",
   "id": "98bb2304",
   "metadata": {},
   "source": [
    "bad_prompt = \"Those are different types of queries.\"\n",
    "\n",
    "t = MulticlassClassificationPromptTemplate(\n",
    "    pre_messages=[(\"system\", \"You are classifying user queries.\")],\n",
    "    criteria=bad_prompt,\n",
    "    category_criteria={\n",
    "        \"Booking\": \"bookings\",\n",
    "        \"Technical\": \"technical questions\",\n",
    "        \"Policy\": \"questions about policies\",\n",
    "        \"Payment\": \"payment questions\",\n",
    "        \"Escalation\": \"escalation requests\"\n",
    "    },\n",
    "    uncertainty=\"unknown\",\n",
    "    include_reasoning=True,\n",
    ")\n",
    "\n",
    "judge = LLMJudge(\n",
    "    alias=\"bookings\",\n",
    "    provider=\"openai\",\n",
    "    model=\"gpt-4o-mini\",\n",
    "    input_column=\"query\",\n",
    "    template=t\n",
    ")"
   ],
   "outputs": [],
   "execution_count": null
  },
  {
   "cell_type": "markdown",
   "id": "ee25c3d8",
   "metadata": {},
   "source": [
    "## 🔍 Run the Prompt Optimizer"
   ]
  },
  {
   "cell_type": "code",
   "id": "f03ef9f6",
   "metadata": {
    "jupyter": {
     "is_executing": true
    }
   },
   "source": [
    "optimizer = PromptOptimizer(\"bookings_example\", strategy=\"feedback\")\n",
    "optimizer.set_input_dataset(dataset)\n",
    "await optimizer.run(judge, \"accuracy\")\n",
    "# sync version\n",
    "# optimizer.run(judge, \"accuracy\")"
   ],
   "outputs": [],
   "execution_count": null
  },
  {
   "cell_type": "markdown",
   "id": "24e61f14",
   "metadata": {},
   "source": [
    "## 🥇 View the Best Optimized Prompt"
   ]
  },
  {
   "cell_type": "code",
   "id": "cef78310",
   "metadata": {},
   "source": "print(optimizer.best_prompt())",
   "outputs": [],
   "execution_count": null
  }
 ],
 "metadata": {},
 "nbformat": 4,
 "nbformat_minor": 5
}
