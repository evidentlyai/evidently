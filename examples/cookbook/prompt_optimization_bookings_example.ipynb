{
 "cells": [
  {
   "cell_type": "markdown",
   "id": "ff47ac12",
   "metadata": {},
   "source": [
    "\n",
    "# 🧳 Prompt Optimization with Evidently: Bookings Query Classifier\n",
    "\n",
    "In this tutorial, we'll optimize a prompt for classifying different types of customer service queries (like Booking, Payment, or Technical issues) using an LLM classifier.\n",
    "\n",
    "---\n",
    "\n",
    "## ✅ What you'll learn:\n",
    "- How to load a dataset for LLM classification\n",
    "- How to define a multiclass classification prompt\n",
    "- How to run prompt optimization with Evidently\n",
    "- How to retrieve the best performing prompt\n"
   ]
  },
  {
   "cell_type": "code",
   "execution_count": null,
   "id": "97a9b37c",
   "metadata": {},
   "outputs": [],
   "source": [
    "# Install packages if needed\n",
    "# !pip install evidently openai pandas"
   ]
  },
  {
   "cell_type": "code",
   "execution_count": null,
   "id": "f416c601",
   "metadata": {},
   "outputs": [],
   "source": [
    "import pandas as pd\n",
    "\n",
    "from evidently import Dataset, DataDefinition, LLMClassification\n",
    "from evidently.descriptors import LLMEval\n",
    "from evidently.llm.templates import MulticlassClassificationPromptTemplate\n",
    "from evidently.llm.optimization import PromptOptimizer"
   ]
  },
  {
   "cell_type": "markdown",
   "id": "f746075f",
   "metadata": {},
   "source": [
    "## 📥 Load Your Dataset"
   ]
  },
  {
   "cell_type": "code",
   "execution_count": null,
   "id": "12c9627b",
   "metadata": {},
   "outputs": [],
   "source": [
    "data = pd.read_csv(\"../datasets/bookings.csv\")\n",
    "data.head()"
   ]
  },
  {
   "cell_type": "markdown",
   "id": "0ed36538",
   "metadata": {},
   "source": [
    "## 📖 Define Data Structure for Evidently"
   ]
  },
  {
   "cell_type": "code",
   "execution_count": null,
   "id": "fbd8d078",
   "metadata": {},
   "outputs": [],
   "source": [
    "dd = DataDefinition(\n",
    "    text_columns=[\"query\"],\n",
    "    categorical_columns=[\"label\"],\n",
    "    llm=LLMClassification(input=\"query\", target=\"label\")\n",
    ")"
   ]
  },
  {
   "cell_type": "code",
   "execution_count": null,
   "id": "326db04f",
   "metadata": {},
   "outputs": [],
   "source": [
    "dataset = Dataset.from_pandas(data, data_definition=dd)"
   ]
  },
  {
   "cell_type": "markdown",
   "id": "dc5d1102",
   "metadata": {},
   "source": [
    "## 📝 Define a Multiclass Prompt and LLM Judge"
   ]
  },
  {
   "cell_type": "code",
   "execution_count": null,
   "id": "98bb2304",
   "metadata": {},
   "outputs": [],
   "source": [
    "bad_prompt = \"Those are different types of queries.\"\n",
    "\n",
    "t = MulticlassClassificationPromptTemplate(\n",
    "    pre_messages=[(\"system\", \"You are classifying user queries.\")],\n",
    "    criteria=bad_prompt,\n",
    "    category_criteria={\n",
    "        \"Booking\": \"bookings\",\n",
    "        \"Technical\": \"technical questions\",\n",
    "        \"Policy\": \"questions about policies\",\n",
    "        \"Payment\": \"payment questions\",\n",
    "        \"Escalation\": \"escalation requests\"\n",
    "    },\n",
    "    uncertainty=\"unknown\",\n",
    "    include_reasoning=True,\n",
    ")\n",
    "\n",
    "judge = LLMEval(\n",
    "    alias=\"bookings\",\n",
    "    provider=\"openai\",\n",
    "    model=\"gpt-4o-mini\",\n",
    "    column_name=\"query\",\n",
    "    template=t\n",
    ")"
   ]
  },
  {
   "cell_type": "markdown",
   "id": "ee25c3d8",
   "metadata": {},
   "source": [
    "## 🔍 Run the Prompt Optimizer"
   ]
  },
  {
   "cell_type": "code",
   "execution_count": null,
   "id": "f03ef9f6",
   "metadata": {
    "jupyter": {
     "is_executing": true
    }
   },
   "outputs": [],
   "source": [
    "optimizer = PromptOptimizer(\"bookings_example\", strategy=\"feedback\")\n",
    "optimizer.set_input_dataset(dataset)\n",
    "await optimizer.arun(judge, \"accuracy\")\n",
    "# sync version\n",
    "# optimizer.run(judge, \"accuracy\")"
   ]
  },
  {
   "cell_type": "markdown",
   "id": "24e61f14",
   "metadata": {},
   "source": [
    "## 🥇 View the Best Optimized Prompt"
   ]
  },
  {
   "cell_type": "code",
   "execution_count": null,
   "id": "cef78310",
   "metadata": {},
   "outputs": [],
   "source": [
    "print(optimizer.best_prompt())"
   ]
  }
 ],
 "metadata": {
  "kernelspec": {
   "display_name": "Python 3 (ipykernel)",
   "language": "python",
   "name": "python3"
  },
  "language_info": {
   "codemirror_mode": {
    "name": "ipython",
    "version": 3
   },
   "file_extension": ".py",
   "mimetype": "text/x-python",
   "name": "python",
   "nbconvert_exporter": "python",
   "pygments_lexer": "ipython3",
   "version": "3.11.11"
  }
 },
 "nbformat": 4,
 "nbformat_minor": 5
}
