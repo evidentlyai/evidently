{
 "cells": [
  {
   "cell_type": "markdown",
   "id": "24d931ff71aaf87f",
   "metadata": {},
   "source": [
    "## Using custom python function as guard rail validator\n",
    "\n",
    "### Define function"
   ]
  },
  {
   "cell_type": "code",
   "execution_count": null,
   "id": "9fa07a8329fa5f1",
   "metadata": {
    "ExecuteTime": {
     "end_time": "2025-09-25T10:51:48.952064Z",
     "start_time": "2025-09-25T10:51:48.945182Z"
    }
   },
   "outputs": [],
   "source": [
    "from uuid import uuid4\n",
    "\n",
    "\n",
    "def my_validator(data: str) -> bool:\n",
    "    return len(data) <= 10\n",
    "\n",
    "\n",
    "def my_validator_2(data: str) -> bool:\n",
    "    return len(data) >= 10"
   ]
  },
  {
   "cell_type": "markdown",
   "id": "ea2d9c0c82c2b23c",
   "metadata": {},
   "source": [
    "### Using guard directly"
   ]
  },
  {
   "cell_type": "code",
   "execution_count": null,
   "id": "8f7972b38f64ff32",
   "metadata": {},
   "outputs": [],
   "source": [
    "from evidently.guardrails import PythonFunction\n",
    "\n",
    "def process(input: str) -> str:\n",
    "    PythonFunction(my_validator).validate(input)\n",
    "    return input"
   ]
  },
  {
   "cell_type": "code",
   "execution_count": null,
   "id": "e4459280bee12067",
   "metadata": {
    "ExecuteTime": {
     "end_time": "2025-09-23T10:23:52.078010Z",
     "start_time": "2025-09-23T10:23:52.072583Z"
    }
   },
   "outputs": [],
   "source": [
    "process(\"My text\")"
   ]
  },
  {
   "cell_type": "code",
   "execution_count": null,
   "id": "681c775a42b483e0",
   "metadata": {
    "ExecuteTime": {
     "end_time": "2025-09-23T10:12:06.837209Z",
     "start_time": "2025-09-23T10:12:06.831439Z"
    }
   },
   "outputs": [],
   "source": [
    "from evidently.guardrails import GuardException\n",
    "# try / catch is to prevent jupyter to fail cell\n",
    "\n",
    "try:\n",
    "    process(\"My tooooo long text\")\n",
    "except GuardException as e:\n",
    "    import traceback\n",
    "    traceback.print_exception(e)"
   ]
  },
  {
   "cell_type": "markdown",
   "id": "fe95cf4abf62311e",
   "metadata": {},
   "source": [
    "### Using guard with decorator"
   ]
  },
  {
   "cell_type": "code",
   "execution_count": null,
   "id": "148c7d663717fe9c",
   "metadata": {},
   "outputs": [],
   "source": [
    "from evidently.guardrails import guard\n",
    "from evidently.guardrails import PythonFunction"
   ]
  },
  {
   "cell_type": "code",
   "execution_count": null,
   "id": "8ac3cff71df01312",
   "metadata": {
    "ExecuteTime": {
     "end_time": "2025-09-25T10:51:53.886828Z",
     "start_time": "2025-09-25T10:51:53.882967Z"
    }
   },
   "outputs": [],
   "source": [
    "@guard(PythonFunction(my_validator), input_arg=\"data\")\n",
    "def process_with_decorator(data: str) -> str:\n",
    "    return data"
   ]
  },
  {
   "cell_type": "code",
   "execution_count": null,
   "id": "91e47c05f1e17292",
   "metadata": {
    "ExecuteTime": {
     "end_time": "2025-09-25T10:39:13.724263Z",
     "start_time": "2025-09-25T10:39:13.719710Z"
    }
   },
   "outputs": [],
   "source": [
    "@guard([PythonFunction(my_validator), PythonFunction(my_validator_2)], input_arg=\"data\")\n",
    "def process_with_decorator_and_multiple_guards(data: str) -> str:\n",
    "    return data"
   ]
  },
  {
   "cell_type": "code",
   "execution_count": null,
   "id": "4df322c4ab891bea",
   "metadata": {
    "ExecuteTime": {
     "end_time": "2025-09-25T10:39:13.862491Z",
     "start_time": "2025-09-25T10:39:13.858655Z"
    }
   },
   "outputs": [],
   "source": [
    "from evidently.guardrails import GuardException\n",
    "# try / catch is to prevent jupyter to fail cel\n",
    "\n",
    "val = process_with_decorator_and_multiple_guards(\"My text\")\n",
    "val"
   ]
  },
  {
   "cell_type": "markdown",
   "id": "918096c5df56d4a5",
   "metadata": {},
   "source": [
    "### Handle failed guard in code"
   ]
  },
  {
   "cell_type": "code",
   "execution_count": null,
   "id": "d8b9679264980af0",
   "metadata": {},
   "outputs": [],
   "source": [
    "from evidently.guardrails import GuardException\n",
    "from evidently.guardrails import PythonFunction\n",
    "\n",
    "def process_with_handle(input: str) -> str:\n",
    "    try:\n",
    "        PythonFunction(my_validator).validate(input)\n",
    "        return input\n",
    "    except GuardException as e:\n",
    "        return f\"Validation failed: {e}\""
   ]
  },
  {
   "cell_type": "code",
   "execution_count": null,
   "id": "74eda13969581359",
   "metadata": {
    "ExecuteTime": {
     "end_time": "2025-09-25T10:52:06.368581Z",
     "start_time": "2025-09-25T10:52:06.365139Z"
    }
   },
   "outputs": [],
   "source": [
    "process_with_handle(\"My tooooo long text\")"
   ]
  },
  {
   "cell_type": "markdown",
   "id": "fe487addd555ba51",
   "metadata": {},
   "source": [
    "## Examples of Guards"
   ]
  },
  {
   "cell_type": "markdown",
   "id": "864367fde901b98f",
   "metadata": {},
   "source": [
    "### PII Check"
   ]
  },
  {
   "cell_type": "code",
   "execution_count": null,
   "id": "5065ea2fa2a99932",
   "metadata": {},
   "outputs": [],
   "source": [
    "from evidently.guardrails import PIICheck\n",
    "\n",
    "\n",
    "PIICheck().validate(\"My address is Some city\")\n"
   ]
  },
  {
   "cell_type": "code",
   "execution_count": null,
   "id": "6f65501034d24830",
   "metadata": {
    "ExecuteTime": {
     "end_time": "2025-09-23T10:24:06.357573Z",
     "start_time": "2025-09-23T10:24:06.335662Z"
    }
   },
   "outputs": [],
   "source": [
    "from evidently.guardrails import PIICheck\n",
    "\n",
    "\n",
    "@guard(PIICheck())\n",
    "def process_with_pii(input: str) -> str:\n",
    "    return input"
   ]
  },
  {
   "cell_type": "code",
   "execution_count": null,
   "id": "2a1c889f758933ff",
   "metadata": {
    "ExecuteTime": {
     "end_time": "2025-09-25T10:51:58.688782Z",
     "start_time": "2025-09-25T10:51:58.684185Z"
    }
   },
   "outputs": [],
   "source": [
    "from evidently.guardrails.guards import ToxicityCheck, NegativityCheck\n",
    "\n",
    "\n",
    "@guard([ToxicityCheck(), NegativityCheck()])\n",
    "def process_with_toxicity_and_negativity(input: str) -> str:\n",
    "    return input"
   ]
  },
  {
   "cell_type": "code",
   "execution_count": null,
   "id": "ee7a1e6575635d92",
   "metadata": {
    "ExecuteTime": {
     "end_time": "2025-09-25T10:51:59.655324Z",
     "start_time": "2025-09-25T10:51:59.650281Z"
    }
   },
   "outputs": [],
   "source": [
    "def process(input: str) -> str:\n",
    "    data = process_with_pii(input)\n",
    "    return process_with_toxicity_and_negativity(data)"
   ]
  },
  {
   "cell_type": "code",
   "execution_count": null,
   "id": "c01dafc57fa1d6ff",
   "metadata": {
    "ExecuteTime": {
     "end_time": "2025-09-25T10:52:00.684146Z",
     "start_time": "2025-09-25T10:52:00.679998Z"
    }
   },
   "outputs": [],
   "source": [
    "messages = [\n",
    "    \"No PII data\",\n",
    "    \"My address is Some city\",\n",
    "    \"My SSN is 123\",\n",
    "    \"This is awful product\",\n",
    "]\n",
    "\n",
    "for message in messages:\n",
    "    try:\n",
    "        process(message)\n",
    "    except GuardException as e:\n",
    "        pass"
   ]
  },
  {
   "cell_type": "markdown",
   "id": "10709861f4dc3586",
   "metadata": {},
   "source": [
    "### Includes Words"
   ]
  },
  {
   "cell_type": "code",
   "execution_count": null,
   "id": "4449af4ac53486d9",
   "metadata": {},
   "outputs": [],
   "source": [
    "from evidently.guardrails import IncludesWords\n",
    "\n",
    "IncludesWords([\"word\"], mode=\"all\", lemmatize=True).validate(\"some words in text\")"
   ]
  },
  {
   "cell_type": "code",
   "execution_count": null,
   "id": "c70921c2b5318926",
   "metadata": {
    "ExecuteTime": {
     "end_time": "2025-08-26T09:00:36.350907Z",
     "start_time": "2025-08-26T09:00:34.695393Z"
    }
   },
   "outputs": [],
   "source": [
    "@guard(IncludesWords([\"word\"]))\n",
    "def process_with_includes(input: str) -> str:\n",
    "    return input"
   ]
  },
  {
   "cell_type": "code",
   "execution_count": null,
   "id": "296eb2c9401c4a50",
   "metadata": {},
   "outputs": [],
   "source": [
    "@guard(IncludesWords([\"word\"]))\n",
    "def process_with_includes(input: str) -> str:\n",
    "    return input"
   ]
  },
  {
   "cell_type": "code",
   "execution_count": null,
   "id": "9ccf628c-0b01-46f8-b3e2-5d9e846f57e2",
   "metadata": {},
   "outputs": [],
   "source": []
  }
 ],
 "metadata": {
  "kernelspec": {
   "display_name": "Python 3 (ipykernel)",
   "language": "python",
   "name": "python3"
  },
  "language_info": {
   "codemirror_mode": {
    "name": "ipython",
    "version": 3
   },
   "file_extension": ".py",
   "mimetype": "text/x-python",
   "name": "python",
   "nbconvert_exporter": "python",
   "pygments_lexer": "ipython3",
   "version": "3.11.11"
  }
 },
 "nbformat": 4,
 "nbformat_minor": 5
}
