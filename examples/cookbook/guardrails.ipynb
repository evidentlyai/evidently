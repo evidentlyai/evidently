{
 "cells": [
  {
   "metadata": {},
   "cell_type": "markdown",
   "source": [
    "## Using custom python function as guard rail validator\n",
    "\n",
    "### Define function"
   ],
   "id": "24d931ff71aaf87f"
  },
  {
   "metadata": {
    "ExecuteTime": {
     "end_time": "2025-08-21T08:31:05.363783Z",
     "start_time": "2025-08-21T08:31:05.360658Z"
    }
   },
   "cell_type": "code",
   "source": [
    "def my_validator(data: str) -> bool:\n",
    "    return len(data) <= 10"
   ],
   "id": "9fa07a8329fa5f1",
   "outputs": [],
   "execution_count": 2
  },
  {
   "metadata": {},
   "cell_type": "markdown",
   "source": "### Using guard directly",
   "id": "151543e2932046"
  },
  {
   "metadata": {
    "ExecuteTime": {
     "end_time": "2025-08-21T08:31:05.578058Z",
     "start_time": "2025-08-21T08:31:05.573171Z"
    }
   },
   "cell_type": "code",
   "source": [
    "from evidently.guardrails import PythonFunction\n",
    "\n",
    "def process(input: str) -> str:\n",
    "    PythonFunction(my_validator).validate(input)\n",
    "    return input"
   ],
   "id": "752a0d690663cd4f",
   "outputs": [],
   "execution_count": 3
  },
  {
   "metadata": {
    "ExecuteTime": {
     "end_time": "2025-08-21T08:31:05.591635Z",
     "start_time": "2025-08-21T08:31:05.585249Z"
    }
   },
   "cell_type": "code",
   "source": "process(\"My text\")",
   "id": "681c775a42b483e0",
   "outputs": [
    {
     "data": {
      "text/plain": [
       "'My text'"
      ]
     },
     "execution_count": 4,
     "metadata": {},
     "output_type": "execute_result"
    }
   ],
   "execution_count": 4
  },
  {
   "metadata": {
    "ExecuteTime": {
     "end_time": "2025-08-21T08:38:42.505256Z",
     "start_time": "2025-08-21T08:38:42.496327Z"
    }
   },
   "cell_type": "code",
   "source": [
    "from evidently.guardrails import GuardException\n",
    "# try / catch is to prevent jupyter to fail cell\n",
    "\n",
    "try:\n",
    "    process(\"My tooooo long text\")\n",
    "except GuardException as e:\n",
    "    import traceback\n",
    "    traceback.print_exception(e)"
   ],
   "id": "a9d1c782203a3f8e",
   "outputs": [
    {
     "name": "stderr",
     "output_type": "stream",
     "text": [
      "Traceback (most recent call last):\n",
      "  File \"C:\\Users\\v.morov\\AppData\\Local\\Temp\\ipykernel_49196\\2234650047.py\", line 4, in <module>\n",
      "    process(\"My tooooo long text\")\n",
      "    ~~~~~~~^^^^^^^^^^^^^^^^^^^^^^^\n",
      "  File \"C:\\Users\\v.morov\\AppData\\Local\\Temp\\ipykernel_49196\\1741774715.py\", line 2, in process\n",
      "    PythonFunction(my_validator).validate(input)\n",
      "    ~~~~~~~~~~~~~~~~~~~~~~~~~~~~~~~~~~~~~^^^^^^^\n",
      "  File \"C:\\Users\\v.morov\\projects\\evidently\\src\\evidently\\guardrails\\guards.py\", line 25, in validate\n",
      "    raise GuardException(f\"{self.function.__name__} validation failed\")\n",
      "evidently.guardrails.core.GuardException: my_validator validation failed\n"
     ]
    }
   ],
   "execution_count": 12
  },
  {
   "metadata": {},
   "cell_type": "markdown",
   "source": "### Using guard with decorator",
   "id": "c59f6b4a4a7b73cf"
  },
  {
   "metadata": {},
   "cell_type": "code",
   "outputs": [],
   "execution_count": null,
   "source": [
    "from evidently.guardrails import guard\n",
    "from evidently.guardrails import PythonFunction"
   ],
   "id": "8ac3cff71df01312"
  },
  {
   "metadata": {},
   "cell_type": "code",
   "outputs": [],
   "execution_count": null,
   "source": [
    "@guard(PythonFunction(my_validator), input_arg=\"data\")\n",
    "def process_with_decorator(data: str) -> str:\n",
    "    return data"
   ],
   "id": "91e47c05f1e17292"
  },
  {
   "metadata": {},
   "cell_type": "code",
   "outputs": [],
   "execution_count": null,
   "source": [
    "from evidently.guardrails import GuardException\n",
    "# try / catch is to prevent jupyter to fail cel\n",
    "\n",
    "try:\n",
    "    process_with_decorator(\"My tooooo long text\")\n",
    "except GuardException as e:\n",
    "    import traceback\n",
    "    traceback.print_exception(e)"
   ],
   "id": "e6394a842de0e1c9"
  },
  {
   "metadata": {},
   "cell_type": "markdown",
   "source": "### Handle failed guard in code",
   "id": "a493e6722c361a5"
  },
  {
   "metadata": {},
   "cell_type": "code",
   "outputs": [],
   "execution_count": null,
   "source": [
    "from evidently.guardrails import GuardException\n",
    "from evidently.guardrails import PythonFunction\n",
    "\n",
    "def process_with_handle(input: str) -> str:\n",
    "    try:\n",
    "        PythonFunction(my_validator).validate(input)\n",
    "        return input\n",
    "    except GuardException as e:\n",
    "        return f\"Validation failed: {e}\""
   ],
   "id": "74eda13969581359"
  },
  {
   "metadata": {
    "ExecuteTime": {
     "end_time": "2025-08-21T08:31:10.227818Z",
     "start_time": "2025-08-21T08:31:10.211005Z"
    }
   },
   "cell_type": "code",
   "source": "process_with_handle(\"My tooooo long text\")",
   "id": "40d520477e30cbb2",
   "outputs": [
    {
     "data": {
      "text/plain": [
       "'Validation failed: my_validator validation failed'"
      ]
     },
     "execution_count": 6,
     "metadata": {},
     "output_type": "execute_result"
    }
   ],
   "execution_count": 6
  }
 ],
 "metadata": {
  "kernelspec": {
   "display_name": "Python 3",
   "language": "python",
   "name": "python3"
  },
  "language_info": {
   "codemirror_mode": {
    "name": "ipython",
    "version": 2
   },
   "file_extension": ".py",
   "mimetype": "text/x-python",
   "name": "python",
   "nbconvert_exporter": "python",
   "pygments_lexer": "ipython2",
   "version": "2.7.6"
  }
 },
 "nbformat": 4,
 "nbformat_minor": 5
}
