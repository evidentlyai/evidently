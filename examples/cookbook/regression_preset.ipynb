{
 "cells": [
  {
   "cell_type": "markdown",
   "id": "6228a984-1d0d-4f09-9089-1d254089a166",
   "metadata": {},
   "source": [
    "# 📘 Tutorial: Using Evidently Regression Presets with Tests"
   ]
  },
  {
   "cell_type": "code",
   "execution_count": null,
   "id": "b26fe08a-8acd-4f72-a02f-e05e34c9cd41",
   "metadata": {},
   "outputs": [],
   "source": [
    "import pandas as pd\n",
    "from sklearn import datasets, model_selection, linear_model\n",
    "\n",
    "from evidently import Report, DataDefinition, Dataset, Regression\n",
    "from evidently.presets import RegressionDummyQuality, RegressionQuality, RegressionPreset\n",
    "from evidently.tests import lte, gte, lt, gt, is_in, not_in, eq, not_eq\n",
    "from evidently.core.metric_types import MeanStdMetricTests"
   ]
  },
  {
   "cell_type": "markdown",
   "id": "7f843068-db84-4b62-a1bc-cda2f7cfaec9",
   "metadata": {},
   "source": [
    "# Regression presets\n",
    "\n",
    "## 🧩 1. What Are Regression Presets?\n",
    "\n",
    "Evidently provides pre-defined “presets” for common testing scenarios in regression tasks. These presets help evaluate model behavior using curated sets of metrics and test conditions — so you can focus on insights, not boilerplate."
   ]
  },
  {
   "cell_type": "code",
   "execution_count": null,
   "id": "d8641a14-0f4c-4fad-b734-f6e1f4a769ba",
   "metadata": {},
   "outputs": [],
   "source": [
    "housing_data = datasets.fetch_california_housing(as_frame=True)"
   ]
  },
  {
   "cell_type": "code",
   "execution_count": null,
   "id": "411fe832-4ada-4215-8bfe-c17eb367fc80",
   "metadata": {},
   "outputs": [],
   "source": [
    "X_train, X_test, y_train, y_test = model_selection.train_test_split(housing_data.data, \n",
    "                                                                    housing_data.target, \n",
    "                                                                    test_size=0.4, \n",
    "                                                                    random_state=42)"
   ]
  },
  {
   "cell_type": "code",
   "execution_count": null,
   "id": "87c8ce45-dce7-48cd-925b-93d3a36cae32",
   "metadata": {},
   "outputs": [],
   "source": [
    "features = X_train.columns.to_list()"
   ]
  },
  {
   "cell_type": "code",
   "execution_count": null,
   "id": "15550d71-a648-4c37-9d45-dab268d8ce33",
   "metadata": {},
   "outputs": [],
   "source": [
    "model = linear_model.Ridge(random_state=42)"
   ]
  },
  {
   "cell_type": "code",
   "execution_count": null,
   "id": "4161ee73-2da8-4049-8ef8-ee32719dc754",
   "metadata": {},
   "outputs": [],
   "source": [
    "model.fit(X_train, y_train)"
   ]
  },
  {
   "cell_type": "code",
   "execution_count": null,
   "id": "179700e7-c799-41fa-9e45-a940ea875410",
   "metadata": {},
   "outputs": [],
   "source": [
    "preds_train = model.predict(X_train)\n",
    "preds_test = model.predict(X_test)"
   ]
  },
  {
   "cell_type": "code",
   "execution_count": null,
   "id": "e9ee4c15-e93f-46a6-adf2-074a7e30548b",
   "metadata": {},
   "outputs": [],
   "source": [
    "X_train['target'] = y_train\n",
    "X_train['prediction'] = preds_train"
   ]
  },
  {
   "cell_type": "code",
   "execution_count": null,
   "id": "d8cfef5c-4546-4f11-bae7-f3701ecd0ac1",
   "metadata": {},
   "outputs": [],
   "source": [
    "X_test['target'] = y_test\n",
    "X_test['prediction'] = preds_test"
   ]
  },
  {
   "cell_type": "code",
   "execution_count": null,
   "id": "ce98b770-e796-4b7b-a4fe-d3c0d3b70d20",
   "metadata": {},
   "outputs": [],
   "source": [
    "data_definition=DataDefinition(\n",
    "        regression=[Regression()], #or you can specify parameters Regression(target='target', prediction='prediction')\n",
    "        numerical_columns=features \n",
    "    )"
   ]
  },
  {
   "cell_type": "code",
   "execution_count": null,
   "id": "e77f67c1-141f-4f30-9cfb-6734d1bcc66a",
   "metadata": {},
   "outputs": [],
   "source": [
    "reference = Dataset.from_pandas(\n",
    "    pd.DataFrame(X_train),\n",
    "    data_definition=data_definition,\n",
    ")\n",
    "\n",
    "current = Dataset.from_pandas(\n",
    "    pd.DataFrame(X_test),\n",
    "    data_definition=data_definition,\n",
    ")"
   ]
  },
  {
   "cell_type": "markdown",
   "id": "6aaceaa0-cff9-4411-9c74-1728cdfcbe4f",
   "metadata": {},
   "source": [
    "## Regression preset"
   ]
  },
  {
   "cell_type": "code",
   "execution_count": null,
   "id": "a676eae1-7dd7-494c-9a63-51e42949f4f2",
   "metadata": {},
   "outputs": [],
   "source": [
    "regression_preset = Report(metrics=[\n",
    "    RegressionPreset()\n",
    "    ],\n",
    "    include_tests=True\n",
    ")"
   ]
  },
  {
   "cell_type": "code",
   "execution_count": null,
   "id": "44a6d7d3-361f-491a-bd32-d9c20a733f55",
   "metadata": {},
   "outputs": [],
   "source": [
    "regression_report_no_ref = regression_preset.run(reference_data=None, current_data=current)"
   ]
  },
  {
   "cell_type": "code",
   "execution_count": null,
   "id": "934dca48-2018-4f3f-8393-ebea66987113",
   "metadata": {},
   "outputs": [],
   "source": [
    "regression_report_no_ref"
   ]
  },
  {
   "cell_type": "code",
   "execution_count": null,
   "id": "6fbfc469-c5fb-49d6-8317-9766f9061cdb",
   "metadata": {},
   "outputs": [],
   "source": [
    "regression_report = regression_preset.run(reference_data=reference, current_data=current)"
   ]
  },
  {
   "cell_type": "code",
   "execution_count": null,
   "id": "256cb571-4688-4537-a5e3-b8aea6ce8612",
   "metadata": {},
   "outputs": [],
   "source": [
    "regression_report"
   ]
  },
  {
   "cell_type": "code",
   "execution_count": null,
   "id": "ce14f8a2-5d2f-461e-b0c8-89ab28dfeba5",
   "metadata": {},
   "outputs": [],
   "source": [
    "regression_preset = Report(metrics=[\n",
    "    RegressionPreset(\n",
    "        mae_tests=[lt(0.3)],\n",
    "        mean_error_tests=[gt(-0.2), lt(0.2)],\n",
    "        mape_tests=[lt(20)],\n",
    "        rmse_tests=[lt(0.3)],\n",
    "        abs_max_error_tests=[lt(10)],\n",
    "        r2score_tests=[gt(0.5)],\n",
    "    )\n",
    "])"
   ]
  },
  {
   "cell_type": "code",
   "execution_count": null,
   "id": "f50608f8-f777-4da1-88f6-95618a3073cb",
   "metadata": {},
   "outputs": [],
   "source": [
    "regression_report = regression_preset.run(reference_data=reference, current_data=current)"
   ]
  },
  {
   "cell_type": "code",
   "execution_count": null,
   "id": "60ff1b29-493a-48a0-bb82-f80fc2b525aa",
   "metadata": {},
   "outputs": [],
   "source": [
    "regression_report"
   ]
  },
  {
   "cell_type": "code",
   "execution_count": null,
   "id": "a99a97cd-6eb8-4a98-a06c-591a8b9d376e",
   "metadata": {},
   "outputs": [],
   "source": [
    "regression_preset = Report(metrics=[\n",
    "    RegressionPreset(\n",
    "        mae_tests=MeanStdMetricTests(mean=[lt(0.2)], std=[lt(0.4)]), \n",
    "        mean_error_tests=MeanStdMetricTests(mean=[lt(0.2)], std=[lt(0.4)]) \n",
    "    )\n",
    "])\n"
   ]
  },
  {
   "cell_type": "code",
   "execution_count": null,
   "id": "6ce26791-a717-42ee-9136-b955d79393f8",
   "metadata": {},
   "outputs": [],
   "source": [
    "regression_report = regression_preset.run(reference_data=reference, current_data=current)"
   ]
  },
  {
   "cell_type": "code",
   "execution_count": null,
   "id": "fb5c2be1-fde8-4bc9-bc9f-b59781536e6d",
   "metadata": {},
   "outputs": [],
   "source": [
    "regression_report"
   ]
  },
  {
   "cell_type": "markdown",
   "id": "6b55f5aa-bb7d-4a6a-8870-4cb3113b3ded",
   "metadata": {},
   "source": [
    "## Regression quality"
   ]
  },
  {
   "cell_type": "code",
   "execution_count": null,
   "id": "7e57ab4b-38cc-441e-ba39-f6ff8bc7adc6",
   "metadata": {},
   "outputs": [],
   "source": [
    "quality_preset = Report(metrics=[\n",
    "    RegressionQuality(),\n",
    "    ],\n",
    "    include_tests=True\n",
    ")"
   ]
  },
  {
   "cell_type": "code",
   "execution_count": null,
   "id": "dd20e035-22d6-4a15-bf53-f3426d051e63",
   "metadata": {},
   "outputs": [],
   "source": [
    "quality_report_no_ref = quality_preset.run(reference_data=None, current_data=current)"
   ]
  },
  {
   "cell_type": "code",
   "execution_count": null,
   "id": "2b70a6b2-f9e5-46e6-a394-27fa245fbbb4",
   "metadata": {},
   "outputs": [],
   "source": [
    "quality_report_no_ref"
   ]
  },
  {
   "cell_type": "code",
   "execution_count": null,
   "id": "3a45672c-96eb-4f51-8c48-b2d5e5e9b823",
   "metadata": {},
   "outputs": [],
   "source": [
    "quality_report = quality_preset.run(reference_data=reference, current_data=current)"
   ]
  },
  {
   "cell_type": "code",
   "execution_count": null,
   "id": "99ad6211-d5a5-4fd8-a1eb-10803eb553ad",
   "metadata": {},
   "outputs": [],
   "source": [
    "quality_report"
   ]
  },
  {
   "cell_type": "code",
   "execution_count": null,
   "id": "2821f30d-2465-44df-9ca5-ae1bcd8dbee7",
   "metadata": {},
   "outputs": [],
   "source": [
    "quality_preset = Report(metrics=[\n",
    "    RegressionQuality(\n",
    "        mean_error_tests=[lt(0.1)], \n",
    "        mae_tests=[lt(0.5)], \n",
    "        mape_tests=[lt(20)],\n",
    "        rmse_tests=[lt(0.5)],\n",
    "    )\n",
    "])"
   ]
  },
  {
   "cell_type": "code",
   "execution_count": null,
   "id": "372b4f8c-d15c-4847-9653-fe91c1e03b1c",
   "metadata": {},
   "outputs": [],
   "source": [
    "quality_report_with_metrics = quality_preset.run(reference_data=reference, current_data=current)"
   ]
  },
  {
   "cell_type": "code",
   "execution_count": null,
   "id": "91eb51fd-842a-4cad-bdab-9a8bdad1a75f",
   "metadata": {},
   "outputs": [],
   "source": [
    "quality_report_with_metrics"
   ]
  },
  {
   "cell_type": "code",
   "execution_count": null,
   "id": "8aebae45-4ed0-4302-b67b-239e2a65cadf",
   "metadata": {},
   "outputs": [],
   "source": [
    "quality_preset = Report(metrics=[\n",
    "    RegressionQuality(\n",
    "        mean_error_tests=MeanStdMetricTests(mean=[lt(0.2)], std=[lt(0.4)])\n",
    "    )\n",
    "])"
   ]
  },
  {
   "cell_type": "code",
   "execution_count": null,
   "id": "eaa97466-03a3-4612-a7be-9771a1fbe0d7",
   "metadata": {},
   "outputs": [],
   "source": [
    "quality_report_mean_std_tests = quality_preset.run(reference_data=reference, current_data=current)"
   ]
  },
  {
   "cell_type": "code",
   "execution_count": null,
   "id": "aa070e26-e89d-4630-889a-8377947e91e4",
   "metadata": {},
   "outputs": [],
   "source": [
    "quality_report_mean_std_tests"
   ]
  },
  {
   "cell_type": "markdown",
   "id": "b17c5555-9f56-4204-ad67-393a4305a546",
   "metadata": {},
   "source": [
    "## Regression dummy quality"
   ]
  },
  {
   "cell_type": "code",
   "execution_count": null,
   "id": "44e1672c-ef96-4b2c-af30-004947b60be3",
   "metadata": {},
   "outputs": [],
   "source": [
    "dummy_quality_preset = Report(metrics=[\n",
    "    RegressionDummyQuality(),\n",
    "    ],\n",
    "    include_tests=True\n",
    ")"
   ]
  },
  {
   "cell_type": "code",
   "execution_count": null,
   "id": "7abe022e-c1d2-41c7-9d84-872df1d9a61e",
   "metadata": {},
   "outputs": [],
   "source": [
    "dummy_quality_report_no_ref = dummy_quality_preset.run(reference_data=None, current_data=current)"
   ]
  },
  {
   "cell_type": "code",
   "execution_count": null,
   "id": "87df0dee-8b12-451c-af4e-3fef7a18e27c",
   "metadata": {},
   "outputs": [],
   "source": [
    "dummy_quality_report_no_ref"
   ]
  },
  {
   "cell_type": "code",
   "execution_count": null,
   "id": "99c8dd71-1331-485d-9220-b2e54f311ea9",
   "metadata": {},
   "outputs": [],
   "source": [
    "dummy_quality_report = dummy_quality_preset.run(reference_data=reference, current_data=current)"
   ]
  },
  {
   "cell_type": "code",
   "execution_count": null,
   "id": "9e6997c6-363d-4ef3-a753-ebd88d93ee8c",
   "metadata": {},
   "outputs": [],
   "source": [
    "dummy_quality_report"
   ]
  },
  {
   "cell_type": "code",
   "execution_count": null,
   "id": "cba79141-0cf0-453d-9433-a083da487512",
   "metadata": {},
   "outputs": [],
   "source": [
    "dummy_quality_preset = Report(metrics=[\n",
    "    RegressionDummyQuality(\n",
    "        mae_tests=[lt(0.5)], \n",
    "        mape_tests=[lt(20)],\n",
    "        rmse_tests=[lt(0.5)],\n",
    "        #max_error_test to be implemented\n",
    "    )],\n",
    ")"
   ]
  },
  {
   "cell_type": "code",
   "execution_count": null,
   "id": "194e8a0a-97b8-4796-ae71-b5841b788d65",
   "metadata": {},
   "outputs": [],
   "source": [
    "dummy_quality_report = dummy_quality_preset.run(reference_data=reference, current_data=current)"
   ]
  },
  {
   "cell_type": "code",
   "execution_count": null,
   "id": "d5e21ee3-713a-4917-ae4e-17267fb830f7",
   "metadata": {},
   "outputs": [],
   "source": [
    "dummy_quality_report"
   ]
  },
  {
   "cell_type": "code",
   "execution_count": null,
   "id": "9237a5bb-ac12-44dd-b553-511ccf7bd310",
   "metadata": {},
   "outputs": [],
   "source": []
  },
  {
   "cell_type": "code",
   "execution_count": null,
   "id": "8a977e76-8053-4376-b172-3bfd4741f4d2",
   "metadata": {},
   "outputs": [],
   "source": []
  }
 ],
 "metadata": {
  "kernelspec": {
   "display_name": "Python 3 (ipykernel)",
   "language": "python",
   "name": "python3"
  },
  "language_info": {
   "codemirror_mode": {
    "name": "ipython",
    "version": 3
   },
   "file_extension": ".py",
   "mimetype": "text/x-python",
   "name": "python",
   "nbconvert_exporter": "python",
   "pygments_lexer": "ipython3",
   "version": "3.11.11"
  }
 },
 "nbformat": 4,
 "nbformat_minor": 5
}
