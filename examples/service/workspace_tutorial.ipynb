{
 "cells": [
  {
   "cell_type": "markdown",
   "id": "ee4d750ab76dea3d",
   "metadata": {},
   "source": "# Evidently UI Tutorial"
  },
  {
   "cell_type": "markdown",
   "id": "5aca8ca20d65b7c8",
   "metadata": {},
   "source": [
    "## Working with Local Workspace\n",
    "\n",
    "First, let’s create a local workspace where all our Evidently projects and reports will be stored. This is essentially a directory to keep things organized.\n"
   ]
  },
  {
   "cell_type": "code",
   "id": "3969c5244c3176df",
   "metadata": {},
   "source": [
    "from evidently.ui.workspace import Workspace\n",
    "\n",
    "ws = Workspace.create(\"workspace\")"
   ],
   "outputs": [],
   "execution_count": null
  },
  {
   "cell_type": "markdown",
   "id": "6f0262924aa126b2",
   "metadata": {},
   "source": [
    "### Create a New Project\n",
    "\n",
    "Now, inside our workspace, we’ll create a new project. Projects in Evidently are containers for organizing related reports and monitoring runs.\n"
   ]
  },
  {
   "cell_type": "code",
   "id": "9e3d7284e749796d",
   "metadata": {},
   "source": [
    "project = ws.create_project(\"My Project\")\n",
    "project"
   ],
   "outputs": [],
   "execution_count": null
  },
  {
   "cell_type": "markdown",
   "id": "e975a32f58cc4b6d",
   "metadata": {},
   "source": [
    "this creates project dir in `workspace/{project.id}`\n",
    "\n",
    "### Working with projects\n",
    "\n",
    "`Workspace` has some methods to work with projects.\n",
    "\n",
    "For example, we can edit project to add a description to clarify projects purpose or context.\n"
   ]
  },
  {
   "cell_type": "code",
   "id": "b5bc3f79706e62f3",
   "metadata": {},
   "source": [
    "project.description = \"Evidently Service example project\"\n",
    "ws.update_project(project) # or project.save()"
   ],
   "outputs": [],
   "execution_count": null
  },
  {
   "metadata": {},
   "cell_type": "markdown",
   "source": [
    "### List All Projects\n",
    "\n",
    "To see what projects are currently stored in the workspace, we can list them like this.\n"
   ],
   "id": "e64fa272b4dab4f6"
  },
  {
   "cell_type": "code",
   "id": "652e8ba4da59f4f2",
   "metadata": {},
   "source": [
    "ws.list_projects()"
   ],
   "outputs": [],
   "execution_count": null
  },
  {
   "metadata": {},
   "cell_type": "markdown",
   "source": [
    "### Search for a Project by Name\n",
    "\n",
    "If we need to locate a specific project, we can search for it by name.\n"
   ],
   "id": "b759a33be9558a01"
  },
  {
   "cell_type": "code",
   "id": "94e016b377c7c27e",
   "metadata": {},
   "source": [
    "ws.search_project(\"My Project\")"
   ],
   "outputs": [],
   "execution_count": null
  },
  {
   "metadata": {},
   "cell_type": "markdown",
   "source": [
    "### Delete a Project\n",
    "\n",
    "If a project is no longer needed, we can delete it by its project ID.\n"
   ],
   "id": "4886aa110042e3c0"
  },
  {
   "cell_type": "code",
   "id": "a6c21ae4feee79a3",
   "metadata": {},
   "source": [
    "ws.delete_project(project.id)"
   ],
   "outputs": [],
   "execution_count": null
  },
  {
   "metadata": {},
   "cell_type": "markdown",
   "source": [
    "### Create a Project Using ProjectModel\n",
    "\n",
    "Alternatively, projects can be created by defining a `ProjectModel` with specific properties and adding it to the workspace. This approach can be useful for more programmatic setups.\n"
   ],
   "id": "75ecc0a682df83d0"
  },
  {
   "cell_type": "code",
   "id": "f841e0573e99e660",
   "metadata": {},
   "source": [
    "from evidently.ui.workspace import ProjectModel\n",
    "\n",
    "project = ws.add_project(ProjectModel(name=\"My Project\", description=\"Evidently Service example project\"))\n",
    "project"
   ],
   "outputs": [],
   "execution_count": null
  },
  {
   "cell_type": "markdown",
   "id": "6c94bbf31faf3355",
   "metadata": {},
   "source": [
    "## Working with Reports and Runs\n",
    "\n",
    "Next, let’s create a simple Evidently report. We’ll define a metric to check the minimum value of a specific column, and include a test to assert that this value should be greater than 5.\n"
   ]
  },
  {
   "cell_type": "code",
   "id": "770322c8ee0ab980",
   "metadata": {},
   "source": [
    "from evidently.tests import gt\n",
    "from evidently import Report\n",
    "from evidently.metrics import MinValue\n",
    "\n",
    "report = Report(metrics=[MinValue(column=\"col\", tests=[gt(5)])])\n",
    "report"
   ],
   "outputs": [],
   "execution_count": null
  },
  {
   "metadata": {},
   "cell_type": "markdown",
   "source": "Let’s generate some example data and run the report on it.",
   "id": "fd417dcd0a98b37a"
  },
  {
   "cell_type": "code",
   "id": "c72c56cf9fbe8c31",
   "metadata": {},
   "source": [
    "import pandas as pd\n",
    "\n",
    "data = pd.DataFrame({\"col\": [6, 10, 15]})\n",
    "run = report.run(data)\n",
    "run"
   ],
   "outputs": [],
   "execution_count": null
  },
  {
   "metadata": {},
   "cell_type": "markdown",
   "source": [
    "### Add the Run to the Project\n",
    "\n",
    "Now we can save this run into our project within the workspace."
   ],
   "id": "3915878cbb4a556"
  },
  {
   "cell_type": "code",
   "id": "a35570a7b6124121",
   "metadata": {},
   "source": [
    "ws.add_run(project.id, run)"
   ],
   "outputs": [],
   "execution_count": null
  },
  {
   "metadata": {},
   "cell_type": "markdown",
   "source": "To view all runs associated with this project, we can list them.\n",
   "id": "1eb9bb430201b00d"
  },
  {
   "cell_type": "code",
   "id": "b6a4254f596ad5e6",
   "metadata": {},
   "source": [
    "runs = ws.list_runs(project.id)\n",
    "runs"
   ],
   "outputs": [],
   "execution_count": null
  },
  {
   "metadata": {},
   "cell_type": "markdown",
   "source": "If we need to retrieve a saved run and inspect its contents, we can load it like this.\n",
   "id": "6166983c73acae08"
  },
  {
   "cell_type": "code",
   "id": "f481c66d0b1a1df3",
   "metadata": {},
   "source": [
    "from evidently.core.report import Snapshot\n",
    "\n",
    "Snapshot.load_model(ws.get_run(project.id, runs[0]))"
   ],
   "outputs": [],
   "execution_count": null
  },
  {
   "metadata": {},
   "cell_type": "markdown",
   "source": "Similarly, we can delete a specific run by its ID if it's no longer needed.\n",
   "id": "355e4106d126794e"
  },
  {
   "cell_type": "code",
   "id": "b2ac389002e6b844",
   "metadata": {},
   "source": [
    "ws.delete_run(project.id, runs[0])"
   ],
   "outputs": [],
   "execution_count": null
  },
  {
   "metadata": {},
   "cell_type": "markdown",
   "source": "To simulate multiple monitoring runs over time, we’ll generate several runs with slightly different random values and assign each a different timestamp.\n",
   "id": "f96fd6cb83b181a0"
  },
  {
   "cell_type": "code",
   "id": "d32830ff5332f0b5",
   "metadata": {},
   "source": [
    "import random\n",
    "import datetime\n",
    "\n",
    "for i in range(1, 5):\n",
    "    data = pd.DataFrame({\"col\": [i + random.randint(-2, 2) for _ in range(3)]})\n",
    "    run = report.run(data, timestamp=datetime.datetime.now() + datetime.timedelta(days=-2 + i))\n",
    "    ws.add_run(project.id, run)"
   ],
   "outputs": [],
   "execution_count": null
  },
  {
   "metadata": {},
   "cell_type": "markdown",
   "source": "Let’s list them to confirm they’re stored correctly.",
   "id": "942c80edeb273c8e"
  },
  {
   "cell_type": "code",
   "id": "898944ef6b322267",
   "metadata": {},
   "source": [
    "ws.list_runs(project.id)"
   ],
   "outputs": [],
   "execution_count": null
  },
  {
   "cell_type": "markdown",
   "id": "ab395b13e4da2325",
   "metadata": {},
   "source": [
    "### Start the Evidently UI Service\n",
    "\n",
    "To explore our projects and reports in a web interface, you normally need to start the Evidently UI service from your command line like this:\n",
    "\n",
    "```bash\n",
    "evidently ui\n",
    "```\n",
    "\n",
    "This will run the service at [http://127.0.0.1:8000](http://127.0.0.1:8000).\n",
    "\n",
    "For convenience, in the next cell we'll demonstrate how to launch the service directly from the notebook using a Python subprocess.\n",
    "**Note:** This approach is handy for quick experiments, but it's generally recommended to run the service from your terminal in production or more persistent setups.\n"
   ]
  },
  {
   "cell_type": "code",
   "id": "2b236ab332eab8cc",
   "metadata": {},
   "source": [
    "import subprocess\n",
    "\n",
    "# Start Evidently UI as a background process\n",
    "process = subprocess.Popen([\"evidently\", \"ui\"], stdout=subprocess.DEVNULL, stderr=subprocess.DEVNULL)\n",
    "\n",
    "# Store the process if you want to stop it later:\n",
    "# process.terminate()"
   ],
   "outputs": [],
   "execution_count": null
  },
  {
   "cell_type": "markdown",
   "id": "219fd058999b10ff",
   "metadata": {},
   "source": "Now you can open [http://127.0.0.1:8000](http://127.0.0.1:8000) in your browser to explore your workspace and project.\n"
  },
  {
   "cell_type": "markdown",
   "id": "28c9d57863c58041",
   "metadata": {},
   "source": [
    "### Working with RemoteWorkspace\n",
    "\n",
    "The workflow is the same for a remote Evidently UI instance.\n",
    "Here’s how you’d connect to a service running remotely (or locally in this case) using `RemoteWorkspace`.\n"
   ]
  },
  {
   "cell_type": "code",
   "id": "6636ad7e37a3dd03",
   "metadata": {},
   "source": [
    "from evidently.ui.workspace import RemoteWorkspace\n",
    "\n",
    "remote_ws = RemoteWorkspace(\"http://127.0.0.1:8000\")\n",
    "remote_ws"
   ],
   "outputs": [],
   "execution_count": null
  },
  {
   "metadata": {},
   "cell_type": "markdown",
   "source": "Once connected, we can search for and retrieve a project from the remote UI service.\n",
   "id": "125340325db3c848"
  },
  {
   "cell_type": "code",
   "id": "adad3aa655955d8f",
   "metadata": {},
   "source": [
    "remote_project = remote_ws.search_project(\"My Project\")[0]\n",
    "remote_project"
   ],
   "outputs": [],
   "execution_count": null
  },
  {
   "cell_type": "markdown",
   "id": "6c7413ef0dfb97af",
   "metadata": {},
   "source": [
    "### Setting up dashboard\n",
    "\n",
    "Finally, we can set up a dashboard panel to visualize metrics from our runs.\n",
    "In this example, we’ll create a line plot panel showing the minimum value of the `\"col\"` column across different runs over time.\n"
   ]
  },
  {
   "cell_type": "code",
   "id": "374a7591713c6334",
   "metadata": {},
   "source": [
    "from evidently.sdk.models import PanelMetric\n",
    "from evidently.sdk.panels import line_plot_panel\n",
    "\n",
    "remote_project.dashboard.add_panel(\n",
    "    line_plot_panel(\n",
    "                title=\"Minimum value\",\n",
    "                values=[\n",
    "                    PanelMetric(\n",
    "                        legend=\"minimum value\",\n",
    "                        metric=\"MinValue\",\n",
    "                        metric_labels={\"column\": \"col\"},\n",
    "                    ),\n",
    "                ],\n",
    "                size=\"full\",\n",
    "            )\n",
    ")"
   ],
   "outputs": [],
   "execution_count": null
  },
  {
   "cell_type": "markdown",
   "id": "32a1460b56773e6d",
   "metadata": {},
   "source": [
    "Now you can view your dashboard and metrics visualizations through the Evidently UI.\n",
    "For more information, check the Evidently documentation at [Evidently AI Docs](https://docs.evidentlyai.com).\n"
   ]
  }
 ],
 "metadata": {
  "kernelspec": {
   "display_name": "Python 3 (ipykernel)",
   "language": "python",
   "name": "python3"
  },
  "language_info": {
   "codemirror_mode": {
    "name": "ipython",
    "version": 3
   },
   "file_extension": ".py",
   "mimetype": "text/x-python",
   "name": "python",
   "nbconvert_exporter": "python",
   "pygments_lexer": "ipython3",
   "version": "3.11.11"
  }
 },
 "nbformat": 4,
 "nbformat_minor": 5
}
