{
 "cells": [
  {
   "cell_type": "markdown",
   "metadata": {},
   "source": [
    "# Using Evidently AI with a MinIO S3 Workspace\n",
    "\n",
    "This notebook is a complete guide to setting up and running the Evidently UI service with a remote S3-compatible workspace (AWS S3, Google Cloud Storage, MinIO, etc.). We will use **MinIO** as our self-hosted object storage solution, which is fully compatible with the S3 API.\n",
    "\n",
    "By the end of this tutorial, you will have:\n",
    "1.  A running MinIO instance managed by Docker.\n",
    "2.  A custom Evidently Docker image with the necessary S3 libraries.\n",
    "3.  The Evidently UI service running and connected to your MinIO workspace.\n",
    "\n",
    "This guide is structured into four parts:\n",
    "- **Part 1:** Setting up MinIO with Docker Compose.\n",
    "- **Part 2:** Building a Custom Evidently Docker Image with S3 Support.\n",
    "- **Part 3:** Running the Evidently Service.\n",
    "- **Bonus Tip:** Enhancing Security with an Unprivileged User.\n",
    "\n",
    "> This tutorial also works if you're using Google Cloud Storage directly, just ignore the MinIO parts."
   ]
  },
  {
   "cell_type": "markdown",
   "metadata": {},
   "source": [
    "--- \n",
    "## Part 1: Setting Up MinIO with Docker Compose\n",
    "\n",
    "First, we need an S3-compatible object storage server. MinIO is a perfect choice for local development. The easiest way to run it is with `docker-compose`, which allows us to define and manage the service cleanly.\n",
    "\n",
    "> **Skippable Step:** If you already have an S3 bucket (on AWS S3, GCS, etc.), you can skip this part and go to Part 2 directly. Just make sure you have your Access Key, Secret Key, and the correct Endpoint URL ready."
   ]
  },
  {
   "cell_type": "markdown",
   "metadata": {},
   "source": [
    "#### **Step 1.1: Create a `docker-compose.yml` file**\n",
    "Create a new file named `docker-compose.yml` and paste the following content into it. This configuration will start a MinIO server."
   ]
  },
  {
   "cell_type": "markdown",
   "metadata": {},
   "source": [
    "```yaml\n",
    "# docker-compose.yml\n",
    "version: '3.8'\n",
    "\n",
    "services:\n",
    "  minio:\n",
    "    image: minio/minio:latest\n",
    "    container_name: minio\n",
    "    command: server /data --console-address \":9001\"\n",
    "    ports:\n",
    "      - \"9000:9000\" # API Port\n",
    "      - \"9001:9001\" # Console Port\n",
    "    environment:\n",
    "      - MINIO_ROOT_USER=minioadmin\n",
    "      - MINIO_ROOT_PASSWORD=minioadmin\n",
    "    volumes:\n",
    "      - minio_data:/data\n",
    "\n",
    "volumes:\n",
    "  minio_data:\n",
    "    driver: local\n",
    "```"
   ]
  },
  {
   "cell_type": "markdown",
   "metadata": {},
   "source": [
    "#### **Step 1.2: Start the MinIO Service**\n",
    "\n",
    "Open a terminal in the same directory where you saved the `docker-compose.yml` file and run:\n",
    "\n",
    "```bash\n",
    "docker compose up -d\n",
    "```\n",
    "\n",
    "This command will download the MinIO image and start the service in the background.\n",
    "\n",
    "> When you're finished with this tutorial, you can stop and remove the MinIO instance with the following command (ran from the same directory): `docker compose down`"
   ]
  },
  {
   "cell_type": "markdown",
   "metadata": {},
   "source": [
    "#### **Step 1.3: Create a Bucket**\n",
    "\n",
    "Now that MinIO is running, you need to create a \"bucket\" to store your Evidently projects.\n",
    "\n",
    "1.  Open your web browser and navigate to **`http://localhost:9001`**.\n",
    "2.  Log in with the credentials you set in the `docker-compose.yml` file:\n",
    "    - **Username:** `minioadmin`\n",
    "    - **Password:** `minioadmin`\n",
    "3.  Click the **Create Bucket** button on the left sidebar.\n",
    "4.  Name your bucket `evidently-ai` and click **Create Bucket**."
   ]
  },
  {
   "cell_type": "markdown",
   "metadata": {},
   "source": [
    "#### **Step 1.4 (Optional but Recommended): Create a Dedicated Access Key**\n",
    "\n",
    "For better security, it's best to avoid using the root user (`minioadmin`) for applications. Let's create a new, dedicated user with its own Access Key and Secret Key.\n",
    "\n",
    "> You can skip this step for dev purposes and use the `minioadmin` username and password as Access Key and Secret Key later.\n",
    "\n",
    "1.  **Enter the MinIO container's shell:**\n",
    "    ```bash\n",
    "    docker exec -it minio /bin/sh\n",
    "    ```\n",
    "2.  **Configure the MinIO Client (`mc`) alias inside the container:**\n",
    "    ```sh\n",
    "    # Format: mc alias set <ALIAS_NAME> <SERVER_URL> <ROOT_USER> <ROOT_PASSWORD>\n",
    "    mc alias set local http://localhost:9000 minioadmin minioadmin\n",
    "    ```\n",
    "3.  **Create the new user (this defines your new Access Key and Secret Key):**\n",
    "    ```sh\n",
    "    # Format: mc admin user add <ALIAS> <NEW_ACCESS_KEY> <NEW_SECRET_KEY>\n",
    "    mc admin user add local evidently-user a-very-strong-secret-key\n",
    "    ```\n",
    "4.  **Assign permissions to the new user:**\n",
    "    ```sh\n",
    "    # Format: mc admin policy attach <ALIAS> <POLICY> --user <USER_ACCESS_KEY>\n",
    "    mc admin policy attach local readwrite --user evidently-user\n",
    "    ```\n",
    "5.  **Exit the container:**\n",
    "    ```sh\n",
    "    exit\n",
    "    ```\n",
    "Now you have a new set of credentials! **Remember to use these in Part 3 instead of the `minioadmin` user.**"
   ]
  },
  {
   "cell_type": "markdown",
   "metadata": {},
   "source": [
    "--- \n",
    "## Part 2: Building a Custom Evidently Docker Image\n",
    "\n",
    "The official `evidently/evidently-service` image is minimal and does not include the `s3fs` or `gcsfs` library needed to communicate with remote data storage backends. We need to build a custom image that adds this dependency.\n",
    "\n",
    "Here are two ways to do it."
   ]
  },
  {
   "cell_type": "markdown",
   "metadata": {},
   "source": [
    "### Method A: Build on Top of the Official Image (Recommended for Simplicity)\n",
    "This is the easiest method. We create a new `Dockerfile` that uses the official image as a base and simply installs the required packages.\n",
    "\n",
    "#### **Step 2.1.A: Create a Dockerfile**\n",
    "Create a file named `Dockerfile.s3` and add the following content:"
   ]
  },
  {
   "cell_type": "markdown",
   "metadata": {},
   "source": [
    "```Dockerfile\n",
    "FROM evidently/evidently-service:latest\n",
    "\n",
    "# Install the necessary libraries for S3 (s3fs) and GCS (gcsfs) support.\n",
    "# You can remove the one you don't need.\n",
    "RUN pip install s3fs gcsfs\n",
    "```"
   ]
  },
  {
   "cell_type": "markdown",
   "metadata": {},
   "source": [
    "#### **Step 2.2.A: Build the Image**\n",
    "In your terminal, run the following command to build your custom image. We'll tag it as `evidently/evidently-service:s3`.\n",
    "\n",
    "```bash\n",
    "docker build -t evidently/evidently-service:s3 -f Dockerfile.s3 .\n",
    "```"
   ]
  },
  {
   "cell_type": "markdown",
   "metadata": {},
   "source": [
    "### Method B: Build from the Evidently Source Code\n",
    "This method is for users who want to build directly from the official Evidently GitHub repository.\n",
    "\n",
    "#### **Step 2.1.B: Clone the Repository**\n",
    "```bash\n",
    "git clone [https://github.com/evidentlyai/evidently.git](https://github.com/evidentlyai/evidently.git)\n",
    "cd evidently\n",
    "```\n",
    "\n",
    "#### **Step 2.2.B: Build the Image with a Build Argument**\n",
    "You can build the image by passing the `[fsspec]` extra to install all filesystem dependencies. It's also possible to install just `[s3]` or `[gcs]`.\n",
    "\n",
    "```bash\n",
    "# This command should be run from the root of the cloned 'evidently' repository\n",
    "docker build \\\n",
    "  --build-arg INSTALL_EXTRAS=\"[fsspec]\" \\\n",
    "  -f docker/Dockerfile.service \\\n",
    "  -t evidently/evidently-service:s3 .\n",
    "```"
   ]
  },
  {
   "cell_type": "markdown",
   "metadata": {},
   "source": [
    "--- \n",
    "## Part 3: Running the Custom Evidently Service\n",
    "\n",
    "Now we have our MinIO instance running and our custom Docker image ready. Let's run the Evidently container and connect everything.\n",
    "\n",
    "The command below will:\n",
    "- Run our custom image (`evidently/evidently-service:s3`).\n",
    "- Pass the MinIO credentials and endpoint URL as environment variables.\n",
    "- Tell the Evidently UI to use our MinIO bucket as its workspace.\n",
    "\n",
    "> For GCS, the workspace should be `gs://evidently-ai/workspace`, *assuming your bucket is also named **evidently-ai***.\n",
    "\n",
    "Execute the following command in your terminal. **Remember to use the dedicated credentials you created in Step 1.4 if you completed that step.** If you didn't, don't worry! You can use the \"minioadmin\"."
   ]
  },
  {
   "cell_type": "code",
   "execution_count": null,
   "metadata": {
    "vscode": {
     "languageId": "shellscript"
    }
   },
   "outputs": [],
   "source": [
    "docker run -d -p 8000:8000 \\\n",
    "  -e FSSPEC_S3_KEY=\"minioadmin\" \\\n",
    "  -e FSSPEC_S3_SECRET=\"minioadmin\" \\\n",
    "  -e FSSPEC_S3_ENDPOINT_URL=\"http://host.docker.internal:9000\" \\\n",
    "  --name evidently-ui \\\n",
    "  evidently/evidently-service:s3 --workspace s3://evidently-ai/workspace"
   ]
  },
  {
   "cell_type": "markdown",
   "metadata": {},
   "source": [
    "That works because the default `ENTRYPOINT` already starts the Evidently UI, we're just appending the workspace to it.\n",
    "\n",
    "> **Important Note on `ENDPOINT_URL`:**\n",
    "> - **Never** include a trailing slash (`/`) in the endpoint URL.\n",
    "\n",
    "#### **Verify the Setup**\n",
    "\n",
    "Open your browser and go to [http://localhost:8000](http://localhost:8000). You should now see the Evidently UI. You can create a new project, and it will be saved directly into your MinIO bucket! Check it from the [MinIO Console](http://localhost:9001)."
   ]
  },
  {
   "cell_type": "markdown",
   "metadata": {},
   "source": [
    "--- \n",
    "## Bonus Tip: Enhancing Security with an Unprivileged User\n",
    "\n",
    "Running Docker containers as the `root` user is a security risk. It's a best practice to create and switch to a non-root user inside your image. Here’s how you can modify the simple Dockerfile from **Method A** to add an unprivileged user.\n",
    "\n",
    "#### **Create a `Dockerfile.s3.secure` file:**"
   ]
  },
  {
   "cell_type": "markdown",
   "metadata": {},
   "source": [
    "```Dockerfile\n",
    "FROM evidently/evidently-service:latest\n",
    "\n",
    "# `s3fs` for S3-compatible storages\n",
    "# `gcsfs` if you're using Google Cloud Storage  \n",
    "RUN pip install s3fs gcsfs\n",
    "\n",
    "# The `adduser` command is a user-friendly utility available in Debian-based images.\n",
    "RUN adduser --disabled-password --uid 1000 evidentlyuser\n",
    "\n",
    "USER evidentlyuser\n",
    "```"
   ]
  },
  {
   "cell_type": "markdown",
   "metadata": {},
   "source": [
    "You would then build and run this image just as before. This simple change significantly improves the security posture of your container."
   ]
  }
 ],
 "metadata": {
  "kernelspec": {
   "display_name": "Python 3",
   "language": "python",
   "name": "python3"
  },
  "language_info": {
   "codemirror_mode": {
    "name": "ipython",
    "version": 3
   },
   "file_extension": ".py",
   "mimetype": "text/x-python",
   "name": "python",
   "nbconvert_exporter": "python",
   "pygments_lexer": "ipython3",
   "version": "3.8.8"
  }
 },
 "nbformat": 4,
 "nbformat_minor": 4
}
