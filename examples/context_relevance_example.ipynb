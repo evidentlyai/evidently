{
 "cells": [
  {
   "cell_type": "code",
   "id": "initial_id",
   "metadata": {
    "collapsed": true
   },
   "source": [
    "import random\n",
    "\n",
    "import requests\n",
    "from io import BytesIO\n",
    "\n",
    "import pandas as pd\n"
   ],
   "outputs": [],
   "execution_count": null
  },
  {
   "metadata": {},
   "cell_type": "code",
   "source": [
    "response = requests.get(\"https://raw.githubusercontent.com/evidentlyai/evidently/main/examples/how_to_questions/chat_df.csv\")\n",
    "csv_content = BytesIO(response.content)"
   ],
   "id": "403d71fe85a59c5c",
   "outputs": [],
   "execution_count": null
  },
  {
   "metadata": {},
   "cell_type": "code",
   "source": [
    "assistant_logs = pd.read_csv(csv_content, index_col=0, parse_dates=['start_time', 'end_time'])\n",
    "assistant_logs.index = assistant_logs.start_time\n",
    "assistant_logs.index.rename('index', inplace=True)"
   ],
   "id": "bf3ce643fe6629bf",
   "outputs": [],
   "execution_count": null
  },
  {
   "metadata": {},
   "cell_type": "code",
   "source": "assistant_logs",
   "id": "5fc812878f0f09a6",
   "outputs": [],
   "execution_count": null
  },
  {
   "metadata": {},
   "cell_type": "code",
   "source": "assistant_logs['context'] = [random.sample(x, random.randint(1, 2)) for x in assistant_logs[['question', 'response']].values.tolist()]\n",
   "id": "81ba9283e26f8eab",
   "outputs": [],
   "execution_count": null
  },
  {
   "metadata": {},
   "cell_type": "code",
   "source": "from evidently.future.datasets import Dataset",
   "id": "956a112e02bf7108",
   "outputs": [],
   "execution_count": null
  },
  {
   "metadata": {},
   "cell_type": "code",
   "source": [
    "\n",
    "\n",
    "from evidently.future.datasets import DataDefinition\n",
    "from evidently.future.descriptors import ContextRelevance\n",
    "\n",
    "dst = Dataset.from_pandas(\n",
    "    assistant_logs[0:10],\n",
    "    data_definition=DataDefinition(\n",
    "        text_columns=[\"question\"],\n",
    "    ),\n",
    "    descriptors=[ContextRelevance('question', 'context', output_scores=True, aggregation_method=\"hit\", aggregation_method_params={\"threshold\": 0.99})],\n",
    ")"
   ],
   "id": "254ba529f5519d4b",
   "outputs": [],
   "execution_count": null
  },
  {
   "metadata": {},
   "cell_type": "code",
   "source": "dst.as_dataframe()\n",
   "id": "fa4ade2361991ed1",
   "outputs": [],
   "execution_count": null
  },
  {
   "metadata": {},
   "cell_type": "code",
   "source": "",
   "id": "99b8d9e0987cc1f6",
   "outputs": [],
   "execution_count": null
  }
 ],
 "metadata": {
  "kernelspec": {
   "display_name": "Python 3",
   "language": "python",
   "name": "python3"
  },
  "language_info": {
   "codemirror_mode": {
    "name": "ipython",
    "version": 2
   },
   "file_extension": ".py",
   "mimetype": "text/x-python",
   "name": "python",
   "nbconvert_exporter": "python",
   "pygments_lexer": "ipython2",
   "version": "2.7.6"
  }
 },
 "nbformat": 4,
 "nbformat_minor": 5
}
