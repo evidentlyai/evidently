{
 "cells": [
  {
   "metadata": {},
   "cell_type": "markdown",
   "source": "# Initialization",
   "id": "18aaa30cb5d96f65"
  },
  {
   "cell_type": "code",
   "id": "initial_id",
   "metadata": {
    "collapsed": true,
    "ExecuteTime": {
     "end_time": "2025-04-07T17:16:58.603709Z",
     "start_time": "2025-04-07T17:16:53.804874Z"
    }
   },
   "source": [
    "from evidently.errors import EvidentlyError\n",
    "from evidently.future.workspace import CloudWorkspace"
   ],
   "outputs": [],
   "execution_count": 1
  },
  {
   "metadata": {
    "ExecuteTime": {
     "end_time": "2025-04-07T17:16:58.670997Z",
     "start_time": "2025-04-07T17:16:58.608229Z"
    }
   },
   "cell_type": "code",
   "source": [
    "client = CloudWorkspace(\n",
    "    token=\"\",\n",
    "    # Token can be provided as argument or environment variable EVIDENTLY_API_KEY, if it is provided as argument, environment variable is ignored\n",
    "    url=\"http://localhost:8003\",\n",
    ")"
   ],
   "id": "dc8728470343b60a",
   "outputs": [],
   "execution_count": 2
  },
  {
   "metadata": {},
   "cell_type": "markdown",
   "source": "# Project Management",
   "id": "3ffb105d37d491e4"
  },
  {
   "metadata": {},
   "cell_type": "markdown",
   "source": "## Create project",
   "id": "233ba74ce7a4f1ab"
  },
  {
   "metadata": {
    "ExecuteTime": {
     "end_time": "2025-04-07T17:16:58.901011Z",
     "start_time": "2025-04-07T17:16:58.857021Z"
    }
   },
   "cell_type": "code",
   "source": [
    "project = client.create_project(\"SDK Project v2\", \"Example project\", \"0194b6e3-f638-767c-b256-991e29cdfa4e\")\n",
    "project"
   ],
   "id": "c76743354c4682f4",
   "outputs": [
    {
     "data": {
      "text/plain": [
       "Project ID: 01961141-5e74-706c-b32a-e7f5e3bc2cbf\n",
       "Project Name: SDK Project v2\n",
       "Project Description: Example project\n",
       "        "
      ]
     },
     "execution_count": 3,
     "metadata": {},
     "output_type": "execute_result"
    }
   ],
   "execution_count": 3
  },
  {
   "metadata": {},
   "cell_type": "markdown",
   "source": "## Get Project by its ID",
   "id": "157e28de30d74801"
  },
  {
   "metadata": {
    "ExecuteTime": {
     "end_time": "2025-04-07T17:16:58.934708Z",
     "start_time": "2025-04-07T17:16:58.913285Z"
    }
   },
   "cell_type": "code",
   "source": "client.get_project(project.id)",
   "id": "c2ce7109574e500a",
   "outputs": [
    {
     "data": {
      "text/plain": [
       "Project ID: 01961141-5e74-706c-b32a-e7f5e3bc2cbf\n",
       "Project Name: SDK Project v2\n",
       "Project Description: Example project\n",
       "        "
      ]
     },
     "execution_count": 4,
     "metadata": {},
     "output_type": "execute_result"
    }
   ],
   "execution_count": 4
  },
  {
   "metadata": {},
   "cell_type": "markdown",
   "source": "## Update Project metadata",
   "id": "3dbd9984d46eb833"
  },
  {
   "metadata": {
    "ExecuteTime": {
     "end_time": "2025-04-07T17:16:59.008924Z",
     "start_time": "2025-04-07T17:16:58.963783Z"
    }
   },
   "cell_type": "code",
   "source": [
    "project = client.get_project(project.id)\n",
    "project.name = \"SDK Project v2 (new)\"\n",
    "project.description = \"Renamed example project\"\n",
    "project.save()\n",
    "\n",
    "client.get_project(project.id)"
   ],
   "id": "bbbacb706c9073d4",
   "outputs": [
    {
     "data": {
      "text/plain": [
       "Project ID: 01961141-5e74-706c-b32a-e7f5e3bc2cbf\n",
       "Project Name: SDK Project v2 (new)\n",
       "Project Description: Renamed example project\n",
       "        "
      ]
     },
     "execution_count": 5,
     "metadata": {},
     "output_type": "execute_result"
    }
   ],
   "execution_count": 5
  },
  {
   "metadata": {},
   "cell_type": "markdown",
   "source": "## Delete Project",
   "id": "1a09b2e5a36393bd"
  },
  {
   "metadata": {
    "ExecuteTime": {
     "end_time": "2025-04-07T17:16:59.067073Z",
     "start_time": "2025-04-07T17:16:59.036983Z"
    }
   },
   "cell_type": "code",
   "source": [
    "client.delete_project(project.id)\n",
    "try:\n",
    "    client.get_project(project.id)\n",
    "except EvidentlyError as e:\n",
    "    print(e)"
   ],
   "id": "e839572e90734be4",
   "outputs": [
    {
     "name": "stdout",
     "output_type": "stream",
     "text": [
      "project not found\n"
     ]
    }
   ],
   "execution_count": 6
  },
  {
   "metadata": {},
   "cell_type": "markdown",
   "source": "# Dashboard management",
   "id": "a21361ef689888e2"
  },
  {
   "metadata": {
    "ExecuteTime": {
     "end_time": "2025-04-07T17:16:59.113498Z",
     "start_time": "2025-04-07T17:16:59.076087Z"
    }
   },
   "cell_type": "code",
   "source": [
    "project = client.create_project(\n",
    "    \"SDK Project v2 Dashboard project\",\n",
    "    \"Example dashboard project\",\n",
    "    \"0194b6e3-f638-767c-b256-991e29cdfa4e\"\n",
    "    )"
   ],
   "id": "ae39ac416755b6e8",
   "outputs": [],
   "execution_count": 7
  },
  {
   "metadata": {},
   "cell_type": "markdown",
   "source": "## Create Dashboard tabs and panels",
   "id": "4d594e712c454d3"
  },
  {
   "metadata": {
    "ExecuteTime": {
     "end_time": "2025-04-07T17:16:59.126310Z",
     "start_time": "2025-04-07T17:16:59.121917Z"
    }
   },
   "cell_type": "code",
   "source": [
    "from evidently.future.workspace import SeriesSelector\n",
    "from evidently.future.workspace import DashboardPanelModel"
   ],
   "id": "69e4ff9cd839c929",
   "outputs": [],
   "execution_count": 8
  },
  {
   "metadata": {
    "ExecuteTime": {
     "end_time": "2025-04-07T17:16:59.182723Z",
     "start_time": "2025-04-07T17:16:59.137884Z"
    }
   },
   "cell_type": "code",
   "source": [
    "project.dashboard.add_tab(\"General\")\n",
    "project.dashboard.add_tab(\"Specific\")"
   ],
   "id": "d7f70df01e3b3a17",
   "outputs": [],
   "execution_count": 9
  },
  {
   "metadata": {
    "ExecuteTime": {
     "end_time": "2025-04-07T17:16:59.207313Z",
     "start_time": "2025-04-07T17:16:59.191756Z"
    }
   },
   "cell_type": "code",
   "source": "project.dashboard",
   "id": "9398a33e9eb5cb57",
   "outputs": [
    {
     "data": {
      "text/plain": [
       "Dashboard for project 01961141-5f4d-7032-b142-7588fbf02fac\n",
       "  Tab 'General' (01961141-5f8f-7861-bb7d-bda155c8eb2d)\n",
       "    \n",
       "  Tab 'Specific' (01961141-5fa3-70d1-8296-68c49bfe3450)\n",
       "    "
      ]
     },
     "execution_count": 10,
     "metadata": {},
     "output_type": "execute_result"
    }
   ],
   "execution_count": 10
  },
  {
   "metadata": {},
   "cell_type": "markdown",
   "source": "### Add Dashboard Panel to existing tab",
   "id": "40fb9663c8c595e"
  },
  {
   "metadata": {
    "ExecuteTime": {
     "end_time": "2025-04-07T17:16:59.270190Z",
     "start_time": "2025-04-07T17:16:59.234471Z"
    }
   },
   "cell_type": "code",
   "source": [
    "project.dashboard.add_panel(\n",
    "    DashboardPanelModel(\n",
    "        title=\"New Panel\",\n",
    "        size=\"half\",\n",
    "        series_selector=[\n",
    "            SeriesSelector(metric_type=\"evidently:metric_v2:MinValue\", labels={\"column\": \"Numerical_1\"}),\n",
    "        ],\n",
    "        params={\n",
    "            \"plotType\": \"line\",\n",
    "        },\n",
    "    ),\n",
    "    tab=\"Specific\",\n",
    ")\n",
    "\n",
    "project.dashboard"
   ],
   "id": "c1c034ed01dfb380",
   "outputs": [
    {
     "data": {
      "text/plain": [
       "Dashboard for project 01961141-5f4d-7032-b142-7588fbf02fac\n",
       "  Tab 'General' (01961141-5f8f-7861-bb7d-bda155c8eb2d)\n",
       "    \n",
       "  Tab 'Specific' (01961141-5fa3-70d1-8296-68c49bfe3450)\n",
       "    Panel 'New Panel' (01961141-5fe4-7ed3-addf-6b48d5def629)\n",
       "      Series metric_type=evidently:metric_v2:MinValue (tags=[],metadata={}) labels={'column': 'Numerical_1'}"
      ]
     },
     "execution_count": 11,
     "metadata": {},
     "output_type": "execute_result"
    }
   ],
   "execution_count": 11
  },
  {
   "metadata": {},
   "cell_type": "markdown",
   "source": "### Add panel to default (first) tab",
   "id": "bfa9c51b3e0552f0"
  },
  {
   "metadata": {
    "ExecuteTime": {
     "end_time": "2025-04-07T17:16:59.320935Z",
     "start_time": "2025-04-07T17:16:59.281748Z"
    }
   },
   "cell_type": "code",
   "source": [
    "project.dashboard.add_panel(\n",
    "    DashboardPanelModel(\n",
    "        title=\"New Panel 2\",\n",
    "        size=\"half\",\n",
    "        series_selector=[\n",
    "            SeriesSelector(metric_type=\"evidently:metric_v2:MinValue\", labels={\"column\": \"Numerical_1\"}),\n",
    "        ],\n",
    "        params={\n",
    "            \"plotType\": \"line\",\n",
    "        },\n",
    "    ),\n",
    ")\n",
    "\n",
    "project.dashboard"
   ],
   "id": "6d3b554eb090a7a0",
   "outputs": [
    {
     "data": {
      "text/plain": [
       "Dashboard for project 01961141-5f4d-7032-b142-7588fbf02fac\n",
       "  Tab 'General' (01961141-5f8f-7861-bb7d-bda155c8eb2d)\n",
       "    Panel 'New Panel 2' (01961141-6014-7e85-b854-647afdb5d832)\n",
       "      Series metric_type=evidently:metric_v2:MinValue (tags=[],metadata={}) labels={'column': 'Numerical_1'}\n",
       "  Tab 'Specific' (01961141-5fa3-70d1-8296-68c49bfe3450)\n",
       "    Panel 'New Panel' (01961141-5fe4-7ed3-addf-6b48d5def629)\n",
       "      Series metric_type=evidently:metric_v2:MinValue (tags=[],metadata={}) labels={'column': 'Numerical_1'}"
      ]
     },
     "execution_count": 12,
     "metadata": {},
     "output_type": "execute_result"
    }
   ],
   "execution_count": 12
  },
  {
   "metadata": {},
   "cell_type": "markdown",
   "source": "### Add panel to a new tab",
   "id": "5342c5775b58104c"
  },
  {
   "metadata": {
    "ExecuteTime": {
     "end_time": "2025-04-07T17:16:59.368168Z",
     "start_time": "2025-04-07T17:16:59.331484Z"
    }
   },
   "cell_type": "code",
   "source": [
    "project.dashboard.add_panel(\n",
    "    DashboardPanelModel(\n",
    "        title=\"New Panel 3\",\n",
    "        size=\"half\",\n",
    "        series_selector=[\n",
    "            SeriesSelector(metric_type=\"evidently:metric_v2:MinValue\", labels={\"column\": \"Numerical_1\"}),\n",
    "        ],\n",
    "        params={\n",
    "            \"plotType\": \"line\",\n",
    "        },\n",
    "    ),\n",
    "    tab=\"Auto created Tab\"\n",
    ")\n",
    "\n",
    "project.dashboard"
   ],
   "id": "444be1d732dd0d1",
   "outputs": [
    {
     "data": {
      "text/plain": [
       "Dashboard for project 01961141-5f4d-7032-b142-7588fbf02fac\n",
       "  Tab 'General' (01961141-5f8f-7861-bb7d-bda155c8eb2d)\n",
       "    Panel 'New Panel 2' (01961141-6014-7e85-b854-647afdb5d832)\n",
       "      Series metric_type=evidently:metric_v2:MinValue (tags=[],metadata={}) labels={'column': 'Numerical_1'}\n",
       "  Tab 'Specific' (01961141-5fa3-70d1-8296-68c49bfe3450)\n",
       "    Panel 'New Panel' (01961141-5fe4-7ed3-addf-6b48d5def629)\n",
       "      Series metric_type=evidently:metric_v2:MinValue (tags=[],metadata={}) labels={'column': 'Numerical_1'}\n",
       "  Tab 'Auto created Tab' (63feb59a-245e-4172-bef1-9f3ee9cece1c)\n",
       "    Panel 'New Panel 3' (01961141-6047-7b8c-8800-85b2b4aab3ab)\n",
       "      Series metric_type=evidently:metric_v2:MinValue (tags=[],metadata={}) labels={'column': 'Numerical_1'}"
      ]
     },
     "execution_count": 13,
     "metadata": {},
     "output_type": "execute_result"
    }
   ],
   "execution_count": 13
  },
  {
   "metadata": {},
   "cell_type": "markdown",
   "source": "### Delete panel from tab",
   "id": "859d0db33d35c8f8"
  },
  {
   "metadata": {
    "ExecuteTime": {
     "end_time": "2025-04-07T17:16:59.477091Z",
     "start_time": "2025-04-07T17:16:59.441071Z"
    }
   },
   "cell_type": "code",
   "source": [
    "project.dashboard.delete_panel(\"New Panel 2\", \"General\")\n",
    "project.dashboard"
   ],
   "id": "365aba73c441165c",
   "outputs": [
    {
     "data": {
      "text/plain": [
       "Dashboard for project 01961141-5f4d-7032-b142-7588fbf02fac\n",
       "  Tab 'General' (01961141-5f8f-7861-bb7d-bda155c8eb2d)\n",
       "    \n",
       "  Tab 'Specific' (01961141-5fa3-70d1-8296-68c49bfe3450)\n",
       "    Panel 'New Panel' (01961141-5fe4-7ed3-addf-6b48d5def629)\n",
       "      Series metric_type=evidently:metric_v2:MinValue (tags=[],metadata={}) labels={'column': 'Numerical_1'}\n",
       "  Tab 'Auto created Tab' (63feb59a-245e-4172-bef1-9f3ee9cece1c)\n",
       "    Panel 'New Panel 3' (01961141-6047-7b8c-8800-85b2b4aab3ab)\n",
       "      Series metric_type=evidently:metric_v2:MinValue (tags=[],metadata={}) labels={'column': 'Numerical_1'}"
      ]
     },
     "execution_count": 14,
     "metadata": {},
     "output_type": "execute_result"
    }
   ],
   "execution_count": 14
  },
  {
   "metadata": {},
   "cell_type": "markdown",
   "source": "### Delete tab from dashboard",
   "id": "7a12d6f0a4dedb"
  },
  {
   "metadata": {
    "ExecuteTime": {
     "end_time": "2025-04-07T17:16:59.620981Z",
     "start_time": "2025-04-07T17:16:59.583355Z"
    }
   },
   "cell_type": "code",
   "source": [
    "project.dashboard.delete_tab(\"Auto created Tab\")\n",
    "project.dashboard"
   ],
   "id": "750aa619d387f9ab",
   "outputs": [
    {
     "data": {
      "text/plain": [
       "Dashboard for project 01961141-5f4d-7032-b142-7588fbf02fac\n",
       "  Tab 'General' (01961141-5f8f-7861-bb7d-bda155c8eb2d)\n",
       "    \n",
       "  Tab 'Specific' (01961141-5fa3-70d1-8296-68c49bfe3450)\n",
       "    Panel 'New Panel' (01961141-5fe4-7ed3-addf-6b48d5def629)\n",
       "      Series metric_type=evidently:metric_v2:MinValue (tags=[],metadata={}) labels={'column': 'Numerical_1'}"
      ]
     },
     "execution_count": 15,
     "metadata": {},
     "output_type": "execute_result"
    }
   ],
   "execution_count": 15
  },
  {
   "metadata": {
    "ExecuteTime": {
     "end_time": "2025-04-07T17:16:59.705258Z",
     "start_time": "2025-04-07T17:16:59.702234Z"
    }
   },
   "cell_type": "code",
   "source": "",
   "id": "48e1e708ee3178e4",
   "outputs": [],
   "execution_count": null
  }
 ],
 "metadata": {
  "kernelspec": {
   "display_name": "Python 3",
   "language": "python",
   "name": "python3"
  },
  "language_info": {
   "codemirror_mode": {
    "name": "ipython",
    "version": 2
   },
   "file_extension": ".py",
   "mimetype": "text/x-python",
   "name": "python",
   "nbconvert_exporter": "python",
   "pygments_lexer": "ipython2",
   "version": "2.7.6"
  }
 },
 "nbformat": 4,
 "nbformat_minor": 5
}
