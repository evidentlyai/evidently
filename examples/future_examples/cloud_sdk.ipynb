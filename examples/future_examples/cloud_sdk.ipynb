{
 "cells": [
  {
   "metadata": {},
   "cell_type": "markdown",
   "source": "# Initialization",
   "id": "18aaa30cb5d96f65"
  },
  {
   "cell_type": "code",
   "id": "initial_id",
   "metadata": {
    "collapsed": true
   },
   "source": [
    "from evidently.errors import EvidentlyError\n",
    "from evidently.ui.workspace import CloudWorkspace"
   ],
   "outputs": [],
   "execution_count": null
  },
  {
   "metadata": {},
   "cell_type": "code",
   "source": [
    "client = CloudWorkspace(\n",
    "    token=\"\",\n",
    "    # Token can be provided as argument or environment variable EVIDENTLY_API_KEY, if it is provided as argument, environment variable is ignored\n",
    "    url=\"http://localhost:8003\",\n",
    ")"
   ],
   "id": "dc8728470343b60a",
   "outputs": [],
   "execution_count": null
  },
  {
   "metadata": {},
   "cell_type": "markdown",
   "source": "# Project Management",
   "id": "3ffb105d37d491e4"
  },
  {
   "metadata": {},
   "cell_type": "markdown",
   "source": "## Create project",
   "id": "233ba74ce7a4f1ab"
  },
  {
   "metadata": {},
   "cell_type": "code",
   "source": [
    "project = client.create_project(\"SDK Project v2\", \"Example project\", \"0194b6e3-f638-767c-b256-991e29cdfa4e\")\n",
    "project"
   ],
   "id": "c76743354c4682f4",
   "outputs": [],
   "execution_count": null
  },
  {
   "metadata": {},
   "cell_type": "markdown",
   "source": "## Get Project by its ID",
   "id": "157e28de30d74801"
  },
  {
   "metadata": {},
   "cell_type": "code",
   "source": "client.get_project(project.id)",
   "id": "c2ce7109574e500a",
   "outputs": [],
   "execution_count": null
  },
  {
   "metadata": {},
   "cell_type": "markdown",
   "source": "## Update Project metadata",
   "id": "3dbd9984d46eb833"
  },
  {
   "metadata": {},
   "cell_type": "code",
   "source": [
    "project = client.get_project(project.id)\n",
    "project.name = \"SDK Project v2 (new)\"\n",
    "project.description = \"Renamed example project\"\n",
    "project.save()\n",
    "\n",
    "client.get_project(project.id)"
   ],
   "id": "bbbacb706c9073d4",
   "outputs": [],
   "execution_count": null
  },
  {
   "metadata": {},
   "cell_type": "markdown",
   "source": "## Delete Project",
   "id": "1a09b2e5a36393bd"
  },
  {
   "metadata": {},
   "cell_type": "code",
   "source": [
    "client.delete_project(project.id)\n",
    "try:\n",
    "    client.get_project(project.id)\n",
    "except EvidentlyError as e:\n",
    "    print(e)"
   ],
   "id": "e839572e90734be4",
   "outputs": [],
   "execution_count": null
  },
  {
   "metadata": {},
   "cell_type": "markdown",
   "source": "# Dashboard management",
   "id": "a21361ef689888e2"
  },
  {
   "metadata": {},
   "cell_type": "code",
   "source": [
    "project = client.create_project(\n",
    "    \"SDK Project v2 Dashboard project\",\n",
    "    \"Example dashboard project\",\n",
    "    \"0194b6e3-f638-767c-b256-991e29cdfa4e\"\n",
    "    )"
   ],
   "id": "ae39ac416755b6e8",
   "outputs": [],
   "execution_count": null
  },
  {
   "metadata": {},
   "cell_type": "markdown",
   "source": "## Create Dashboard tabs and panels",
   "id": "4d594e712c454d3"
  },
  {
   "metadata": {},
   "cell_type": "code",
   "source": [
    "from evidently.ui.workspace import PanelMetric\n",
    "from evidently.ui.workspace import DashboardPanelPlot"
   ],
   "id": "69e4ff9cd839c929",
   "outputs": [],
   "execution_count": null
  },
  {
   "metadata": {},
   "cell_type": "code",
   "source": [
    "project.dashboard.add_tab(\"General\")\n",
    "project.dashboard.add_tab(\"Specific\")"
   ],
   "id": "d7f70df01e3b3a17",
   "outputs": [],
   "execution_count": null
  },
  {
   "metadata": {},
   "cell_type": "code",
   "source": "project.dashboard",
   "id": "9398a33e9eb5cb57",
   "outputs": [],
   "execution_count": null
  },
  {
   "metadata": {},
   "cell_type": "markdown",
   "source": "### Add Dashboard Panel to existing tab",
   "id": "40fb9663c8c595e"
  },
  {
   "metadata": {},
   "cell_type": "code",
   "source": [
    "project.dashboard.add_panel(\n",
    "    DashboardPanelPlot(\n",
    "        title=\"New Panel\",   # optional (default: None), panel title, if None - default panel name will be used\n",
    "        subtitle=\"\",         # optional (default: None), panel title, if None - default panel name will be used\n",
    "        size=\"half\",         # optional (default: \"full\"), panel size - \"full\" - full width of area or \"half\" - only half of width of area.\n",
    "        values=[             # required - list of metrics to plot in panel\n",
    "            PanelMetric(\n",
    "                legend=\"Min value of Numerical_1\",          # optional (default: None), name of series in legend,\n",
    "                                                            # if None - server will choose name for series automatically \n",
    "                tags=[],                                    # optional (default: [])\n",
    "                metadata={},                                # optional (default: {})\n",
    "                metric=\"evidently:metric_v2:MinValue\",      # required\n",
    "                metric_labels={\"column\": \"Numerical_1\"},    # optional (default: {})\n",
    "                view_params={},                             # additional parameters for plot series visualization, optional (default: {})\n",
    "            ),\n",
    "        ],\n",
    "        plot_params={             # additional params for panel visualizations\n",
    "            \"plotType\": \"line\",   # plot type to use\n",
    "        },\n",
    "    ),\n",
    "    tab=\"Specific\",  # tab to place panel in, optional (default: None),\n",
    "                     # if None - panel will be placed in first tab in dashboard\n",
    "                     # (if no tabs exist - then tab \"General\" will be created and panel will be placed there)\n",
    "    create_if_not_exists=True,  # optional (default: True), if True and tab with given name does not exist it will be automatically create,\n",
    "                                # otherwise - throw exception\n",
    ")\n",
    "\n",
    "project.dashboard"
   ],
   "id": "c1c034ed01dfb380",
   "outputs": [],
   "execution_count": null
  },
  {
   "metadata": {},
   "cell_type": "markdown",
   "source": "### Add panel to default (first) tab",
   "id": "bfa9c51b3e0552f0"
  },
  {
   "metadata": {},
   "cell_type": "code",
   "source": [
    "project.dashboard.add_panel(\n",
    "    DashboardPanelPlot(\n",
    "        title=\"New Panel 2\",\n",
    "        size=\"half\",\n",
    "        values=[\n",
    "            PanelMetric(metric=\"evidently:metric_v2:MinValue\", metric_labels={\"column\": \"Numerical_1\"}),\n",
    "        ],\n",
    "        plot_params={\n",
    "            \"plotType\": \"line\",\n",
    "        },\n",
    "    ),\n",
    ")\n",
    "\n",
    "project.dashboard"
   ],
   "id": "6d3b554eb090a7a0",
   "outputs": [],
   "execution_count": null
  },
  {
   "metadata": {},
   "cell_type": "markdown",
   "source": "### Add panel to a new tab",
   "id": "5342c5775b58104c"
  },
  {
   "metadata": {},
   "cell_type": "code",
   "source": [
    "project.dashboard.add_panel(\n",
    "    DashboardPanelPlot(\n",
    "        title=\"New Panel 3\",\n",
    "        size=\"half\",\n",
    "        values=[\n",
    "            PanelMetric(metric=\"evidently:metric_v2:MinValue\", metric_labels={\"column\": \"Numerical_1\"}),\n",
    "        ],\n",
    "        plot_params={\n",
    "            \"plotType\": \"line\",\n",
    "        },\n",
    "    ),\n",
    "    tab=\"Auto created Tab\"\n",
    ")\n",
    "\n",
    "project.dashboard"
   ],
   "id": "444be1d732dd0d1",
   "outputs": [],
   "execution_count": null
  },
  {
   "metadata": {},
   "cell_type": "markdown",
   "source": "### Delete panel from tab",
   "id": "859d0db33d35c8f8"
  },
  {
   "metadata": {},
   "cell_type": "code",
   "source": [
    "project.dashboard.delete_panel(\"New Panel 2\", \"General\")\n",
    "project.dashboard"
   ],
   "id": "365aba73c441165c",
   "outputs": [],
   "execution_count": null
  },
  {
   "metadata": {},
   "cell_type": "markdown",
   "source": "### Delete tab from dashboard",
   "id": "7a12d6f0a4dedb"
  },
  {
   "metadata": {},
   "cell_type": "code",
   "source": [
    "project.dashboard.delete_tab(\"Auto created Tab\")\n",
    "project.dashboard"
   ],
   "id": "750aa619d387f9ab",
   "outputs": [],
   "execution_count": null
  },
  {
   "metadata": {},
   "cell_type": "code",
   "source": "",
   "id": "48e1e708ee3178e4",
   "outputs": [],
   "execution_count": null
  },
  {
   "metadata": {},
   "cell_type": "code",
   "source": "",
   "id": "c6a7d88f5c620d8f",
   "outputs": [],
   "execution_count": null
  },
  {
   "metadata": {},
   "cell_type": "code",
   "source": "",
   "id": "881f8632916c0982",
   "outputs": [],
   "execution_count": null
  }
 ],
 "metadata": {
  "kernelspec": {
   "display_name": "Python 3",
   "language": "python",
   "name": "python3"
  },
  "language_info": {
   "codemirror_mode": {
    "name": "ipython",
    "version": 2
   },
   "file_extension": ".py",
   "mimetype": "text/x-python",
   "name": "python",
   "nbconvert_exporter": "python",
   "pygments_lexer": "ipython2",
   "version": "2.7.6"
  }
 },
 "nbformat": 4,
 "nbformat_minor": 5
}
