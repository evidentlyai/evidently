{
 "cells": [
  {
   "cell_type": "code",
   "execution_count": null,
   "id": "c150f0f9-c221-4de1-9dd1-5ded72bca8e6",
   "metadata": {
    "ExecuteTime": {
     "end_time": "2025-02-17T16:29:28.785086Z",
     "start_time": "2025-02-17T16:29:28.248093Z"
    }
   },
   "outputs": [],
   "source": [
    "import pandas as pd\n",
    "import numpy as np"
   ]
  },
  {
   "cell_type": "code",
   "execution_count": null,
   "id": "4345fcac64e0c353",
   "metadata": {
    "ExecuteTime": {
     "end_time": "2025-02-17T16:29:30.562860Z",
     "start_time": "2025-02-17T16:29:28.788152Z"
    }
   },
   "outputs": [],
   "source": [
    "from evidently import Report\n",
    "from evidently import BinaryClassification, Regression\n",
    "from evidently import DataDefinition\n",
    "from evidently.descriptors import TextLength\n",
    "import pandas as pd\n",
    "from evidently import Dataset\n",
    "from evidently.presets.classification import ClassificationQuality\n",
    "\n",
    "data = pd.DataFrame(data={\n",
    "    \"column_1\": [1, 2, 3, 4, -1, 5],\n",
    "    \"column_2\": [\"a\", \"aa\", \"aaaa\", \"aaaaaaa\", None, \"aa\"],\n",
    "    \"text_column\": [\"a\", \"aa\", \"aaaa\", \"aaaaaaa\", None, \"aa\"],\n",
    "    \"target\": [1, 1, 0, 0, 1, 1],\n",
    "    \"prediction\": [0.1, 0.2, 0.3, 0.4, 0.5, 0.6],\n",
    "})\n",
    "\n",
    "definition = DataDefinition(\n",
    "    numerical_columns=[\"column_1\"],\n",
    "    categorical_columns=[\"column_2\"],\n",
    "    text_columns=[\"text_column\"],\n",
    "    classification=[BinaryClassification()],\n",
    "    regression=[Regression()]\n",
    "    )\n",
    "dataset = Dataset.from_pandas(\n",
    "    data,\n",
    "    data_definition=definition,\n",
    "    descriptors=[\n",
    "        TextLength(\"column_2\", alias=\"target2\"),\n",
    "        TextLength(\"column_2\", alias=\"prediction2\"),\n",
    "    ],\n",
    ")\n",
    "\n",
    "dataset.as_dataframe()"
   ]
  },
  {
   "cell_type": "code",
   "execution_count": null,
   "id": "18f48addba249596",
   "metadata": {
    "ExecuteTime": {
     "end_time": "2025-02-17T16:29:30.564760Z",
     "start_time": "2025-02-17T16:29:30.563139Z"
    }
   },
   "outputs": [],
   "source": [
    "dataset._data_definition"
   ]
  },
  {
   "cell_type": "code",
   "execution_count": null,
   "id": "4d6adbc06b841880",
   "metadata": {
    "ExecuteTime": {
     "end_time": "2025-02-17T16:29:30.570738Z",
     "start_time": "2025-02-17T16:29:30.565967Z"
    }
   },
   "outputs": [],
   "source": [
    "definition"
   ]
  },
  {
   "cell_type": "code",
   "execution_count": null,
   "id": "cd4612e4-dc38-4eb8-b927-9bab758a67e8",
   "metadata": {
    "ExecuteTime": {
     "end_time": "2025-02-17T16:29:30.963302Z",
     "start_time": "2025-02-17T16:29:30.577177Z"
    }
   },
   "outputs": [],
   "source": [
    "from evidently.presets import DataSummaryPreset\n",
    "\n",
    "num_rows = 20\n",
    "np.random.seed(42)\n",
    "\n",
    "# Generate numerical data with some missing values\n",
    "num_col1 = np.random.randint(1, 100, num_rows).astype(float)\n",
    "num_col2 = np.random.uniform(10, 500, num_rows)\n",
    "num_col1[5] = np.nan  \n",
    "num_col2[12] = np.nan  \n",
    "\n",
    "# Generate categorical data with some missing values\n",
    "cat_col1 = np.random.choice(['A', 'B', 'C'], num_rows)\n",
    "cat_col2 = np.random.choice(['X', 'Y', 'Z'], num_rows)\n",
    "cat_col1[3] = np.nan \n",
    "cat_col2[8] = np.nan \n",
    "\n",
    "# Generate text data with some missing values\n",
    "text_col = np.random.choice(['Hello world', 'Test string', 'Sample text', 'Random text'], num_rows)\n",
    "text_col[6] = np.nan \n",
    "\n",
    "# Generate datetime data with some missing values\n",
    "date_col = pd.date_range(start='2025-01-01', periods=num_rows, freq='D')\n",
    "date_col = date_col.to_series().astype(\"object\")  # Convert to object to allow NaNs\n",
    "date_col.iloc[10] = np.nan \n",
    "\n",
    "# Create DataFrame\n",
    "df = pd.DataFrame({\n",
    "    'Numerical_1': num_col1,\n",
    "    'Numerical_2': num_col2,\n",
    "    'Categorical_1': cat_col1,\n",
    "    'Categorical_2': cat_col2,\n",
    "    'Text': text_col,\n",
    "    'Datetime': date_col.values, \n",
    "    'Datetime2': date_col.values,\n",
    "    'Datetime3': date_col.values,\n",
    "})\n",
    "\n",
    "report = Report(\n",
    "    [\n",
    "        DataSummaryPreset()\n",
    "    ]\n",
    ")\n",
    "\n",
    "snapshot = report.run(df, None)"
   ]
  },
  {
   "cell_type": "code",
   "execution_count": null,
   "id": "ec35b7f1-bc00-43c0-9200-fb493aaceeb1",
   "metadata": {
    "ExecuteTime": {
     "end_time": "2025-02-17T16:29:30.968684Z",
     "start_time": "2025-02-17T16:29:30.762487Z"
    }
   },
   "outputs": [],
   "source": [
    "df.info()"
   ]
  },
  {
   "cell_type": "code",
   "execution_count": null,
   "id": "2c5939de-6e85-4f9e-a9f9-cfa86bd69a78",
   "metadata": {
    "ExecuteTime": {
     "end_time": "2025-02-17T16:29:30.968855Z",
     "start_time": "2025-02-17T16:29:30.764696Z"
    }
   },
   "outputs": [],
   "source": [
    "snapshot"
   ]
  },
  {
   "cell_type": "code",
   "execution_count": null,
   "id": "66b7a87ff1aed69b",
   "metadata": {
    "ExecuteTime": {
     "end_time": "2025-02-17T16:29:30.968977Z",
     "start_time": "2025-02-17T16:29:30.879591Z"
    }
   },
   "outputs": [],
   "source": [
    "from evidently.core.report import Context\n",
    "from evidently.metrics import F1ByLabel\n",
    "context = Context(None)\n",
    "\n",
    "context.init_dataset(dataset, None)\n",
    "metric_result = F1ByLabel(probas_threshold=0.4).call(context)\n",
    "metric_result"
   ]
  },
  {
   "cell_type": "code",
   "execution_count": null,
   "id": "8133418b5d2d9f44",
   "metadata": {
    "ExecuteTime": {
     "end_time": "2025-02-17T16:29:31.495771Z",
     "start_time": "2025-02-17T16:29:30.879718Z"
    }
   },
   "outputs": [],
   "source": [
    "from evidently.core.report import Report\n",
    "\n",
    "from evidently.tests import lte\n",
    "\n",
    "from evidently.metrics import F1Score\n",
    "from evidently.metrics import Accuracy\n",
    "from evidently.metrics import Precision\n",
    "from evidently.metrics import Recall\n",
    "from evidently.metrics import TPR\n",
    "from evidently.metrics import TNR\n",
    "from evidently.metrics import FPR\n",
    "from evidently.metrics import FNR\n",
    "from evidently.metrics import LogLoss\n",
    "from evidently.metrics import RocAuc\n",
    "from evidently.metrics import F1ByLabel\n",
    "from evidently.metrics import PrecisionByLabel\n",
    "from evidently.metrics import RecallByLabel\n",
    "from evidently.metrics import RocAucByLabel\n",
    "from evidently.metrics import DummyF1Score\n",
    "from evidently.metrics import DummyPrecision\n",
    "from evidently.metrics import DummyRecall\n",
    "\n",
    "report = Report([\n",
    "    F1Score(probas_threshold=0.4, conf_matrix=False),\n",
    "    Accuracy(probas_threshold=0.4),\n",
    "    Precision(probas_threshold=0.4, pr_curve=True, pr_table=True),\n",
    "    Recall(probas_threshold=0.4),\n",
    "    TPR(probas_threshold=0.4),\n",
    "    TNR(probas_threshold=0.4),\n",
    "    FPR(probas_threshold=0.4),\n",
    "    FNR(probas_threshold=0.4),\n",
    "    RocAuc(probas_threshold=0.4, roc_curve=False),\n",
    "    LogLoss(probas_threshold=0.4, pr_table=True),\n",
    "    F1ByLabel(probas_threshold=0.4, tests={0: [lte(0.2)]}),\n",
    "    PrecisionByLabel(probas_threshold=0.4),\n",
    "    PrecisionByLabel(probas_threshold=0.4),\n",
    "    RecallByLabel(probas_threshold=0.4),\n",
    "    RocAucByLabel(probas_threshold=0.4),\n",
    "    DummyF1Score(probas_threshold=0.4),\n",
    "    DummyPrecision(probas_threshold=0.4),\n",
    "    DummyRecall(probas_threshold=0.4),\n",
    "], include_tests=True)\n",
    "\n",
    "snapshot = report.run(dataset, dataset)\n",
    "snapshot\n"
   ]
  },
  {
   "cell_type": "code",
   "execution_count": null,
   "id": "63879beaf4d20b0b",
   "metadata": {
    "ExecuteTime": {
     "end_time": "2025-02-17T16:29:31.496505Z",
     "start_time": "2025-02-17T16:29:31.131264Z"
    }
   },
   "outputs": [],
   "source": [
    "from evidently.core.report import Report\n",
    "\n",
    "from evidently.presets import ClassificationDummyQuality\n",
    "from evidently.presets import ClassificationQuality\n",
    "from evidently.presets import ClassificationQualityByLabel\n",
    "\n",
    "report = Report([\n",
    "    ClassificationQuality(),\n",
    "    ClassificationDummyQuality(),\n",
    "    ClassificationQualityByLabel(),\n",
    "], include_tests=True)\n",
    "\n",
    "snapshot = report.run(dataset, dataset)\n",
    "snapshot\n"
   ]
  },
  {
   "cell_type": "code",
   "execution_count": null,
   "id": "e711d0d465b357e2",
   "metadata": {
    "ExecuteTime": {
     "end_time": "2025-02-17T16:29:31.496666Z",
     "start_time": "2025-02-17T16:29:31.206020Z"
    }
   },
   "outputs": [],
   "source": [
    "\n",
    "\n",
    "from evidently.tests import Reference\n",
    "from evidently.core.report import Report\n",
    "\n",
    "from evidently.tests.numerical_tests import gte\n",
    "\n",
    "from evidently.metrics.column_statistics import MinValue\n",
    "from evidently.metrics.column_statistics import MaxValue\n",
    "from evidently.metrics.column_statistics import MedianValue\n",
    "from evidently.metrics.column_statistics import MeanValue\n",
    "from evidently.metrics.column_statistics import StdValue\n",
    "from evidently.metrics.column_statistics import QuantileValue\n",
    "\n",
    "report = Report([\n",
    "    MinValue(column=\"column_1\", tests=[gte(0.2)]),\n",
    "    MaxValue(column=\"column_1\", tests=[gte(Reference(relative=0.1))]),\n",
    "    MedianValue(column=\"column_1\"),\n",
    "    MeanValue(column=\"column_1\"),\n",
    "    StdValue(column=\"column_1\"),\n",
    "    QuantileValue(column=\"column_1\"),\n",
    "    QuantileValue(column=\"column_1\", quantile=0.95),\n",
    "], include_tests=True)\n",
    "\n",
    "snapshot = report.run(dataset, dataset)\n",
    "snapshot"
   ]
  },
  {
   "cell_type": "code",
   "execution_count": null,
   "id": "61e28caf9583c9ea",
   "metadata": {
    "ExecuteTime": {
     "end_time": "2025-02-17T16:29:31.496804Z",
     "start_time": "2025-02-17T16:29:31.320969Z"
    }
   },
   "outputs": [],
   "source": [
    "from evidently.legacy.utils.types import ApproxValue\n",
    "from evidently.core.report import Report\n",
    "\n",
    "from evidently.metrics import CategoryCount\n",
    "from evidently.metrics import InRangeValueCount\n",
    "from evidently.metrics import OutRangeValueCount\n",
    "from evidently.metrics import InListValueCount\n",
    "from evidently.metrics import OutListValueCount\n",
    "from evidently.metrics import MissingValueCount\n",
    "\n",
    "from evidently.tests import eq\n",
    "from evidently.tests import gt\n",
    "from evidently.tests import gte\n",
    "from evidently.tests import lt\n",
    "from evidently.tests import lte\n",
    "\n",
    "report = Report([\n",
    "    CategoryCount(column=\"column_2\", category=\"a\", tests=[\n",
    "        eq(1),\n",
    "        lte(2),\n",
    "        lte(Reference(relative=0.1)),\n",
    "        lte(Reference(absolute=1)),\n",
    "        gte(2),\n",
    "        lt(1),\n",
    "        gt(1),\n",
    "    ], share_tests=[\n",
    "        lte(0.5),\n",
    "        eq(ApproxValue(0.19, absolute=0.015)),\n",
    "    ]),\n",
    "    \n",
    "    CategoryCount(column=\"column_2\", categories=[\"a\", \"aa\"], tests=[lt(2)]),\n",
    "    InRangeValueCount(column=\"column_1\", left=1, right=3, count_tests=[lte(Reference(absolute=1))]),\n",
    "    OutRangeValueCount(column=\"column_1\", left=1, right=3),\n",
    "    InListValueCount(column=\"column_2\", values=[\"a\", \"aa\"]),\n",
    "    OutListValueCount(column=\"column_2\", values=[\"a\", \"aa\"]),\n",
    "    MissingValueCount(column=\"column_2\"),\n",
    "])\n",
    "\n",
    "snapshot = report.run(dataset, dataset)\n",
    "snapshot"
   ]
  },
  {
   "cell_type": "code",
   "execution_count": null,
   "id": "46c1c1d4ea317d35",
   "metadata": {
    "ExecuteTime": {
     "end_time": "2025-02-17T16:29:31.634710Z",
     "start_time": "2025-02-17T16:29:31.382138Z"
    }
   },
   "outputs": [],
   "source": [
    "from evidently.core.report import Report\n",
    "from evidently.presets import TextEvals\n",
    "\n",
    "report = Report([\n",
    "    TextEvals(),\n",
    "], include_tests=True)\n",
    "\n",
    "snapshot = report.run(dataset, dataset)\n",
    "snapshot"
   ]
  },
  {
   "cell_type": "code",
   "execution_count": null,
   "id": "d1c5dcd5c4c99976",
   "metadata": {
    "ExecuteTime": {
     "end_time": "2025-02-17T16:29:31.737913Z",
     "start_time": "2025-02-17T16:29:31.634483Z"
    }
   },
   "outputs": [],
   "source": [
    "from evidently.core.report import Report\n",
    "\n",
    "from evidently.metrics import ColumnCount\n",
    "from evidently.metrics import RowCount\n",
    "from evidently.metrics import DuplicatedRowCount\n",
    "\n",
    "report = Report([\n",
    "    ColumnCount(),\n",
    "    RowCount(),\n",
    "    DuplicatedRowCount(),\n",
    "], include_tests=True)\n",
    "\n",
    "snapshot = report.run(dataset, dataset)\n",
    "snapshot"
   ]
  },
  {
   "cell_type": "code",
   "execution_count": null,
   "id": "2f49268b343cbdf3",
   "metadata": {
    "ExecuteTime": {
     "end_time": "2025-02-17T16:29:32.277223Z",
     "start_time": "2025-02-17T16:29:31.699353Z"
    }
   },
   "outputs": [],
   "source": [
    "from scipy.stats import anderson_ksamp\n",
    "from evidently.legacy.calculations.stattests import register_stattest\n",
    "from evidently.legacy.calculations.stattests import StatTest\n",
    "from evidently.legacy.core import ColumnType\n",
    "\n",
    "from evidently.core.report import Report\n",
    "\n",
    "from evidently.metrics import DriftedColumnsCount\n",
    "from evidently.metrics import ValueDrift\n",
    "\n",
    "\n",
    "def _addd(\n",
    "    reference_data: pd.Series,\n",
    "    current_data: pd.Series,\n",
    "    feature_type: ColumnType,\n",
    "    threshold: float,\n",
    "):\n",
    "    p_value = anderson_ksamp([reference_data.values, current_data.values])[2]\n",
    "    return p_value, p_value < threshold\n",
    "\n",
    "\n",
    "adt = StatTest(\n",
    "    name=\"adt\",\n",
    "    display_name=\"Anderson-Darling\",\n",
    "    allowed_feature_types=[ColumnType.Numerical],\n",
    "    default_threshold=0.1,\n",
    ")\n",
    "\n",
    "register_stattest(adt, default_impl=_addd)\n",
    "\n",
    "\n",
    "report = Report([\n",
    "    # ValueDrift(column=\"column_1\"),\n",
    "    ValueDrift(column=\"column_1\", method=\"adt\"),\n",
    "    DriftedColumnsCount(),\n",
    "], include_tests=True)\n",
    "\n",
    "snapshot = report.run(dataset, dataset)\n",
    "snapshot"
   ]
  },
  {
   "cell_type": "code",
   "execution_count": null,
   "id": "3637b4eeb20615f3",
   "metadata": {
    "ExecuteTime": {
     "end_time": "2025-02-17T16:29:33.864436Z",
     "start_time": "2025-02-17T16:29:32.268477Z"
    }
   },
   "outputs": [],
   "source": [
    "from evidently.core.report import Report\n",
    "\n",
    "from evidently.presets import DataDriftPreset\n",
    "\n",
    "report = Report([\n",
    "    DataDriftPreset(),\n",
    "], include_tests=True)\n",
    "\n",
    "snapshot = report.run(dataset, dataset)\n",
    "snapshot"
   ]
  },
  {
   "cell_type": "code",
   "execution_count": null,
   "id": "be0b790848e89d94",
   "metadata": {
    "ExecuteTime": {
     "end_time": "2025-02-17T16:29:33.929688Z",
     "start_time": "2025-02-17T16:29:33.864696Z"
    }
   },
   "outputs": [],
   "source": [
    "from evidently.core.report import Report\n",
    "\n",
    "from evidently.presets.classification import ClassificationQualityByLabel\n",
    "\n",
    "report = Report([\n",
    "    ClassificationQualityByLabel(probas_threshold=0.4),\n",
    "], include_tests=True)\n",
    "\n",
    "snapshot = report.run(dataset, dataset)\n",
    "snapshot"
   ]
  },
  {
   "cell_type": "code",
   "execution_count": null,
   "id": "37c74415a384c5c",
   "metadata": {
    "ExecuteTime": {
     "end_time": "2025-02-17T16:29:34.051121Z",
     "start_time": "2025-02-17T16:29:33.929586Z"
    }
   },
   "outputs": [],
   "source": [
    "from evidently.core.report import Report\n",
    "\n",
    "from evidently.presets import ValueStats\n",
    "\n",
    "report = Report([\n",
    "    ValueStats(\"column_1\"),\n",
    "    ValueStats(\"column_2\"),\n",
    "])\n",
    "\n",
    "snapshot = report.run(dataset, dataset)\n",
    "snapshot"
   ]
  },
  {
   "cell_type": "code",
   "execution_count": null,
   "id": "e269c5ddf1534b2d",
   "metadata": {
    "ExecuteTime": {
     "end_time": "2025-02-17T16:29:34.117054Z",
     "start_time": "2025-02-17T16:29:34.051307Z"
    }
   },
   "outputs": [],
   "source": [
    "from evidently.core.report import Report\n",
    "\n",
    "from evidently.presets import DatasetStats\n",
    "\n",
    "report = Report([\n",
    "    DatasetStats(),\n",
    "], include_tests=True)\n",
    "\n",
    "snapshot = report.run(dataset, dataset)\n",
    "snapshot"
   ]
  },
  {
   "cell_type": "code",
   "execution_count": null,
   "id": "f5b049f0dfb3767a",
   "metadata": {
    "ExecuteTime": {
     "end_time": "2025-02-17T16:29:34.297487Z",
     "start_time": "2025-02-17T16:29:34.116912Z"
    }
   },
   "outputs": [],
   "source": [
    "from evidently.core.report import Report\n",
    "\n",
    "from evidently.metrics import MeanError\n",
    "from evidently.metrics import MAE\n",
    "from evidently.metrics import MAPE\n",
    "from evidently.metrics import RMSE\n",
    "from evidently.metrics import R2Score\n",
    "from evidently.metrics import AbsMaxError\n",
    "\n",
    "report = Report([\n",
    "    MeanError(error_plot=True, error_distr=True, error_normality=True),\n",
    "    MAE(error_plot=True, error_distr=True, error_normality=True),\n",
    "    MAPE(error_distr=True),\n",
    "    RMSE(error_distr=True, error_normality=True),\n",
    "    R2Score(error_plot=True, error_distr=True, error_normality=True),\n",
    "    AbsMaxError(error_distr=True, error_normality=True),\n",
    "], include_tests=True)\n",
    "\n",
    "snapshot = report.run(dataset, dataset)\n",
    "snapshot"
   ]
  },
  {
   "cell_type": "code",
   "execution_count": null,
   "id": "65d227c11f3596f0",
   "metadata": {
    "ExecuteTime": {
     "end_time": "2025-02-17T16:29:34.365351Z",
     "start_time": "2025-02-17T16:29:34.297676Z"
    }
   },
   "outputs": [],
   "source": [
    "from evidently.core.report import Report\n",
    "\n",
    "from evidently.metrics import DummyMAE\n",
    "from evidently.metrics import DummyMAPE\n",
    "from evidently.metrics import DummyRMSE\n",
    "\n",
    "report = Report([\n",
    "    DummyMAE(),\n",
    "    DummyMAPE(),\n",
    "    DummyRMSE(),\n",
    "], include_tests=True)\n",
    "\n",
    "snapshot = report.run(dataset, dataset)\n",
    "snapshot"
   ]
  },
  {
   "cell_type": "code",
   "execution_count": null,
   "id": "835ed75369e90efa",
   "metadata": {
    "ExecuteTime": {
     "end_time": "2025-02-17T16:29:34.437041Z",
     "start_time": "2025-02-17T16:29:34.365178Z"
    }
   },
   "outputs": [],
   "source": [
    "from evidently.core.report import Report\n",
    "\n",
    "from evidently.presets import RegressionDummyQuality\n",
    "\n",
    "report = Report([\n",
    "    RegressionDummyQuality(),\n",
    "], include_tests=True)\n",
    "\n",
    "snapshot = report.run(dataset, dataset)\n",
    "snapshot"
   ]
  },
  {
   "cell_type": "code",
   "execution_count": null,
   "id": "b7b7879cc8a6fd2f",
   "metadata": {
    "ExecuteTime": {
     "end_time": "2025-02-17T16:29:34.437440Z",
     "start_time": "2025-02-17T16:29:34.435966Z"
    }
   },
   "outputs": [],
   "source": [
    "snapshot.dict()"
   ]
  },
  {
   "cell_type": "code",
   "execution_count": null,
   "id": "37459eb1725a6544",
   "metadata": {
    "ExecuteTime": {
     "end_time": "2025-02-17T16:29:34.437582Z",
     "start_time": "2025-02-17T16:29:34.436169Z"
    }
   },
   "outputs": [],
   "source": [
    "snapshot.json()"
   ]
  },
  {
   "cell_type": "code",
   "execution_count": null,
   "id": "9f4cfd7a410ab1ef",
   "metadata": {
    "ExecuteTime": {
     "end_time": "2025-02-17T16:29:34.576642Z",
     "start_time": "2025-02-17T16:29:34.436254Z"
    }
   },
   "outputs": [],
   "source": [
    "from evidently.presets.dataset_stats import ValueStatsTests\n",
    "from evidently.presets import DataSummaryPreset\n",
    "\n",
    "report = Report([\n",
    "    DataSummaryPreset(row_count_tests=[gte(10)], column_tests={\n",
    "        \"column_1\": ValueStatsTests(\n",
    "            mean_tests=[lte(0.5)],\n",
    "        ),\n",
    "        \"column_2\": ValueStatsTests(\n",
    "            unique_values_count_tests={\"a\": [lte(10)]}\n",
    "        )\n",
    "    })\n",
    "])\n",
    "\n",
    "snapshot = report.run(dataset, None)\n",
    "\n",
    "snapshot.dict()['tests']"
   ]
  },
  {
   "cell_type": "code",
   "execution_count": null,
   "id": "a8cf5665cdccc05",
   "metadata": {
    "ExecuteTime": {
     "end_time": "2025-02-17T16:29:34.579710Z",
     "start_time": "2025-02-17T16:29:34.577669Z"
    }
   },
   "outputs": [],
   "source": [
    "snapshot.dict()['tests']"
   ]
  },
  {
   "cell_type": "code",
   "execution_count": null,
   "id": "ad27fff89ffd84e1",
   "metadata": {
    "ExecuteTime": {
     "end_time": "2025-02-17T16:29:34.581894Z",
     "start_time": "2025-02-17T16:29:34.580236Z"
    }
   },
   "outputs": [],
   "source": "from evidently.metrics import UniqueValueCount"
  },
  {
   "cell_type": "code",
   "execution_count": null,
   "id": "f828d03f79701b0d",
   "metadata": {
    "ExecuteTime": {
     "end_time": "2025-02-17T16:29:34.723347Z",
     "start_time": "2025-02-17T16:29:34.610403Z"
    }
   },
   "outputs": [],
   "source": [
    "report = Report([\n",
    "   UniqueValueCount(column=\"column_2\", \n",
    "                    tests={\"aa\":[lte(2)]}, \n",
    "                    share_tests={\"aa\":[lt(0.4)]})\n",
    "])\n",
    "\n",
    "snapshot = report.run(dataset, None)\n",
    "snapshot"
   ]
  },
  {
   "cell_type": "code",
   "execution_count": null,
   "id": "881b103f-eba2-4a7a-8fb2-fd50f58e1f74",
   "metadata": {
    "ExecuteTime": {
     "end_time": "2025-02-17T16:29:34.770929Z",
     "start_time": "2025-02-17T16:29:34.721819Z"
    }
   },
   "outputs": [],
   "source": [
    "from evidently.generators import ColumnMetricGenerator\n",
    "\n",
    "report = Report(metrics=[ColumnMetricGenerator(MaxValue, columns=[\"column_1\"])])\n",
    "report.run(dataset)"
   ]
  },
  {
   "cell_type": "code",
   "execution_count": null,
   "id": "960dc923",
   "metadata": {
    "ExecuteTime": {
     "end_time": "2025-02-17T18:37:50.559288Z",
     "start_time": "2025-02-17T18:37:50.495860Z"
    },
    "collapsed": false,
    "jupyter": {
     "outputs_hidden": false
    }
   },
   "outputs": [],
   "source": [
    "from evidently.generators import ColumnMetricGenerator\n",
    "\n",
    "report = Report(metrics=[ColumnMetricGenerator(QuantileValue, column_types=\"num\", metric_kwargs={\"quantile\": 0.5})])\n",
    "report.run(dataset)"
   ]
  },
  {
   "cell_type": "code",
   "execution_count": null,
   "id": "b7aa7446",
   "metadata": {
    "collapsed": false,
    "jupyter": {
     "outputs_hidden": false
    }
   },
   "outputs": [],
   "source": [
    "from evidently.generators import ColumnMetricGenerator\n",
    "\n",
    "report = Report(metrics=[ColumnMetricGenerator(ValueStats, column_types=\"num\")])\n",
    "report.run(dataset)"
   ]
  },
  {
   "cell_type": "code",
   "execution_count": null,
   "id": "0152f13c-9dd2-4321-a1e2-6f7e6d8533df",
   "metadata": {},
   "outputs": [],
   "source": []
  }
 ],
 "metadata": {
  "kernelspec": {
   "display_name": "Python 3 (ipykernel)",
   "language": "python",
   "name": "python3"
  },
  "language_info": {
   "codemirror_mode": {
    "name": "ipython",
    "version": 3
   },
   "file_extension": ".py",
   "mimetype": "text/x-python",
   "name": "python",
   "nbconvert_exporter": "python",
   "pygments_lexer": "ipython3",
   "version": "3.11.4"
  }
 },
 "nbformat": 4,
 "nbformat_minor": 5
}
