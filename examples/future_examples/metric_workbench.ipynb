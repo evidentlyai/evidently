{
 "cells": [
  {
   "cell_type": "code",
   "execution_count": 1,
   "id": "initial_id",
   "metadata": {
    "ExecuteTime": {
     "end_time": "2025-02-07T17:18:47.673772Z",
     "start_time": "2025-02-07T17:18:47.666621Z"
    }
   },
   "source": [
    "from typing import Dict\n",
    "from typing import Generator\n",
    "from typing import Union\n",
    "\n",
    "import pandas as pd\n",
    "\n",
    "from evidently import ColumnType\n",
    "from evidently.future.datasets import DataDefinition\n",
    "\n",
    "from evidently.future.datasets import DatasetColumn\n",
    "\n",
    "from evidently.future.datasets import Descriptor\n",
    "from evidently.future.metric_types import Metric\n",
    "from evidently.future.datasets import Dataset\n",
    "from evidently.future.metric_types import MetricResult\n",
    "from evidently.future.metric_types import MetricTestResult\n",
    "from evidently.future.metric_types import SingleValue\n",
    "from evidently.future.metric_types import SingleValueTest\n",
    "from evidently.future.metric_types import MetricCalculation\n",
    "from evidently.future.metric_types import MetricId\n",
    "from evidently.future.metric_types import SingleValueMetric\n",
    "from evidently.future.metric_types import TResult\n",
    "from evidently.future.preset_types import PresetResult\n",
    "from evidently.future.report import Snapshot"
   ],
   "outputs": []
  },
  {
   "cell_type": "code",
   "execution_count": 2,
   "id": "de4b011f992f1165",
   "metadata": {
    "ExecuteTime": {
     "end_time": "2025-02-07T17:18:47.704840Z",
     "start_time": "2025-02-07T17:18:47.700047Z"
    }
   },
   "source": [
    "from evidently.options.base import Options\n",
    "from typing import Optional\n",
    "\n",
    "\n",
    "class TextLengthScorer(Descriptor):\n",
    "    def __init__(self, column_name: str, alias: Optional[str] = None):\n",
    "        super().__init__(alias or f\"{column_name}: Text Length\")\n",
    "        self._column_name = column_name\n",
    "\n",
    "    def generate_data(self, dataset: \"Dataset\", options: Options) -> Union[DatasetColumn, Dict[str, DatasetColumn]]:\n",
    "        lengths = dataset.column(self._column_name).data.apply(len)\n",
    "        return DatasetColumn(type=ColumnType.Numerical, data=lengths)\n"
   ],
   "outputs": []
  },
  {
   "cell_type": "code",
   "execution_count": 3,
   "id": "dc99c9bcf41dd669",
   "metadata": {
    "ExecuteTime": {
     "end_time": "2025-02-07T17:18:47.857735Z",
     "start_time": "2025-02-07T17:18:47.852344Z"
    }
   },
   "source": [
    "class ToxicityScorer(Descriptor):\n",
    "    def __init__(self, column_name: str, alias: Optional[str] = None):\n",
    "        super().__init__(alias or f\"{column_name}: Toxicity\")\n",
    "        self._column_name = column_name\n",
    "\n",
    "    def generate_data(self, dataset: \"Dataset\", options: Options) -> Union[DatasetColumn, Dict[str, DatasetColumn]]:\n",
    "        from evidently.descriptors import ToxicityLLMEval\n",
    "        from evidently.options.base import Options\n",
    "\n",
    "        feature = ToxicityLLMEval().feature(self._column_name)\n",
    "        data = feature.generate_features(dataset.as_dataframe(), None, Options())\n",
    "        return {\n",
    "            col: DatasetColumn(type=feature.get_type(f\"{feature.get_fingerprint()}.{col}\"), data=data[col])\n",
    "            for col in data.columns\n",
    "        }"
   ],
   "outputs": []
  },
  {
   "cell_type": "code",
   "execution_count": 4,
   "id": "48fc3742208e6385",
   "metadata": {
    "ExecuteTime": {
     "end_time": "2025-02-07T17:18:47.871345Z",
     "start_time": "2025-02-07T17:18:47.867502Z"
    }
   },
   "source": [
    "def my_scorer(data: DatasetColumn) -> DatasetColumn:\n",
    "    return DatasetColumn(type=data.type, data=data.data)\n",
    "\n",
    "def my_scorer2(dataset: Dataset) -> Union[DatasetColumn, Dict[str, DatasetColumn]]:\n",
    "    return {\"c1\": dataset.column(\"column_1\"), \"c2\": dataset.column(\"column_2\")}"
   ],
   "outputs": []
  },
  {
   "cell_type": "code",
   "execution_count": 5,
   "id": "279361d330bca4d8",
   "metadata": {
    "ExecuteTime": {
     "end_time": "2025-02-07T17:18:47.915803Z",
     "start_time": "2025-02-07T17:18:47.885188Z"
    }
   },
   "source": [
    "from evidently.future.datasets import ColumnInfo\n",
    "from evidently.future.descriptors import CustomColumnDescriptor\n",
    "from evidently.future.descriptors import CustomDescriptor\n",
    "from evidently.future.descriptors import TextLength\n",
    "\n",
    "data = pd.DataFrame(data={\"column_1\": [1, 2, 3, 4, -1, 5], \"column_2\": [\"a\", \"aa\", \"aaaa\", \"aaaaaaa\", \"a\", \"aa\"]})\n",
    "\n",
    "dataset = Dataset.from_pandas(\n",
    "    data,\n",
    "    data_definition=DataDefinition(\n",
    "        numerical_columns=[\"column_1\"],\n",
    "        categorical_columns=[\"column_2\"],\n",
    "    ),\n",
    "    descriptors=[\n",
    "        TextLength(\"column_2\", alias=\"column 2 length\"),\n",
    "        TextLength(\"column_2\", alias=\"column 2 length\"),\n",
    "        # ToxicityScorer(\"column_2\"),\n",
    "        CustomColumnDescriptor(\"column_2\", my_scorer, alias=\"column 2 custom function\"),\n",
    "        CustomDescriptor(my_scorer2, alias=\"global custom function\"),\n",
    "    ],\n",
    ")\n",
    "\n",
    "dataset.as_dataframe()"
   ],
   "outputs": []
  },
  {
   "cell_type": "code",
   "execution_count": 6,
   "id": "9f49a28098d1cad0",
   "metadata": {
    "ExecuteTime": {
     "end_time": "2025-02-07T17:18:48.023377Z",
     "start_time": "2025-02-07T17:18:47.953414Z"
    }
   },
   "source": [
    "from evidently.future.tests import Reference, eq\n",
    "from evidently.future.metric_types import BoundTest\n",
    "from evidently.future.report import Context\n",
    "from typing import Optional\n",
    "from typing import List\n",
    "from plotly.express import line\n",
    "\n",
    "\n",
    "class MyMaxMetric(SingleValueMetric):\n",
    "    column: str\n",
    "\n",
    "    def _default_tests(self) -> List[BoundTest]:\n",
    "        return [eq(0).bind_single(self.get_fingerprint())]\n",
    "\n",
    "    def _default_tests_with_reference(self) -> List[BoundTest]:\n",
    "        return [eq(Reference(relative=0.1)).bind_single(self.get_fingerprint())]\n",
    "\n",
    "# implementation\n",
    "class MaxMetricImplementation(MetricCalculation[SingleValue, MyMaxMetric]):\n",
    "    def calculate(self, context: Context, current_data: Dataset, reference_data: Optional[Dataset]) -> SingleValue:\n",
    "        x = current_data.column(self.metric.column).data\n",
    "        value = x.max()\n",
    "        result = SingleValue(value=value)\n",
    "        figure = line(x)\n",
    "        figure.add_hrect(6, 10)\n",
    "        #result.set_widget([plotly_figure(title=self.display_name(), figure=figure)])\n",
    "        return result\n",
    "\n",
    "    def display_name(self) -> str:\n",
    "        return f\"Max value for {self.metric.column}\"\n",
    "\n",
    "\n",
    "from evidently.future.report import Context\n",
    "context = Context(None)\n",
    "\n",
    "context.init_dataset(dataset, None)\n",
    "\n",
    "result = MyMaxMetric(column=\"column_1\").to_calculation().call(context)\n",
    "result"
   ],
   "outputs": []
  },
  {
   "cell_type": "code",
   "execution_count": 7,
   "id": "9566651ec9d1bee1",
   "metadata": {
    "ExecuteTime": {
     "end_time": "2025-02-07T17:18:48.433606Z",
     "start_time": "2025-02-07T17:18:48.025885Z"
    }
   },
   "source": [
    "from evidently.future.metrics.group_by import GroupBy\n",
    "from evidently.future.metric_types import render_results\n",
    "\n",
    "context = Context(None)\n",
    "\n",
    "context.init_dataset(dataset, None)\n",
    "\n",
    "metrics = GroupBy(MyMaxMetric(column=\"column 2 length\"), \"column_1\").generate_metrics(context)\n",
    "\n",
    "results = [metric.call(context) for metric in metrics]\n",
    "\n",
    "render_results(results)"
   ],
   "outputs": []
  },
  {
   "cell_type": "code",
   "execution_count": 8,
   "id": "f8e8eaadc002b5d1",
   "metadata": {
    "ExecuteTime": {
     "end_time": "2025-02-07T17:18:48.445289Z",
     "start_time": "2025-02-07T17:18:48.439503Z"
    }
   },
   "source": [
    "results[0][0].value"
   ],
   "outputs": []
  },
  {
   "cell_type": "code",
   "execution_count": 9,
   "id": "83ca61bb9521db5f",
   "metadata": {},
   "source": [
    "from evidently.future.preset_types import MetricPreset\n",
    "from evidently.future.metrics import MinValue\n",
    "from evidently.future.metrics import MaxValue\n",
    "\n",
    "class ColumnSummary(MetricPreset):\n",
    "    def __init__(self, column: str):\n",
    "        self._column = column\n",
    "\n",
    "    def metrics(self) -> List[Metric]:\n",
    "        return [\n",
    "            MinValue(column=self._column),\n",
    "            MaxValue(column=self._column),\n",
    "        ]\n",
    "    \n",
    "    def calculate(self, metric_results: Dict[MetricId, MetricResult]) -> PresetResult:\n",
    "        return PresetResult(widget=[\n",
    "            *metric_results[MinValue(column=self._column).get_metric_id()].widget,\n",
    "            *metric_results[MaxValue(column=self._column).get_metric_id()].widget,\n",
    "        ])\n"
   ],
   "outputs": []
  },
  {
   "cell_type": "code",
   "execution_count": 10,
   "id": "2334f18d685745c3",
   "metadata": {
    "ExecuteTime": {
     "end_time": "2025-02-07T17:18:49.261564Z",
     "start_time": "2025-02-07T17:18:48.514995Z"
    }
   },
   "source": [
    "from evidently.future.backport import snapshot_v2_to_v1\n",
    "from evidently.future.report import Report\n",
    "from evidently.future.tests import lte\n",
    "from evidently.future.presets import DataSummaryPreset\n",
    "\n",
    "report = Report([\n",
    "    # MyMaxMetric(column=\"column 2 length\", tests=[lte(100), lte(3)]),\n",
    "    # MyMaxMetric(column=\"column_1\", tests=[lte(100)]),\n",
    "    # MyMaxMetric(column=\"global custom function.c1\", tests=[lte(100)]),\n",
    "    # ColumnSummary(\"column_1\"),\n",
    "    # GroupBy(MyMaxMetric(column=\"column 2 length\"), \"column_1\"),\n",
    "    DataSummaryPreset(),\n",
    "    \n",
    "])\n",
    "snapshot: Snapshot = report.run(dataset, None)\n",
    "snapshot_v2_to_v1(snapshot)\n"
   ],
   "outputs": []
  },
  {
   "cell_type": "code",
   "execution_count": 11,
   "id": "75eb724a58024000",
   "metadata": {
    "ExecuteTime": {
     "end_time": "2025-02-07T17:18:49.278425Z",
     "start_time": "2025-02-07T17:18:49.266194Z"
    }
   },
   "source": [
    "pr = (snapshot_v2_to_v1(snapshot))\n"
   ],
   "outputs": []
  },
  {
   "cell_type": "code",
   "execution_count": 12,
   "id": "f7c85f93e31ef50e",
   "metadata": {
    "ExecuteTime": {
     "end_time": "2025-02-07T17:18:49.382760Z",
     "start_time": "2025-02-07T17:18:49.281605Z"
    }
   },
   "source": [
    "snapshot"
   ],
   "outputs": []
  },
  {
   "cell_type": "code",
   "execution_count": 16,
   "id": "a3e7a17a01378a27",
   "metadata": {
    "ExecuteTime": {
     "end_time": "2025-02-07T17:18:49.392435Z",
     "start_time": "2025-02-07T17:18:49.387663Z"
    }
   },
   "source": [
    "md = {}\n",
    "for metric in pr.suite.metrics:\n",
    " md[metric.get_fingerprint()] = metric\n",
    "snapshot.dict()"
   ],
   "outputs": []
  },
  {
   "cell_type": "code",
   "execution_count": 19,
   "id": "caf8b430c8d4c24",
   "metadata": {
    "ExecuteTime": {
     "end_time": "2025-02-07T17:20:00.852157Z",
     "start_time": "2025-02-07T17:20:00.763999Z"
    }
   },
   "source": [
    "from IPython.display import HTML\n",
    "snapshot.render_only_fingerprint(\"62a68d41805cc053fe27d5349848b2c0\")"
   ],
   "outputs": []
  },
  {
   "cell_type": "code",
   "id": "3c7a092fa0dbd808",
   "metadata": {
    "ExecuteTime": {
     "end_time": "2025-02-07T18:53:08.963209Z",
     "start_time": "2025-02-07T18:53:08.451048Z"
    }
   },
   "source": [
    "from evidently.ui.workspace import CloudWorkspace\n",
    "\n",
    "ws = CloudWorkspace(\"dG9rbgGFbfSRMqlHT43VF0c+ri2PxUF6HIIFzjZgS+8NTVCEUABQgnXKx0KHqapqu1B/6n12ecBtY8zYjhVtb8Dor4RJWfb/qEzCPWsB1P1Sj69BrajpvmoPp2kZRlkilHdIJzP2gUNy3VyGXvCKQ+Bfo19FXUWhTBMd\", \"https://app.evidently.dev/\")"
   ],
   "execution_count": 30,
   "outputs": []
  },
  {
   "metadata": {
    "ExecuteTime": {
     "end_time": "2025-02-07T18:53:37.411149Z",
     "start_time": "2025-02-07T18:53:36.791473Z"
    }
   },
   "cell_type": "code",
   "source": "proj = ws.get_project(\"01936477-a6f6-7512-bf8d-b6761a1a52e8\")",
   "id": "ac97ef1261e124c4",
   "execution_count": 32,
   "outputs": []
  },
  {
   "metadata": {
    "ExecuteTime": {
     "end_time": "2025-02-07T18:53:51.193569Z",
     "start_time": "2025-02-07T18:53:48.505883Z"
    }
   },
   "cell_type": "code",
   "source": "proj.add_snapshot(snapshot)",
   "id": "1349f8ae8f72bed3",
   "execution_count": 33,
   "outputs": []
  },
  {
   "metadata": {},
   "cell_type": "code",
   "execution_count": null,
   "source": "",
   "id": "1fdf00ade801f5f",
   "outputs": []
  }
 ],
 "metadata": {
  "kernelspec": {
   "display_name": "Python 3 (ipykernel)",
   "language": "python",
   "name": "python3"
  },
  "language_info": {
   "codemirror_mode": {
    "name": "ipython",
    "version": 3
   },
   "file_extension": ".py",
   "mimetype": "text/x-python",
   "name": "python",
   "nbconvert_exporter": "python",
   "pygments_lexer": "ipython3",
   "version": "3.12.8"
  }
 },
 "nbformat": 4,
 "nbformat_minor": 5
}
