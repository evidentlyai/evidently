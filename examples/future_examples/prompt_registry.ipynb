{
 "cells": [
  {
   "cell_type": "code",
   "id": "initial_id",
   "metadata": {
    "collapsed": true
   },
   "source": "from evidently.ui.workspace import CloudWorkspace",
   "outputs": [],
   "execution_count": null
  },
  {
   "metadata": {},
   "cell_type": "code",
   "source": "ws = CloudWorkspace(\"\", url=\"https://pr-1885.evidently.dev/\")",
   "id": "f475f54d0e3cb0c0",
   "outputs": [],
   "execution_count": null
  },
  {
   "metadata": {},
   "cell_type": "code",
   "source": [
    "org_id = \"019396b3-b862-7bdb-95ea-1786c2262724\"\n",
    "project = ws.search_project(\"Prompts Example\", org_id=org_id)[0]"
   ],
   "id": "a96e7e78ef17d78c",
   "outputs": [],
   "execution_count": null
  },
  {
   "metadata": {},
   "cell_type": "code",
   "source": [
    "prompt = ws.prompts.get_or_create_prompt(project.id, \"my criteria\")\n",
    "prompt.list_versions()"
   ],
   "id": "774f71e32051de58",
   "outputs": [],
   "execution_count": null
  },
  {
   "metadata": {},
   "cell_type": "code",
   "source": [
    "criteria = \"aaaa\"\n",
    "prompt.bump_version(criteria)"
   ],
   "id": "f23d3f7ebd0d33b7",
   "outputs": [],
   "execution_count": null
  },
  {
   "metadata": {},
   "cell_type": "code",
   "source": "prompt.list_versions()",
   "id": "90fd01c8828bfedb",
   "outputs": [],
   "execution_count": null
  },
  {
   "metadata": {},
   "cell_type": "code",
   "source": "prompt.get_version().content",
   "id": "372186afd8fbdba1",
   "outputs": [],
   "execution_count": null
  },
  {
   "metadata": {},
   "cell_type": "code",
   "source": "prompt.bump_version(\"bbbb\")",
   "id": "184ecb4d1f318477",
   "outputs": [],
   "execution_count": null
  },
  {
   "metadata": {},
   "cell_type": "code",
   "source": "prompt.get_version(\"latest\").content",
   "id": "bff5bedad1668104",
   "outputs": [],
   "execution_count": null
  },
  {
   "metadata": {},
   "cell_type": "code",
   "source": "prompt.delete_version(prompt.get_version().id)",
   "id": "10d977c3d9fe6549",
   "outputs": [],
   "execution_count": null
  },
  {
   "metadata": {},
   "cell_type": "code",
   "source": "prompt.get_version(\"latest\").content",
   "id": "1e749db861675458",
   "outputs": [],
   "execution_count": null
  },
  {
   "metadata": {},
   "cell_type": "code",
   "source": "prompt.delete()",
   "id": "aebc870b0fae5768",
   "outputs": [],
   "execution_count": null
  },
  {
   "metadata": {},
   "cell_type": "code",
   "source": "ws.prompts.list_prompts(project.id)",
   "id": "d50289a21b01362b",
   "outputs": [],
   "execution_count": null
  }
 ],
 "metadata": {
  "kernelspec": {
   "display_name": "Python 3",
   "language": "python",
   "name": "python3"
  },
  "language_info": {
   "codemirror_mode": {
    "name": "ipython",
    "version": 2
   },
   "file_extension": ".py",
   "mimetype": "text/x-python",
   "name": "python",
   "nbconvert_exporter": "python",
   "pygments_lexer": "ipython2",
   "version": "2.7.6"
  }
 },
 "nbformat": 4,
 "nbformat_minor": 5
}
