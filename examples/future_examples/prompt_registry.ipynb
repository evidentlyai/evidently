{
 "cells": [
  {
   "metadata": {},
   "cell_type": "markdown",
   "source": [
    "# Using Evidently Prompt Registry with Prompt Templates\n",
    "\n",
    "In this tutorial, we’ll walk through how to use the **Evidently Prompt Registry** to store, version, and reuse prompts.\n",
    "We’ll also see how to connect it with **LLMJudge** and prompt templates for evaluation.\n",
    "\n",
    "## Connect to Evidently Cloud\n",
    "First, import the CloudWorkspace and authenticate with your token.\n",
    "\n"
   ],
   "id": "794ee107e0bbccd8"
  },
  {
   "cell_type": "code",
   "id": "initial_id",
   "metadata": {
    "collapsed": true,
    "jupyter": {
     "outputs_hidden": true
    }
   },
   "source": [
    "from evidently.ui.workspace import CloudWorkspace"
   ],
   "outputs": [],
   "execution_count": null
  },
  {
   "cell_type": "code",
   "id": "f475f54d0e3cb0c0",
   "metadata": {},
   "source": [
    "ws = CloudWorkspace(\"your token\")"
   ],
   "outputs": [],
   "execution_count": null
  },
  {
   "metadata": {},
   "cell_type": "markdown",
   "source": [
    "### Select Project\n",
    "You need to provide your `org_id` and the project name where you want to store prompts."
   ],
   "id": "99644be6bf6b6302"
  },
  {
   "cell_type": "code",
   "id": "a96e7e78ef17d78c",
   "metadata": {},
   "source": [
    "org_id = \"your org id\"\n",
    "project = ws.search_project(\"your project name\", org_id=org_id)[0]"
   ],
   "outputs": [],
   "execution_count": null
  },
  {
   "metadata": {},
   "cell_type": "markdown",
   "source": [
    "## Create or Load a Prompt\n",
    "You can create a new prompt or load an existing one by name.\n"
   ],
   "id": "5754e6dabe37fd1c"
  },
  {
   "cell_type": "code",
   "id": "774f71e32051de58",
   "metadata": {},
   "source": [
    "prompt = ws.prompts.get_or_create_prompt(project.id, \"my criteria\")\n",
    "prompt.list_versions()"
   ],
   "outputs": [],
   "execution_count": null
  },
  {
   "metadata": {},
   "cell_type": "markdown",
   "source": [
    "## Add Prompt Versions\n",
    "Let’s add new versions of the prompt content.\n",
    "This helps you track changes over time.\n"
   ],
   "id": "8499d58283f2f2b2"
  },
  {
   "cell_type": "code",
   "id": "f23d3f7ebd0d33b7",
   "metadata": {},
   "source": [
    "criteria = \"aaaa\"\n",
    "prompt.bump_version(criteria)"
   ],
   "outputs": [],
   "execution_count": null
  },
  {
   "cell_type": "code",
   "id": "90fd01c8828bfedb",
   "metadata": {},
   "source": [
    "prompt.list_versions()"
   ],
   "outputs": [],
   "execution_count": null
  },
  {
   "cell_type": "code",
   "id": "372186afd8fbdba1",
   "metadata": {},
   "source": [
    "prompt.get_version().content"
   ],
   "outputs": [],
   "execution_count": null
  },
  {
   "cell_type": "code",
   "id": "184ecb4d1f318477",
   "metadata": {},
   "source": [
    "prompt.bump_version(\"bbbb\")"
   ],
   "outputs": [],
   "execution_count": null
  },
  {
   "cell_type": "code",
   "id": "bff5bedad1668104",
   "metadata": {},
   "source": [
    "prompt.get_version(\"latest\").content.as_text()"
   ],
   "outputs": [],
   "execution_count": null
  },
  {
   "cell_type": "code",
   "id": "10d977c3d9fe6549",
   "metadata": {},
   "source": [
    "prompt.delete_version(prompt.get_version().id)"
   ],
   "outputs": [],
   "execution_count": null
  },
  {
   "cell_type": "code",
   "id": "1e749db861675458",
   "metadata": {},
   "source": [
    "prompt.get_version(\"latest\").content.as_text()"
   ],
   "outputs": [],
   "execution_count": null
  },
  {
   "metadata": {},
   "cell_type": "markdown",
   "source": [
    "## Delete a Prompt Version\n",
    "You can also remove versions if needed.\n"
   ],
   "id": "86bf2b572a1e993a"
  },
  {
   "cell_type": "code",
   "id": "aebc870b0fae5768",
   "metadata": {},
   "source": [
    "prompt.delete()"
   ],
   "outputs": [],
   "execution_count": null
  },
  {
   "cell_type": "code",
   "id": "d50289a21b01362b",
   "metadata": {},
   "source": [
    "ws.prompts.list_prompts(project.id)"
   ],
   "outputs": [],
   "execution_count": null
  },
  {
   "metadata": {},
   "cell_type": "markdown",
   "source": [
    "## Define a Judge with Criteria\n",
    "Now, let’s define a **judge** that evaluates model responses using a template.\n",
    "We’ll use a binary classification (GOOD / BAD) with simple criteria.\n"
   ],
   "id": "1637286eb1dbf4db"
  },
  {
   "cell_type": "code",
   "id": "41317777700f94a4",
   "metadata": {},
   "source": [
    "from evidently.llm.templates import BinaryClassificationPromptTemplate\n",
    "from evidently.descriptors import LLMJudge\n",
    "\n",
    "judge = LLMJudge(provider=\"openai\", model=\"gpt-4o-mini\", template=BinaryClassificationPromptTemplate(\n",
    "    target_category=\"GOOD\",\n",
    "    non_target_category=\"BAD\",\n",
    "    criteria=\"\"\"Classify the model’s response with the following criteria:\n",
    "Correctness: Is the response factually accurate?\n",
    "Clarity: Is the response easy to understand?\n",
    "Relevance: Does it fully address the question?\n",
    "Output only one rating: good or bad.\"\"\"\n",
    "))"
   ],
   "outputs": [],
   "execution_count": null
  },
  {
   "metadata": {},
   "cell_type": "markdown",
   "source": [
    "## Store the Judge Template in the Prompt Registry\n",
    "Instead of keeping the template inline, let’s store it in the registry.\n"
   ],
   "id": "8cc9a4cafc8ff314"
  },
  {
   "cell_type": "code",
   "id": "86e411c8f0cb6731",
   "metadata": {},
   "source": [
    "template_prompt = ws.prompts.get_or_create_prompt(project.id, \"my template\")\n",
    "template_prompt.bump_version(judge.feature.template)"
   ],
   "outputs": [],
   "execution_count": null
  },
  {
   "cell_type": "code",
   "id": "3119dcad06f5b57d",
   "metadata": {},
   "source": [
    "template_prompt.list_versions()"
   ],
   "outputs": [],
   "execution_count": null
  },
  {
   "metadata": {},
   "cell_type": "markdown",
   "source": [
    "## Reuse the Template\n",
    "You can now load the template from the registry and create a new judge.\n"
   ],
   "id": "2ffd8ab794c92ba3"
  },
  {
   "cell_type": "code",
   "id": "b75a1a697cbca9fd",
   "metadata": {},
   "source": [
    "new_judge = LLMJudge(provider=\"openai\",\n",
    "                 model=\"gpt-4o-mini\",\n",
    "                 template=template_prompt.get_version().content.template)\n",
    "new_judge"
   ],
   "outputs": [],
   "execution_count": null
  },
  {
   "metadata": {},
   "cell_type": "markdown",
   "source": [
    "## Clean Up\n",
    "Finally, remove the template prompt if you no longer need it.\n"
   ],
   "id": "f0f8532b561b783"
  },
  {
   "cell_type": "code",
   "id": "4eae17691463d29d",
   "metadata": {},
   "source": [
    "template_prompt.delete()"
   ],
   "outputs": [],
   "execution_count": null
  }
 ],
 "metadata": {
  "kernelspec": {
   "display_name": "Python 3 (ipykernel)",
   "language": "python",
   "name": "python3"
  },
  "language_info": {
   "codemirror_mode": {
    "name": "ipython",
    "version": 3
   },
   "file_extension": ".py",
   "mimetype": "text/x-python",
   "name": "python",
   "nbconvert_exporter": "python",
   "pygments_lexer": "ipython3",
   "version": "3.11.11"
  }
 },
 "nbformat": 4,
 "nbformat_minor": 5
}
