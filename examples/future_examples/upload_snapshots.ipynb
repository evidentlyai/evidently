{
 "cells": [
  {
   "metadata": {},
   "cell_type": "code",
   "outputs": [],
   "execution_count": null,
   "source": [
    "\n",
    "import numpy as np"
   ],
   "id": "4370e2785ffb059a"
  },
  {
   "metadata": {},
   "cell_type": "code",
   "outputs": [],
   "execution_count": null,
   "source": [
    "\n",
    "from evidently.core.report import Report\n",
    "import pandas as pd\n",
    "from evidently.tests import lt"
   ],
   "id": "780617ac5fd23750"
  },
  {
   "metadata": {},
   "cell_type": "code",
   "outputs": [],
   "execution_count": null,
   "source": [
    "from evidently.presets import DataSummaryPreset\n",
    "\n",
    "num_rows = 20\n",
    "np.random.seed(42)\n",
    "\n",
    "# Generate numerical data with some missing values\n",
    "num_col1 = np.random.randint(1, 100, num_rows).astype(float)\n",
    "num_col2 = np.random.uniform(10, 500, num_rows)\n",
    "num_col1[5] = np.nan  \n",
    "num_col2[12] = np.nan  \n",
    "\n",
    "# Generate categorical data with some missing values\n",
    "cat_col1 = np.random.choice(['A', 'B', 'C'], num_rows)\n",
    "cat_col2 = np.random.choice(['X', 'Y', 'Z'], num_rows)\n",
    "cat_col1[3] = np.nan \n",
    "cat_col2[8] = np.nan \n",
    "\n",
    "# Generate text data with some missing values\n",
    "text_col = np.random.choice(['Hello world', 'Test string', 'Sample text', 'Random text'], num_rows)\n",
    "text_col[6] = np.nan \n",
    "\n",
    "# Generate datetime data with some missing values\n",
    "date_col = pd.date_range(start='2025-01-01', periods=num_rows, freq='D')\n",
    "date_col = date_col.to_series().astype(\"object\")  # Convert to object to allow NaNs\n",
    "date_col.iloc[10] = np.nan \n",
    "\n",
    "# Create DataFrame\n",
    "df = pd.DataFrame({\n",
    "    'Numerical_1': num_col1,\n",
    "    'Numerical_2': num_col2,\n",
    "    'Categorical_1': cat_col1,\n",
    "    'Categorical_2': cat_col2,\n",
    "    'Text': text_col,\n",
    "    'Datetime': date_col.values, \n",
    "    'Datetime2': date_col.values,\n",
    "    'Datetime3': date_col.values,\n",
    "})\n",
    "\n",
    "report = Report(\n",
    "    [\n",
    "        DataSummaryPreset(row_count_tests=[lt(1)])\n",
    "    ],\n",
    "    tags=[\"t2\"],\n",
    ")\n",
    "\n",
    "report.set_model_id(\"m2\")\n",
    "\n",
    "snapshot = report.run(df, None, metadata={\"metadata_item\": \"meta_value\"}, tags=[\"t3\"])"
   ],
   "id": "b7624167f44fe07"
  },
  {
   "metadata": {},
   "cell_type": "code",
   "source": "snapshot",
   "id": "4f09cb9ac4f36265",
   "outputs": [],
   "execution_count": null
  },
  {
   "metadata": {},
   "cell_type": "code",
   "outputs": [],
   "execution_count": null,
   "source": [
    "import uuid\n",
    "from evidently.legacy.ui.workspace import CloudWorkspace\n",
    "\n",
    "client = CloudWorkspace(token=\"\", url=\"http://localhost:8003\")\n",
    "client.add_run(uuid.UUID(\"01956698-b6d3-7ab0-9add-776f1a77ba78\"), snapshot)"
   ],
   "id": "92265e3b48ed602a"
  },
  {
   "metadata": {},
   "cell_type": "code",
   "outputs": [],
   "execution_count": null,
   "source": [
    "from evidently.legacy.ui.workspace import CloudWorkspace\n",
    "import uuid\n",
    "\n",
    "client = CloudWorkspace(token=\"\", url=\"http://localhost:8003\")\n",
    "client.add_run(uuid.UUID(\"0195d6d0-ee9e-7b79-be49-a790c3a0692e\"), snapshot, include_data=True)"
   ],
   "id": "897a1efa82663a01"
  },
  {
   "metadata": {},
   "cell_type": "code",
   "source": "",
   "id": "2c13c4f2a9ffea3c",
   "outputs": [],
   "execution_count": null
  },
  {
   "metadata": {},
   "cell_type": "code",
   "source": "",
   "id": "1a74a64406ca5910",
   "outputs": [],
   "execution_count": null
  }
 ],
 "metadata": {
  "kernelspec": {
   "display_name": "Python 3",
   "language": "python",
   "name": "python3"
  },
  "language_info": {
   "codemirror_mode": {
    "name": "ipython",
    "version": 2
   },
   "file_extension": ".py",
   "mimetype": "text/x-python",
   "name": "python",
   "nbconvert_exporter": "python",
   "pygments_lexer": "ipython2",
   "version": "2.7.6"
  }
 },
 "nbformat": 4,
 "nbformat_minor": 5
}
