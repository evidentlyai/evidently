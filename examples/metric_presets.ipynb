{
 "cells": [
  {
   "cell_type": "code",
   "execution_count": 1,
   "metadata": {
    "pycharm": {
     "name": "#%%\n"
    }
   },
   "outputs": [],
   "source": [
    "import numpy as np\n",
    "from sklearn.datasets import fetch_openml"
   ]
  },
  {
   "cell_type": "markdown",
   "metadata": {
    "pycharm": {
     "name": "#%% md\n"
    }
   },
   "source": [
    "Prepare data"
   ]
  },
  {
   "cell_type": "code",
   "execution_count": 2,
   "metadata": {
    "pycharm": {
     "name": "#%%\n"
    }
   },
   "outputs": [
    {
     "name": "stderr",
     "output_type": "stream",
     "text": [
      "/Users/tapot/opt/anaconda3/envs/evidently_dev_main/lib/python3.6/site-packages/ipykernel_launcher.py:7: SettingWithCopyWarning: \n",
      "A value is trying to be set on a copy of a slice from a DataFrame.\n",
      "Try using .loc[row_indexer,col_indexer] = value instead\n",
      "\n",
      "See the caveats in the documentation: https://pandas.pydata.org/pandas-docs/stable/user_guide/indexing.html#returning-a-view-versus-a-copy\n",
      "  import sys\n",
      "/Users/tapot/opt/anaconda3/envs/evidently_dev_main/lib/python3.6/site-packages/ipykernel_launcher.py:8: SettingWithCopyWarning: \n",
      "A value is trying to be set on a copy of a slice from a DataFrame.\n",
      "Try using .loc[row_indexer,col_indexer] = value instead\n",
      "\n",
      "See the caveats in the documentation: https://pandas.pydata.org/pandas-docs/stable/user_guide/indexing.html#returning-a-view-versus-a-copy\n",
      "  \n",
      "/Users/tapot/opt/anaconda3/envs/evidently_dev_main/lib/python3.6/site-packages/ipykernel_launcher.py:9: SettingWithCopyWarning: \n",
      "A value is trying to be set on a copy of a slice from a DataFrame.\n",
      "Try using .loc[row_indexer,col_indexer] = value instead\n",
      "\n",
      "See the caveats in the documentation: https://pandas.pydata.org/pandas-docs/stable/user_guide/indexing.html#returning-a-view-versus-a-copy\n",
      "  if __name__ == '__main__':\n",
      "/Users/tapot/opt/anaconda3/envs/evidently_dev_main/lib/python3.6/site-packages/ipykernel_launcher.py:10: SettingWithCopyWarning: \n",
      "A value is trying to be set on a copy of a slice from a DataFrame.\n",
      "Try using .loc[row_indexer,col_indexer] = value instead\n",
      "\n",
      "See the caveats in the documentation: https://pandas.pydata.org/pandas-docs/stable/user_guide/indexing.html#returning-a-view-versus-a-copy\n",
      "  # Remove the CWD from sys.path while we load stuff.\n",
      "/Users/tapot/opt/anaconda3/envs/evidently_dev_main/lib/python3.6/site-packages/pandas/core/indexing.py:1763: SettingWithCopyWarning: \n",
      "A value is trying to be set on a copy of a slice from a DataFrame.\n",
      "Try using .loc[row_indexer,col_indexer] = value instead\n",
      "\n",
      "See the caveats in the documentation: https://pandas.pydata.org/pandas-docs/stable/user_guide/indexing.html#returning-a-view-versus-a-copy\n",
      "  isetter(loc, value)\n"
     ]
    }
   ],
   "source": [
    "data = fetch_openml(name='adult', version=2, as_frame='auto')\n",
    "df = data.frame\n",
    "\n",
    "ref = df[:20000]\n",
    "curr = df[20000:]\n",
    "\n",
    "curr['target'] = curr['education-num']\n",
    "curr['preds'] = curr['education-num'].values + np.random.normal(0, 6, curr.shape[0])\n",
    "ref['target'] = ref['education-num']\n",
    "ref['preds'] = ref['education-num'].values + np.random.normal(0, 6, ref.shape[0])\n",
    "\n",
    "curr.iloc[:2000, 3:5] = np.nan\n",
    "curr.iloc[:2000, 12] = np.nan"
   ]
  },
  {
   "cell_type": "markdown",
   "metadata": {
    "pycharm": {
     "name": "#%% md\n"
    }
   },
   "source": [
    "Create and run a report with separate metrics and metric presets"
   ]
  },
  {
   "cell_type": "code",
   "execution_count": 3,
   "metadata": {
    "pycharm": {
     "name": "#%%\n"
    }
   },
   "outputs": [
    {
     "data": {
      "text/html": [
       "\n",
       "<link rel=\"stylesheet\" href=\"https://fonts.googleapis.com/icon?family=Material+Icons\"/>\n",
       "<style>\n",
       ".reset-this-parent {\n",
       "  all: initial;\n",
       "}\n",
       ".reset-this-parent h5 {\n",
       "  all: initial;\n",
       "  font: initial;\n",
       "}\n",
       "\n",
       "svg {\n",
       "  height: intrinsic !important;\n",
       "}\n",
       "</style>\n",
       "<script>\n",
       "    var evidently_dashboard_6e69610ef82a439eb36a278f7dfd02c0 = {\"name\": \"Report\", \"widgets\": [{\"type\": \"counter\", \"title\": \"\", \"size\": 2, \"id\": \"\", \"details\": \"\", \"alertsPosition\": null, \"alertStats\": null, \"params\": {\"counters\": [{\"value\": \"\", \"label\": \"Dataset Drift: drift was not detected\"}]}, \"insights\": [], \"alerts\": [], \"tabs\": [], \"widgets\": [], \"pageSize\": 5}, {\"type\": \"counter\", \"title\": \"\", \"size\": 2, \"id\": \"\", \"details\": \"\", \"alertsPosition\": null, \"alertStats\": null, \"params\": {\"counters\": [{\"value\": \"\", \"label\": \"Features Drift: no drifted features\"}]}, \"insights\": [], \"alerts\": [], \"tabs\": [], \"widgets\": [], \"pageSize\": 5}, {\"type\": \"table\", \"title\": \"Data Drift Scores\", \"size\": 2, \"id\": \"\", \"details\": \"\", \"alertsPosition\": null, \"alertStats\": null, \"params\": {\"header\": [\"Column Name\", \"Drift\", \"Drift Score\", \"Stattest\"], \"data\": [[\"age\", \"\", \"0.018\", \"stattest: Wasserstein distance (normed) with threshold 0.1\"], [\"capital-gain\", \"\", \"0.004\", \"stattest: Wasserstein distance (normed) with threshold 0.1\"], [\"capital-loss\", \"\", \"0.009\", \"stattest: Wasserstein distance (normed) with threshold 0.1\"], [\"education-num\", \"\", \"0.008\", \"stattest: Wasserstein distance (normed) with threshold 0.1\"], [\"fnlwgt\", \"\", \"0.010\", \"stattest: Wasserstein distance (normed) with threshold 0.1\"], [\"hours-per-week\", \"\", \"0.006\", \"stattest: Wasserstein distance (normed) with threshold 0.1\"], [\"target\", \"\", \"0.009\", \"stattest: Wasserstein distance (normed) with threshold 0.1\"], [\"preds\", \"\", \"0.019\", \"stattest: Wasserstein distance (normed) with threshold 0.1\"], [\"class\", \"\", \"0.001\", \"stattest: Jensen-Shannon distance with threshold 0.1\"], [\"education\", \"\", \"0.013\", \"stattest: Jensen-Shannon distance with threshold 0.1\"], [\"marital-status\", \"\", \"0.007\", \"stattest: Jensen-Shannon distance with threshold 0.1\"], [\"native-country\", \"\", \"0.022\", \"stattest: Jensen-Shannon distance with threshold 0.1\"], [\"occupation\", \"\", \"0.012\", \"stattest: Jensen-Shannon distance with threshold 0.1\"], [\"race\", \"\", \"0.007\", \"stattest: Jensen-Shannon distance with threshold 0.1\"], [\"relationship\", \"\", \"0.007\", \"stattest: Jensen-Shannon distance with threshold 0.1\"], [\"sex\", \"\", \"0.000\", \"stattest: Jensen-Shannon distance with threshold 0.1\"], [\"workclass\", \"\", \"0.008\", \"stattest: Jensen-Shannon distance with threshold 0.1\"]]}, \"insights\": [], \"alerts\": [], \"tabs\": [], \"widgets\": [], \"pageSize\": 5}]};\n",
       "    var additional_graphs_evidently_dashboard_6e69610ef82a439eb36a278f7dfd02c0 = {};\n",
       "</script>\n",
       "<script>\n",
       "function domReady(fn) {\n",
       "  // If we're early to the party\n",
       "  document.addEventListener(\"DOMContentLoaded\", fn);\n",
       "  // If late; I mean on time.\n",
       "  if (document.readyState === \"interactive\" || document.readyState === \"complete\" ) {\n",
       "    fn();\n",
       "  }\n",
       "}\n",
       "\n",
       "domReady(function () {\n",
       "    requirejs([\"evidently\"], function(ev) {\n",
       "        drawDashboard(evidently_dashboard_6e69610ef82a439eb36a278f7dfd02c0,\n",
       "        new Map(Object.entries(additional_graphs_evidently_dashboard_6e69610ef82a439eb36a278f7dfd02c0)),\n",
       "        \"root_evidently_dashboard_6e69610ef82a439eb36a278f7dfd02c0\");\n",
       "    },\n",
       "    function(err) {\n",
       "        $(\"#root_evidently_dashboard_6e69610ef82a439eb36a278f7dfd02c0\").innerHTML = \"Failed to load\";\n",
       "    })\n",
       "});\n",
       "</script>\n",
       "<div class=\"reset-this-parent\" id=\"root_evidently_dashboard_6e69610ef82a439eb36a278f7dfd02c0\">Loading...</div>\n",
       "\n"
      ],
      "text/plain": [
       "<evidently.report.report.Report at 0x7fd8084186a0>"
      ]
     },
     "execution_count": 3,
     "metadata": {},
     "output_type": "execute_result"
    }
   ],
   "source": [
    "from evidently import ColumnMapping\n",
    "from evidently.report import Report\n",
    "from evidently.metric_preset import DataDrift\n",
    "from evidently.metrics import ClassificationPerformanceMetrics\n",
    "from evidently.metrics import DataQualityMetrics\n",
    "\n",
    "report = Report(metrics=[\n",
    "#     DataIntegrityMetrics(),\n",
    "    DataDrift(),\n",
    "#     DataQualityMetrics()\n",
    "])\n",
    "\n",
    "report.run(reference_data=ref, current_data=curr, column_mapping=ColumnMapping(target='target', prediction='preds'))\n",
    "report"
   ]
  },
  {
   "cell_type": "code",
   "execution_count": 4,
   "metadata": {
    "pycharm": {
     "name": "#%%\n"
    }
   },
   "outputs": [
    {
     "data": {
      "text/html": [
       "\n",
       "<link rel=\"stylesheet\" href=\"https://fonts.googleapis.com/icon?family=Material+Icons\"/>\n",
       "<style>\n",
       ".reset-this-parent {\n",
       "  all: initial;\n",
       "}\n",
       ".reset-this-parent h5 {\n",
       "  all: initial;\n",
       "  font: initial;\n",
       "}\n",
       "\n",
       "svg {\n",
       "  height: intrinsic !important;\n",
       "}\n",
       "</style>\n",
       "<script>\n",
       "    var evidently_dashboard_45994eee28094982a1c61f54bd0b9fec = {\"name\": \"Report\", \"widgets\": [{\"type\": \"counter\", \"title\": \"\", \"size\": 2, \"id\": \"\", \"details\": \"\", \"alertsPosition\": null, \"alertStats\": null, \"params\": {\"counters\": [{\"value\": \"\", \"label\": \"Dataset Drift: drift was not detected\"}]}, \"insights\": [], \"alerts\": [], \"tabs\": [], \"widgets\": [], \"pageSize\": 5}, {\"type\": \"counter\", \"title\": \"\", \"size\": 2, \"id\": \"\", \"details\": \"\", \"alertsPosition\": null, \"alertStats\": null, \"params\": {\"counters\": [{\"value\": \"\", \"label\": \"Features Drift: 1 of 17 features (0.059%)\"}]}, \"insights\": [], \"alerts\": [], \"tabs\": [], \"widgets\": [], \"pageSize\": 5}, {\"type\": \"table\", \"title\": \"Data Drift Scores\", \"size\": 2, \"id\": \"\", \"details\": \"\", \"alertsPosition\": null, \"alertStats\": null, \"params\": {\"header\": [\"Column Name\", \"Drift\", \"Drift Score\", \"Stattest\"], \"data\": [[\"age\", \"\", \"0.018\", \"stattest: Wasserstein distance (normed) with threshold 0.1\"], [\"capital-gain\", \"\", \"0.004\", \"stattest: Wasserstein distance (normed) with threshold 0.1\"], [\"capital-loss\", \"\", \"0.009\", \"stattest: Wasserstein distance (normed) with threshold 0.1\"], [\"education-num\", \"detected\", \"3.923\", \"stattest: Wasserstein distance (normed) with threshold 0.1\"], [\"fnlwgt\", \"\", \"0.010\", \"stattest: Wasserstein distance (normed) with threshold 0.1\"], [\"hours-per-week\", \"\", \"0.006\", \"stattest: Wasserstein distance (normed) with threshold 0.1\"], [\"target\", \"\", \"0.009\", \"stattest: Wasserstein distance (normed) with threshold 0.1\"], [\"preds\", \"\", \"0.019\", \"stattest: Wasserstein distance (normed) with threshold 0.1\"], [\"class\", \"\", \"0.001\", \"stattest: Jensen-Shannon distance with threshold 0.1\"], [\"education\", \"\", \"0.013\", \"stattest: Jensen-Shannon distance with threshold 0.1\"], [\"marital-status\", \"\", \"0.007\", \"stattest: Jensen-Shannon distance with threshold 0.1\"], [\"native-country\", \"\", \"0.022\", \"stattest: Jensen-Shannon distance with threshold 0.1\"], [\"occupation\", \"\", \"0.012\", \"stattest: Jensen-Shannon distance with threshold 0.1\"], [\"race\", \"\", \"0.007\", \"stattest: Jensen-Shannon distance with threshold 0.1\"], [\"relationship\", \"\", \"0.007\", \"stattest: Jensen-Shannon distance with threshold 0.1\"], [\"sex\", \"\", \"0.000\", \"stattest: Jensen-Shannon distance with threshold 0.1\"], [\"workclass\", \"\", \"0.008\", \"stattest: Jensen-Shannon distance with threshold 0.1\"]]}, \"insights\": [], \"alerts\": [], \"tabs\": [], \"widgets\": [], \"pageSize\": 5}]};\n",
       "    var additional_graphs_evidently_dashboard_45994eee28094982a1c61f54bd0b9fec = {};\n",
       "</script>\n",
       "<script>\n",
       "function domReady(fn) {\n",
       "  // If we're early to the party\n",
       "  document.addEventListener(\"DOMContentLoaded\", fn);\n",
       "  // If late; I mean on time.\n",
       "  if (document.readyState === \"interactive\" || document.readyState === \"complete\" ) {\n",
       "    fn();\n",
       "  }\n",
       "}\n",
       "\n",
       "domReady(function () {\n",
       "    requirejs([\"evidently\"], function(ev) {\n",
       "        drawDashboard(evidently_dashboard_45994eee28094982a1c61f54bd0b9fec,\n",
       "        new Map(Object.entries(additional_graphs_evidently_dashboard_45994eee28094982a1c61f54bd0b9fec)),\n",
       "        \"root_evidently_dashboard_45994eee28094982a1c61f54bd0b9fec\");\n",
       "    },\n",
       "    function(err) {\n",
       "        $(\"#root_evidently_dashboard_45994eee28094982a1c61f54bd0b9fec\").innerHTML = \"Failed to load\";\n",
       "    })\n",
       "});\n",
       "</script>\n",
       "<div class=\"reset-this-parent\" id=\"root_evidently_dashboard_45994eee28094982a1c61f54bd0b9fec\">Loading...</div>\n",
       "\n"
      ],
      "text/plain": [
       "<evidently.report.report.Report at 0x7fd83b859400>"
      ]
     },
     "execution_count": 4,
     "metadata": {},
     "output_type": "execute_result"
    }
   ],
   "source": [
    "curr['education-num'] = 0\n",
    "\n",
    "\n",
    "from evidently import ColumnMapping\n",
    "from evidently.report import Report\n",
    "from evidently.metric_preset import DataDrift\n",
    "from evidently.metrics import DataIntegrityMetrics\n",
    "from evidently.metrics import DataQualityMetrics\n",
    "\n",
    "report = Report(metrics=[\n",
    "#     DataIntegrityMetrics(),\n",
    "    DataDrift(),\n",
    "#     DataQualityMetrics()\n",
    "])\n",
    "\n",
    "report.run(reference_data=ref, current_data=curr, column_mapping=ColumnMapping(target='target', prediction='preds'))\n",
    "report"
   ]
  },
  {
   "cell_type": "markdown",
   "metadata": {
    "pycharm": {
     "name": "#%%\n"
    }
   },
   "source": [
    "Binary classification metric preset"
   ]
  },
  {
   "cell_type": "code",
   "execution_count": 5,
   "metadata": {},
   "outputs": [],
   "source": [
    "import pandas as pd\n",
    "\n",
    "from datetime import datetime\n",
    "from sklearn import datasets\n",
    "from sklearn import ensemble\n",
    "from sklearn import model_selection\n",
    "\n",
    "from evidently.pipeline.column_mapping import ColumnMapping\n",
    "\n",
    "\n",
    "bcancer = datasets.load_breast_cancer()\n",
    "bcancer_frame = pd.DataFrame(bcancer.data, columns = bcancer.feature_names)\n",
    "bcancer_frame['target'] = bcancer.target\n",
    "target = 'target'\n",
    "prediction = 'prediction'\n",
    "\n",
    "numerical_features = bcancer.feature_names\n",
    "categorical_features = []\n",
    "\n",
    "features = numerical_features.tolist() + categorical_features\n",
    "train_data, test_data = model_selection.train_test_split(bcancer_frame, random_state=0)\n",
    "model = ensemble.RandomForestClassifier(random_state=0)\n",
    "model.fit(train_data[features], train_data.target)\n",
    "train_predictions = model.predict(train_data[features])\n",
    "test_predictions = model.predict(test_data[features])\n",
    "train_data['prediction'] = train_predictions\n",
    "test_data['prediction'] = test_predictions\n",
    "\n",
    "bcancer_column_mapping = ColumnMapping()\n",
    "bcancer_column_mapping.target = target\n",
    "bcancer_column_mapping.prediction = prediction\n",
    "bcancer_column_mapping.numerical_features = numerical_features"
   ]
  },
  {
   "cell_type": "code",
   "execution_count": null,
   "metadata": {},
   "outputs": [],
   "source": [
    "from evidently.report import Report\n",
    "from evidently.metrics import ClassificationPerformanceMetrics\n",
    "\n",
    "report = Report(metrics=[ClassificationPerformanceMetrics()])\n",
    "report.run(current_data=test_data, reference_data=train_data, column_mapping=bcancer_column_mapping)\n",
    "report"
   ]
  },
  {
   "cell_type": "code",
   "execution_count": null,
   "metadata": {},
   "outputs": [],
   "source": []
  }
 ],
 "metadata": {
  "kernelspec": {
   "display_name": "Python 3",
   "language": "python",
   "name": "python3"
  },
  "language_info": {
   "codemirror_mode": {
    "name": "ipython",
    "version": 3
   },
   "file_extension": ".py",
   "mimetype": "text/x-python",
   "name": "python",
   "nbconvert_exporter": "python",
   "pygments_lexer": "ipython3",
   "version": "3.6.13"
  }
 },
 "nbformat": 4,
 "nbformat_minor": 1
}
