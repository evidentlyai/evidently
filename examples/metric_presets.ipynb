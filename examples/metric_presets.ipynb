{
 "cells": [
  {
   "cell_type": "code",
   "execution_count": null,
   "metadata": {
    "pycharm": {
     "name": "#%%\n"
    }
   },
   "outputs": [],
   "source": [
    "import numpy as np\n",
    "from sklearn.datasets import fetch_openml"
   ]
  },
  {
   "cell_type": "markdown",
   "metadata": {
    "pycharm": {
     "name": "#%% md\n"
    }
   },
   "source": [
    "Prepare data"
   ]
  },
  {
   "cell_type": "code",
   "execution_count": null,
   "metadata": {
    "pycharm": {
     "name": "#%%\n"
    }
   },
   "outputs": [],
   "source": [
    "data = fetch_openml(name='adult', version=2, as_frame='auto')\n",
    "df = data.frame\n",
    "\n",
    "ref = df[:20000]\n",
    "curr = df[20000:]\n",
    "\n",
    "curr['target'] = curr['education-num']\n",
    "curr['preds'] = curr['education-num'].values + np.random.normal(0, 6, curr.shape[0])\n",
    "ref['target'] = ref['education-num']\n",
    "ref['preds'] = ref['education-num'].values + np.random.normal(0, 6, ref.shape[0])\n",
    "\n",
    "curr.iloc[:2000, 3:5] = np.nan\n",
    "curr.iloc[:2000, 12] = np.nan"
   ]
  },
  {
   "cell_type": "markdown",
   "metadata": {
    "pycharm": {
     "name": "#%% md\n"
    }
   },
   "source": [
    "Create and run a report with separate metrics and metric presets"
   ]
  },
  {
   "cell_type": "code",
   "execution_count": null,
   "metadata": {
    "pycharm": {
     "name": "#%%\n"
    }
   },
   "outputs": [],
   "source": [
    "from evidently import ColumnMapping\n",
    "from evidently.report import Report\n",
    "from evidently.metric_preset import DataDrift\n",
    "from evidently.metrics import ClassificationPerformanceMetrics\n",
    "from evidently.metrics import DataQualityMetrics\n",
    "\n",
    "report = Report(metrics=[\n",
    "#     DataIntegrityMetrics(),\n",
    "    DataDrift(),\n",
    "#     DataQualityMetrics()\n",
    "])\n",
    "\n",
    "report.run(reference_data=ref, current_data=curr, column_mapping=ColumnMapping(target='target', prediction='preds'))\n",
    "report"
   ]
  },
  {
   "cell_type": "code",
   "execution_count": null,
   "metadata": {
    "pycharm": {
     "name": "#%%\n"
    }
   },
   "outputs": [],
   "source": [
    "curr['education-num'] = 0\n",
    "\n",
    "\n",
    "from evidently import ColumnMapping\n",
    "from evidently.report import Report\n",
    "from evidently.metric_preset import DataDrift\n",
    "from evidently.metrics import DataIntegrityMetrics\n",
    "from evidently.metrics import DataQualityMetrics\n",
    "\n",
    "report = Report(metrics=[\n",
    "#     DataIntegrityMetrics(),\n",
    "    DataDrift(),\n",
    "#     DataQualityMetrics()\n",
    "])\n",
    "\n",
    "report.run(reference_data=ref, current_data=curr, column_mapping=ColumnMapping(target='target', prediction='preds'))\n",
    "report"
   ]
  },
  {
   "cell_type": "markdown",
   "metadata": {
    "pycharm": {
     "name": "#%%\n"
    }
   },
   "source": [
    "Binary classification metric preset"
   ]
  },
  {
   "cell_type": "code",
   "execution_count": null,
   "metadata": {},
   "outputs": [],
   "source": [
    "import pandas as pd\n",
    "\n",
    "from datetime import datetime\n",
    "from sklearn import datasets\n",
    "from sklearn import ensemble\n",
    "from sklearn import model_selection\n",
    "\n",
    "from evidently.pipeline.column_mapping import ColumnMapping\n",
    "\n",
    "\n",
    "bcancer = datasets.load_breast_cancer()\n",
    "bcancer_frame = pd.DataFrame(bcancer.data, columns = bcancer.feature_names)\n",
    "bcancer_frame['target'] = bcancer.target\n",
    "target = 'target'\n",
    "prediction = 'prediction'\n",
    "\n",
    "numerical_features = bcancer.feature_names\n",
    "categorical_features = []\n",
    "\n",
    "features = numerical_features.tolist() + categorical_features\n",
    "train_data, test_data = model_selection.train_test_split(bcancer_frame, random_state=0)\n",
    "model = ensemble.RandomForestClassifier(random_state=0)\n",
    "model.fit(train_data[features], train_data.target)\n",
    "train_predictions = model.predict(train_data[features])\n",
    "test_predictions = model.predict(test_data[features])\n",
    "train_data['prediction'] = train_predictions\n",
    "test_data['prediction'] = test_predictions\n",
    "\n",
    "bcancer_column_mapping = ColumnMapping()\n",
    "bcancer_column_mapping.target = target\n",
    "bcancer_column_mapping.prediction = prediction\n",
    "bcancer_column_mapping.numerical_features = numerical_features"
   ]
  },
  {
   "cell_type": "code",
   "execution_count": null,
   "metadata": {},
   "outputs": [],
   "source": [
    "from evidently.report import Report\n",
    "from evidently.metrics import ClassificationPerformanceMetrics\n",
    "\n",
    "report = Report(metrics=[ClassificationPerformanceMetrics()])\n",
    "report.run(current_data=test_data, reference_data=train_data, column_mapping=bcancer_column_mapping)\n",
    "report"
   ]
  },
  {
   "cell_type": "code",
   "execution_count": null,
   "metadata": {},
   "outputs": [],
   "source": []
  }
 ],
 "metadata": {
  "kernelspec": {
   "display_name": "Python 3",
   "language": "python",
   "name": "python3"
  },
  "language_info": {
   "codemirror_mode": {
    "name": "ipython",
    "version": 3
   },
   "file_extension": ".py",
   "mimetype": "text/x-python",
   "name": "python",
   "nbconvert_exporter": "python",
   "pygments_lexer": "ipython3",
   "version": "3.6.13"
  }
 },
 "nbformat": 4,
 "nbformat_minor": 1
}
