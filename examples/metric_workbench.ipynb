{
 "cells": [
  {
   "cell_type": "code",
   "id": "initial_id",
   "metadata": {},
   "source": [
    "import pandas as pd\n",
    "\n",
    "from evidently.v2.metrics import Metric\n",
    "from evidently.v2.datasets import DataDefinition\n",
    "from evidently.v2.datasets import Dataset\n",
    "from evidently.v2.metrics import SingleValue\n",
    "from evidently.v2.metrics import SingleValueCheck"
   ],
   "outputs": [],
   "execution_count": null
  },
  {
   "cell_type": "code",
   "id": "ecc120915bd08cf4",
   "metadata": {},
   "source": [
    "from evidently.descriptors import TextLength\n",
    "\n",
    "from evidently.v2.datasets import FeatureScorer\n",
    "\n",
    "data = pd.DataFrame(data={\"column_1\": [1, 2, 3, 4, -1, 5], \"column_2\": [\"a\", \"aa\", \"aaaa\", \"aaaaaaa\", \"a\", \"aa\"]})\n",
    "\n",
    "dataset = Dataset.from_pandas(\n",
    "    data,\n",
    "    data_definition=None,\n",
    "    scorers={\n",
    "        \"text_length\": FeatureScorer(TextLength().feature(\"column_2\")),\n",
    "    },\n",
    ")"
   ],
   "outputs": [],
   "execution_count": null
  },
  {
   "cell_type": "code",
   "id": "fd5aed998289f2f3",
   "metadata": {},
   "source": [
    "dataset.as_dataframe()"
   ],
   "outputs": [],
   "execution_count": null
  },
  {
   "cell_type": "code",
   "id": "9f49a28098d1cad0",
   "metadata": {},
   "source": [
    "from evidently.descriptors import TextLength\n",
    "\n",
    "from evidently.v2.checks.numerical_checks import le, ge\n",
    "from typing import Optional\n",
    "from typing import List\n",
    "from plotly.express import line\n",
    "\n",
    "# user-friendly interface\n",
    "def max_metric(column_name: str, checks: Optional[List[SingleValueCheck]] = None, group_by: Optional[str] = None) -> Metric:\n",
    "    return MaxMetric(column_name, checks)\n",
    "\n",
    "\n",
    "# implementation\n",
    "class MaxMetric(Metric[SingleValue]):\n",
    "    _column_name: str\n",
    "    \n",
    "    def __init__(self, column_name: str, checks: Optional[List[SingleValueCheck]] = None):\n",
    "        super().__init__(f\"max:{column_name}\")\n",
    "        self._column_name = column_name\n",
    "        self._checks = checks if checks is not None else [le(10), ge(6)]\n",
    "\n",
    "    def calculate(self, current_data: Dataset, reference_data: Optional[Dataset]) -> SingleValue:\n",
    "        x = current_data.column(self._column_name).data\n",
    "        value = x.max()\n",
    "        result = SingleValue(value=value)\n",
    "        figure = line(x)\n",
    "        figure.add_hrect(6, 10)\n",
    "        #result.set_widget([plotly_figure(title=self.display_name(), figure=figure)])\n",
    "        return result\n",
    "\n",
    "    def display_name(self) -> str:\n",
    "        return f\"Max value for {self._column_name}\"\n",
    "\n",
    "# usage example\n",
    "data = pd.DataFrame(data={\"column_1\": [1, 2, 3, 4, -1, 5], \"column_2\": [\"a\", \"aa\", \"aaaa\", \"aaaaaaa\", \"a\", \"aa\"]})\n",
    "\n",
    "dataset = Dataset.from_pandas(data, data_definition=None, scorers={\n",
    "    \"text_length\": FeatureScorer(TextLength().feature(\"column_2\")),\n",
    "})\n",
    "result = max_metric(\"column_1\", checks=None).call(dataset, None)\n",
    "result"
   ],
   "outputs": [],
   "execution_count": null
  },
  {
   "cell_type": "code",
   "id": "8ee572e1a08c1d89",
   "metadata": {},
   "source": [
    "from evidently.v2.metrics.group_by import GroupBy\n",
    "from evidently.v2.metrics.base import render_results\n",
    "from evidently.v2.report import Context\n",
    "\n",
    "context = Context()\n",
    "\n",
    "context.init_dataset(dataset, None)\n",
    "\n",
    "metrics = GroupBy(max_metric(\"column_1\"), \"column_2\").generate_metrics(context)\n",
    "\n",
    "results = [metric.call(dataset, None) for metric in metrics]\n",
    "\n",
    "render_results(results)"
   ],
   "outputs": [],
   "execution_count": null
  }
 ],
 "metadata": {
  "kernelspec": {
   "display_name": "Python 3 (ipykernel)",
   "language": "python",
   "name": "python3"
  },
  "language_info": {
   "codemirror_mode": {
    "name": "ipython",
    "version": 3
   },
   "file_extension": ".py",
   "mimetype": "text/x-python",
   "name": "python",
   "nbconvert_exporter": "python",
   "pygments_lexer": "ipython3",
   "version": "3.12.7"
  }
 },
 "nbformat": 4,
 "nbformat_minor": 5
}
